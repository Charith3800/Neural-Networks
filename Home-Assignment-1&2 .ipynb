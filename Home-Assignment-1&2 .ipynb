{
  "nbformat": 4,
  "nbformat_minor": 0,
  "metadata": {
    "colab": {
      "provenance": [],
      "authorship_tag": "ABX9TyNCOhEn5MEQjPyZhMy6lsYp",
      "include_colab_link": true
    },
    "kernelspec": {
      "name": "python3",
      "display_name": "Python 3"
    },
    "language_info": {
      "name": "python"
    }
  },
  "cells": [
    {
      "cell_type": "markdown",
      "metadata": {
        "id": "view-in-github",
        "colab_type": "text"
      },
      "source": [
        "<a href=\"https://colab.research.google.com/github/Charith3800/Neural-Networks/blob/main/Home_Assignment1.ipynb\" target=\"_parent\"><img src=\"https://colab.research.google.com/assets/colab-badge.svg\" alt=\"Open In Colab\"/></a>"
      ]
    },
    {
      "cell_type": "code",
      "execution_count": 5,
      "metadata": {
        "colab": {
          "base_uri": "https://localhost:8080/"
        },
        "id": "Ao7NiEm-q4u4",
        "outputId": "87947971-2259-457a-fc2b-dad8b004a75a"
      },
      "outputs": [
        {
          "output_type": "stream",
          "name": "stdout",
          "text": [
            "Original Tensor:\n",
            " [[0.6645621  0.44100678 0.3528825  0.46448255 0.03366041 0.68467236]\n",
            " [0.74011743 0.8724445  0.22632635 0.22319686 0.3103881  0.7223358 ]\n",
            " [0.13318717 0.5480639  0.5746088  0.8996835  0.00946367 0.5212307 ]\n",
            " [0.6345445  0.1993283  0.72942245 0.54583454 0.10756552 0.6767061 ]]\n",
            "Rank of the tensor: 2\n",
            "Shape of the tensor: [4 6]\n",
            "Reshaped Tensor (2, 3, 4):\n",
            " [[[0.6645621  0.44100678 0.3528825  0.46448255]\n",
            "  [0.03366041 0.68467236 0.74011743 0.8724445 ]\n",
            "  [0.22632635 0.22319686 0.3103881  0.7223358 ]]\n",
            "\n",
            " [[0.13318717 0.5480639  0.5746088  0.8996835 ]\n",
            "  [0.00946367 0.5212307  0.6345445  0.1993283 ]\n",
            "  [0.72942245 0.54583454 0.10756552 0.6767061 ]]]\n",
            "Transposed Tensor (3, 2, 4):\n",
            " [[[0.6645621  0.44100678 0.3528825  0.46448255]\n",
            "  [0.13318717 0.5480639  0.5746088  0.8996835 ]]\n",
            "\n",
            " [[0.03366041 0.68467236 0.74011743 0.8724445 ]\n",
            "  [0.00946367 0.5212307  0.6345445  0.1993283 ]]\n",
            "\n",
            " [[0.22632635 0.22319686 0.3103881  0.7223358 ]\n",
            "  [0.72942245 0.54583454 0.10756552 0.6767061 ]]]\n",
            "Broadcasted Tensor:\n",
            " [[[1. 2. 3. 4.]\n",
            "  [1. 2. 3. 4.]]\n",
            "\n",
            " [[1. 2. 3. 4.]\n",
            "  [1. 2. 3. 4.]]\n",
            "\n",
            " [[1. 2. 3. 4.]\n",
            "  [1. 2. 3. 4.]]]\n",
            "Result Tensor after Addition:\n",
            " [[[1.6645621 2.4410067 3.3528824 4.4644823]\n",
            "  [1.1331872 2.5480638 3.5746088 4.8996835]]\n",
            "\n",
            " [[1.0336604 2.6846724 3.7401175 4.8724446]\n",
            "  [1.0094637 2.5212307 3.6345444 4.1993284]]\n",
            "\n",
            " [[1.2263263 2.223197  3.310388  4.722336 ]\n",
            "  [1.7294225 2.5458345 3.1075654 4.6767063]]]\n"
          ]
        }
      ],
      "source": [
        "import tensorflow as tf\n",
        "\n",
        "# Set random seed for reproducibility\n",
        "tf.random.set_seed(42)\n",
        "\n",
        "# Create a random tensor of shape (4, 6)\n",
        "tensor = tf.random.uniform(shape=(4, 6))\n",
        "print(\"Original Tensor:\\n\", tensor.numpy())\n",
        "# Get the rank and shape of the tensor\n",
        "rank = tf.rank(tensor)\n",
        "shape = tf.shape(tensor)\n",
        "\n",
        "print(\"Rank of the tensor:\", rank.numpy())\n",
        "print(\"Shape of the tensor:\", shape.numpy())\n",
        "# Reshape the tensor to (2, 3, 4)\n",
        "reshaped_tensor = tf.reshape(tensor, (2, 3, 4))\n",
        "print(\"Reshaped Tensor (2, 3, 4):\\n\", reshaped_tensor.numpy())\n",
        "\n",
        "# Transpose the reshaped tensor to (3, 2, 4)\n",
        "transposed_tensor = tf.transpose(reshaped_tensor, perm=[1, 0, 2])\n",
        "print(\"Transposed Tensor (3, 2, 4):\\n\", transposed_tensor.numpy())\n",
        "# Create a smaller tensor of shape (1, 4)\n",
        "smaller_tensor = tf.constant([[1.0, 2.0, 3.0, 4.0]])\n",
        "\n",
        "# Broadcast the smaller tensor to match the shape of the larger tensor (3, 2, 4)\n",
        "broadcasted_tensor = tf.broadcast_to(smaller_tensor, transposed_tensor.shape)\n",
        "print(\"Broadcasted Tensor:\\n\", broadcasted_tensor.numpy())\n",
        "\n",
        "# Add the broadcasted tensor to the transposed tensor\n",
        "result_tensor = transposed_tensor + broadcasted_tensor\n",
        "print(\"Result Tensor after Addition:\\n\", result_tensor.numpy())"
      ]
    },
    {
      "cell_type": "code",
      "source": [
        "import tensorflow as tf\n",
        "import numpy as np\n",
        "import matplotlib.pyplot as plt\n",
        "\n",
        "# Define true values (y_true) and model predictions (y_pred)\n",
        "y_true = np.array([[1.0, 0.0], [0.0, 1.0], [1.0, 0.0]])  # True labels (one-hot encoded)\n",
        "y_pred = np.array([[0.9, 0.1], [0.2, 0.8], [0.7, 0.3]])  # Model predictions (probabilities)\n",
        "# Compute Mean Squared Error (MSE)\n",
        "mse_loss = tf.keras.losses.MeanSquaredError()\n",
        "mse_value = mse_loss(y_true, y_pred).numpy()\n",
        "\n",
        "# Compute Categorical Cross-Entropy (CCE)\n",
        "cce_loss = tf.keras.losses.CategoricalCrossentropy()\n",
        "cce_value = cce_loss(y_true, y_pred).numpy()\n",
        "\n",
        "print(\"Mean Squared Error (MSE):\", mse_value)\n",
        "print(\"Categorical Cross-Entropy (CCE):\", cce_value)\n",
        "# Modify predictions slightly\n",
        "y_pred_modified = np.array([[0.8, 0.2], [0.3, 0.7], [0.6, 0.4]])\n",
        "\n",
        "# Recompute MSE and CCE for modified predictions\n",
        "mse_value_modified = mse_loss(y_true, y_pred_modified).numpy()\n",
        "cce_value_modified = cce_loss(y_true, y_pred_modified).numpy()\n",
        "\n",
        "print(\"\\nModified Predictions:\")\n",
        "print(\"Mean Squared Error (MSE):\", mse_value_modified)\n",
        "print(\"Categorical Cross-Entropy (CCE):\", cce_value_modified)\n",
        "# Data for plotting\n",
        "loss_names = ['MSE', 'CCE']\n",
        "loss_values = [mse_value, cce_value]\n",
        "loss_values_modified = [mse_value_modified, cce_value_modified]\n",
        "\n",
        "# Plotting\n",
        "x = np.arange(len(loss_names))\n",
        "width = 0.35\n",
        "\n",
        "plt.bar(x - width/2, loss_values, width, label='Original Predictions')\n",
        "plt.bar(x + width/2, loss_values_modified, width, label='Modified Predictions')\n",
        "\n",
        "plt.xlabel('Loss Function')\n",
        "plt.ylabel('Loss Value')\n",
        "plt.title('Comparison of MSE and CCE Loss')\n",
        "plt.xticks(x, loss_names)\n",
        "plt.legend()\n",
        "plt.show()"
      ],
      "metadata": {
        "colab": {
          "base_uri": "https://localhost:8080/",
          "height": 576
        },
        "id": "OyR1rgS02W7o",
        "outputId": "a50556ba-9577-4989-9c77-287862dc188c"
      },
      "execution_count": 18,
      "outputs": [
        {
          "output_type": "stream",
          "name": "stdout",
          "text": [
            "Mean Squared Error (MSE): 0.046666667\n",
            "Categorical Cross-Entropy (CCE): 0.22839302\n",
            "\n",
            "Modified Predictions:\n",
            "Mean Squared Error (MSE): 0.096666664\n",
            "Categorical Cross-Entropy (CCE): 0.36354804\n"
          ]
        },
        {
          "output_type": "display_data",
          "data": {
            "text/plain": [
              "<Figure size 640x480 with 1 Axes>"
            ],
            "image/png": "[encoded data removed]"
          },
          "metadata": {}
        }
      ]
    }
  ]
}
