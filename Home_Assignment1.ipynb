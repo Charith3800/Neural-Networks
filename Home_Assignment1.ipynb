<!DOCTYPE html>
<!-- saved from url=(0095)https://colab.research.google.com/drive/111z-p0sZpSWYLqDIykTzErW3_j18hH7Q#scrollTo=O6xqCTm6vB5m -->
<html lang="en" theme="light" editor="Default Light"><head><meta http-equiv="Content-Type" content="text/html; charset=UTF-8"><meta http-equiv="origin-trial" content="A/kargTFyk8MR5ueravczef/wIlTkbVk1qXQesp39nV+xNECPdLBVeYffxrM8TmZT6RArWGQVCJ0LRivD7glcAUAAACQeyJvcmlnaW4iOiJodHRwczovL2dvb2dsZS5jb206NDQzIiwiZmVhdHVyZSI6IkRpc2FibGVUaGlyZFBhcnR5U3RvcmFnZVBhcnRpdGlvbmluZzIiLCJleHBpcnkiOjE3NDIzNDIzOTksImlzU3ViZG9tYWluIjp0cnVlLCJpc1RoaXJkUGFydHkiOnRydWV9"><meta http-equiv="origin-trial" content="A/kargTFyk8MR5ueravczef/wIlTkbVk1qXQesp39nV+xNECPdLBVeYffxrM8TmZT6RArWGQVCJ0LRivD7glcAUAAACQeyJvcmlnaW4iOiJodHRwczovL2dvb2dsZS5jb206NDQzIiwiZmVhdHVyZSI6IkRpc2FibGVUaGlyZFBhcnR5U3RvcmFnZVBhcnRpdGlvbmluZzIiLCJleHBpcnkiOjE3NDIzNDIzOTksImlzU3ViZG9tYWluIjp0cnVlLCJpc1RoaXJkUGFydHkiOnRydWV9"><script type="text/javascript" async="" charset="utf-8" src="./Home_Assignment1_files/recaptcha__en.js.download" crossorigin="anonymous" integrity="sha384-P3vOnwOQjXmCJwx1vTvZAroj9OVXiVWsH201GY3AuWFi+LVyRVQwt0M/4hdSxMBf" nonce=""></script><script type="text/javascript" async="" charset="utf-8" src="./Home_Assignment1_files/recaptcha__en.js.download" crossorigin="anonymous" integrity="sha384-P3vOnwOQjXmCJwx1vTvZAroj9OVXiVWsH201GY3AuWFi+LVyRVQwt0M/4hdSxMBf" nonce=""></script><script src="./Home_Assignment1_files/cb=gapi.loaded_1" nonce="" async=""></script><script src="./Home_Assignment1_files/cb=gapi.loaded_0" nonce="" async=""></script><script async="" src="./Home_Assignment1_files/analytics.js.download"></script><script nonce="">
      document.addEventListener('keydown', (e) => {
        // Stop propagation on ESC because otherwise it will halt outbound XHRs
        // See b/131755324 for more info.
        if (e.key === 'Escape') {
          e.stopPropagation();
          e.preventDefault();
        }
      });
    </script><meta name="referrer" content="origin"><meta name="viewport" content="width=device-width, initial-scale=1"><title>Home-Assignment1.ipynb - Colab</title><link href="./Home_Assignment1_files/css2" rel="stylesheet"><link href="./Home_Assignment1_files/css" rel="stylesheet"><link rel="search" type="application/opensearchdescription+xml" href="https://colab.research.google.com/opensearch.xml" title="Google Colab"><style>.gb_2d{font:13px/27px Roboto,Arial,sans-serif;z-index:986}@-webkit-keyframes gb__a{0%{opacity:0}50%{opacity:1}}@keyframes gb__a{0%{opacity:0}50%{opacity:1}}a.gb_Qa{border:none;color:#4285f4;cursor:default;font-weight:bold;outline:none;position:relative;text-align:center;text-decoration:none;text-transform:uppercase;white-space:nowrap;-webkit-user-select:none}a.gb_Qa:hover::after,a.gb_Qa:focus::after{background-color:rgba(0,0,0,.12);content:"";height:100%;left:0;position:absolute;top:0;width:100%}a.gb_Qa:hover,a.gb_Qa:focus{text-decoration:none}a.gb_Qa:active{background-color:rgba(153,153,153,.4);text-decoration:none}a.gb_Ra{background-color:#4285f4;color:#fff}a.gb_Ra:active{background-color:#0043b2}.gb_Sa{box-shadow:0 1px 1px rgba(0,0,0,.16)}.gb_Qa,.gb_Ra,.gb_Ta,.gb_Ua{display:inline-block;line-height:28px;padding:0 12px;border-radius:2px}.gb_Ta{background:#f8f8f8;border:1px solid #c6c6c6}.gb_Ua{background:#f8f8f8}.gb_Ta,#gb a.gb_Ta.gb_Ta,.gb_Ua{color:#666;cursor:default;text-decoration:none}#gb a.gb_Ua{cursor:default;text-decoration:none}.gb_Ua{border:1px solid #4285f4;font-weight:bold;outline:none;background:#4285f4;background:-webkit-gradient(linear,left top,left bottom,from(top),color-stop(#4387fd),to(#4683ea));background:-webkit-linear-gradient(top,#4387fd,#4683ea);background:linear-gradient(top,#4387fd,#4683ea);filter:progid:DXImageTransform.Microsoft.gradient(startColorstr=#4387fd,endColorstr=#4683ea,GradientType=0)}#gb a.gb_Ua{color:#fff}.gb_Ua:hover{box-shadow:0 1px 0 rgba(0,0,0,.15)}.gb_Ua:active{box-shadow:inset 0 2px 0 rgba(0,0,0,.15);background:#3c78dc;background:-webkit-gradient(linear,left top,left bottom,from(top),color-stop(#3c7ae4),to(#3f76d3));background:-webkit-linear-gradient(top,#3c7ae4,#3f76d3);background:linear-gradient(top,#3c7ae4,#3f76d3);filter:progid:DXImageTransform.Microsoft.gradient(startColorstr=#3c7ae4,endColorstr=#3f76d3,GradientType=0)}#gb .gb_Va{background:#fff;border:1px solid #dadce0;color:#1a73e8;display:inline-block;text-decoration:none}#gb .gb_Va:hover{background:#f8fbff;border-color:#dadce0;color:#174ea6}#gb .gb_Va:focus{background:#f4f8ff;color:#174ea6;outline:1px solid #174ea6}#gb .gb_Va:active,#gb .gb_Va:focus:active{background:#ecf3fe;color:#174ea6}#gb .gb_Va.gb_H{background:transparent;border:1px solid #5f6368;color:#8ab4f8;text-decoration:none}#gb .gb_Va.gb_H:hover{background:rgba(255,255,255,.04);color:#e8eaed}#gb .gb_Va.gb_H:focus{background:rgba(232,234,237,.12);color:#e8eaed;outline:1px solid #e8eaed}#gb .gb_Va.gb_H:active,#gb .gb_Va.gb_H:focus:active{background:rgba(232,234,237,.1);color:#e8eaed}.gb_cd{display:inline-block;vertical-align:middle}.gb_Ne .gb_Q{bottom:-3px;right:-5px}.gb_D{position:relative}.gb_B{display:inline-block;outline:none;vertical-align:middle;border-radius:2px;box-sizing:border-box;height:40px;width:40px;cursor:pointer;text-decoration:none}#gb#gb a.gb_B{cursor:pointer;text-decoration:none}.gb_B,a.gb_B{color:#000}.gb_dd{border-color:transparent;border-bottom-color:#fff;border-style:dashed dashed solid;border-width:0 8.5px 8.5px;display:none;position:absolute;left:11.5px;top:33px;z-index:1;height:0;width:0;-webkit-animation:gb__a .2s;animation:gb__a .2s}.gb_ed{border-color:transparent;border-style:dashed dashed solid;border-width:0 8.5px 8.5px;display:none;position:absolute;left:11.5px;z-index:1;height:0;width:0;-webkit-animation:gb__a .2s;animation:gb__a .2s;border-bottom-color:rgba(0,0,0,.2);top:32px}x:-o-prefocus,div.gb_ed{border-bottom-color:#ccc}.gb_la{background:#fff;border:1px solid #ccc;border-color:rgba(0,0,0,.2);color:#000;-webkit-box-shadow:0 2px 10px rgba(0,0,0,.2);box-shadow:0 2px 10px rgba(0,0,0,.2);display:none;outline:none;overflow:hidden;position:absolute;right:8px;top:62px;-webkit-animation:gb__a .2s;animation:gb__a .2s;border-radius:2px;-webkit-user-select:text}.gb_cd.gb_Tc .gb_dd,.gb_cd.gb_Tc .gb_ed,.gb_cd.gb_Tc .gb_la,.gb_Tc.gb_la{display:block}.gb_cd.gb_Tc.gb_fd .gb_dd,.gb_cd.gb_Tc.gb_fd .gb_ed{display:none}.gb_Oe{position:absolute;right:8px;top:62px;z-index:-1}.gb_gd .gb_dd,.gb_gd .gb_ed,.gb_gd .gb_la{margin-top:-10px}.gb_cd:first-child,#gbsfw:first-child+.gb_cd{padding-left:4px}.gb_Fa.gb_Pe .gb_cd:first-child{padding-left:0}.gb_Qe{position:relative}.gb_2c .gb_Qe,.gb_Jd .gb_Qe{float:right}.gb_B{padding:8px;cursor:pointer}.gb_B::after{content:"";position:absolute;top:-4px;bottom:-4px;left:-4px;right:-4px}.gb_Fa .gb_hd:not(.gb_Qa):focus img{background-color:rgba(0,0,0,.2);outline:none;-webkit-border-radius:50%;border-radius:50%}.gb_id button svg,.gb_B{-webkit-border-radius:50%;border-radius:50%}.gb_id button:focus:not(:focus-visible) svg,.gb_id button:hover svg,.gb_id button:active svg,.gb_B:focus:not(:focus-visible),.gb_B:hover,.gb_B:active,.gb_B[aria-expanded=true]{outline:none}.gb_Lc .gb_id.gb_jd button:focus-visible svg,.gb_id button:focus-visible svg,.gb_B:focus-visible{outline:1px solid #202124}.gb_Lc .gb_id button:focus-visible svg,.gb_Lc .gb_B:focus-visible{outline:1px solid #f1f3f4}@media (forced-colors:active){.gb_Lc .gb_id.gb_jd button:focus-visible svg,.gb_id button:focus-visible svg,.gb_Lc .gb_id button:focus-visible svg{outline:1px solid currentcolor}}.gb_Lc .gb_id.gb_jd button:focus svg,.gb_Lc .gb_id.gb_jd button:focus:hover svg,.gb_id button:focus svg,.gb_id button:focus:hover svg,.gb_B:focus,.gb_B:focus:hover{background-color:rgba(60,64,67,.1)}.gb_Lc .gb_id.gb_jd button:active svg,.gb_id button:active svg,.gb_B:active{background-color:rgba(60,64,67,.12)}.gb_Lc .gb_id.gb_jd button:hover svg,.gb_id button:hover svg,.gb_B:hover{background-color:rgba(60,64,67,.08)}.gb_Wa .gb_B.gb_Za:hover{background-color:transparent}.gb_B[aria-expanded=true],.gb_B:hover[aria-expanded=true]{background-color:rgba(95,99,104,.24)}.gb_B[aria-expanded=true] .gb_F{fill:#5f6368;opacity:1}.gb_Lc .gb_id button:hover svg,.gb_Lc .gb_B:hover{background-color:rgba(232,234,237,.08)}.gb_Lc .gb_id button:focus svg,.gb_Lc .gb_id button:focus:hover svg,.gb_Lc .gb_B:focus,.gb_Lc .gb_B:focus:hover{background-color:rgba(232,234,237,.1)}.gb_Lc .gb_id button:active svg,.gb_Lc .gb_B:active{background-color:rgba(232,234,237,.12)}.gb_Lc .gb_B[aria-expanded=true],.gb_Lc .gb_B:hover[aria-expanded=true]{background-color:rgba(255,255,255,.12)}.gb_Lc .gb_B[aria-expanded=true] .gb_F{fill:#fff;opacity:1}.gb_cd{padding:4px}.gb_Fa.gb_Pe .gb_cd{padding:4px 2px}.gb_Fa.gb_Pe .gb_z.gb_cd{padding-left:6px}.gb_la{z-index:991;line-height:normal}.gb_la.gb_kd{left:0;right:auto}@media (max-width:350px){.gb_la.gb_kd{left:0}}.gb_Re .gb_la{top:56px}.gb_R{display:none!important}.gb_nd{visibility:hidden}.gb_J .gb_B,.gb_ka .gb_J .gb_B{background-position:-64px -29px}.gb_1 .gb_J .gb_B{background-position:-29px -29px;opacity:1}.gb_J .gb_B,.gb_J .gb_B:hover,.gb_J .gb_B:focus{opacity:1}.gb_L{display:none}@media screen and (max-width:319px){.gb_ld:not(.gb_md) .gb_J{display:none;visibility:hidden}}.gb_Q{display:none}.gb_9c{font-family:Google Sans,Roboto,Helvetica,Arial,sans-serif;font-size:20px;font-weight:400;letter-spacing:0.25px;line-height:48px;margin-bottom:2px;opacity:1;overflow:hidden;padding-left:16px;position:relative;text-overflow:ellipsis;vertical-align:middle;top:2px;white-space:nowrap;-webkit-flex:1 1 auto;-webkit-box-flex:1;flex:1 1 auto}.gb_9c.gb_ad{color:#3c4043}.gb_Fa.gb_cc .gb_9c{margin-bottom:0}.gb_sd.gb_ud .gb_9c{padding-left:4px}.gb_Fa.gb_cc .gb_vd{position:relative;top:-2px}.gb_bd{display:none}.gb_Fa{color:black;min-width:160px;position:relative;-webkit-transition:box-shadow 250ms;transition:box-shadow 250ms}.gb_Fa.gb_Sc{min-width:120px}.gb_Fa.gb_wd .gb_xd{display:none}.gb_Fa.gb_wd .gb_ld{height:56px}header.gb_Fa{display:block}.gb_Fa svg{fill:currentColor}.gb_Dd{position:fixed;top:0;width:100%}.gb_yd{-webkit-box-shadow:0 4px 5px 0 rgba(0,0,0,.14),0 1px 10px 0 rgba(0,0,0,.12),0 2px 4px -1px rgba(0,0,0,.2);box-shadow:0 4px 5px 0 rgba(0,0,0,.14),0 1px 10px 0 rgba(0,0,0,.12),0 2px 4px -1px rgba(0,0,0,.2)}.gb_Ed{height:64px}.gb_ld{-webkit-box-sizing:border-box;box-sizing:border-box;position:relative;width:100%;display:-webkit-box;display:-webkit-flex;display:flex;-webkit-box-pack:space-between;-webkit-justify-content:space-between;justify-content:space-between;min-width:-webkit-min-content;min-width:min-content}.gb_Fa:not(.gb_cc) .gb_ld{padding:8px}.gb_Fa.gb_Fd .gb_ld{-webkit-flex:1 0 auto;-webkit-box-flex:1;flex:1 0 auto}.gb_Fa .gb_ld.gb_md.gb_Hd{min-width:0}.gb_Fa.gb_cc .gb_ld{padding:4px;padding-left:8px;min-width:0}.gb_xd{height:48px;vertical-align:middle;white-space:nowrap;-webkit-box-align:center;-webkit-align-items:center;align-items:center;display:-webkit-box;display:-webkit-flex;display:flex;-webkit-user-select:none}.gb_Ad>.gb_xd{display:table-cell;width:100%}.gb_sd{padding-right:30px;box-sizing:border-box;-webkit-flex:1 0 auto;-webkit-box-flex:1;flex:1 0 auto}.gb_Fa.gb_cc .gb_sd{padding-right:14px}.gb_Bd{-webkit-flex:1 1 100%;-webkit-box-flex:1;flex:1 1 100%}.gb_Bd>:only-child{display:inline-block}.gb_Cd.gb_3c{padding-left:4px}.gb_Cd.gb_Id,.gb_Fa.gb_Fd .gb_Cd,.gb_Fa.gb_cc:not(.gb_Jd) .gb_Cd{padding-left:0}.gb_Fa.gb_cc .gb_Cd.gb_Id{padding-right:0}.gb_Fa.gb_cc .gb_Cd.gb_Id .gb_Wa{margin-left:10px}.gb_3c{display:inline}.gb_Fa.gb_Wc .gb_Cd.gb_Kd,.gb_Fa.gb_Jd .gb_Cd.gb_Kd{padding-left:2px}.gb_9c{display:inline-block}.gb_Cd{-webkit-box-sizing:border-box;box-sizing:border-box;height:48px;line-height:normal;padding:0 4px;padding-left:30px;-webkit-flex:0 0 auto;-webkit-box-flex:0;flex:0 0 auto;-webkit-box-pack:flex-end;-webkit-justify-content:flex-end;justify-content:flex-end}.gb_Jd{height:48px}.gb_Fa.gb_Jd{min-width:auto}.gb_Jd .gb_Cd{float:right;padding-left:32px}.gb_Jd .gb_Cd.gb_Ld{padding-left:0}.gb_Md{font-size:14px;max-width:200px;overflow:hidden;padding:0 12px;text-overflow:ellipsis;white-space:nowrap;-webkit-user-select:text}.gb_pd{-webkit-transition:background-color .4s;-webkit-transition:background-color .4s;transition:background-color .4s}.gb_Nd{color:black}.gb_Lc{color:white}.gb_Fa a,.gb_Pc a{color:inherit}.gb_ba{color:rgba(0,0,0,.87)}.gb_Fa svg,.gb_Pc svg,.gb_sd .gb_td,.gb_2c .gb_td{color:#5f6368;opacity:1}.gb_Lc svg,.gb_Pc.gb_Uc svg,.gb_Lc .gb_sd .gb_td,.gb_Lc .gb_sd .gb_Kc,.gb_Lc .gb_sd .gb_vd,.gb_Pc.gb_Uc .gb_td{color:rgba(255,255,255,.87)}.gb_Lc .gb_sd .gb_Od:not(.gb_Pd){opacity:.87}.gb_ad{color:inherit;opacity:1;text-rendering:optimizeLegibility;-webkit-font-smoothing:antialiased}.gb_Lc .gb_ad,.gb_Nd .gb_ad{opacity:1}.gb_Qd{position:relative}.gb_M{font-family:arial,sans-serif;line-height:normal;padding-right:15px}a.gb_X,span.gb_X{color:rgba(0,0,0,.87);text-decoration:none}.gb_Lc a.gb_X,.gb_Lc span.gb_X{color:white}a.gb_X:focus{outline-offset:2px}a.gb_X:hover{text-decoration:underline}.gb_Z{display:inline-block;padding-left:15px}.gb_Z .gb_X{display:inline-block;line-height:24px;vertical-align:middle}.gb_qd{font-family:Google Sans,Roboto,Helvetica,Arial,sans-serif;font-weight:500;font-size:14px;letter-spacing:.25px;line-height:16px;margin-left:10px;margin-right:8px;min-width:96px;padding:9px 23px;text-align:center;vertical-align:middle;border-radius:4px;box-sizing:border-box}.gb_Fa.gb_Jd .gb_qd{margin-left:8px}#gb a.gb_Ua.gb_qd{cursor:pointer}.gb_Ua.gb_qd:hover{background:#1b66c9;-webkit-box-shadow:0 1px 3px 1px rgba(66,64,67,.15),0 1px 2px 0 rgba(60,64,67,.3);box-shadow:0 1px 3px 1px rgba(66,64,67,.15),0 1px 2px 0 rgba(60,64,67,.3)}.gb_Ua.gb_qd:focus,.gb_Ua.gb_qd:hover:focus{background:#1c5fba;-webkit-box-shadow:0 1px 3px 1px rgba(66,64,67,.15),0 1px 2px 0 rgba(60,64,67,.3);box-shadow:0 1px 3px 1px rgba(66,64,67,.15),0 1px 2px 0 rgba(60,64,67,.3)}.gb_Ua.gb_qd:active{background:#1b63c1;-webkit-box-shadow:0 1px 3px 1px rgba(66,64,67,.15),0 1px 2px 0 rgba(60,64,67,.3);box-shadow:0 1px 3px 1px rgba(66,64,67,.15),0 1px 2px 0 rgba(60,64,67,.3)}.gb_qd{background:#1a73e8;border:1px solid transparent}.gb_Fa.gb_cc .gb_qd{padding:9px 15px;min-width:80px}.gb_Rd{text-align:left}#gb .gb_Lc a.gb_qd:not(.gb_H),#gb.gb_Lc a.gb_qd{background:#fff;border-color:#dadce0;-webkit-box-shadow:none;box-shadow:none;color:#1a73e8}#gb a.gb_Ua.gb_H.gb_qd{background:#8ab4f8;border:1px solid transparent;-webkit-box-shadow:none;box-shadow:none;color:#202124}#gb .gb_Lc a.gb_qd:hover:not(.gb_H),#gb.gb_Lc a.gb_qd:hover{background:#f8fbff;border-color:#cce0fc}#gb a.gb_Ua.gb_H.gb_qd:hover{background:#93baf9;border-color:transparent;-webkit-box-shadow:0 1px 3px 1px rgba(0,0,0,.15),0 1px 2px rgba(0,0,0,.3);box-shadow:0 1px 3px 1px rgba(0,0,0,.15),0 1px 2px rgba(0,0,0,.3)}#gb .gb_Lc a.gb_qd:focus:not(.gb_H),#gb .gb_Lc a.gb_qd:focus:hover:not(.gb_H),#gb.gb_Lc a.gb_qd:focus:not(.gb_H),#gb.gb_Lc a.gb_qd:focus:hover:not(.gb_H){background:#f4f8ff;outline:1px solid #c9ddfc}#gb a.gb_Ua.gb_H.gb_qd:focus,#gb a.gb_Ua.gb_H.gb_qd:focus:hover{background:#a6c6fa;border-color:transparent;-webkit-box-shadow:none;box-shadow:none}#gb .gb_Lc a.gb_qd:active:not(.gb_H),#gb.gb_Lc a.gb_qd:active{background:#ecf3fe}#gb a.gb_Ua.gb_H.gb_qd:active{background:#a1c3f9;-webkit-box-shadow:0 1px 2px rgba(60,64,67,.3),0 2px 6px 2px rgba(60,64,67,.15);box-shadow:0 1px 2px rgba(60,64,67,.3),0 2px 6px 2px rgba(60,64,67,.15)}.gb_K{display:none}@media screen and (max-width:319px){.gb_ld .gb_J{display:none;visibility:hidden}}.gb_Wa{background-color:rgba(255,255,255,.88);border:1px solid #dadce0;-webkit-box-sizing:border-box;box-sizing:border-box;cursor:pointer;display:inline-block;max-height:48px;overflow:hidden;outline:none;padding:0;vertical-align:middle;width:134px;-webkit-border-radius:8px;border-radius:8px}.gb_Wa.gb_H{background-color:transparent;border:1px solid #5f6368}.gb_3a{display:inherit}.gb_Wa.gb_H .gb_3a{background:#fff;-webkit-border-radius:4px;border-radius:4px;display:inline-block;left:8px;margin-right:5px;position:relative;padding:3px;top:-1px}.gb_Wa:hover{border:1px solid #d2e3fc;background-color:rgba(248,250,255,.88)}.gb_Wa.gb_H:hover{background-color:rgba(241,243,244,.04);border:1px solid #5f6368}.gb_Wa:focus-visible,.gb_Wa:focus{background-color:#fff;outline:1px solid #202124;-webkit-box-shadow:0 1px 2px 0 rgba(60,64,67,.3),0 1px 3px 1px rgba(60,64,67,.15);box-shadow:0 1px 2px 0 rgba(60,64,67,.3),0 1px 3px 1px rgba(60,64,67,.15)}.gb_Wa.gb_H:focus-visible,.gb_Wa.gb_H:focus{background-color:rgba(241,243,244,.12);outline:1px solid #f1f3f4;-webkit-box-shadow:0 1px 3px 1px rgba(0,0,0,.15),0 1px 2px 0 rgba(0,0,0,.3);box-shadow:0 1px 3px 1px rgba(0,0,0,.15),0 1px 2px 0 rgba(0,0,0,.3)}.gb_Wa.gb_H:active,.gb_Wa.gb_Tc.gb_H:focus{background-color:rgba(241,243,244,.1);border:1px solid #5f6368}.gb_4a{display:inline-block;padding-bottom:2px;padding-left:7px;padding-top:2px;text-align:center;vertical-align:middle;line-height:32px;width:78px}.gb_Wa.gb_H .gb_4a{line-height:26px;margin-left:0;padding-bottom:0;padding-left:0;padding-top:0;width:72px}.gb_4a.gb_5a{background-color:#f1f3f4;-webkit-border-radius:4px;border-radius:4px;margin-left:8px;padding-left:0;line-height:30px}.gb_4a.gb_5a .gb_Ic{vertical-align:middle}.gb_Fa:not(.gb_cc) .gb_Wa{margin-left:10px;margin-right:4px}.gb_Sd{max-height:32px;width:78px}.gb_Wa.gb_H .gb_Sd{max-height:26px;width:72px}.gb_P{-webkit-background-size:32px 32px;background-size:32px 32px;border:0;-webkit-border-radius:50%;border-radius:50%;display:block;margin:0px;position:relative;height:32px;width:32px;z-index:0}.gb_eb{background-color:#e8f0fe;border:1px solid rgba(32,33,36,.08);position:relative}.gb_eb.gb_P{height:30px;width:30px}.gb_eb.gb_P:hover,.gb_eb.gb_P:active{-webkit-box-shadow:none;box-shadow:none}.gb_fb{background:#fff;border:none;-webkit-border-radius:50%;border-radius:50%;bottom:2px;-webkit-box-shadow:0px 1px 2px 0px rgba(60,64,67,.30),0px 1px 3px 1px rgba(60,64,67,.15);box-shadow:0px 1px 2px 0px rgba(60,64,67,.30),0px 1px 3px 1px rgba(60,64,67,.15);height:14px;margin:2px;position:absolute;right:0;width:14px}.gb_wc{color:#1f71e7;font:400 22px/32px Google Sans,Roboto,Helvetica,Arial,sans-serif;text-align:center;text-transform:uppercase}@media (-webkit-min-device-pixel-ratio:1.25),(min-resolution:1.25dppx),(min-device-pixel-ratio:1.25){.gb_P::before,.gb_gb::before{display:inline-block;-webkit-transform:scale(0.5);-webkit-transform:scale(0.5);transform:scale(0.5);-webkit-transform-origin:left 0;-webkit-transform-origin:left 0;transform-origin:left 0}.gb_3 .gb_gb::before{-webkit-transform:scale(scale(0.416666667));-webkit-transform:scale(scale(0.416666667));transform:scale(scale(0.416666667))}}.gb_P:hover,.gb_P:focus{-webkit-box-shadow:0 1px 0 rgba(0,0,0,.15);box-shadow:0 1px 0 rgba(0,0,0,.15)}.gb_P:active{-webkit-box-shadow:inset 0 2px 0 rgba(0,0,0,.15);box-shadow:inset 0 2px 0 rgba(0,0,0,.15)}.gb_P:active::after{background:rgba(0,0,0,.1);-webkit-border-radius:50%;border-radius:50%;content:"";display:block;height:100%}.gb_hb{cursor:pointer;line-height:40px;min-width:30px;opacity:.75;overflow:hidden;vertical-align:middle;text-overflow:ellipsis}.gb_B.gb_hb{width:auto}.gb_hb:hover,.gb_hb:focus{opacity:.85}.gb_gd .gb_hb,.gb_gd .gb_Ud{line-height:26px}#gb#gb.gb_gd a.gb_hb,.gb_gd .gb_Ud{font-size:11px;height:auto}.gb_ib{border-top:4px solid #000;border-left:4px dashed transparent;border-right:4px dashed transparent;display:inline-block;margin-left:6px;opacity:.75;vertical-align:middle}.gb_Za:hover .gb_ib{opacity:.85}.gb_Wa>.gb_z{padding:3px 3px 3px 4px}.gb_Vd.gb_nd{color:#fff}.gb_1 .gb_hb,.gb_1 .gb_ib{opacity:1}#gb#gb.gb_1.gb_1 a.gb_hb,#gb#gb .gb_1.gb_1 a.gb_hb{color:#fff}.gb_1.gb_1 .gb_ib{border-top-color:#fff;opacity:1}.gb_ka .gb_P:hover,.gb_1 .gb_P:hover,.gb_ka .gb_P:focus,.gb_1 .gb_P:focus{-webkit-box-shadow:0 1px 0 rgba(0,0,0,.15),0 1px 2px rgba(0,0,0,.2);box-shadow:0 1px 0 rgba(0,0,0,.15),0 1px 2px rgba(0,0,0,.2)}.gb_Wd .gb_z,.gb_Xd .gb_z{position:absolute;right:1px}.gb_z.gb_0,.gb_jb.gb_0,.gb_Za.gb_0{-webkit-flex:0 1 auto;-webkit-box-flex:0;flex:0 1 auto}.gb_Zd.gb_0d .gb_hb{width:30px!important}.gb_1d{height:40px;position:absolute;right:-5px;top:-5px;width:40px}.gb_2d .gb_1d,.gb_3d .gb_1d{right:0;top:0}.gb_z .gb_B{padding:4px}.gb_S{display:none}sentinel{}</style><script nonce="">;this.gbar_={CONFIG:[[[0,"www.gstatic.com","og.qtm.en_US.Bvq7OK2_7ZA.2019.O","com","en","425",0,[4,2,"","","","725022048","0"],null,"PDqtZ4jKIbSKp84Pm_XusQo",null,0,"og.qtm.S4XVq7ljTQU.L.W.O","AA2YrTs9um7nM7ISNupfodds9-y7C7I4sA","AA2YrTu2DxB2kN0cQ82G6LVzDDDtDSuJSg","",2,1,200,"USA",null,null,"425","425",1,null,null,114591953,null,0],null,[1,0.1000000014901161,2,1],null,[1,0,0,null,"0","charithreddyputta@gmail.com","","AAc6HT0yaYDD7AFMlaK5WirXA0IH7hgMQkH1sWTEQgH9rpuLz69mzexlkMVdMaaVsdR7SlrUcPqFDTRaiCRfzmwzVm85jmX_-w",0,0,0,""],[0,0,"",1,0,0,0,0,0,0,null,0,0,null,0,0,null,null,0,0,0,"","","","","","",null,0,0,0,0,0,null,null,null,"rgba(32,33,36,1)","rgba(255,255,255,1)",0,0,0,null,null,null,0],["%1$s (default)","Brand account",1,"%1$s (delegated)",1,null,83,"https://colab.research.google.com/?authuser=$authuser",null,null,null,1,"https://accounts.google.com/ListAccounts?listPages=0\u0026authuser=0\u0026pid=425\u0026gpsia=1\u0026source=ogb\u0026atic=1\u0026mo=1\u0026mn=1\u0026hl=en\u0026ts=250",0,"dashboard",null,null,null,null,"Profile","",1,null,"Signed out","https://accounts.google.com/AccountChooser?source=ogb\u0026continue=$continue\u0026Email=$email\u0026ec=GAhAqQM","https://accounts.google.com/RemoveLocalAccount?source=ogb","Remove","Sign in",0,1,1,0,1,1,0,null,null,null,"Session expired",null,null,null,"Visitor",null,"Default","Delegated","Sign out of all accounts",1,null,null,0,null,null,"myaccount.google.com","https",0,1,0],null,["1","gci_91f30755d6a6b787dcc2a4062e6e9824.js","googleapis.client:gapi.iframes","0","en"],null,null,null,null,["m;/_/scs/abc-static/_/js/k=gapi.gapi.en.l2ZUC8FxqV8.O/d=1/rs=AHpOoo9xAAkaXO7Lqf7-9uTpZLtrkpWaXQ/m=__features__","https://apis.google.com","","","1","",null,1,"es_plusone_gc_20241202.0_p2","en",null,0],[0.009999999776482582,"com","425",[null,"","0",null,1,5184000,null,null,"",null,null,null,null,null,0,null,0,null,1,0,0,0,null,null,0,0,null,0,0,0,0,0],null,null,null,0],[1,null,null,40400,425,"USA","en","725022048.0",8,null,1,0,null,null,null,null,"3700949",null,null,null,"PDqtZ4jKIbSKp84Pm_XusQo",0,0,0,null,2,5,"nn",68,0,0,0,0,1,114591953,0,0],[[null,null,null,"https://www.gstatic.com/og/_/js/k=og.qtm.en_US.Bvq7OK2_7ZA.2019.O/rt=j/m=qabr,qgl,q_dnp,qcwid,qbd,qapid,qads,qrcd,q_dg/exm=qaaw,qadd,qaid,qein,qhaw,qhba,qhbr,qhch,qhga,qhid,qhin/d=1/ed=1/rs=AA2YrTs9um7nM7ISNupfodds9-y7C7I4sA"],[null,null,null,"https://www.gstatic.com/og/_/ss/k=og.qtm.S4XVq7ljTQU.L.W.O/m=qcwid,qba/excm=qaaw,qadd,qaid,qein,qhaw,qhba,qhbr,qhch,qhga,qhid,qhin/d=1/ed=1/ct=zgms/rs=AA2YrTu2DxB2kN0cQ82G6LVzDDDtDSuJSg"]],null,null,null,[[[null,null,[null,null,null,"https://ogs.google.com/u/0/widget/account?yac=1\u0026amb=1"],0,414,436,57,4,1,0,0,65,66,8000,"https://accounts.google.com/SignOutOptions?hl=en\u0026continue=https://colab.research.google.com/\u0026ec=GBRAqQM",68,2,null,null,1,113,"Something went wrong.%1$s Refresh to try again or %2$schoose another account%3$s.",3,null,null,75,0,null,null,null,null,null,null,null,"/widget/account",["https","myaccount.google.com",0,32,83,0],0,0,1,["Critical security alert","Important account alert","Storage usage alert",1,1],0,1,null,1,1,1,1,null,null,0,0,0,null,0,0],[null,null,[null,null,null,"https://ogs.google.com/u/0/widget/callout/sid?dc=1"],null,280,420,70,25,0,null,0,null,null,8000,null,71,4,null,null,null,null,null,null,null,null,76,null,null,null,107,108,109,"",null,null,null,null,null,null,null,null,null,null,null,null,null,null,null,null,null,null,null,null,0]],null,null,"425","425",1,0,null,"en",0,["https://colab.research.google.com/?authuser=$authuser","https://accounts.google.com/AddSession?hl=en\u0026continue=https://colab.research.google.com/\u0026ec=GAlAqQM","https://accounts.google.com/Logout?hl=en\u0026continue=https://colab.research.google.com/\u0026timeStmp=1739405884\u0026secTok=.AG5fkS-YTpIl-ojavpEDj2LDWeEuf8zupQ\u0026ec=GAdAqQM","https://accounts.google.com/ListAccounts?listPages=0\u0026authuser=0\u0026pid=425\u0026gpsia=1\u0026source=ogb\u0026atic=1\u0026mo=1\u0026mn=1\u0026hl=en\u0026ts=250",0,0,"",0,0,null,0,0,"https://accounts.google.com/ServiceLogin?passive=true\u0026continue=https%3A%2F%2Fcolab.research.google.com%2F\u0026ec=GAZAqQM",1,1,0,0,null,0],0,0,0,[null,"",null,null,null,1,null,0,0,"","","","https://ogads-pa.clients6.google.com",0,0,0,"","",0,0,null,86400,null,1,1,null,0,null,0],0,null,null,null,1],null,[["mousedown","touchstart","touchmove","wheel","keydown"],300000],[[null,null,null,"https://accounts.google.com/RotateCookiesPage"],3,null,null,null,0,1]]],};this.gbar_=this.gbar_||{};(function(_){var window=this;
try{
_._F_toggles_initialize=function(a){(typeof globalThis!=="undefined"?globalThis:typeof self!=="undefined"?self:this)._F_toggles=a||[]};(0,_._F_toggles_initialize)([]);
/*

 Copyright The Closure Library Authors.
 SPDX-License-Identifier: Apache-2.0
*/
var ca,ka,la,pa,ra,sa,Ba,Ca,Ea,Ja,Ka,Oa,Ra,La,Qa,Pa,Na,Ma,Sa,Ta,db,fb,eb,jb,lb,hb,mb,wb,xb,yb,zb;_.aa=function(a,b){if(Error.captureStackTrace)Error.captureStackTrace(this,_.aa);else{const c=Error().stack;c&&(this.stack=c)}a&&(this.message=String(a));b!==void 0&&(this.cause=b)};_.ba=function(a){a.Fj=!0;return a};ca=function(a,b){if(a.length>b.length)return!1;if(a.length<b.length||a===b)return!0;for(let c=0;c<a.length;c++){const d=a[c],e=b[c];if(d>e)return!1;if(d<e)return!0}};
_.da=function(a){_.t.setTimeout(()=>{throw a;},0)};_.fa=function(){return _.ea().toLowerCase().indexOf("webkit")!=-1};_.ea=function(){var a=_.t.navigator;return a&&(a=a.userAgent)?a:""};ka=function(a){return ha?ja?ja.brands.some(({brand:b})=>b&&b.indexOf(a)!=-1):!1:!1};_.u=function(a){return _.ea().indexOf(a)!=-1};la=function(){return ha?!!ja&&ja.brands.length>0:!1};_.ma=function(){return la()?!1:_.u("Opera")};_.na=function(){return la()?!1:_.u("Trident")||_.u("MSIE")};
_.oa=function(){return _.u("Firefox")||_.u("FxiOS")};_.qa=function(){return _.u("Safari")&&!(pa()||(la()?0:_.u("Coast"))||_.ma()||(la()?0:_.u("Edge"))||(la()?ka("Microsoft Edge"):_.u("Edg/"))||(la()?ka("Opera"):_.u("OPR"))||_.oa()||_.u("Silk")||_.u("Android"))};pa=function(){return la()?ka("Chromium"):(_.u("Chrome")||_.u("CriOS"))&&!(la()?0:_.u("Edge"))||_.u("Silk")};ra=function(){return ha?!!ja&&!!ja.platform:!1};sa=function(){return _.u("iPhone")&&!_.u("iPod")&&!_.u("iPad")};
_.ta=function(){return sa()||_.u("iPad")||_.u("iPod")};_.ua=function(){return ra()?ja.platform==="macOS":_.u("Macintosh")};_.wa=function(a,b){return _.va(a,b)>=0};_.xa=function(a){let b="",c=0;const d=a.length-10240;for(;c<d;)b+=String.fromCharCode.apply(null,a.subarray(c,c+=10240));b+=String.fromCharCode.apply(null,c?a.subarray(c):a);return btoa(b)};_.ya=function(a){return a!=null&&a instanceof Uint8Array};
_.Aa=function(a,b=!1,c=!1){a=c&&Symbol.for&&a?Symbol.for(a):a!=null?Symbol(a):Symbol();b&&za.add(a);return a};Ba=function(a,b){b[_.v]=(a|0)&-30975};Ca=function(a,b){b[_.v]=(a|34)&-30941};_.Da=function(a){return Array.prototype.slice.call(a)};Ea=function(a){return a!==null&&typeof a==="object"&&!Array.isArray(a)&&a.constructor===Object};_.Fa=function(a){if(a&2)throw Error();};_.Ia=function(a){const b=_.Ga(_.Ha);return b?a[b]:void 0};Ja=function(a){return a};Ka=function(a){return a};
Oa=function(a,b,c,d){return La(a,b,c,d,Ma,Na)};Ra=function(a,b,c,d){return La(a,b,c,d,Pa,Qa)};
La=function(a,b,c,d,e,f){if(!c.length&&!d)return 0;var g=0;let h=0,k=0;var l=0;let m=0;for(var p=c.length-1;p>=0;p--){var r=c[p];d&&p===c.length-1&&r===d||(l++,r!=null&&k++)}if(d)for(var q in d)p=+q,isNaN(p)||(m+=Sa(p),h++,p>g&&(g=p));l=e(l,k)+f(h,g,m);q=k;p=h;r=g;let x=m;for(let F=c.length-1;F>=0;F--){var C=c[F];if(C==null||d&&F===c.length-1&&C===d)continue;C=F-b;const K=e(C,q)+f(p,r,x);K<l&&(a=1+C,l=K);p++;q--;x+=Sa(C);r=Math.max(r,C)}b=e(0,0)+f(p,r,x);b<l&&(a=0,l=b);if(d){p=h;r=g;x=m;q=k;for(const F in d)d=
+F,isNaN(d)||d>=1024||(p--,q++,x-=F.length,g=e(d,q)+f(p,r,x),g<l&&(a=1+d,l=g))}return a};Qa=function(a,b,c){return c+a*3+(a>1?a-1:0)};Pa=function(a,b){return(a>1?a-1:0)+(a-b)*4};Na=function(a,b){return a==0?0:9*Math.max(1<<32-Math.clz32(a+a/2-1),4)<=b?a==0?0:a<4?100+(a-1)*16:a<6?148+(a-4)*16:a<12?244+(a-6)*16:a<22?436+(a-12)*19:a<44?820+(a-22)*17:52+32*a:40+4*b};Ma=function(a){return 40+4*a};Sa=function(a){return a>=100?a>=1E4?Math.ceil(Math.log10(1+a)):a<1E3?3:4:a<10?1:2};
Ta=function(a,b){a.__closure__error__context__984382||(a.__closure__error__context__984382={});a.__closure__error__context__984382.severity=b};_.Ua=function(a){a=Error(a);Ta(a,"warning");return a};_.Wa=function(a){if(typeof a!=="boolean")throw Error("s`"+_.Va(a)+"`"+a);return a};_.Ya=function(a){if(!(0,_.Xa)(a))throw _.Ua("enum");return a|0};_.Za=function(a){if(typeof a!=="number")throw _.Ua("int32");if(!(0,_.Xa)(a))throw _.Ua("int32");return a|0};
_.$a=function(a){if(a!=null&&typeof a!=="string")throw Error();return a};_.ab=function(a){return a==null||typeof a==="string"?a:void 0};_.cb=function(a,b,c){if(a!=null&&typeof a==="object"&&a.Dd===_.bb)return a;if(Array.isArray(a)){var d=a[_.v]|0,e=d;e===0&&(e|=c&32);e|=c&2;e!==d&&(a[_.v]=e);return new b(a)}};
db=function(a,b,c){const d=_.Da(a);var e=d.length;const f=b&256?d[e-1]:void 0;e+=f?-1:0;for(b=b&512?1:0;b<e;b++)d[b]=c(d[b]);if(f){b=d[b]={};for(const g in f)b[g]=c(f[g])}(a=_.Ia(a))&&(d[_.Ha]=_.Da(a));return d};fb=function(a,b,c,d,e){if(a!=null){if(Array.isArray(a)){const f=a[_.v]|0;return a.length===0&&f&1?void 0:e&&f&2?a:eb(a,b,c,d!==void 0,e)}return b(a,d)}};
eb=function(a,b,c,d,e){const f=d||c?a[_.v]|0:0,g=d?!!(f&32):void 0;d=_.Da(a);let h=0;const k=d.length;for(let x=0;x<k;x++){var l=d[x];if(x===k-1&&Ea(l)){var m=b,p=c,r=g,q=e;let C=void 0;for(let F in l){const K=fb(l[F],m,p,r,q);if(K!=null){let H;((H=C)!=null?H:C={})[F]=K}}l=C}else l=fb(d[x],b,c,g,e);d[x]=l;l!=null&&(h=x+1)}h<k&&(d.length=h);c&&((a=_.Ia(a))&&(d[_.Ha]=_.Da(a)),c(f,d));return d};
jb=function(a){switch(typeof a){case "number":return Number.isFinite(a)?a:""+a;case "bigint":return(0,_.gb)(a)?Number(a):""+a;case "boolean":return a?1:0;case "object":if(_.ya(a))return _.xa(a);if(a.Dd===_.bb)return hb(a);if("function"==typeof _.ib&&a instanceof _.ib)return a.j();return}return a};lb=function(a,b){b&&(kb=b===Ka||b!==Ja&&b!==Oa&&b!==Ra?Ka:b);try{return hb(a)}finally{kb=void 0}};
hb=function(a){var b=a.ha;a=eb(b,jb,void 0,void 0,!1);var c=b[_.v]|0;if((b=a.length)&&!(c&512)){var d=a[b-1],e=!1;Ea(d)?(b--,e=!0):d=void 0;var f,g=(f=kb)!=null?f:Ka;f=c&512?0:-1;c=b-f;g=g(c,f,a,d);d&&(a[b]=void 0);if(c<g&&d){c=!0;for(var h in d){const k=+h;if(k<=g)e=k+f,a[e]=d[h],b=Math.max(e+1,b),e=!1,delete d[h];else{c=!1;break}}c&&(d=void 0)}for(c=b-1;b>0;c=b-1)if(h=a[c],h==null)b--,e=!0;else if(c-=f,c>=g){let k;((k=d)!=null?k:d={})[c]=h;b--;e=!0}else break;e&&(a.length=b);d&&a.push(d)}return a};
mb=function(a,b,c=Ca){if(a!=null){if(a instanceof Uint8Array)return b?a:new Uint8Array(a);if(Array.isArray(a)){var d=a[_.v]|0;if(d&2)return a;b&&(b=d===0||!!(d&32)&&!(d&64||!(d&16)));return b?(a[_.v]=(d|34)&-12293,a):eb(a,mb,d&4?Ca:c,!0,!0)}a.Dd===_.bb&&(c=a.ha,d=c[_.v]|0,a=d&2?a:new a.constructor(_.nb(c,d,!0)));return a}};_.nb=function(a,b,c){const d=c||b&2?Ca:Ba,e=!!(b&32);a=db(a,b,f=>mb(f,e,d));a[_.v]=a[_.v]|32|(c?2:0);return a};
_.ob=function(a){const b=a.ha,c=b[_.v]|0;return c&2?new a.constructor(_.nb(b,c,!1)):a};
_.pb=function(a,b,c,d){if(a==null){var e=96;c?(a=[c],e|=512):a=[];b&&(e=e&-33521665|(b&1023)<<15)}else{if(!Array.isArray(a))throw Error("v");e=a[_.v]|0;if(e&2048)throw Error("y");if(e&64)return a;d===1||d===2||(e|=64);if(c&&(e|=512,c!==a[0]))throw Error("z");a:{c=a;if(d=c.length){const f=d-1;if(Ea(c[f])){e|=256;b=f-(e&512?0:-1);if(b>=1024)throw Error("A");e=e&-33521665|(b&1023)<<15;break a}}if(b){b=Math.max(b,d-(e&512?0:-1));if(b>1024)throw Error("B");e=e&-33521665|(b&1023)<<15}}}a[_.v]=e;return a};
_.qb=function(a,b,c,d){const e=b&512?0:-1,f=c+e;var g=a.length-1;if(f>=g&&b&256)return a[g][c]=d,b;if(f<=g)return a[f]=d,b&256&&(a=a[g],c in a&&delete a[c]),b;d!==void 0&&(g=b>>15&1023||536870912,c>=g?d!=null&&(a[g+e]={[c]:d},b|=256,a[_.v]=b):a[f]=d);return b};_.sb=function(a,b,c,d){a=a.ha;let e=a[_.v]|0;d=_.rb(a,e,c,d);b=_.cb(d,b,e);b!==d&&b!=null&&_.qb(a,e,c,b);return b};_.tb=function(){const a=class{constructor(){throw Error();}};Object.setPrototypeOf(a,a.prototype);return a};
_.w=function(a,b){return a!=null?!!a:!!b};_.y=function(a,b){b==void 0&&(b="");return a!=null?a:b};_.ub=function(a,b,c){for(const d in a)b.call(c,a[d],d,a)};_.vb=function(a){for(const b in a)return!1;return!0};wb=Object.defineProperty;xb=function(a){a=["object"==typeof globalThis&&globalThis,a,"object"==typeof window&&window,"object"==typeof self&&self,"object"==typeof global&&global];for(var b=0;b<a.length;++b){var c=a[b];if(c&&c.Math==Math)return c}throw Error("a");};yb=xb(this);
zb=function(a,b){if(b)a:{var c=yb;a=a.split(".");for(var d=0;d<a.length-1;d++){var e=a[d];if(!(e in c))break a;c=c[e]}a=a[a.length-1];d=c[a];b=b(d);b!=d&&b!=null&&wb(c,a,{configurable:!0,writable:!0,value:b})}};zb("globalThis",function(a){return a||yb});zb("Symbol.dispose",function(a){return a?a:Symbol("b")});
zb("Promise.prototype.finally",function(a){return a?a:function(b){return this.then(function(c){return Promise.resolve(b()).then(function(){return c})},function(c){return Promise.resolve(b()).then(function(){throw c;})})}});var Bb,Fb;_.Ab=_.Ab||{};_.t=this||self;Bb=_.t._F_toggles||[];_.Cb=function(a,b){a=a.split(".");b=b||_.t;for(var c=0;c<a.length;c++)if(b=b[a[c]],b==null)return null;return b};_.Va=function(a){var b=typeof a;return b!="object"?b:a?Array.isArray(a)?"array":b:"null"};_.Db=function(a){var b=typeof a;return b=="object"&&a!=null||b=="function"};_.Eb="closure_uid_"+(Math.random()*1E9>>>0);Fb=function(a,b,c){return a.call.apply(a.bind,arguments)};_.z=function(a,b,c){_.z=Fb;return _.z.apply(null,arguments)};
_.Gb=function(a,b){var c=Array.prototype.slice.call(arguments,1);return function(){var d=c.slice();d.push.apply(d,arguments);return a.apply(this,d)}};_.A=function(a,b){a=a.split(".");for(var c=_.t,d;a.length&&(d=a.shift());)a.length||b===void 0?c[d]&&c[d]!==Object.prototype[d]?c=c[d]:c=c[d]={}:c[d]=b};_.Ga=function(a){return a};
_.B=function(a,b){function c(){}c.prototype=b.prototype;a.X=b.prototype;a.prototype=new c;a.prototype.constructor=a;a.wj=function(d,e,f){for(var g=Array(arguments.length-2),h=2;h<arguments.length;h++)g[h-2]=arguments[h];return b.prototype[e].apply(d,g)}};_.B(_.aa,Error);_.aa.prototype.name="CustomError";var Hb=!!(Bb[0]&2048);var Ib;if(Bb[0]&1024)Ib=Hb;else{var Jb=_.Cb("WIZ_global_data.oxN3nb"),Kb=Jb&&Jb[610401301];Ib=Kb!=null?Kb:!1}var ha=Ib;_.Lb=_.ba(a=>typeof a==="number");_.Mb=_.ba(a=>typeof a==="string");_.Nb=_.ba(a=>typeof a==="boolean");_.Ob=typeof _.t.BigInt==="function"&&typeof _.t.BigInt(0)==="bigint";var Rb,Pb,Sb,Qb;_.gb=_.ba(a=>_.Ob?a>=Pb&&a<=Qb:a[0]==="-"?ca(a,Rb):ca(a,Sb));Rb=Number.MIN_SAFE_INTEGER.toString();Pb=_.Ob?BigInt(Number.MIN_SAFE_INTEGER):void 0;Sb=Number.MAX_SAFE_INTEGER.toString();Qb=_.Ob?BigInt(Number.MAX_SAFE_INTEGER):void 0;_.Tb=typeof TextDecoder!=="undefined";_.Ub=typeof TextEncoder!=="undefined";var ja,Vb=_.t.navigator;ja=Vb?Vb.userAgentData||null:null;_.va=function(a,b){return Array.prototype.indexOf.call(a,b,void 0)};_.Wb=function(a,b,c){Array.prototype.forEach.call(a,b,c)};_.Xb=function(a,b){return Array.prototype.some.call(a,b,void 0)};_.Yb=function(a){_.Yb[" "](a);return a};_.Yb[" "]=function(){};var kc;_.Zb=_.ma();_.$b=_.na();_.ac=_.u("Edge");_.bc=_.u("Gecko")&&!(_.fa()&&!_.u("Edge"))&&!(_.u("Trident")||_.u("MSIE"))&&!_.u("Edge");_.cc=_.fa()&&!_.u("Edge");_.dc=_.ua();_.ec=ra()?ja.platform==="Windows":_.u("Windows");_.fc=ra()?ja.platform==="Android":_.u("Android");_.gc=sa();_.hc=_.u("iPad");_.ic=_.u("iPod");_.jc=_.ta();
a:{let a="";const b=function(){const c=_.ea();if(_.bc)return/rv:([^\);]+)(\)|;)/.exec(c);if(_.ac)return/Edge\/([\d\.]+)/.exec(c);if(_.$b)return/\b(?:MSIE|rv)[: ]([^\);]+)(\)|;)/.exec(c);if(_.cc)return/WebKit\/(\S+)/.exec(c);if(_.Zb)return/(?:Version)[ \/]?(\S+)/.exec(c)}();b&&(a=b?b[1]:"");if(_.$b){var lc;const c=_.t.document;lc=c?c.documentMode:void 0;if(lc!=null&&lc>parseFloat(a)){kc=String(lc);break a}}kc=a}_.mc=kc;_.nc=_.oa();_.oc=sa()||_.u("iPod");_.pc=_.u("iPad");_.qc=_.u("Android")&&!(pa()||_.oa()||_.ma()||_.u("Silk"));_.rc=pa();_.sc=_.qa()&&!_.ta();var za,tc;za=new Set;tc=_.Aa();_.Ha=_.Aa(void 0,!0);_.v=_.Aa("jas",!0,!0);var vc;_.bb={};vc=[];vc[_.v]=55;_.uc=Object.freeze(vc);_.wc=Object.freeze({});var xc=void 0;_.yc=typeof BigInt==="function"?BigInt.asIntN:void 0;_.zc=Number.isSafeInteger;_.Xa=Number.isFinite;_.Ac=Math.trunc;var kb;_.Bc=function(a,b){a=a.ha;return _.rb(a,a[_.v]|0,b)};_.rb=function(a,b,c,d){if(c===-1)return null;const e=c+(b&512?0:-1),f=a.length-1;if(e>=f&&b&256)return a[f][c];if(d&&b&256&&(b=a[f][c],b!=null)){if(a[e]!=null&&tc!=null){var g;a=(g=xc)!=null?g:xc={};g=a[tc]||0;g>=4||(a[tc]=g+1,g=Error(),Ta(g,"incident"),_.da(g))}return b}if(e<=f)return a[e]};_.Cc=function(a,b,c){const d=a.ha;let e=d[_.v]|0;_.Fa(e);_.qb(d,e,b,c);return a};
_.D=function(a,b,c,d=!1){b=_.sb(a,b,c,d);if(b==null)return b;a=a.ha;d=a[_.v]|0;if(!(d&2)){const e=_.ob(b);e!==b&&(b=e,_.qb(a,d,c,b))}return b};_.E=function(a,b,c){c==null&&(c=void 0);return _.Cc(a,b,c)};_.G=function(a,b){a=_.Bc(a,b);return a==null||typeof a==="boolean"?a:typeof a==="number"?!!a:void 0};_.I=function(a,b){return _.ab(_.Bc(a,b))};_.J=function(a,b,c=!1){let d;return(d=_.G(a,b))!=null?d:c};_.L=function(a,b){let c;return(c=_.I(a,b))!=null?c:""};
_.M=function(a,b,c){return _.Cc(a,b,c==null?c:_.Wa(c))};_.N=function(a,b,c){return _.Cc(a,b,c==null?c:_.Za(c))};_.O=function(a,b,c){return _.Cc(a,b,_.$a(c))};_.P=function(a,b,c){return _.Cc(a,b,c==null?c:_.Ya(c))};_.Q=class{constructor(a,b,c){this.ha=_.pb(a,b,c)}toJSON(){return lb(this)}ya(a){return JSON.stringify(lb(this,a))}nc(){return!!((this.ha[_.v]|0)&2)}};_.Q.prototype.Dd=_.bb;_.Q.prototype.toString=function(){return this.ha.toString()};_.Dc=_.tb();_.Gc=_.tb();_.Hc=_.tb();var Ic=class extends _.Q{constructor(a){super(a)}};_.Jc=class extends _.Q{constructor(a){super(a)}D(a){return _.N(this,3,a)}};var Kc=class extends _.Q{constructor(a){super(a)}Gc(a){return _.O(this,24,a)}};_.Lc=class extends _.Q{constructor(a){super(a)}};_.R=function(){this.qa=this.qa;this.Y=this.Y};_.R.prototype.qa=!1;_.R.prototype.isDisposed=function(){return this.qa};_.R.prototype.dispose=function(){this.qa||(this.qa=!0,this.P())};_.R.prototype[Symbol.dispose]=function(){this.dispose()};_.R.prototype.P=function(){if(this.Y)for(;this.Y.length;)this.Y.shift()()};var Mc=class extends _.R{constructor(){var a=window;super();this.o=a;this.i=[];this.j={}}resolve(a){let b=this.o;a=a.split(".");const c=a.length;for(let d=0;d<c;++d)if(b[a[d]])b=b[a[d]];else return null;return b instanceof Function?b:null}nb(){const a=this.i.length,b=this.i,c=[];for(let d=0;d<a;++d){const e=b[d].i(),f=this.resolve(e);if(f&&f!=this.j[e])try{b[d].nb(f)}catch(g){}else c.push(b[d])}this.i=c.concat(b.slice(a))}};var Oc=class extends _.R{constructor(){var a=_.Nc;super();this.o=a;this.A=this.i=null;this.v=0;this.B={};this.j=!1;a=window.navigator.userAgent;a.indexOf("MSIE")>=0&&a.indexOf("Trident")>=0&&(a=/\b(?:MSIE|rv)[: ]([^\);]+)(\)|;)/.exec(a))&&a[1]&&parseFloat(a[1])<9&&(this.j=!0)}C(a,b){this.i=b;this.A=a;b.preventDefault?b.preventDefault():b.returnValue=!1}};_.Pc=class extends _.Q{constructor(a){super(a)}};var Qc=class extends _.Q{constructor(a){super(a)}};var Tc;_.Rc=function(a,b,c=98,d=new _.Jc){if(a.i){const e=new Ic;_.O(e,1,b.message);_.O(e,2,b.stack);_.N(e,3,b.lineNumber);_.P(e,5,1);_.E(d,40,e);a.i.log(c,d)}};Tc=class{constructor(){var a=Sc;this.i=null;_.J(a,4,!0)}log(a,b,c=new _.Jc){_.Rc(this,a,98,c)}};var Uc,Vc;Uc=function(a){if(a.o.length>0){var b=a.i!==void 0,c=a.j!==void 0;if(b||c){b=b?a.v:a.A;c=a.o;a.o=[];try{_.Wb(c,b,a)}catch(d){console.error(d)}}}};_.Wc=class{constructor(a){this.i=a;this.j=void 0;this.o=[]}then(a,b,c){this.o.push(new Vc(a,b,c));Uc(this)}resolve(a){if(this.i!==void 0||this.j!==void 0)throw Error("F");this.i=a;Uc(this)}reject(a){if(this.i!==void 0||this.j!==void 0)throw Error("F");this.j=a;Uc(this)}v(a){a.j&&a.j.call(a.i,this.i)}A(a){a.o&&a.o.call(a.i,this.j)}};
Vc=class{constructor(a,b,c){this.j=a;this.o=b;this.i=c}};_.Xc=a=>{var b="jc";if(a.jc&&a.hasOwnProperty(b))return a.jc;b=new a;return a.jc=b};_.Yc=class{constructor(){this.v=new _.Wc;this.i=new _.Wc;this.D=new _.Wc;this.B=new _.Wc;this.C=new _.Wc;this.A=new _.Wc;this.o=new _.Wc;this.j=new _.Wc;this.F=new _.Wc}Y(){return this.v}M(){return this.i}N(){return this.D}L(){return this.B}qa(){return this.C}K(){return this.A}J(){return this.o}G(){return this.j}static i(){return _.Xc(_.Yc)}};var bd;_.$c=function(){return _.D(_.Zc,Kc,1)};_.ad=function(){return _.D(_.Zc,_.Lc,5)};bd=class extends _.Q{constructor(a){super(a)}};var cd;window.gbar_&&window.gbar_.CONFIG?cd=window.gbar_.CONFIG[0]||{}:cd=[];_.Zc=new bd(cd);var Sc=_.D(_.Zc,Qc,3)||new Qc;_.$c()||new Kc;_.Nc=new Tc;_.A("gbar_._DumpException",function(a){_.Nc?_.Nc.log(a):console.error(a)});_.dd=new Oc;var fd;_.gd=function(a,b){var c=_.ed.i();if(a in c.i){if(c.i[a]!=b)throw new fd;}else{c.i[a]=b;const h=c.j[a];if(h)for(let k=0,l=h.length;k<l;k++){b=h[k];var d=c.i;delete b.i[a];if(_.vb(b.i)){for(var e=b.j.length,f=Array(e),g=0;g<e;g++)f[g]=d[b.j[g]];b.o.apply(b.v,f)}}delete c.j[a]}};_.ed=class{constructor(){this.i={};this.j={}}static i(){return _.Xc(_.ed)}};_.hd=class extends _.aa{constructor(){super()}};fd=class extends _.hd{};_.A("gbar.A",_.Wc);_.Wc.prototype.aa=_.Wc.prototype.then;_.A("gbar.B",_.Yc);_.Yc.prototype.ba=_.Yc.prototype.M;_.Yc.prototype.bb=_.Yc.prototype.N;_.Yc.prototype.bd=_.Yc.prototype.qa;_.Yc.prototype.bf=_.Yc.prototype.Y;_.Yc.prototype.bg=_.Yc.prototype.L;_.Yc.prototype.bh=_.Yc.prototype.K;_.Yc.prototype.bj=_.Yc.prototype.J;_.Yc.prototype.bk=_.Yc.prototype.G;_.A("gbar.a",_.Yc.i());window.gbar&&window.gbar.ap&&window.gbar.ap(window.gbar.a);var id=new Mc;_.gd("api",id);
var jd=_.ad()||new _.Lc,kd=window,ld=_.y(_.I(jd,8));kd.__PVT=ld;_.gd("eq",_.dd);
}catch(e){_._DumpException(e)}
try{
_.md=class extends _.Q{constructor(a){super(a)}};
}catch(e){_._DumpException(e)}
try{
var od=class extends _.Q{constructor(a){super(a)}};var pd=class extends _.R{constructor(){super();this.j=[];this.i=[]}o(a,b){this.j.push({features:a,options:b!=null?b:null})}init(a,b,c){window.gapi={};const d=window.___jsl={};d.h=_.y(_.I(a,1));_.G(a,12)!=null&&(d.dpo=_.w(_.J(a,12)));d.ms=_.y(_.I(a,2));d.m=_.y(_.I(a,3));d.l=[];_.L(b,1)&&(a=_.I(b,3))&&this.i.push(a);_.L(c,1)&&(c=_.I(c,2))&&this.i.push(c);_.A("gapi.load",(0,_.z)(this.o,this));return this}};var qd=_.D(_.Zc,_.Pc,14);if(qd){var rd=_.D(_.Zc,_.md,9)||new _.md,sd=new od,td=new pd;td.init(qd,rd,sd);_.gd("gs",td)};
}catch(e){_._DumpException(e)}
})(this.gbar_);
// Google Inc.
</script><script nonce="">try {const preferences = JSON.parse(window.localStorage.getItem("datalab_prefs_charithreddyputta@gmail.com")); document.querySelector('html') .setAttribute('theme', preferences['siteTheme'] || 'default');} catch (e) {}</script><script nonce="">window.performance.mark('head_start');</script><link rel="stylesheet" href="./Home_Assignment1_files/bundle.css"><script nonce="">var colabVersionTag = 'colab_20250211-060121_RC00_725583254'; var colabScsVersion = '0e3a4dc4868dbc2ffef119fec830093e'; var hl = 'en'; var colabExperiments = JSON.parse('\x7b\x22add_prompt_cell\x22: false, \x22ai_banner\x22: false, \x22ai_unsubscribed_warning\x22: false, \x22ai_user_input_char_limit\x22: 2000, \x22aida_complete_code_model_id\x22: \x22\x22, \x22aida_do_conversation_model_id\x22: \x22\x22, \x22aida_generate_code_model_id\x22: \x22\x22, \x22allow_dsa_page_interaction\x22: false, \x22allow_readonly_cells\x22: true, \x22allowed_public_url_domains\x22: \x5b\x22huggingface.co\x22, \x22dagshub.com\x22, \x22storage.googleapis.com\x22\x5d, \x22auto_open_chat_on_empty_notebook\x22: false, \x22backend_url_allowlist\x22: \x5b\x22localhost\x22, \x22127.0.0.1\x22, \x22\x5b::1\x5d\x22, \x22kkb-production.jupyter-proxy.kaggle.net\x22\x5d, \x22backend_version\x22: \x22next\x22, \x22backtracking_strategy\x22: \x22non-literals\x22, \x22cell_markdown_toolbar_tooltips\x22: true, \x22cell_output_actions_tooltip\x22: true, \x22cell_tags\x22: false, \x22cell_toolbar_ai_menu\x22: true, \x22cell_toolbar_tooltips\x22: true, \x22cell_ui_refresh\x22: false, \x22chat_explain_error_temp\x22: \x221.0\x22, \x22chat_model_id_override\x22: \x22\x22, \x22chat_reduce_refusals\x22: true, \x22classified_generate\x22: false, \x22classroom_iframe_parent_origin\x22: \x22\x22, \x22client_text_compose\x22: true, \x22client_trim_completion_text\x22: 400, \x22cloud_origin\x22: \x22\x22, \x22code_report_millis\x22: 600000, \x22commands_in_toolbar\x22: false, \x22comment_poll_long\x22: 900000, \x22comment_poll_short\x22: 60000, \x22compose_skip_suffix_check\x22: false, \x22converse_server_side_history\x22: false, \x22converse_temp\x22: \x22\x22, \x22crawler\x22: false, \x22create_gemini_api_key\x22: false, \x22critique_comments\x22: false, \x22dbu\x22: \x22\x22, \x22debug_external\x22: \x22external\x22, \x22debug_prod\x22: \x22prod\x22, \x22dep_cells_commands\x22: true, \x22dep_cells_enabled\x22: false, \x22dep_graph\x22: false, \x22development\x22: false, \x22document_change_poll_interval\x22: 30000, \x22drive_anon_api_key\x22: \x22AIzaSyB10s2vWUTwP0pj20wZoxmpZIt3rRodYeg\x22, \x22drive_api_key\x22: \x22AIzaSyCN_sSPJMpYrAzC5AtTrltNC8oRmLtoqBk\x22, \x22drive_background_save_project_number\x22: \x22948411933973\x22, \x22drive_realtime_project_number\x22: \x22\x22, \x22drop_chat_links\x22: true, \x22dsa\x22: false, \x22embedding_app\x22: \x22\x22, \x22enable_adhoc_backends\x22: false, \x22enable_agent_connect_to_new_vm\x22: true, \x22enable_completions_backend_switching\x22: false, \x22enable_dasher_subscription_ui\x22: true, \x22enable_more_reprs\x22: true, \x22enable_mpp_orc_model_overrides\x22: true, \x22enable_rt_on_create\x22: false, \x22execution_announcements\x22: true, \x22execution_status_propagation\x22: true, \x22explain_cell\x22: true, \x22explain_error\x22: true, \x22explain_error_model_id_override\x22: \x22\x22, \x22explain_error_trim_traceback\x22: true, \x22explicit_ai_backend\x22: \x22\x22, \x22external_trusted_github_org_repos_quick_add\x22: \x22GoogleChrome\/CrUX,google\/generative-ai-docs,google-health\/cxr-foundation,google-health\/derm-foundation,google-health\/path-foundation\x22, \x22file_browser_poll_interval_millis\x22: 10000, \x22file_upload_rate_limit\x22: 5, \x22filter_repetitive_suggestions\x22: false, \x22first_party_auth\x22: true, \x22fix_imports\x22: false, \x22gemini_rebrand\x22: true, \x22generate_code\x22: true, \x22generate_df\x22: true, \x22generate_prompt_reduce_blank_responses\x22: false, \x22generate_prompt_reduce_name_errors\x22: false, \x22generate_temp\x22: \x22\x22, \x22get_started\x22: false, \x22gis_auth\x22: true, \x22github_client_id\x22: \x225036cf6d81e65aaa6340\x22, \x22gpu_utilization_check_interval_ms\x22: 600000, \x22granular_browser_permissions\x22: true, \x22hats_surveys\x22: true, \x22hrc\x22: false, \x22i18n_runtime_labels\x22: true, \x22import_data\x22: false, \x22import_gemini_api_key\x22: true, \x22include_df_vars_in_ai_conversation_context\x22: false, \x22inline_completion_ai_campaign_max_views\x22: 3, \x22inline_completion_ai_campaign_throttle_ms\x22: 600000, \x22interactive_sheet_next_steps\x22: true, \x22internal_chat\x22: false, \x22internal_schedule\x22: false, \x22is_prober\x22: false, \x22jsraw\x22: \x22compiled\x22, \x22key_promoter\x22: false, \x22kr\x22: false, \x22last_saved_indicator_refresh\x22: true, \x22latest_notebook_context_for_converse\x22: true, \x22link_id_assignments\x22: true, \x22link_imports_to_installs\x22: true, \x22local_cloud_apis\x22: false, \x22local_service_worker\x22: false, \x22lsp_diagnostics_reporting\x22: false, \x22lsp_inlay_hint\x22: false, \x22makersuite_api_key\x22: \x22AIzaSyAmDcruecW4rCL1KdwcbIVHL4LkXxahIgw\x22, \x22makersuite_service_url\x22: \x22https:\/\/alkalimakersuite-pa.clients6.google.com\x22, \x22markdown_spellchecker\x22: false, \x22min_dep_cells_runtime_kernel_cl\x22: 694609395, \x22ml_enabled\x22: true, \x22mlpp_multiline\x22: false, \x22mobile\x22: false, \x22mpp_orc_temperature_override\x22: \x221.0\x22, \x22next_steps\x22: true, \x22nl2code_missing_imports\x22: true, \x22no_fun\x22: false, \x22notebook_context_length\x22: 40000, \x22outage_notification\x22: \x22\x22, \x22outage_notification_link\x22: \x22\x22, \x22outputframe_version\x22: \x22\x22, \x22override_suf_params_for_test\x22: false, \x22parallel_prompting\x22: true, \x22pds_minting\x22: false, \x22prereq_cells_next_steps\x22: true, \x22prompt_for_dsa_trusted_tester_consent\x22: false, \x22recaptcha_polling_frequency_ms\x22: 300000, \x22recaptcha_v2_site_key\x22: \x226LfQttQUAAAAADuPanA_VZMaZgBAOnHZNuuqUewp\x22, \x22recaptcha_v3_site_key\x22: \x226LfQPtEUAAAAAHBpAdFng54jyuB1V5w5dofknpip\x22, \x22reconnect_max_delay_seconds\x22: 300, \x22remove_ai_explain_cell_fencing\x22: false, \x22remove_ai_explain_error_fencing\x22: false, \x22remove_ai_generate_fencing\x22: true, \x22require_ai_consent\x22: true, \x22resource_poll_interval_ms\x22: 10000, \x22rp_kws\x22: false, \x22rp_kxhr_skip_fallback\x22: false, \x22rp_serve_kernel_port\x22: false, \x22rp_socketio_fallback\x22: true, \x22rp_token_refresh_headroom_millis\x22: 300000, \x22rt_opt_in\x22: \x22OFF\x22, \x22run_mode\x22: false, \x22runtime_env_overrides\x22: \x22\\n          \x5b\\n            \x5b\\\x22ENABLE_DIRECTORYPREFETCHER\\\x22, \\\x221\\\x22\x5d\\n          \x5d\\n        \x22, \x22runtime_type_for_test\x22: \x22\x22, \x22server_execution_queue\x22: true, \x22server_side_generate_prompt_formatting_cloud\x22: false, \x22session_resume_coalesce\x22: true, \x22show_empty_notebook_actions\x22: false, \x22show_payments_interstitial\x22: false, \x22show_rel_notes_on_open\x22: true, \x22show_signup_survey\x22: true, \x22show_subscription_renewal_time\x22: false, \x22show_switch_to_prod_link\x22: false, \x22single_page_consent_form\x22: true, \x22smartpaste\x22: false, \x22smartpaste_serving_config\x22: \x22pl_700m_smart_paste_3.0.32_60\x22, \x22sql_cell\x22: false, \x22sql_cell_buttons\x22: false, \x22storage_partition_trial\x22: true, \x22storage_partition_trial_token\x22: \x22Agk\/t4Bt05W7j6CHeqXH9+6ccDayrBsQPqCLDPSElphe\/7cUobayuvN0A3huajTbJenIjp6qibLteh6e0IEWrgIAAAB4eyJvcmlnaW4iOiJodHRwczovL2NvbGFiLnJlc2VhcmNoLmdvb2dsZS5jb206NDQzIiwiZmVhdHVyZSI6IkRpc2FibGVUaGlyZFBhcnR5U3RvcmFnZVBhcnRpdGlvbmluZzIiLCJleHBpcnkiOjE3NDIzNDIzOTl9\x22, \x22task_service_max_poll_count\x22: 45, \x22task_service_poll_interval_ms\x22: 2000, \x22task_service_wait_before_polling_ms\x22: 5000, \x22term4all\x22: false, \x22text_compose_report_changes_millis\x22: 10000, \x22text_span_comments\x22: false, \x22tpu_node_redirect\x22: true, \x22tpu_resource_stats\x22: false, \x22tpu_v5e1\x22: true, \x22transform_code\x22: false, \x22transform_code_context_file_per_cell\x22: false, \x22unmanaged_vm_min_label_block\x22: \x22\x22, \x22unmanaged_vm_min_label_warn\x22: \x22\x22, \x22unmanaged_vm_min_release_tag_block\x22: \x22\x22, \x22unmanaged_vm_min_release_tag_warn\x22: \x22\x22, \x22unsupported_magics_check\x22: true, \x22updated_inline_cell_diff\x22: false, \x22use_corplogin\x22: true, \x22use_dm_sql_lsp\x22: false, \x22user_visible_gpu_types\x22: \x5b\x22T4\x22, \x22A100\x22, \x22L4\x22\x5d, \x22v_100_redirect\x22: true, \x22verbose_warnings\x22: false, \x22vertex_ai_api_environment_override\x22: \x22\x22, \x22want_completions_ai_consent_campaign\x22: true, \x22workstations\x22: false, \x22ids\x22: \x5b20730330, 20730265, 20730297, 20730315, 20730351, 20730150, 20730324, 20730360, 20730252, 20730177, 20730185, 20730183, 20730230\x5d, \x22flag_ids\x22: \x7b\x22add_prompt_cell\x22: 45644995, \x22ai_banner\x22: 45670540, \x22ai_unsubscribed_warning\x22: 45504730, \x22ai_user_input_char_limit\x22: 45661098, \x22aida_complete_code_model_id\x22: 45427660, \x22aida_do_conversation_model_id\x22: 45427664, \x22aida_generate_code_model_id\x22: 45427663, \x22allow_dsa_page_interaction\x22: 45675785, \x22allow_readonly_cells\x22: 45671718, \x22allowed_public_url_domains\x22: 45425558, \x22auto_open_chat_on_empty_notebook\x22: 45669599, \x22backend_url_allowlist\x22: 45660303, \x22backend_version\x22: 45425541, \x22backtracking_strategy\x22: 45644832, \x22cell_markdown_toolbar_tooltips\x22: 45654223, \x22cell_output_actions_tooltip\x22: 45650940, \x22cell_tags\x22: 45425779, \x22cell_toolbar_ai_menu\x22: 45647581, \x22cell_toolbar_tooltips\x22: 45649981, \x22cell_ui_refresh\x22: 45673630, \x22chat_explain_error_temp\x22: 45655973, \x22chat_model_id_override\x22: 45631876, \x22chat_reduce_refusals\x22: 45656767, \x22classified_generate\x22: 45425499, \x22classroom_iframe_parent_origin\x22: 45425537, \x22client_text_compose\x22: 45425512, \x22client_trim_completion_text\x22: 45425628, \x22cloud_origin\x22: 45425538, \x22code_report_millis\x22: 45658073, \x22commands_in_toolbar\x22: 45425502, \x22comment_poll_long\x22: 45425588, \x22comment_poll_short\x22: 45425587, \x22compose_skip_suffix_check\x22: 45615470, \x22converse_server_side_history\x22: 45634472, \x22converse_temp\x22: 45425509, \x22crawler\x22: 45425491, \x22create_gemini_api_key\x22: 45654552, \x22critique_comments\x22: 45612076, \x22dbu\x22: 45425545, \x22debug_external\x22: 45425470, \x22debug_prod\x22: 45425471, \x22dep_cells_commands\x22: 45622249, \x22dep_cells_enabled\x22: 45653551, \x22dep_graph\x22: 45629071, \x22development\x22: 45425544, \x22document_change_poll_interval\x22: 45425589, \x22drive_anon_api_key\x22: 45425478, \x22drive_api_key\x22: 45425473, \x22drive_background_save_project_number\x22: 45425479, \x22drive_realtime_project_number\x22: 45425629, \x22drop_chat_links\x22: 45646864, \x22dsa\x22: 45656258, \x22enable_adhoc_backends\x22: 45425506, \x22enable_agent_connect_to_new_vm\x22: 45670252, \x22enable_completions_backend_switching\x22: 45662651, \x22enable_dasher_subscription_ui\x22: 45639531, \x22enable_more_reprs\x22: 45613354, \x22enable_mpp_orc_model_overrides\x22: 45649913, \x22enable_rt_on_create\x22: 45667583, \x22execution_announcements\x22: 45651325, \x22execution_status_propagation\x22: 45644828, \x22explain_cell\x22: 45425505, \x22explain_error\x22: 45425487, \x22explain_error_model_id_override\x22: 45631875, \x22explain_error_trim_traceback\x22: 45618831, \x22explicit_ai_backend\x22: 45638548, \x22external_trusted_github_org_repos_quick_add\x22: 45425555, \x22file_browser_poll_interval_millis\x22: 45643722, \x22file_upload_rate_limit\x22: 45637799, \x22filter_repetitive_suggestions\x22: 45615781, \x22first_party_auth\x22: 45425560, \x22fix_imports\x22: 45624140, \x22gemini_rebrand\x22: 45631310, \x22generate_code\x22: 45425492, \x22generate_df\x22: 45425503, \x22generate_prompt_reduce_blank_responses\x22: 45643396, \x22generate_prompt_reduce_name_errors\x22: 45634392, \x22generate_temp\x22: 45425508, \x22get_started\x22: 45430267, \x22gis_auth\x22: 45425625, \x22github_client_id\x22: 45425556, \x22gpu_utilization_check_interval_ms\x22: 45425561, \x22granular_browser_permissions\x22: 45630936, \x22hats_surveys\x22: 45425559, \x22i18n_runtime_labels\x22: 45662916, \x22import_data\x22: 45430411, \x22import_gemini_api_key\x22: 45654551, \x22include_df_vars_in_ai_conversation_context\x22: 45676033, \x22inline_completion_ai_campaign_max_views\x22: 45676328, \x22inline_completion_ai_campaign_throttle_ms\x22: 45671534, \x22interactive_sheet_next_steps\x22: 45634324, \x22internal_chat\x22: 45622872, \x22internal_schedule\x22: 45425578, \x22is_prober\x22: 45429104, \x22jsraw\x22: 45425557, \x22key_promoter\x22: 45425570, \x22last_saved_indicator_refresh\x22: 45672240, \x22latest_notebook_context_for_converse\x22: 45668776, \x22link_id_assignments\x22: 45644831, \x22link_imports_to_installs\x22: 45644830, \x22local_cloud_apis\x22: 45425630, \x22local_service_worker\x22: 45425550, \x22lsp_diagnostics_reporting\x22: 45425604, \x22lsp_inlay_hint\x22: 45614695, \x22makersuite_api_key\x22: 45655361, \x22makersuite_service_url\x22: 45655362, \x22markdown_spellchecker\x22: 45671479, \x22min_dep_cells_runtime_kernel_cl\x22: 45654240, \x22ml_enabled\x22: 45425493, \x22mlpp_multiline\x22: 45425623, \x22mobile\x22: 45425562, \x22mpp_orc_temperature_override\x22: 45649914, \x22next_steps\x22: 45428239, \x22nl2code_missing_imports\x22: 45615676, \x22no_fun\x22: 45425540, \x22notebook_context_length\x22: 45633457, \x22outage_notification\x22: 45425584, \x22outage_notification_link\x22: 45425585, \x22outputframe_version\x22: 45425591, \x22override_suf_params_for_test\x22: 45425592, \x22parallel_prompting\x22: 45666384, \x22pds_minting\x22: 45648255, \x22prereq_cells_next_steps\x22: 45640400, \x22prompt_for_dsa_trusted_tester_consent\x22: 45670923, \x22recaptcha_polling_frequency_ms\x22: 45425582, \x22recaptcha_v2_site_key\x22: 45425581, \x22recaptcha_v3_site_key\x22: 45425580, \x22reconnect_max_delay_seconds\x22: 45425539, \x22remove_ai_explain_cell_fencing\x22: 45677303, \x22remove_ai_explain_error_fencing\x22: 45677302, \x22remove_ai_generate_fencing\x22: 45673079, \x22require_ai_consent\x22: 45425489, \x22resource_poll_interval_ms\x22: 45425590, \x22rp_kws\x22: 45650184, \x22rp_kxhr_skip_fallback\x22: 45656329, \x22rp_serve_kernel_port\x22: 45572083, \x22rp_socketio_fallback\x22: 45658495, \x22rp_token_refresh_headroom_millis\x22: 45517773, \x22rt_opt_in\x22: 45667546, \x22run_mode\x22: 45642857, \x22runtime_env_overrides\x22: 45425583, \x22runtime_type_for_test\x22: 45425586, \x22server_execution_queue\x22: 45425600, \x22server_side_generate_prompt_formatting_cloud\x22: 45655196, \x22session_resume_coalesce\x22: 45425603, \x22show_empty_notebook_actions\x22: 45677304, \x22show_payments_interstitial\x22: 45425543, \x22show_rel_notes_on_open\x22: 45644210, \x22show_signup_survey\x22: 45425620, \x22show_subscription_renewal_time\x22: 45425569, \x22show_switch_to_prod_link\x22: 45425483, \x22single_page_consent_form\x22: 45656775, \x22smartpaste\x22: 45627425, \x22smartpaste_serving_config\x22: 45630585, \x22sql_cell\x22: 45425497, \x22sql_cell_buttons\x22: 45425498, \x22task_service_max_poll_count\x22: 45669592, \x22task_service_poll_interval_ms\x22: 45669591, \x22task_service_wait_before_polling_ms\x22: 45669590, \x22term4all\x22: 45425542, \x22text_compose_report_changes_millis\x22: 45425568, \x22text_span_comments\x22: 45545873, \x22tpu_node_redirect\x22: 45634372, \x22tpu_resource_stats\x22: 45655215, \x22tpu_v5e1\x22: 45652002, \x22transform_code\x22: 45667102, \x22transform_code_context_file_per_cell\x22: 45671260, \x22unmanaged_vm_min_label_block\x22: 45425546, \x22unmanaged_vm_min_label_warn\x22: 45425547, \x22unmanaged_vm_min_release_tag_block\x22: 45425548, \x22unmanaged_vm_min_release_tag_warn\x22: 45425549, \x22unsupported_magics_check\x22: 45644829, \x22updated_inline_cell_diff\x22: 45667103, \x22use_corplogin\x22: 45425606, \x22use_dm_sql_lsp\x22: 45425610, \x22user_visible_gpu_types\x22: 45620529, \x22v_100_redirect\x22: 45644963, \x22verbose_warnings\x22: 45425551, \x22vertex_ai_api_environment_override\x22: 45612077, \x22want_completions_ai_consent_campaign\x22: 45671138, \x22workstations\x22: 45425626\x7d\x7d'); var colabUserEmail = 'charithreddyputta@gmail.com'; var colabRenderDataToken = 'AFWLbD2eJDzNvKTelvNhfGCcSKXxb9cBMNQ856okwJ3hQMDzf6ogfhfmiA8eXyujO7tpkNhcoW7bzf1E8u-zeQN0lfov7kgZMJTd'; var colabConfig = '\x5b\x5b\x22charithreddyputta@gmail.com\x22,\x5b1,\x22AHXL0D1Cu1IUirFAyXBKRlIfdoXnuvbcfscThSP0Ls8cZAwJlfvqMrrbPXTptUIBM1ps9if3njJvnKiRCC\/hIHLeftOGa\/lPYwni48adgs3Ulfo7UorKS9wM13Nqn9JaK6J4kC6vMpVv0XDoAtFat1hO0HKyI2NMCkxCsCibLhkp91dQuBCR0ZKyp0nU+CKZYVfbTQbnAOTQlq4qAUWKYUQSzssgftHjFRwaXwmJ\/C9h1UKcEIOe71r\/ZA\/2qE0sg7flIBQXfAd1ISThZfXvyZd99BaOsMgaBsx649LWq+WVQWB4127lEmpOCcckjWoUg1gG739AJsbHGvL6DxdNKEDQzap7ZRVyaSPZ+heADw\/xOzC24nFVvlK+bp2G9qqz+snng25yqqLAZI0lLqcpELgyAf3ClhDtrIOV8waiN0jBV7D+w2ee5gOMJ3vRcJzN68iUvmT76qKQPb6QOD0tvkL2SWn0d7vODAJjQ504G1Pe7Q3UWYf7GxZ8gZXpP+SSKmUa1fTa2QTRDrPSpYQ0Mpci1ra9Q4skT8ibWD3JzYugv0Wycjm+RPjp7A+8lMFG\/mluK6yK+QYqGot5N3LGgXcGRpBq4YwnlbeQatynVOov0Qp0Zv6k0X0KUu\/5qSNaUE0e0DOBlzKhpCp5l7RYFIgtdZZxRQNv\/wLa9sC1wDmP6+HsI3qDDiotUjhVmSLPXdLGEsNH2pVBURYDwRgvy4MzdkayWB9XCt\/MHJoP0m5Q9C7oeWAbjMg6kICk3LExKIomBI8G+93Lgzn9ZYaVt0phfPKltwdR3b2lYNzPVIPnMloTSAKgsRZC6Dax1ltKvecEFpNJt6JT143e+sAUQSSZ904pDW3VhWWRETeFI2WgWyp+6sUdimBeJWHsNRjYxyOewVhCMFov9bwzeKi14tLpx\/B7vEerQbPDnzmxvTWBkQXr7efRPRNSaVg8WoLNppwVKbSna77tmZIBR1zvwASxFe0NA8wJqnZgmaIEXoBxqTtiubIniQQ3C4ioAE5nB8JKt3Ddae4t6SlTX5AUncGejg7Z6j2QPBBKZQOQEyc+8TqiZl375UmYtEu9mGJRQfpGbCuqDeFnPBigDRZQege3JeA\/7gfte29suGoFVd3kW+WZKsnHfHOUCMPkOJbBKFBUsJx+sDxUTCXd5cdfEWxEivWqNB3vGyIWdQzmEULx0rGlxu3GNfI1gROGAWuwNYilIRsHQ8LMtv8PhcC+swXMpVPHm2VTvQXmvGbNrQ+j2e2lTQdY3xDUTpQ6E8Z4hjIG8UB4\/FtAf\/sCII\/YSzMPqCH07tW3FUV1HT7foO+mG2TV5pYGnX6COli9vmhlV\/4boe2Rm7rma8eng2VcVhfIu78m2dIrjLzpNagwJO99juEAnAtlXLtPEkjQiLclmkgm9mJJe7hc+bxGZ1wfsBG7\/DX4X8DiwOeGtUJEry6\/PgT4uvY3egsNBy\/42ocJJiw61fX3bbQ2ON8ONshQuni9MSPjI9f0apTTVMx6FMIkOUznQKJEAGT1hgTokhb79X7fkAB+PrIwWbVCLKyBWPPjhPhFFDsfyxLfOenYHi4kO28YTpGnu9ikbmEFjNdsC6QMJ3bEpqHg7B2X12wkqTx9fEA7Xw7r4C32M6A3PZTAoe3jWHJbR9yFwRmgR70f\/Np0dVQZH+Eyv\/vGH4gPkXDTKSF\/3Xkk8\/GDiez7bRSv3bJJpmQm0WYo8ROT1scig58\/qQgtAiNK0jOh\/O\/Me9fwOl0qiRgg7bqzoaG7jyU77kVnM5z9E8kyEhfXpFb7EkedE2xenkoFmWiuVOCE5sj0z1sufiVmCWcHBgkYyMEZxJfN8ZJZhfACpShE7wr4m5FelnBVbzkpOHw\/cq4CcTUf6UARmHIhBosC+Q9\/i7ozgkU71XFHB4w\x3d\x22,\x22AJ9oCCzjTnZcBqs\/3rHPYghz2DhgBZzZZUl8MWnvitnCx1ESwGu9yrd4BIihkiufu0mrsO+epww2kdR5u0k4hBLVobL7nFaHua+IJLosEr2k\/Lu+DtKy0An+HbROgaiXwliQzgkNbJr2\x22,\x22https:\/\/payments.google.com\/payments\x22,0,0,null,null,null,\x22$9.99\x22,\x22$49.99\x22,\x22$9.99\x22,\x22$49.99\x22\x5d,\x5b1,4,5\x5d,\x22US\x22,0\x5d\x5d';</script><link id="favicon-link" rel="shortcut icon" href="https://ssl.gstatic.com/colaboratory-static/common/0e3a4dc4868dbc2ffef119fec830093e/img%2Ffavicon.ico"><meta name="google-site-verification" content="wRgpUU3mIRZPD1GORBPNonaotM72092B_DsqQFWNa4s"><meta name="google-site-verification" content="f5qdvL6RAXlBgHezvCLpPtvx2wU5ZgIzzPULroprlnA"><meta name="google-site-verification" content="-wL8iYJTC7X0zF9qBNDQUAd-P1ZkQUK-OhSgv4Wkf1M"><meta name="google-site-verification" content="o-EECwEDQeUpZv0jTmoGfCDX7dUI8Kul4ESepXmDnO0"><meta name="google-site-verification" content="sNOroO9gXrazN-oMODOm0Bs0_vw1R5QwZ-BfrSHn8Io"><meta name="google-site-verification" content="K1UdZBHJXQYnJGXIK1KuutmVy6dn3vG2sEyV9D1C6dM"><meta name="google-site-verification" content="wdGthzzfu0IjM3qpFqTuQL9poAQZAvAaFKyuzetLpIM"><meta name="google-site-verification" content="qZJ77guHGO0TObHUBRYVdXQlIhXBBuz8dahJVmIlzCo"><meta name="google-site-verification" content="7ahoeOOKT2ZR781GZ5xK4L9t7yO1ZOHc-gaoUALEYgw"><meta name="google-site-verification" content="PHgaSKwdxZELS21aixtLhfpvaHtKen9pnVJ25EI35Zs"><meta name="google-site-verification" content="qylwTsZSLomIg1JrChne7cPcXmtC2Xh_5ZxlJWLlAH0"><meta name="google-site-verification" content="BQfukMqFy1nu2Q2gjGbNTDA8MJ_Y4L2brCYA1h6ewkY"><meta name="google-site-verification" content="Ozey1ptWUQW13_lCEhpPMOcmRBLqdyB3WEL-TJUjskU"><meta name="google-site-verification" content="rF5iXzWe9KZXJes1dQNhOUkS4_z_e97IrsVoCx2trek"><meta name="google-site-verification" content="z-WR3zzv8XZ5FFfBLLDbyTiN35UXm01nWUS2Uej5pwg"><meta name="google-site-verification" content="vsXaeD7OD0m3iK8Z54fG8TYGC5eT17KeL_xMHtdiyWI"><meta name="google-site-verification" content="cpB5oulaGwqSxsg4E-9q2MVbK87iE9NAUUVxdveucPw"><meta name="google-site-verification" content="8P-D5fVWgUIhw8X2BxnKJbf5itK0zxX0QhoBjbJFTe8"><meta name="google-site-verification" content="88fgsZDoVRBuRnDPMIEjcHCxsEXzODOqEsJoqtvQsDc"><meta name="google-site-verification" content="sMarhZgb4va_L_7UTdMR43gDZ2gVqc_5GHN4REpQPGY"><meta name="google-site-verification" content="26aKGBCw3XblB5Ou01UhxY5WDtMqHjoTm6P-lvF6AqE"><meta name="google-site-verification" content="DGionF7db9g0dOgeBXwOAN2tmCzWBdo5yOdc_-5UcuE"><meta name="google-site-verification" content="Q9LlidR0toR7UtSyVO23xNeaqJmRp8I6r4ghBQTtntU"><meta name="google-site-verification" content="rQawcZaTEK_UrDG30cz_7nVKOVvBass61QEes0Tm04g"><meta name="google-site-verification" content="8L3ghjzKIj241AYAmEygniTe604tsXFkIrb1v-DBtGo"><meta name="google-site-verification" content="Gz6pcDgVFH_aS-aPTYW21rSHcWl0LAgKCWJtdXPVTNo"><meta name="google-site-verification" content="KiunYPvrY5x8umvAWcjhwPrB677xCar2LeT_8yaVrDg"><meta name="google-site-verification" content="b6bOMRzMVX2bJABYDGBPtpGcB_AUZ-o2SOTggQXErkg"><meta name="google-site-verification" content="v2MQvJk6wTiBarKTbe1mdivqYCVtw-5m6w0HDzV5X_4"><meta name="google-site-verification" content="-N1hdkiHJQ6kwJALkHVh2ZzV2fFNER0schZl2AU6zvc"><meta name="google-site-verification" content="dsf7CRwnDkQv6Ot4gXTXx8_nVf8A9cb5o30hZ7cGAIo"><meta property="og:type" content="article"><meta property="og:image" content="https://colab.research.google.com/img/colab_favicon_256px.png"><meta property="og:title" content="Google Colab"><meta http-equiv="origin-trial" content="Agk/t4Bt05W7j6CHeqXH9+6ccDayrBsQPqCLDPSElphe/7cUobayuvN0A3huajTbJenIjp6qibLteh6e0IEWrgIAAAB4eyJvcmlnaW4iOiJodHRwczovL2NvbGFiLnJlc2VhcmNoLmdvb2dsZS5jb206NDQzIiwiZmVhdHVyZSI6IkRpc2FibGVUaGlyZFBhcnR5U3RvcmFnZVBhcnRpdGlvbmluZzIiLCJleHBpcnkiOjE3NDIzNDIzOTl9"><script nonce="">window.performance.mark('head_end'); window.performance.measure('head', 'head_start', 'head_end');</script><style type="text/css">.ad-zone:not(.textads), .ad-space:not(.textads), .ad-unit:not(.textads), .adace-popup-detector, .mainholder + div[id][class*=" "] > div[id][class*=" "], #chp_ads_blocker-modal, #chp_ads_blocker-overlay, .demo-wrapper[style="display:none;"] + div.fadeInDown[id], body > div.demo-wrapper[style="display:none;"] + div[id][class], div.fadeInDown[id$="____equal"][class$="____equal"], #chp_branding, a[id][href="https://toolkitspro.com"][rel="noopener noreferrer"], a[id][href="https://chpadblock.com/"][rel="noopener noreferrer"], .jetblocker-wrapper, .jetblocker_overlay, .wgAdBlockMessage, .stickyads:not([style^="width: 32px"], [style^="width: 33px"], [style*="left: -43px"], [style*="-3"][style*="important"][style*="display: block;"], [style*="position: fixed"][style*="-188"], [style*="!important;"][style*="width:"][style*="height:"][style*="position"][style*="left:"][style*="top:"][style*="display"], [data-freestar-ad="123"]):not(:empty), .ads_banner:not([style^="width: 32px"], [style^="width: 33px"], [style*="left: -43px"], [style*="-3"][style*="important"][style*="display: block;"], [style*="position: fixed"][style*="-188"], [style*="!important;"][style*="width:"][style*="height:"][style*="position"][style*="left:"][style*="top:"][style*="display"]):not(:empty), embed[width="100%"][height="100"], embed[width="120"][height="240"], embed[width="160"][height="600"], embed[width="240"][height="400"], embed[width="468"][height="60"], embed[width="600"][height="160"], embed[width="728"][height="90"], iframe[width="100%"][height="90"], iframe[width="100%"][height="120"]:not([src*="bandcamp.com"]), iframe[width="104"][height="464"], iframe[width="200"][height="240"], iframe[width="200"][height="300"], iframe[width="210"][height="237"], iframe[width="240"][height="350"], iframe[width="240"][height="400"], iframe[width="468"][height="60"], iframe[width="600"][height="90"], iframe[width="728"][height="90"], iframe[width="780"][height="120"], iframe[width="980"][height="90"], img[width="240"][height="400"], img[width="240px"][height="400px"], img[width="460"][height="60"], img[width="468"][height="60"], img[width="600"][height="90"], img[width="720"][height="90"], img[width="728"][height="90"], .ainsyndication, .entry_ad, #ad-top-right-container, .headad, .adun { display: none !important; }
.zergnet-widget, .ad--wrapper, .ad--topmobile, .story__top__ad, .amazon-auto-links, #ad1-placeholder, .c-adSkyBox, #splashy-ad-container-top, #middle_ad, .GRVVideo, .div_pop, #ad_middle, .ads-cont, .adsense_block, .banner-player, .view-ads, #wp_adbn_root, .AdPlaceholder, .button-ad, div[id^="ads300_250-widget-"], .adWrapper, .center-ad, #div-leader-ad, .ads_place_top, #ad-large-header, #ad_large, .wc-adblock-wrap, .ads-wrapper-top, .top-site-ad, .js_midbanner_ad_slot, .ad-slot-wrapper, .adverts_header_advert, .adverts_side_advert, .adverts_footer_advert, .adverts_footer_scrolling_advert, .bordered-ad, .zox-post-ad-wrap, .post__article-top-ad-wrapper, .zox-post-bot-ad, .ads-two, AD-SLOT, .ad-horizontal-top, .dfpAdspot, .amp-adv-wrapper, .storyAd, .fixadheightbottom, .adHolder, .connatix-wysiwyg-container, .parade-ad-container, .pb-slot-container { display: none !important; }
.mrec-scrollable-cont, .ad-dog__cnx-container, .adwrap-mrec, .ATF_wrapper, .c-ad--header, .mobile-ad-negative-space, .mrf-adv__wrapper, #advert-banner-container, .legion_primiswrapper, .inarticlead, .videos-ad, .google-ad-manager, .js_movable_ad_slot, #fixed-ad, .movv-ad, .van_vid_carousel, .van_taboola, #mobile-swipe-banner, .header-advert-wrapper, .ads_inline_640, .AdCenter, .adCenter, .adCenterAd, .adCentertile, .adcenter, .rectangle_ad, .top-ads-amp, .aniview-inline-player, #advertisementTop, .adv_top, .vertbars, .view-video-advertisements, .footer-advertisements, .instream_ad, section[data-e2e="advertisement"], .belowMastheadWrapper, .first_post_ad, iframe[src^="//ad.a-ads.com/"], .ad_sidebar_bigbox, amp-fx-flying-carpet, .leaderboard-ad-component, .top-ads-mobile, .boxAd, .amp-ad, .ad-bottom-container, .amazon_ad, .headerads, .story-ad, .lates-adlabel, .Ad-adhesive { display: none !important; }
.ggads, .top250Ad, .dfp_ATF_wrapper, .home-ad-region-1, .sidebar-big-box-ad, .commercial-unit-mobile-top, .commercial-unit-mobile-bottom, #atvcap + #tvcap > .mnr-c > .commercial-unit-mobile-top, #taw > .med + div > #tvcap > .mnr-c:not(.qs-ic) > .commercial-unit-mobile-top, #topstuff > #tads, .commercial-unit-mobile-top .jackpot-main-content-container > .UpgKEd + .nZZLFc > .vci, .commercial-unit-mobile-top .jackpot-main-content-container > .UpgKEd + .nZZLFc > div > .vci, .commercial-unit-mobile-top > .v7hl4d, .commercial-unit-mobile-top > div[data-pla="1"], #ad-after, #ad-p3, .topAd, .article-advert-container, .player-wrap > .spot-box, .gallery-bns-bl, .articleads, .b-advertising__down-menu, .ad-cls, .tncls_ad, .tncls_ad_250, .tncls_ad_300, .stky-ad-footer, .bodyads, .Ad__Wrapper, .ad-disclaimer-container, iframe[src^="//tempest.services.disqus.com/ads-iframe/"], #content_ad_container, #interads, .ad-container--leaderboard, #videopageadblock, #floatingAdContainer, .ad_w300i, ins.adsbygoogle[data-ad-slot], .ad-300, .mobile-instream-ad-holder-single, #ad_wp_base, #adxtop, #ad_728h, #ad_336_singlebt, .tjads, topadblock, #ad-fullbanner2-billboard-outer, .loop_google_ad, .amp_ad_wrapper, div[id*="ScriptRootN"] { display: none !important; }
.ad-engage, #gads_middle, .add_300x250, .ContentAd, iframe[style="position: absolute; top: -1000px; left: -1000px; visibility: hidden; border: medium none; background-color: transparent;"], .player-holder > div.vcover2, .wrapper-player div.before-player, body ~ div[style^="z-index: 2147483647 !important; position: fixed !important; width:"], body ~ iframe[id][style^="width: 100% !important; height:"][style*="inset:"], body > div[style="position: fixed; display: block; width: 100%; height: 100%; inset: 0px; background-color: rgba(0, 0, 0, 0); z-index: 300000;"], body > div[style^="position: fixed; inset: 0px; z-index: 2147483647; background: black; opacity: 0.01;"], body > div[style^="position:fixed;inset:0px;z-index:2147483647;background:black;opacity:0.01"][style*=";cursor:pointer"]:empty, html[data-lt-installed="true"] > body[style=""] img[style="width: 100%;max-width: 728px;"], .full-ave-pl, .wps-player__happy-inside, .ad970, a[href^="https://copytoon"][href*="/bannerhit.php?bn_id="], .div-gpt-ad:not([style^="width: 1px; height: 1px;"]), [class^="div-gpt-ad"]:not([style^="width: 1px; height: 1px;"], .div-gpt-ad_adblock_test), button[data-openuri="|BTN_URL|"], aside[data-aqa="widget-breaking-banner"], .arcad_feature, div[data-clickadilla-banner], .player-section__ad-b, .video.ad-w, .advMasthead, iframe[src^="https://mmmdn.net/"], body .top-advert, iframe[src^="https://tsyndicate.com/"], .roxot-dynamic, body > div#fixedban, #close-fixedban, #soldakayan, #sagdakayan, .top-header-ads-mobile, .happy-footer, .gmr-bannerpopup, .idmuvi-topbanner, .idmuvi-topbanner-aftermenu, iframe[src^="https://vidsservices.space/"], iframe[src^="https://av.ageverify.co/"], .remove-spots, .breakout-ad, .ae-player__itv, a[href^="mailto:support@netu.tv"], a[onclick*="openAuc();"], a[href^="https://l.tapdb.net/"], a[href^="https://ad.22betpartners.com/redirect.aspx?"], .happy-player-beside, .happy-inside-player { display: none !important; }
.gads, .full-bns-block, .video-brs, a[href^="http://click.dtiserv2.com/"], div[data-e2e="advertisement"], a[href^="https://join3.bannedsextapes.com/track/"], .puFloatLine > #puFloatDiv, .td-a-rec, a[href*=".ufinkln.com/"], body > #overover[style="position:fixed;width:100%;height:100%;background:silver;z-index: 2;opacity: 0.1;"], body > #overover[style="position:fixed;width:100%;height:100%;background:silver;z-index: 2;opacity: 0.1;"] ~ #obrazek, body > #overover[style="position: fixed; width: 100%; height: 100%; background: silver; z-index: 2; opacity: 0.1; display: block;"] ~ #obrazek, a[href^="https://redirect.ero-advertising.com"] > img, .stripper > a[href*="istripper"] > img, a[href*="/fdh/wth.php?"], .BetterJsPopOverlay, .videojs-hero-overlay, div[id^="M"][id*="Composite"], .wpcnt > .wpa, #BannerBox, #ad-topper, #ad_300X250, #ad_google, #advertRightTopPosition, #banner-top-right, #bannerfloat22, #bb_banner, #blox-top-promo, #bp_banner, #campaign-banner, #extensible-banner, #fb_300x250, #footer-banner, #scorecard-ad, #topBanners, #total_banner, .SC_TBlock, .ad_register_prompt, .ad_showthread_firstpost_start_placeholder, .adheader403, .b-header-banner, .baners_block, .banner_header, .banners-middle, .banners_block, .innerBanner, .main_promo_image_container, .menu-ads, .reclamTable, .sidebar-ads-container { display: none !important; }
.special-ads, .sponsor-div, .sponsored-home-page-inner, .sponsored-items, .top-adv-app, .top-banners, .top-r-ads, .topbannerad, .widget-sidebar-right-banner, a[href*="//sub2.bubblesmedia.ru/"], a[href^="http://softexcellence.com/"], img[title^="advertisement"], body > div#dontfoid, html > div[class][style^="pointer-events: none; position: absolute; top: 0px; left: 0px; width:"], html > div[style="position: fixed; inset: 0px; z-index: 2147483647; pointer-events: auto;"], .primis-ad, .in-content-ad-wrapper, .oko-adhesion, .trend-card-advert, .trend-card-advert__title, .page-content__advert, #AC_ad, #AD_160, #AD_300, #AD_468x60, #AD_G, #AD_L, #AD_ROW, #AD_Top, #AD_text, #ADbox, #Ad-3-Slider, #Ad-4-Slider, #Ad-Container, #Ad-Content, #Ad-Top, #AdBanner, #AdBar, #AdBigBox, #AdBillboard, #AdBlock, #AdBottomLeader, #AdBottomRight, #AdBox2, #AdColumn, #AdContainerTop, #AdContent, #AdDisclaimer, #AdHeader, #AdMiddle { display: none !important; }
#AdPopUp, #AdRectangleBanner, #AdSense1, #AdSense2, #AdSense3, #AdServer, #AdSkyscraper, #AdSlot_megabanner, #AdSpaceLeaderboard, #AdTop, #AdTopLeader, #AdWidgetContainer, #AdWrapperSuperCA, #AdZone1, #AdZone2, #Ad_BelowContent, #Ad_Block, #Ad_TopLeaderboard, #Adbanner, #Adlabel, #AdsBannerTop, #AdsBillboard, #AdsBottomContainer, #AdsContent, #AdsDiv, #AdsFrame, #AdsPubperform, #AdsRight, #AdsSky, #AdsTopContainer, #AdsWrap, #Ads_BA_BS, #Ads_BA_BUT, #Ads_BA_BUT2, #Ads_BA_BUT_box, #Ads_BA_CAD, #Ads_BA_CAD2, #Ads_BA_FLB, #Ads_BA_SKY, #Ads_BA_VID, #Ads_TFM_BS, #Ads_google_bottom_wide, #Adsense300x250, #AdsenseBottom, #AdsenseTop, #Adsterra, #Adv10, #Adv11, #Adv8, #Adv9 { display: none !important; }
#AdvContainer, #AdvFooter, #AdvHeader, #Adv_Footer, #AdvertMid1, #AdvertMid2, #AdvertPanel, #AdvertText, #AdvertiseFrame, #Advertisement1, #Advertisement2, #AdvertisementDiv, #AdvertisementLeaderboard, #Advertisements, #AdvertisingDiv_0, #Advertorial, #Advertorials, #AnchorAd, #ArticleContentAd, #Banner728x90, #BannerAd, #BannerAds, #BannerAdvert, #BannerAdvertisement, #BigBoxAd, #BigboxAdUnit, #BodyAd, #BodyTopAds, #Body_Ad8_divAdd, #BotAd, #BottomAdContainer, #BottomRightAdWrapper, #ButtonAd, #ContentAd, #Content_CA_AD_0_BC, #Content_CA_AD_1_BC, #DFP_top_leaderboard, #FooterAd, #FooterAdBlock, #FooterAdContainer, #GoogleAd, #GoogleAd1, #GoogleAd2, #GoogleAd3, #GoogleAdRight, #GoogleAdTop, #GoogleAdsense, #HP1-ad, #HP2-ad, #HeadAd { display: none !important; }
#HeaderAD, #HeaderAd, #HeaderAdBlock, #HeaderAdsBlock, #HeroAd, #HomeAd1, #IFrameAd, #IFrameAd1, #IK-ad-area, #IK-ad-block, #IM_AD, #LayoutBottomAdBox, #LayoutHomeAdBoxBottom, #LeftAd, #LeftAd1, #MPUAdSpace, #MPUadvertising, #MainAd, #NR-Ads, #PromotionAdBox, #RightAd, #RightAdBlock, #RightAdSpace, #RightAdvertisement, #SidebarAd, #SidebarAdContainer, #SitenavAdslot, #SkyAd, #SkyscraperAD, #SponsoredAd, #SponsoredAds, #SponsoredLinks, #SponsorsAds, #StickyBannerAd, #Top-ad, #TopADs, #TopAd, #TopAd0, #TopAdBox, #TopAdContainer, #TopAdPlacement, #TopAdPos, #TopAdTable, #TopAdvert, #TopBannerAd, #TopRightRadvertisement, #VPNAdvert, #WelcomeAd, #aad-header-1, #aad-header-2 { display: none !important; }
#aad-header-3, #ab_adblock, #above-comments-ad, #above-fold-ad, #above-footer-ads, #aboveAd, #aboveNodeAds, #above_button_ad, #aboveplayerad, #abovepostads, #acm-ad-tag-lawrence_dfp_mobile_arkadium, #ad--article--home-mobile-paramount-wrapper, #ad--article-bottom-wrapper, #ad--article-top, #ad--sidebar, #ad-0, #ad-1, #ad-125x125, #ad-160, #ad-160x600, #ad-2, #ad-2-160x600, #ad-250, #ad-250x300, #ad-3, #ad-3-300x250, #ad-300, #ad-300-250, #ad-300-additional, #ad-300-detail, #ad-300-sidebar, #ad-300X250-2, #ad-300a, #ad-300b, #ad-300x250, #ad-300x250-0, #ad-300x250-2, #ad-300x250-b, #ad-300x250-sidebar, #ad-300x250-wrapper, #ad-300x250_mid, #ad-300x250_mobile, #ad-300x250_top, #ad-300x600_top, #ad-4, #ad-5, #ad-6, #ad-7, #ad-728, #ad-728-90 { display: none !important; }
#ad-728x90, #ad-8, #ad-9, #ad-Content_1, #ad-Content_2, #ad-Rectangle_1, #ad-Rectangle_2, #ad-Superbanner, #ad-a, #ad-ads, #ad-advertorial, #ad-affiliate, #ad-after, #ad-anchor, #ad-around-the-web, #ad-article, #ad-article-in, #ad-aside-1, #ad-background, #ad-ban, #ad-banner-1, #ad-banner-atf, #ad-banner-bottom, #ad-banner-btf, #ad-banner-desktop, #ad-banner-image, #ad-banner-placement, #ad-banner-top, #ad-banner-wrap, #ad-banner_atf-label, #ad-bar, #ad-base, #ad-bb-content, #ad-below-content, #ad-bg, #ad-big, #ad-bigbox, #ad-bigsize, #ad-billboard, #ad-billboard-atf, #ad-billboard-bottom, #ad-billboard01, #ad-blade, #ad-block, #ad-block-125, #ad-block-2, #ad-block-aa, #ad-block-bottom, #ad-block-container, #ad-border { display: none !important; }
#ad-bottom, #ad-bottom-banner, #ad-bottom-fixed, #ad-bottom-right-container, #ad-bottom-wrapper, #ad-box, #ad-box-1, #ad-box-2, #ad-box-bottom, #ad-box-halfpage, #ad-box-leaderboard, #ad-box-left, #ad-box-rectangle, #ad-box-rectangle-2, #ad-box-right, #ad-box1, #ad-box2, #ad-boxes, #ad-break, #ad-bs, #ad-btm, #ad-buttons, #ad-campaign, #ad-carousel, #ad-case, #ad-center, #ad-chips, #ad-circfooter, #ad-code, #ad-col, #ad-container-banner, #ad-container-fullpage, #ad-container-inner, #ad-container-leaderboard, #ad-container-mpu, #ad-container-outer, #ad-container-overlay, #ad-container-top-placeholder, #ad-container1, #ad-contentad, #ad-desktop-bottom, #ad-desktop-takeover-home, #ad-desktop-takeover-int, #ad-desktop-top, #ad-desktop-wrap, #ad-discover, #ad-display-ad, #ad-display-ad-placeholder, #ad-div-leaderboard, #ad-drawer { display: none !important; }
#ad-ear, #ad-extra-flat, #ad-featured-right, #ad-fixed-bottom, #ad-flex-top, #ad-flyout, #ad-footer-728x90, #ad-framework-top, #ad-front-btf, #ad-front-footer, #ad-full-width, #ad-fullbanner-btf, #ad-fullbanner-outer, #ad-fullbanner2, #ad-fullwidth, #ad-googleAdSense, #ad-gutter-left, #ad-gutter-right, #ad-halfpage, #ad-halfpage1, #ad-halfpage2, #ad-head, #ad-header-1, #ad-header-2, #ad-header-3, #ad-header-left, #ad-header-mad, #ad-header-mobile, #ad-header-right, #ad-holder, #ad-horizontal, #ad-horizontal-header, #ad-horizontal-top, #ad-incontent, #ad-index, #ad-inline-block, #ad-label2, #ad-large-banner-top, #ad-large-header, #ad-lb-secondary, #ad-lead, #ad-leadboard1, #ad-leadboard2, #ad-leader, #ad-leader-atf, #ad-leader-container, #ad-leader-wrapper, #ad-leaderboard, #ad-leaderboard-atf, #ad-leaderboard-bottom { display: none !important; }
#ad-leaderboard-container, #ad-leaderboard-footer, #ad-leaderboard-header, #ad-leaderboard-spot, #ad-leaderboard-top, #ad-leaderboard970x90home, #ad-leaderboard970x90int, #ad-leaderboard_bottom, #ad-leadertop, #ad-lrec, #ad-m-rec-content, #ad-main, #ad-main-bottom, #ad-main-top, #ad-manager, #ad-masthead, #ad-medium, #ad-medium-lower, #ad-medium-rectangle, #ad-medrec, #ad-medrec__first, #ad-mid, #ad-mid-rect, #ad-middle, #ad-midpage, #ad-minibar, #ad-module, #ad-mpu, #ad-mrec, #ad-mrec2, #ad-new, #ad-north, #ad-one, #ad-other, #ad-output, #ad-overlay, #ad-p3, #ad-page-1, #ad-pan3l, #ad-panel, #ad-pencil, #ad-performance, #ad-performanceFullbanner1, #ad-performanceRectangle1, #ad-placeholder, #ad-placeholder-horizontal, #ad-placeholder-vertical, #ad-placement, #ad-plate, #ad-player { display: none !important; }
#ad-popup, #ad-popup-home, #ad-popup-int, #ad-post, #ad-promo, #ad-push, #ad-pushdown, #ad-r, #ad-rec-atf, #ad-rec-btf, #ad-rec-btf-top, #ad-rect, #ad-rectangle, #ad-rectangle1, #ad-rectangle1-outer, #ad-rectangle2, #ad-rectangle3, #ad-results, #ad-right, #ad-right-bar-tall, #ad-right-container, #ad-right-sidebar, #ad-right-top, #ad-right2, #ad-right3, #ad-rotator, #ad-row, #ad-section, #ad-separator, #ad-shop, #ad-side, #ad-side-text, #ad-sidebar, #ad-sidebar-btf, #ad-sidebar-container, #ad-sidebar-mad, #ad-sidebar-mad-wrapper, #ad-sidebar1, #ad-sidebar2, #ad-site-header, #ad-skin, #ad-skm-below-content, #ad-sky, #ad-skyscraper, #ad-slideshow, #ad-slideshow2, #ad-slot, #ad-slot-1, #ad-slot-2, #ad-slot-3 { display: none !important; }
#ad-slot-4, #ad-slot-5, #ad-slot-502, #ad-slot-lb, #ad-slot-right, #ad-slot-top, #ad-slot1, #ad-slot2, #ad-slot4, #ad-slug-wrapper, #ad-small-banner, #ad-space, #ad-space-big, #ad-splash, #ad-sponsors, #ad-spot, #ad-spot-bottom, #ad-spot-one, #ad-standard, #ad-standard-wrap, #ad-stickers, #ad-sticky-footer-container, #ad-story-right, #ad-story-top, #ad-stripe, #ad-target, #ad-teaser, #ad-text, #ad-three, #ad-top, #ad-top-250, #ad-top-300x250, #ad-top-728, #ad-top-banner, #ad-top-leaderboard, #ad-top-left, #ad-top-lock, #ad-top-low, #ad-top-right, #ad-top-right-container, #ad-top-text-low, #ad-top-wrap, #ad-top-wrapper, #ad-tower, #ad-two, #ad-undefined, #ad-unit-right-bottom-160-600, #ad-unit-right-middle-300-250, #ad-unit-top-banner, #ad-vip-article { display: none !important; }
#ad-west, #ad-wide-leaderboard, #ad-wrap, #ad-wrap2, #ad-wrapper, #ad-wrapper-728x90, #ad-wrapper-footer-1, #ad-wrapper-main-1, #ad-wrapper-sidebar-1, #ad-wrapper-top-1, #ad1-placeholder, #ad125x125, #ad160, #ad160600, #ad160x600, #ad250, #ad300, #ad300-250, #ad300_250, #ad336, #ad336x280, #ad468, #ad468x60, #ad480x60, #ad6, #ad600, #ad728, #ad72890, #ad728Box, #ad728Header, #ad728Mid, #ad728Top, #ad728Wrapper, #ad728X90, #ad728foot, #ad728h, #ad728top, #ad728x90, #ad728x90_1, #ad90, #ad900, #ad970, #ad970x90_exp, #adATF300x250, #adATF728x90, #adATFLeaderboard, #adAside, #adBTF300x250, #adBadges, #adBanner1 { display: none !important; }
#adBanner336x280, #adBannerBottom, #adBannerHeader, #adBannerSpacer, #adBannerTable, #adBannerTop, #adBar, #adBelt, #adBillboard, #adBlock01, #adBlockBanner, #adBlockContainer, #adBlockContent, #adBlockOverlay, #adBlocks, #adBottom, #adBox, #adBrandDev, #adBrandingStation, #adBreak, #adCarousel, #adChannel, #adChoiceFooter, #adChoices, #adChoicesIcon, #adChoicesLogo, #adCol, #adColumn, #adColumn3, #adComponentWrapper, #adContainer, #adContainer_1, #adContainer_2, #adContainer_3, #adContent, #adContentHolder, #adContext, #adDiv, #adDiv0, #adDiv1, #adDiv300, #adDiv4, #adDiv728, #adDivContainer, #adFiller, #adFlashDiv, #adFooter, #adFot, #adFrame, #adGallery { display: none !important; }
#adGoogleText, #adHeader, #adHeaderTop, #adHeaderWrapper, #adHeading, #adHeightstory, #adHolder, #adHolder1, #adHolder2, #adHolder3, #adHolder4, #adHolder5, #adHolder6, #adHome, #adHomeTop, #adIframe, #adInhouse, #adIsland, #adLB, #adLabel, #adLarge, #adLayer, #adLayerTop, #adLayout, #adLeader, #adLeaderTop, #adLeaderboard, #adLeaderboard-middle, #adLeft, #adLink, #adLink1, #adLounge, #adLrec, #adMOBILETOP, #adMPU, #adMPUHolder, #adMain, #adMarketplace, #adMed, #adMedRect, #adMediumRectangle, #adMeld, #adMessage, #adMid2, #adModal, #adMpu, #adMpuBottom, #adOuter, #adPartnerLinks, #adPlaceHolder1 { display: none !important; }
#adPlaceHolder2, #adPlacement_1, #adPlacement_2, #adPlacement_3, #adPlacement_4, #adPlacement_7, #adPlacement_8, #adPlacement_9, #adPlacer, #adPopover, #adPopup, #adPosition0, #adPosition14, #adPosition5, #adPosition6, #adPosition7, #adPosition9, #adPush, #adPushdown1, #adReady, #adRight, #adRight1, #adRight2, #adRight3, #adRight4, #adRight5, #adScraper, #adSection, #adSenseBox, #adSenseModule, #adSenseWrapper, #adSet, #adSide, #adSide1-container, #adSideButton, #adSidebar, #adSite, #adSkin, #adSkinBackdrop, #adSkinLeft, #adSkinRight, #adSky, #adSkyPosition, #adSkyscraper, #adSlider, #adSlot-dmpu, #adSlot-dontMissLarge, #adSlot-leader, #adSlot-leaderBottom, #adSlot1 { display: none !important; }
#adSlot2, #adSlot3, #adSlot4, #adSlug, #adSpace, #adSpaceBottom, #adSpaceHeight, #adSpacer, #adSpecial, #adSqb, #adSquare, #adStrip, #adSuperbanner, #adTag, #adText, #adTextLink, #adTile, #adTop, #adTopContent, #adTopLREC, #adTopLarge, #adTopModule, #adTower, #adUnderArticle, #adUnit, #adWideSkyscraper, #adWrap, #adWrapper, #adWrapperSky, #ad_1, #ad_160, #ad_160_600, #ad_160_600_2, #ad_160x160, #ad_160x600, #ad_2, #ad_250, #ad_250x250, #ad_3, #ad_300, #ad_300_250, #ad_300_250_1, #ad_300x250, #ad_336, #ad_4, #ad_468_60, #ad_468x60, #ad_5, #ad_728, #ad_728_90 { display: none !important; }
#ad_728x90, #ad_8, #ad_9, #ad_B1, #ad_Banner, #ad_Bottom, #ad_LargeRec01, #ad_Middle, #ad_Middle1, #ad_Pushdown, #ad_R1, #ad_Right, #ad_Top, #ad_Wrap, #ad__billboard, #ad_ad, #ad_adsense, #ad_after_header_1, #ad_anchor, #ad_area, #ad_article1_1, #ad_article1_2, #ad_article2_1, #ad_article2_2, #ad_article3_1, #ad_article3_2, #ad_banner, #ad_banner_1, #ad_banner_468x60, #ad_banner_728x90, #ad_banner_bot, #ad_banner_top, #ad_banners, #ad_bar, #ad_bar_rect, #ad_before_header, #ad_bg, #ad_bg_image, #ad_big, #ad_bigbox, #ad_bigbox_companion, #ad_bigrectangle, #ad_billboard, #ad_block, #ad_block_0, #ad_block_1, #ad_block_2, #ad_block_mpu, #ad_bnr_atf_01, #ad_bnr_atf_02 { display: none !important; }
#ad_bnr_atf_03, #ad_bnr_btf_07, #ad_bnr_btf_08, #ad_body, #ad_bottom, #ad_box, #ad_box_top, #ad_branding, #ad_bsb, #ad_bsb_cont, #ad_btmslot, #ad_button, #ad_buttons, #ad_cell, #ad_center, #ad_choices, #ad_close, #ad_closebtn, #ad_comments, #ad_cont, #ad_cont_superbanner, #ad_container, #ad_container_0, #ad_container_300x250, #ad_container_side, #ad_container_sidebar, #ad_container_top, #ad_content, #ad_content_1, #ad_content_2, #ad_content_3, #ad_content_fullsize, #ad_content_primary, #ad_content_right, #ad_content_top, #ad_content_wrap, #ad_contentslot_1, #ad_contentslot_2, #ad_creative_2, #ad_creative_3, #ad_creative_5, #ad_dfp_rec1, #ad_display_300_250, #ad_display_728_90, #ad_div, #ad_div_bottom, #ad_div_top, #ad_feedback, #ad_foot, #ad_footer { display: none !important; }
#ad_footer1, #ad_footerAd, #ad_frame, #ad_frame1, #ad_from_bottom, #ad_fullbanner, #ad_gallery, #ad_gallery_bot, #ad_global_300x250, #ad_global_above_footer, #ad_global_header, #ad_global_header1, #ad_global_header2, #ad_h3, #ad_halfpage, #ad_head, #ad_header, #ad_header_1, #ad_header_container, #ad_holder, #ad_home, #ad_home_middle, #ad_horizontal, #ad_houseslot_a, #ad_houseslot_b, #ad_hp, #ad_img, #ad_interthread, #ad_island, #ad_island2, #ad_label, #ad_large, #ad_large_rectangular, #ad_lateral, #ad_layer, #ad_ldb, #ad_lead1, #ad_leader, #ad_leaderBoard, #ad_leaderboard, #ad_leaderboard_top, #ad_left, #ad_left_1, #ad_left_2, #ad_left_3, #ad_left_skyscraper, #ad_left_top, #ad_leftslot, #ad_link, #ad_links { display: none !important; }
#ad_links_footer, #ad_lnk, #ad_lrec, #ad_lwr_square, #ad_main, #ad_main_leader, #ad_main_top, #ad_marginal, #ad_marker, #ad_mast, #ad_med_rect, #ad_medium, #ad_medium_rectangle, #ad_medium_rectangular, #ad_mediumrectangle, #ad_message, #ad_middle, #ad_middle_bottom, #ad_midstrip, #ad_mobile, #ad_module, #ad_mpu, #ad_mpu2, #ad_mpu300x250, #ad_mrec, #ad_mrec1, #ad_mrec2, #ad_mrec_intext, #ad_mrec_intext2, #ad_new, #ad_news_article, #ad_newsletter, #ad_one, #ad_overlay, #ad_overlayer, #ad_panel, #ad_panorama_top, #ad_pencil, #ad_place, #ad_placeholder, #ad_player, #ad_plugs, #ad_popup_background, #ad_popup_wrapper, #ad_post, #ad_poster, #ad_primary, #ad_publicidad, #ad_rail, #ad_rec_01 { display: none !important; }
#ad_rect, #ad_rect1, #ad_rect2, #ad_rect3, #ad_rect_body, #ad_rect_bottom, #ad_rect_btf_01, #ad_rect_btf_02, #ad_rect_btf_03, #ad_rect_btf_04, #ad_rect_btf_05, #ad_rectangle, #ad_region1, #ad_region2, #ad_region3, #ad_region5, #ad_results, #ad_right, #ad_right_box, #ad_right_top, #ad_rightslot, #ad_rotator-2, #ad_rotator-3, #ad_row, #ad_row_home, #ad_rr_1, #ad_sec, #ad_sec_div, #ad_secondary, #ad_short, #ad_sidebar, #ad_sidebar1, #ad_sidebar2, #ad_sidebar3, #ad_sidebar_1, #ad_sidebar_left_container, #ad_sidebar_news, #ad_sidebar_top, #ad_sidebody, #ad_site_header, #ad_sitebar, #ad_skin, #ad_slot, #ad_slot_bottom, #ad_slot_leaderboard, #ad_small, #ad_space_top, #ad_sponsored, #ad_spot_a, #ad_spot_b { display: none !important; }
#ad_spotlight, #ad_square, #ad_squares, #ad_ss, #ad_stck, #ad_sticky_wrap, #ad_strip, #ad_superbanner, #ad_table, #ad_takeover, #ad_tall, #ad_tbl, #ad_top, #ad_topBanner, #ad_topScroller, #ad_top_728x90, #ad_top_banner, #ad_top_bar, #ad_top_holder, #ad_topbanner, #ad_topmob, #ad_topnav, #ad_topslot, #ad_two, #ad_txt, #ad_under_game, #ad_unit, #ad_unit1, #ad_unit2, #ad_vertical, #ad_video_abovePlayer, #ad_video_belowPlayer, #ad_video_large, #ad_video_root, #ad_wallpaper, #ad_wide, #ad_wide_box, #ad_wideboard, #ad_widget, #ad_widget_1, #ad_window, #ad_wp, #ad_wp_base, #ad_wrap, #ad_wrapper, #ad_wrapper1, #ad_wrapper2, #ad_xrail_top, #ad_zone, #adaptvcompanion { display: none !important; }
#adb_bottom, #adbackground, #adbanner-container, #adbanner1, #adbannerbox, #adbannerdiv, #adbannerleft, #adbannerright, #adbannerwidget, #adbar, #adbig, #adblade, #adblade_ad, #adblock-big, #adblock-leaderboard, #adblock-small, #adblock1, #adblock2, #adblock4, #adblockbottom, #adbn, #adbnr, #adboard, #adbody, #adbottom, #adbottomleft, #adbottomright, #adbox, #adbox--hot_news_ad, #adbox--page_bottom_ad, #adbox--page_top_ad, #adbox-inarticle, #adbox-topbanner, #adbox1, #adbox2, #adbox_content, #adbox_right, #adbutton, #adbuttons, #adcell, #adcenter, #adcenter2, #adcenter4, #adchoices-icon, #adchoicesBtn, #adclear, #adclose, #adcode, #adcolContent, #adcolumn { display: none !important; }
#adcontainer, #adcontainer1, #adcontainer2, #adcontainer3, #adcontainer5, #adcontainerRight, #adcontainer_ad_content_top, #adcontent1, #adcontent2, #adcontextlinks, #addbottomleft, #addemam-wrapper, #addvert, #adfactor-label, #adfloat, #adfooter, #adfooter_728x90, #adframe:not(frameset), #adframetop, #adfreeDeskSpace, #adhalfpage, #adhead, #adheader, #adhesion, #adhesionAdSlot, #adhesionUnit, #adhide, #adholder, #adholderContainerHeader, #adhome, #adhomepage, #adjacency, #adlabel, #adlabelFooter, #adlabelfooter, #adlabelheader, #adlanding, #adlayer, #adlayerContainer, #adlayerad, #adleaderboard, #adleft, #adlinks, #adlrec, #adm-inline-article-ad-1, #adm-inline-article-ad-2, #admain, #admasthead, #admid, #admobilefoot { display: none !important; }
#admobilefootinside, #admobilemiddle, #admobiletop, #admobiletopinside, #admod2, #admpubottom, #admpubottom2, #admpufoot, #admpumiddle, #admpumiddle2, #admputop2, #admsg, #adnet, #adnorth, #ados1, #ados2, #ados3, #ados4, #adplace, #adplacement, #adpos-top, #adpos2, #adposition, #adposition1, #adposition10, #adposition1_container, #adposition2, #adposition3, #adposition4, #adpositionbottom, #adrect, #adright, #adright2, #adrightbottom, #adrightrail, #adriver_middle, #adriver_top, #adrotator, #adrow, #adrow1, #adrow3, #ads-1, #ads-125, #ads-200, #ads-250, #ads-300, #ads-300-250, #ads-336x280, #ads-468, #ads-5 { display: none !important; }
#ads-728x90, #ads-728x90-I3, #ads-728x90-I4, #ads-area, #ads-article-left, #ads-banner, #ads-banner-top, #ads-bar, #ads-before-content, #ads-bg, #ads-bg-mobile, #ads-billboard, #ads-block, #ads-blog, #ads-bot, #ads-bottom, #ads-col, #ads-container, #ads-container-2, #ads-container-anchor, #ads-container-single, #ads-container-top, #ads-content, #ads-content-double, #ads-footer, #ads-footer-inner, #ads-footer-wrap, #ads-google, #ads-header, #ads-header-728, #ads-home-468, #ads-horizontal, #ads-inread, #ads-inside-content, #ads-leader, #ads-leaderboard, #ads-leaderboard1, #ads-left, #ads-left-top, #ads-lrec, #ads-main, #ads-menu, #ads-middle, #ads-mpu, #ads-outer, #ads-pagetop, #ads-panel, #ads-pop, #ads-position-header-desktop, #ads-right { display: none !important; }
#ads-right-bottom, #ads-right-skyscraper, #ads-right-top, #ads-slot, #ads-space, #ads-superBanner, #ads-text, #ads-top, #ads-top-728, #ads-top-wrap, #ads-under-rotator, #ads-vertical, #ads-vertical-wrapper, #ads-wrap, #ads-wrapper, #ads1, #ads120, #ads125, #ads1_box, #ads2, #ads2_block, #ads2_box, #ads2_container, #ads3, #ads300, #ads300-250, #ads300x200, #ads300x250, #ads300x250_2, #ads336x280, #ads4, #ads468x60, #ads50, #ads7, #ads728, #ads728bottom, #ads728top, #ads728x90, #ads728x90_2, #ads728x90top, #adsBar, #adsBottom, #adsContainer, #adsContent, #adsDisplay, #adsHeader, #adsHeading, #adsLREC, #adsLeft, #adsLinkFooter { display: none !important; }
#adsMobileFixed, #adsMpu, #adsPanel, #adsRight, #adsRightDiv, #adsSectionLeft, #adsSectionRight, #adsSquare, #adsTG, #adsTN, #adsTop, #adsTopLeft, #adsTopMobileFixed, #adsZone, #adsZone1, #adsZone2, #ads[style^="position: absolute; z-index: 30; width: 100%; height"], #ads_0_container, #ads_160, #ads_3, #ads_300, #ads_300x250, #ads_4, #ads_728, #ads_728x90, #ads_728x90_top, #ads_banner, #ads_banner1, #ads_banner_header, #ads_belownav, #ads_big, #ads_block, #ads_body_1, #ads_body_2, #ads_body_3, #ads_body_4, #ads_body_5, #ads_body_6, #ads_bottom, #ads_box, #ads_box1, #ads_box2, #ads_box_bottom, #ads_box_right, #ads_box_top, #ads_button, #ads_campaign, #ads_catDiv, #ads_center, #ads_center_banner { display: none !important; }
#ads_central, #ads_combo2, #ads_container, #ads_content, #ads_desktop_r1, #ads_desktop_r2, #ads_expand, #ads_footer, #ads_fullsize, #ads_h, #ads_h1, #ads_h2, #ads_halfsize, #ads_header, #ads_horiz, #ads_horizontal, #ads_horz, #ads_in_modal, #ads_in_video, #ads_inline_z, #ads_inner, #ads_insert_container, #ads_layout_bottom, #ads_lb, #ads_lb_frame, #ads_leaderbottom, #ads_left, #ads_left_top, #ads_line, #ads_medrect, #ads_notice, #ads_overlay, #ads_page_top, #ads_place, #ads_placeholder, #ads_player, #ads_popup, #ads_right, #ads_right_sidebar, #ads_right_top, #ads_slide_div, #ads_space, #ads_space_header, #ads_superbanner1, #ads_superbanner2, #ads_superior, #ads_td, #ads_text, #ads_textlinks, #ads_title { display: none !important; }
#ads_top, #ads_top2, #ads_top_banner, #ads_top_container, #ads_top_content, #ads_top_right, #ads_top_sec, #ads_topbanner, #ads_tower1, #ads_tower_top, #ads_vert, #ads_video, #ads_wide, #ads_wrapper, #adsbot, #adsbottom, #adsbox, #adsbox-left, #adsbox-right, #adscenter, #adscolumn, #adscontainer, #adscontent, #adsdiv, #adsection, #adsense-2, #adsense-468x60, #adsense-area, #adsense-bottom, #adsense-container-bottom, #adsense-header, #adsense-link, #adsense-links, #adsense-middle, #adsense-post, #adsense-right, #adsense-sidebar, #adsense-tag, #adsense-text, #adsense-top, #adsense-wrap, #adsense1, #adsense2, #adsense468, #adsense6, #adsense728, #adsenseArea, #adsenseContainer, #adsenseHeader, #adsenseLeft { display: none !important; }
#adsenseWrap, #adsense_banner_top, #adsense_block, #adsense_bottom_ad, #adsense_box, #adsense_box2, #adsense_center, #adsense_image, #adsense_inline, #adsense_leaderboard, #adsense_overlay, #adsense_r_side_sticky_container, #adsense_sidebar, #adsense_top, #adsenseheader, #adsensehorizontal, #adsensempu, #adsenseskyscraper, #adsensetext, #adsensetop, #adsensewide, #adserv, #adsframe_2, #adside, #adsimage, #adsitem, #adskeeper, #adskinleft, #adskinlink, #adskinright, #adskintop, #adsky, #adskyscraper, #adskyscraper_flex, #adsleft1, #adslider, #adslist, #adslot-below-updated, #adslot-download-abovefiles, #adslot-half-page, #adslot-homepage-middle, #adslot-infobox, #adslot-left-skyscraper, #adslot-side-mrec, #adslot-site-footer, #adslot-site-header, #adslot-sticky-headerbar, #adslot-top-rectangle, #adslot1, #adslot2 { display: none !important; }
#adslot3, #adslot300x250ATF, #adslot300x250BTF, #adslot4, #adslot5, #adslot6, #adslot7, #adslot_1, #adslot_2, #adslot_left, #adslot_rect, #adslot_top, #adsmgid, #adsmiddle, #adsonar, #adspace, #adspace-1, #adspace-2, #adspace-300x250, #adspace-728, #adspace-728x90, #adspace-bottom, #adspace-leaderboard-top, #adspace-one, #adspace-top, #adspace300x250, #adspaceBox, #adspaceRow, #adspace_header, #adspace_leaderboard, #adspace_top, #adspacer, #adspan, #adsplace1, #adsplace2, #adsplace4, #adsplash, #adspot, #adspot-bottom, #adspot-top, #adsquare, #adsquare2, #adsright, #adsside, #adsspace, #adstext2, #adstrip, #adtab, #adtext, #adtop { display: none !important; }
#adtxt, #adunit, #adunit-article-bottom, #adunit_video, #adunitl, #adv-01, #adv-300, #adv-Bottom, #adv-BoxP, #adv-Middle, #adv-Middle1, #adv-Middle2, #adv-Scrollable, #adv-Top, #adv-TopLeft, #adv-banner, #adv-banner-r, #adv-box, #adv-companion-iframe, #adv-container, #adv-gpt-box-container1, #adv-gpt-masthead-skin-container1, #adv-halfpage, #adv-header, #adv-leaderblock, #adv-leaderboard, #adv-left, #adv-masthead, #adv-middle, #adv-middle1, #adv-midroll, #adv-native, #adv-preroll, #adv-right, #adv-right1, #adv-scrollable, #adv-sticky-1, #adv-sticky-2, #adv-text, #adv-title, #adv-top, #adv-top-skin, #adv300x250, #adv300x250container, #adv468x90, #adv728, #adv728x90, #adv768x90, #advBoxBottom, #advCarrousel { display: none !important; }
#advHome, #advHook-Middle1, #advRectangle, #advRectangle1, #advSkin, #advTop, #advWrapper, #adv_300, #adv_728, #adv_728x90, #adv_BoxBottom, #adv_Inread, #adv_IntropageOvl, #adv_LdbMastheadPush, #adv_Reload, #adv_Skin, #adv_bootom, #adv_border, #adv_center, #adv_config, #adv_contents, #adv_footer, #adv_holder, #adv_leaderboard, #adv_mob, #adv_mpu1, #adv_mpu2, #adv_network, #adv_overlay, #adv_overlay_content, #adv_r, #adv_right, #adv_skin, #adv_sky, #adv_textlink, #adv_top, #adv_wallpaper, #adv_wallpaper2, #advads_ad_widget-18, #advads_ad_widget-19, #advads_ad_widget-8, #adver, #adver-top, #adverFrame, #advert-1, #advert-120, #advert-2, #advert-ahead, #advert-article, #advert-article-1 { display: none !important; }
#advert-article-2, #advert-article-3, #advert-banner, #advert-banner-container, #advert-banner-wrap, #advert-banner2, #advert-block, #advert-boomer, #advert-box, #advert-column, #advert-container-top, #advert-display, #advert-fireplace, #advert-footer, #advert-footer-hidden, #advert-header, #advert-island, #advert-leaderboard, #advert-left, #advert-mpu, #advert-posterad, #advert-rectangle, #advert-right, #advert-sky, #advert-skyscaper, #advert-skyscraper, #advert-slider-top, #advert-text, #advert-top, #advert-top-banner, #advert-wrapper, #advert1, #advert2, #advertBanner, #advertBox, #advertBoxRight, #advertBoxSquare, #advertColumn, #advertContainer, #advertDB, #advertOverlay, #advertRight, #advertSection, #advertTop, #advertTopLarge, #advertTopSmall, #advertTower, #advertWrapper, #advert_1, #advert_banner { display: none !important; }
#advert_belowmenu, #advert_box, #advert_container, #advert_header, #advert_leaderboard, #advert_mid, #advert_mpu, #advert_right1, #advert_sky, #advert_top, #advertblock, #advertborder, #adverticum_r_above, #adverticum_r_above_container, #adverticum_r_side_container, #advertise, #advertise-block, #advertise-here, #advertise-sidebar, #advertise1, #advertise2, #advertiseBanner, #advertiseLink, #advertise_top, #advertisediv, #advertisement-300x250, #advertisement-bottom, #advertisement-content, #advertisement-large, #advertisement-placement, #advertisement-text, #advertisement1, #advertisement2, #advertisement3, #advertisement728x90, #advertisementArea, #advertisementBox, #advertisementHorizontal, #advertisementRight, #advertisementTop, #advertisement_banner, #advertisement_belowscreenshots, #advertisement_block, #advertisement_box, #advertisement_container, #advertisement_label, #advertisement_notice, #advertisement_title, #advertisements_bottom, #advertisements_sidebar { display: none !important; }
#advertisements_top, #advertisementsarticle, #advertiser-container, #advertiserLinks, #advertisetop, #advertising-160x600, #advertising-300x250, #advertising-728x90, #advertising-banner, #advertising-caption, #advertising-container, #advertising-right, #advertising-skyscraper, #advertising-top, #advertisingHrefTop, #advertisingLeftLeft, #advertisingLink, #advertisingRightColumn, #advertisingRightRight, #advertisingTop, #advertisingTopWrapper, #advertising_300, #advertising_320, #advertising_728, #advertising__banner__content, #advertising_column, #advertising_container, #advertising_contentad, #advertising_div, #advertising_header, #advertising_holder, #advertising_leaderboard, #advertising_top_container, #advertising_wrapper, #advertisment-horizontal, #advertisment-text, #advertisment1, #advertisment_content, #advertisment_panel, #advertleft, #advertorial, #advertorial-box, #advertorial-wrap, #advertorial1, #advertorial_links, #adverts, #adverts--footer, #adverts-top-container, #adverts-top-left, #adverts-top-middle { display: none !important; }
#adverts-top-right, #adverts_base, #adverts_post_content, #adverts_right, #advertscroll, #advertsingle, #advertspace, #advertssection, #adverttop, #advframe, #advr_mobile, #advsingle, #advt, #advt_bottom, #advtbar, #advtcell, #advtext, #advtop, #advtopright, #adwallpaper, #adwidget, #adwidget-5, #adwidget-6, #adwidget1, #adwidget2, #adwrapper, #adxBigAd, #adxBigAd2, #adxLeaderboard, #adxMiddle, #adxMiddleRight, #adxToolSponsor, #adx_ad, #adxtop2, #adzbanner, #adzone, #adzone-middle1, #adzone-middle2, #adzone-right, #adzone-top, #adzone_content, #adzone_wall, #adzonebanner, #adzoneheader, #afc-container, #affiliate_2, #affiliate_ad, #after-dfp-ad-mid1, #after-dfp-ad-mid2, #after-dfp-ad-mid3 { display: none !important; }
#after-dfp-ad-mid4, #after-dfp-ad-top, #after-header-ads, #after-top-menu-ads, #after_ad, #after_bottom_ad, #after_heading_ad, #after_title_ad, #aigirlfriendad, #amazon-ads, #amazon_ad, #analytics_ad, #anchor-ad, #anchorAd, #aniview-ads, #aom-ad-right_side_1, #aom-ad-right_side_2, #aom-ad-top, #apiBackgroundAd, #article-ad, #article-ad-container, #article-ad-content, #article-ads, #article-advert, #article-aside-top-ad, #article-billboard-ad-1, #article-bottom-ad, #article-box-ad, #article-content-ad, #article-footer-ad, #article-footer-sponsors, #article-island-ad, #article-sidebar-ad, #articleAd, #articleAdReplacement, #articleBoard-ad, #articleBottom-ads, #articleLeftAdColumn, #articleSideAd, #articleTop-ads, #article_ad, #article_ad_1, #article_ad_3, #article_ad_bottom, #article_ad_container, #article_ad_top, #article_ad_w, #article_adholder, #article_ads, #article_advert { display: none !important; }
#article_banner_ad, #article_body_ad1, #article_box_ad, #articlead1, #articlead2, #articlead300x250r, #articleadblock, #articlefootad, #articletop_ad, #aside-ad-container, #asideAd, #aside_ad, #asideads, #asinglead, #ax-billboard, #ax-billboard-bottom, #ax-billboard-sub, #ax-billboard-top, #backad, #background-ad-cover, #background-adv, #background_ad_left, #background_ad_right, #background_ads, #backgroundadvert, #banADbanner, #banner-300x250, #banner-468x60, #banner-728, #banner-728x90, #banner-ad, #banner-ad-container, #banner-ad-large, #banner-ads, #banner-advert, #banner-lg-ad, #banner-native-ad, #banner-skyscraper, #banner300x250, #banner468, #banner468x60, #banner728, #banner728x90, #bannerAd, #bannerAdFrame, #bannerAdTop, #bannerAdWrap, #bannerAdWrapper, #bannerAds, #bannerAdsense { display: none !important; }
#bannerAdvert, #bannerGoogle, #banner_ad_bottom, #banner_ad_footer, #banner_ad_module, #banner_ad_placeholder, #banner_ad_top, #banner_ads, #banner_adsense, #banner_adv, #banner_advertisement, #banner_adverts, #banner_content_ad, #banner_sedo, #banner_slot, #banner_spacer, #banner_topad, #banner_videoad, #banner_wrapper_top, #bannerad-bottom, #bannerad-top, #bannerad2, #banneradrow, #bannerads, #banneradspace, #banneradvert3, #banneradvertise, #bannerplayer-wrap, #baseboard-ad, #baseboard-ad-wrapper, #bbContentAds, #bb_ad_container, #bb_top_ad, #bbadwrap, #before-footer-ad, #below-listings-ad, #below-menu-ad-header, #below-post-ad, #below-title-ad, #belowAd, #belowContactBoxAd, #belowNodeAds, #below_content_ad_container, #belowad, #belowheaderad, #bg-custom-ad, #bgad, #big-box-ad, #bigAd, #bigAd1 { display: none !important; }
#bigAd2, #bigAdDiv, #bigBoxAd, #bigBoxAdCont, #big_ad, #big_ad_label, #big_ads, #bigad, #bigadbox, #bigads, #bigadspace, #bigadspot, #bigboard_ad, #bigsidead, #billboard-ad, #billboard-atf, #billboard_ad, #bingadcontainer2, #blkAds1, #blkAds2, #blkAds3, #blkAds4, #blkAds5, #block-ad-articles, #block-adsense-0, #block-adsense-2, #block-adsense-banner-article-bottom, #block-adsense-banner-channel-bottom, #block-adsenseleaderboard, #block-advertisement, #block-advertorial, #block-articlebelowtextad, #block-articlefrontpagead, #block-articletopadvert, #block-dfp-top, #block-frontpageabovepartnersad, #block-frontpagead, #block-frontpagesideadvert1, #block-google-ads, #block-googleads3, #block-googleads3-2, #block-openads-0, #block-openads-1, #block-openads-13, #block-openads-14, #block-openads-2, #block-openads-3, #block-openads-4, #block-openads-5, #block-sponsors { display: none !important; }
#blockAd, #blockAds, #block_ad, #block_ad2, #block_ad_container, #block_advert, #block_advert1, #block_advert2, #block_advertisement, #blog-ad, #blog-advert, #blogad, #blogad-wrapper, #blogads, #bm-HeaderAd, #bn_ad, #bnr-300x250, #bnr-468x60, #bnr-728x90, #bnrAd, #body-ads, #bodyAd1, #bodyAd2, #bodyAd3, #bodyAd4, #body_ad, #body_centered_ad, #bottom-ad, #bottom-ad-1, #bottom-ad-area, #bottom-ad-banner, #bottom-ad-container, #bottom-ad-leaderboard, #bottom-ad-slot, #bottom-ad-tray, #bottom-ad-wrapper, #bottom-add, #bottom-adhesion, #bottom-adhesion-container, #bottom-ads, #bottom-ads-bar, #bottom-ads-container, #bottom-adspot, #bottom-advertising, #bottom-boxad, #bottom-not-ads, #bottom-side-ad, #bottom-sponsor-add, #bottomAd, #bottomAd300 { display: none !important; }
#bottomAdBlcok, #bottomAdContainer, #bottomAdSection, #bottomAdSense, #bottomAdSenseDiv, #bottomAdWrapper, #bottomAds, #bottomAdvBox, #bottomBannerAd, #bottomContentAd, #bottomDDAd, #bottomLeftAd, #bottomMPU, #bottomRightAd, #bottom_ad, #bottom_ad_728, #bottom_ad_area, #bottom_ad_box, #bottom_ad_region, #bottom_ad_unit, #bottom_ad_wrapper, #bottom_adbox, #bottom_ads, #bottom_adwrapper, #bottom_banner_ad, #bottom_fixed_ad_overlay, #bottom_leader_ad, #bottom_player_adv, #bottom_sponsor_ads, #bottom_sponsored_links, #bottom_text_ad, #bottomad, #bottomad300, #bottomad_table, #bottomadbanner, #bottomadbar, #bottomadholder, #bottomads, #bottomadsdiv, #bottomadsense, #bottomadvert, #bottomadwrapper, #bottomcontentads, #bottomleaderboardad, #bottommpuAdvert, #bottommpuSlot, #bottomsponad, #bottomsponsoredresults, #box-ad, #box-ad-section { display: none !important; }
#box-ad-sidebar, #box-content-ad, #box1ad, #box2ad, #boxAD, #boxAd, #boxAd300, #boxAdContainer, #boxAdvert, #boxLREC, #box_ad, #box_ad_container, #box_ad_middle, #box_ads, #box_advertisement, #box_advertisment, #box_articlead, #box_text_ads, #boxad, #boxads, #bpAd, #br-ad-header, #breadcrumb_ad, #breakbarad, #bsa_add_holder_g, #bt-ad, #bt-ad-header, #btfAdNew, #btm_ad, #btm_ads, #btmad, #btnAdDP, #btnAds, #btnads, #btopads, #button-ads, #button_ad_container, #button_ads, #buy-sell-ads, #buySellAds, #buysellads, #carbon-ads-container-bg, #carbonadcontainer, #carbonads, #carbonads-container, #card-ads-top, #category-ad, #category-sponsor, #cellAd, #center-ad { display: none !important; }
#center-ad-group, #centerads, #ch-ad-outer-right, #ch-ads, #channel_ad, #channel_ads, #circ_ad, #circ_ad_holder, #circad_wrapper, #classifiedsads, #clickforad, #clientAds, #closeAdsDiv, #closeable-ad, #cloudAdTag, #col-right-ad, #colAd, #colombiaAdBox, #columnAd, #commentAdWrapper, #commentTopAd, #comment_ad_zone, #comments-ad-container, #comments-ads, #comments-standalone-mpu, #compAdvertisement, #companion-ad, #companionAd, #companionAdDiv, #companion_Ad, #companionad, #connatix, #connatix-moveable, #connatix_placeholder_desktop, #container-ad, #container_ad, #content-ad, #content-ad-side, #content-ads, #content-adver, #content-contentad, #content-header-ad, #content-left-ad, #content-right-ad, #contentAd, #contentAdSense, #contentAdTwo, #contentAds, #contentBoxad, #content_Ad { display: none !important; }
#content_ad, #content_ad_1, #content_ad_2, #content_ad_block, #content_ad_container, #content_ad_placeholder, #content_ads, #content_ads_top, #content_adv, #content_bottom_ad, #content_bottom_ads, #content_mpu, #contentad, #contentad-adsense-homepage-1, #contentad-commercial-1, #contentad-content-box-1, #contentad-footer-tfm-1, #contentad-lower-medium-rectangle-1, #contentad-story-middle-1, #contentad-superbanner-1, #contentad-top-adsense-1, #contentad-topbanner-1, #contentadcontainer, #contentads, #contextad, #contextual-ads, #contextual-ads-block, #contextualad, #cornerad, #coverads, #criteoAd, #crt-adblock-a, #crt-adblock-b, #ctl00_ContentPlaceHolder1_ucAdHomeRightFO_divAdvertisement, #ctl00_ContentPlaceHolder1_ucAdHomeRight_divAdvertisement, #ctl00_adFooter, #ctl00_leaderboardAdvertContainer, #ctl00_skyscraperAdvertContainer, #ctl00_topAd, #ctl00_ucFooter_ucFooterBanner_divAdvertisement, #cubeAd, #cube_ad, #cube_ads, #customAd, #customAds, #customad, #darazAd, #ddAdZone2, #desktop-ad-top, #desktop-sidebar-ad { display: none !important; }
#desktop_middle_ad_fixed, #desktop_top_ad_fixed, #dfp-ad-bottom-wrapper, #dfp-ad-container, #dfp-ad-floating, #dfp-ad-leaderboard, #dfp-ad-leaderboard-wrapper, #dfp-ad-medium_rectangle, #dfp-ad-mediumrect-wrapper, #dfp-ad-mpu1, #dfp-ad-mpu2, #dfp-ad-right1, #dfp-ad-right1-wrapper, #dfp-ad-right2, #dfp-ad-right2-wrapper, #dfp-ad-right3, #dfp-ad-right4-wrapper, #dfp-ad-slot2, #dfp-ad-slot3, #dfp-ad-slot3-wrapper, #dfp-ad-slot4-wrapper, #dfp-ad-slot5, #dfp-ad-slot5-wrapper, #dfp-ad-slot6, #dfp-ad-slot6-wrapper, #dfp-ad-slot7, #dfp-ad-slot7-wrapper, #dfp-ad-top-wrapper, #dfp-ap-2016-interstitial, #dfp-article-mpu, #dfp-atf, #dfp-atf-desktop, #dfp-banner, #dfp-banner-popup, #dfp-billboard1, #dfp-billboard2, #dfp-btf, #dfp-btf-desktop, #dfp-footer-desktop, #dfp-header, #dfp-header-container, #dfp-ia01, #dfp-ia02, #dfp-interstitial, #dfp-leaderboard, #dfp-leaderboard-desktop, #dfp-masthead, #dfp-middle, #dfp-middle1, #dfp-mtf { display: none !important; }
#dfp-mtf-desktop, #dfp-rectangle, #dfp-rectangle1, #dfp-ros-res-header_container, #dfp-tlb, #dfp-top-banner, #dfpAd, #dfp_ad_mpu, #dfp_ads_4, #dfp_ads_5, #dfp_bigbox_2, #dfp_bigbox_recipe_top, #dfp_container, #dfp_leaderboard, #dfpad-0, #dfpslot_tow_2-0, #dfpslot_tow_2-1, #dfrads-widget-3, #dfrads-widget-6, #dfrads-widget-7, #dianomiNewsBlock, #dict-adv, #direct-ad, #disable-ads-container, #display-ads, #displayAd, #displayAdSet, #display_ad, #displayad_carousel, #displayad_rectangle, #div-ad-1x1, #div-ad-bottom, #div-ad-flex, #div-ad-inread, #div-ad-leaderboard, #div-ad-r, #div-ad-r1, #div-ad-top, #div-ad-top_banner, #div-adcenter1, #div-adcenter2, #div-advert, #div-contentad_1, #div-footer-ad, #div-gpt-LDB1, #div-gpt-MPU1, #div-gpt-MPU2, #div-gpt-MPU3, #div-gpt-Skin, #div-gpt-inline-main { display: none !important; }
#div-gpt-mini-leaderboard1, #div-gpt-mrec, #div-insticator-ad-1, #div-insticator-ad-2, #div-insticator-ad-3, #div-insticator-ad-4, #div-insticator-ad-5, #div-insticator-ad-6, #div-insticator-ad-9, #div-leader-ad, #div-social-ads, #divAd, #divAdDetail, #divAdHere, #divAdHorizontal, #divAdLeft, #divAdMain, #divAdRight, #divAdWrapper, #divAds, #divAdsTop, #divAdv300x250, #divAdvertisement, #divDoubleAd, #divFoldersAd, #divFooterAd, #divFooterAds, #divSponAds, #divSponsoredLinks, #divStoryBigAd1, #divThreadAdBox, #divTopAd, #divTopAds, #divWrapper_Ad, #div_ad_TopRight, #div_ad_float, #div_ad_holder, #div_ad_leaderboard, #div_advt_right, #div_belowAd, #div_bottomad, #div_bottomad_container, #div_googlead, #divadfloat, #dnn_adSky, #dnn_adTop, #dnn_ad_banner, #dnn_ad_island1, #dnn_ad_skyscraper, #dnn_sponsoredLinks { display: none !important; }
#downloadAd, #download_ad, #download_ads, #dragads, #ds-mpu, #dsStoryAd, #dsk-banner-ad-a, #dsk-banner-ad-b, #dsk-banner-ad-c, #dsk-banner-ad-d, #dsk-box-ad-c, #dsk-box-ad-d, #dsk-box-ad-f, #dsk-box-ad-g, #dv-gpt-ad-bigbox-wrap, #dynamicAdDiv, #em_ad_superbanner, #embedAD, #embedADS, #event_ads, #events-adv-side1, #events-adv-side2, #events-adv-side3, #events-adv-side4, #events-adv-side5, #events-adv-side6, #exoAd, #externalAd, #ezmobfooter, #featureAd, #featureAdSpace, #featureAds, #feature_ad, #featuread, #featured-ads, #featuredAds, #first-ads, #first_ad, #firstad, #fixed-ad, #fixedAd, #fixedban, #floatAd, #floatads, #floating-ad-wrapper, #floating-ads, #floating-advert, #floatingAd, #floatingAdContainer, #floatingAds { display: none !important; }
#floating_ad, #floating_ad_container, #floating_ads_bottom_textcss_container, #floorAdWrapper, #foot-ad-wrap, #foot-ad2-wrap, #footAd, #footAdArea, #footAds, #footad, #footer-ad, #footer-ad-728, #footer-ad-block, #footer-ad-box, #footer-ad-col, #footer-ad-google, #footer-ad-large, #footer-ad-slot, #footer-ad-unit, #footer-ad-wrapper, #footer-ads, #footer-adspace, #footer-adv, #footer-advert, #footer-advert-area, #footer-advertisement, #footer-adverts, #footer-adwrapper, #footer-affl, #footer-banner-ad, #footer-leaderboard-ad, #footer-sponsored, #footer-sponsors, #footerAd, #footerAdBottom, #footerAdBox, #footerAdDiv, #footerAdWrap, #footerAdd, #footerAds, #footerAdsPlacement, #footerAdvert, #footerAdvertisement, #footerAdverts, #footerGoogleAd, #footer_AdArea, #footer_ad, #footer_ad_block, #footer_ad_container, #footer_ad_frame { display: none !important; }
#footer_ad_holder, #footer_ad_modules, #footer_adcode, #footer_add, #footer_addvertise, #footer_ads, #footer_ads_holder, #footer_adspace, #footer_adv, #footer_advertising, #footer_leaderboard_ad, #footer_text_ad, #footerad, #footerad728, #footerads, #footeradsbox, #footeradvert, #forum-top-ad-bar, #frameAd, #frmSponsAds, #front-ad-cont, #front-page-ad, #front-page-advert, #frontPageAd, #front_advert, #front_mpu, #ft-ad, #ft-ads, #full_banner_ad, #fwAdBox, #fwdevpDiv0, #fwdevpDiv1, #fwdevpDiv2, #gAds, #gStickyAd, #g_ad, #g_adsense, #gad300x250, #gad728x90, #gads300x250, #gadsOverlayUnit, #gads_middle, #gallery-ad, #gallery-ad-container, #gallery-advert, #gallery-below-line-advert, #gallery-sidebar-advert, #gallery_ad, #gallery_ads, #gallery_header_ad { display: none !important; }
#galleryad1, #gam-ad-ban1, #game-ad, #gamead, #gameads, #gasense, #geoAd, #gg_ad, #ggl-ad, #glamads, #global-banner-ad, #globalLeftNavAd, #globalTopNavAd, #global_header_ad, #global_header_ad_area, #goad1, #goads, #gooadtop, #google-ad, #google-ads, #google-ads-bottom, #google-ads-bottom-container, #google-ads-container, #google-ads-detailsRight, #google-ads-directoryViewRight, #google-ads-header, #google-adsense, #google-adwords, #google-afc, #google-dfp-bottom, #google-dfp-top, #google-post-ad, #google-post-adbottom, #google-top-ads, #googleAd, #googleAdArea, #googleAdBottom, #googleAdBox, #googleAdTop, #googleAds, #googleAdsense, #googleAdsenseAdverts, #googleSearchAds, #google_ad_1, #google_ad_2, #google_ad_3, #google_ad_container, #google_ad_slot, #google_ads, #google_ads_1 { display: none !important; }
#google_ads_box, #google_ads_frame, #google_ads_frame1_anchor, #google_ads_frame2_anchor, #google_ads_frame3_anchor, #google_ads_frame4_anchor, #google_ads_frame5_anchor, #google_ads_frame6_anchor, #google_adsense, #google_adsense_ad, #googlead, #googlead2, #googleadleft, #googleads, #googleads1, #googleadsense, #googleadstop, #googlebanner, #googlesponsor, #googletextads, #gpt-ad-1, #gpt-ad-banner, #gpt-ad-halfpage, #gpt-ad-outofpage-wp, #gpt-ad-rectangle1, #gpt-ad-rectangle2, #gpt-ad-side-bottom, #gpt-ad-skyscraper, #gpt-instory-ad, #gpt-leaderboard-ad, #gpt-mpu, #gpt-sticky, #grdAds, #gridAdSidebar, #grid_ad, #half-page-ad, #halfPageAd, #half_page_ad_300x600, #halfpagead, #head-ad, #head-ad-text-wrap, #head-ad-timer, #head-ads, #head-advertisement, #headAd, #headAds, #headAdv, #head_ad, #head_ads, #head_advert { display: none !important; }
#headad, #headadvert, #header-ad, #header-ad-background, #header-ad-block, #header-ad-bottom, #header-ad-container, #header-ad-holder, #header-ad-label, #header-ad-left, #header-ad-placeholder, #header-ad-right, #header-ad-slot, #header-ad-wrap, #header-ad-wrapper, #header-ad2, #header-ads, #header-ads-container, #header-ads-holder, #header-ads-wrapper, #header-adsense, #header-adserve, #header-adspace, #header-adv, #header-advert, #header-advert-panel, #header-advertisement, #header-advertising, #header-adverts, #header-advrt, #header-banner-728-90, #header-banner-ad, #header-banner-ad-wrapper, #header-block-ads, #header-box-ads, #headerAd, #headerAdBackground, #headerAdContainer, #headerAdSpace, #headerAdUnit, #headerAdWrap, #headerAds, #headerAdsWrapper, #headerAdv, #headerAdvert, #headerTopAd, #header_ad, #header_ad_728, #header_ad_728_90, #header_ad_banner { display: none !important; }
#header_ad_block, #header_ad_container, #header_ad_leaderboard, #header_ad_units, #header_ad_widget, #header_ad_wrap, #header_adbox, #header_adcode, #header_ads, #header_ads2, #header_adsense, #header_adv, #header_advert, #header_advertisement, #header_advertisement_top, #header_advertising, #header_adverts, #header_bottom_ad, #header_publicidad, #header_right_ad, #header_sponsors, #header_top_ad, #headerad, #headerad_large, #headeradbox, #headeradcontainer, #headerads, #headeradsbox, #headeradsense, #headeradspace, #headeradvertholder, #headeradwrap, #headergooglead, #headersponsors, #headingAd, #headline_ad, #hearst-autos-ad-wrapper, #home-ad, #home-ad-block, #home-ad-slot, #home-advert-module, #home-advertise, #home-banner-ad, #home-left-ad, #home-rectangle-ad, #home-side-ad, #home-top-ads, #homeAd, #homeAdLeft, #homeAds { display: none !important; }
#homeSideAd, #home_ad, #home_ads_vert, #home_advertising_block, #home_bottom_ad, #home_contentad, #home_mpu, #home_sidebar_ad, #home_top_right_ad, #homead, #homeheaderad, #homepage-ad, #homepage-adbar, #homepage-footer-ad, #homepage-header-ad, #homepage-sidebar-ad, #homepage-sidebar-ads, #homepage-sponsored, #homepageAd, #homepageAdsTop, #homepageFooterAd, #homepageGoogleAds, #homepage_ad, #homepage_ad_listing, #homepage_rectangle_ad, #homepage_right_ad, #homepage_right_ad_container, #homepage_top_ad, #homepage_top_ads, #homepageadvert, #hometopads, #horAd, #hor_ad, #horadslot, #horizad, #horizads728, #horizontal-ad, #horizontal-adspace, #horizontal-banner-ad, #horizontalAd, #horizontalAdvertisement, #horizontal_ad, #horizontal_ad2, #horizontal_ad_top, #horizontalad, #horizontalads, #hottopics-advert, #hours_ad, #houseAd, #hovered_sponsored { display: none !important; }
#hp-desk-after-header-ad, #hp-header-ad, #hp-right-ad, #hp-store-ad, #hpAdVideo, #humix-vid-ezAutoMatch, #idDivAd, #id_SearchAds, #iframe-ad, #iframeAd_2, #iframe_ad_2, #imPopup, #im_popupDiv, #ima_ads-2, #ima_ads-3, #ima_ads-4, #imgAddDirectLink, #imgad1, #imu_ad_module, #in-article-ad, #in-article-mpu, #in-content-ad, #inArticleAdv, #inarticlead, #inc-ads-bigbox, #incontent-ad-2, #incontent-ad-3, #incontentAd1, #incontentAd2, #incontentAd3, #index-ad, #index-bottom-advert, #indexSquareAd, #index_ad, #indexad, #indexad300x250l, #indexsmallads, #indiv_adsense, #infoBottomAd, #infoboxadwrapper, #inhousead, #initializeAd, #inline-ad, #inline-ad-label, #inline-advert, #inline-story-ad, #inline-story-ad2, #inlineAd, #inlineAdCont, #inlineAdtop { display: none !important; }
#inlineAdvertisement, #inlineBottomAd, #inline_ad, #inline_ad_section, #inlinead, #inlineads, #inner-ad, #inner-ad-container, #inner-advert-row, #inner-top-ads, #innerad, #innerpage-ad, #inside-page-ad, #insideCubeAd, #instant_ad, #insticator-container, #instoryad, #int-ad, #int_ad, #interads, #intermediate-ad, #internalAdvert, #internalads, #interstitial-shade, #interstitialAd, #interstitialAdContainer, #interstitialAdUnit, #interstitial_ad, #interstitial_ad_container, #interstitial_ads, #intext_ad, #introAds, #intro_ad_1, #invid_ad, #ipadv, #iq-AdSkin, #iqadcontainer, #iqadoverlay, #iqadtile1, #iqadtile11, #iqadtile14, #iqadtile15, #iqadtile16, #iqadtile2, #iqadtile3, #iqadtile4, #iqadtile41, #iqadtile6, #iqadtile8, #iqadtile9 { display: none !important; }
#iqadtile99, #islandAd, #islandAdPan, #islandAdPane, #islandAdPane2, #island_ad_top, #islandad, #jobs-ad, #js-ad-billboard, #js-ad-leaderboard, #js-image-ad-mpu, #js-page-ad-top, #js-wide-ad, #js_commerceInsetModule, #jsid-ad-container-post_above_comment, #jsid-ad-container-post_below_comment, #large-ads, #large-bottom-leaderboard-ad, #large-leaderboard-ad, #large-middle-leaderboard-ad, #large-rectange-ad, #large-rectange-ad-2, #large-skyscraper-ad, #largeAd, #largeAds, #large_rec_ad1, #largead, #layer_ad, #layer_ad_content, #layerad, #layeradsense, #layout-header-ad-wrapper, #layout_topad, #lb-ad, #lb-sponsor-left, #lb-sponsor-right, #lbAdBar, #lbAdBarBtm, #lblAds, #lead-ads, #lead_ad, #leadad_1, #leadad_2, #leader-ad, #leader-board-ad, #leader-companion > a[href], #leaderAd, #leaderAdContainer, #leaderAdContainerOuter, #leaderBoardAd { display: none !important; }
#leader_ad, #leader_board_ad, #leaderad, #leaderad_section, #leaderadvert, #leaderboard-ad, #leaderboard-advert, #leaderboard-advertisement, #leaderboard-atf, #leaderboard-bottom-ad, #leaderboard.ad, #leaderboardAd, #leaderboardAdTop, #leaderboardAds, #leaderboardAdvert, #leaderboard_728x90, #leaderboard_Ad, #leaderboard_ad, #leaderboard_ads, #leaderboard_bottom_ad, #leaderboard_top_ad, #leaderboardad, #leatherboardad, #left-ad, #left-ad-1, #left-ad-2, #left-ad-col, #left-ad-iframe, #left-ad-skin, #left-bottom-ad, #left-col-ads-1, #left-content-ad, #leftAD, #leftAdAboveSideBar, #leftAdCol, #leftAdContainer, #leftAdMessage, #leftAdSpace, #leftAd_fmt, #leftAd_rdr, #leftAds, #leftAdsSmall, #leftAdvert, #leftBanner-ad, #leftColumnAdContainer, #leftGoogleAds, #leftTopAdWrapper, #left_ad, #left_ads, #left_adsense { display: none !important; }
#left_adspace, #left_adv, #left_advertisement, #left_bg_ad, #left_block_ads, #left_float_ad, #left_global_adspace, #left_side_ads, #left_sidebar_ads, #left_top_ad, #leftad, #leftadg, #leftads, #leftcolAd, #leftcolumnad, #leftforumad, #leftrail_dynamic_ad_wrapper, #lg-banner-ad, #ligatus, #ligatus_adv, #ligatusdiv, #lightboxAd, #linkAdSingle, #linkAds, #link_ads, #linkads, #listadholder, #liste_top_ads_wrapper, #listing-ad, #live-ad, #localAds, #localpp, #locked-footer-ad-wrapper, #logoAd, #logoAd2, #logo_ad, #long-ad, #long-ad-space, #long-bottom-ad-wrapper, #longAdSpace, #longAdWrap, #long_advert_header, #long_advertisement, #lower-ad-banner, #lower-ads, #lower-advertising, #lower-home-ads, #lowerAdvertisement, #lowerAdvertisementImg, #lower_ad { display: none !important; }
#lower_content_ad_box, #lowerads, #lowerthirdad, #lrec_ad, #lrecad, #m-banner-bannerAd, #main-ad, #main-advert, #mainAd, #mainAd1, #mainAdUnit, #mainAdvert, #mainPageAds, #mainPlaceHolder_coreContentPlaceHolder_rightColumnAdvert_divControl, #main_AD, #main_ad, #main_ads, #main_content_ad, #main_rec_ad, #main_top_ad, #mainui-ads, #mapAdsSwiper, #mapAdvert, #marketplaceAds, #marquee-ad, #marquee_ad, #mastAd, #mastAdvert, #mastad, #masterad, #masthead_ad, #masthead_ads_container, #masthead_topad, #med-rect-ad, #med-rectangle-ad, #medRecAd, #medReqAd, #media-ad, #medium-ad, #mediumAd1, #mediumAdContainer, #mediumAdvertisement, #mediumRectangleAd, #medrec_bottom_ad, #medrec_middle_ad, #medrec_top_ad, #medrectad, #medrectangle_banner, #menuad, #menubarad { display: none !important; }
#mgid-container, #mgid_iframe, #mid-ad-slot-1, #mid-ad-slot-3, #mid-ad-slot-5, #mid-ads, #mid-table-ad, #midAD, #midRightAds, #midRightTextAds, #mid_ad, #mid_ad_div, #mid_ad_title, #mid_left_ads, #mid_mpu, #mid_roll_ad_holder, #midadspace, #midadvert, #midbarad, #midbnrad, #midcolumn_ad, #middle-ad, #middle-ad-destin, #middleAd, #middle_ad, #middle_ads, #middle_mpu, #middlead, #middleads, #middleads2, #midpost_ad, #midrect_ad, #midstrip_ad, #mini-ad, #mobile-adhesion, #mobile-ads-ad, #mobile-footer-ad-wrapper, #mobileAdContainer, #mobile_ads_100_pc, #mobile_ads_block, #mod_ad, #mod_ad_top, #modal-ad, #module-ads-01, #module-ads-02, #module_ad, #module_box_ad, #monsterAd, #mpu-ad, #mpu-advert { display: none !important; }
#mpu-cont, #mpu-content, #mpu-sidebar, #mpu1_parent, #mpu2, #mpu2_container, #mpu2_parent, #mpuAd, #mpuAdvert, #mpuContainer, #mpuDiv, #mpuInContent, #mpuSecondary, #mpuSlot, #mpuWrapper, #mpuWrapperAd, #mpuWrapperAd2, #mpu_ad, #mpu_ad2, #mpu_adv, #mpu_banner, #mpu_box, #mpu_container, #mpu_div, #mpu_holder, #mpu_text_ad, #mpu_top, #mpuad, #mpubox, #mpuholder, #mvp-foot-ad-wrap, #mvp-post-bot-ad, #my-ads, #narrow-ad, #narrow_ad_unit, #native-ads-placeholder, #native_ad2, #native_ads, #nav-ad-container, #navAdBanner, #nav_ad, #nav_ad_728_mid, #navads-container, #navbar_ads, #navigation-ad, #navlinkad, #newAd, #ng-ad, #ng-ad-lbl, #ni-ad-row { display: none !important; }
#nk_ad_top, #notify_ad, #ntvads, #openx-text-ad, #openx-widget, #ovadsense, #overlay-ad-bg, #overlay_ad, #overlayad, #overlayadd, #p-Ad, #p-advert, #p-googlead, #p-googleadsense, #p2HeaderAd, #p2squaread, #page-ad-top, #page-advertising, #page-header-ad, #page-top-ad, #pageAdDiv, #pageAdds, #pageAds, #pageAdsDiv, #pageAdvert, #pageBannerAd, #pageLeftAd, #pageMiddleAdWrapper, #pageRightAd, #page__outside-advertsing, #page_ad, #page_ad_top, #page_top_ad, #pageads_top, #pagebottomAd, #pagination-advert, #panel-ad, #panelAd, #panel_ad1, #panoAdBlock, #partner-ad, #partnerAd, #partnerMedRec, #partner_ads, #pause-ad, #pause-ads, #pauseAd, #pc-div-gpt-ad_728-3, #pencil-ad, #pencil-ad-container { display: none !important; }
#perm_ad, #permads, #persistentAd, #personalization_ads, #pgAdWrapper, #ph_ad, #player-ads, #player-advert, #player-advertising, #player-below-advert, #player-midrollAd, #playerAd, #playerAdsRight, #player_ad, #player_ads, #player_middle_ad, #player_top_ad, #playerad, #playerads, #pop.div_pop, #pop_ad, #popadwrap, #popback-ad, #popoverAd, #popupAd, #popupBottomAd, #popup_ad_wrapper, #popupadunit, #post-ad, #post-ads, #post-bottom-ads, #post-content-ad, #post-page-ad, #post-promo-ad, #postAd, #postNavigationAd, #post_ad, #post_addsense, #post_adsense, #post_adspace, #post_advert, #postads0, #ppcAdverts, #ppvideoadvertisement, #pr_ad, #pr_advertising, #pre-adv, #pre-footer-ad, #preAds_ad_mrec_intext, #preAds_ad_mrec_intext2 { display: none !important; }
#preminumAD, #premiumAdTop, #premium_ad, #premiumad, #premiumads, #prerollAd, #preroll_ads, #primis-container, #primis_player, #print_ads, #printads, #privateads, #promo-ad, #promoAds, #promoFloatAd, #promo_ads, #pub468x60, #pub728x90, #publicidad, #publicidadeLREC, #pushAd, #pushDownAd, #pushdownAd, #pushdownAdWrapper, #pushdown_ad, #pusher-ad, #pvadscontainer, #quads-ad1_widget, #quads-ad2_widget, #quads-admin-ads-js, #r89-desktop-top-ad, #radio-ad-container, #rail-ad-wrap, #rail-bottom-ad, #railAd, #rail_ad, #rail_ad1, #rail_ad2, #rec_spot_ad_1, #recommendAdBox, #rect-ad, #rectAd, #rect_ad, #rectad, #rectangle-ad, #rectangleAd, #rectangleAdTeaser1, #rectangle_ad, #redirect-ad, #redirect-ad-modal { display: none !important; }
#reference-ad, #region-node-advert, #reklam_buton, #reklam_center, #reklama, #reklama_big, #reklama_left_body, #reklama_left_up, #reklama_right_up, #related-ads, #related-news-1-bottom-ad, #related-news-1-top-ad, #related_ad, #related_ads, #related_ads_box, #removeAdsSidebar, #removeadlink, #responsive-ad, #responsive-ad-sidebar-container, #responsive_ad, #responsivead, #result-list-aside-topadsense, #resultSponLinks, #resultsAdsBottom, #resultsAdsSB, #resultsAdsTop, #rh-ad, #rh-ad-container, #rh_tower_ad, #rhc_ads, #rhs_ads, #rhs_adverts, #rhsads, #rhsadvert, #richad, #right-ad, #right-ad-block, #right-ad-col, #right-ad-iframe, #right-ad-skin, #right-ad1, #right-ads, #right-ads-rail, #right-advert, #right-bar-ad, #right-box-ad, #right-content-ad, #right-featured-ad, #right-rail-ad-slot-content-top, #right-widget-b-ads_widget-9 { display: none !important; }
#right-widget-c-ads_widget-7, #right-widget-d-ads_widget-36, #right-widget-top-ads_widget-23, #right1-ad, #right1ad, #rightAD, #rightAd, #rightAd1, #rightAdBar, #rightAdBlock, #rightAdColumn, #rightAdContainer, #rightAdHolder, #rightAdUnit, #rightAd_rdr, #rightAds, #rightAdsDiv, #rightBlockAd, #rightBottomAd, #rightColAd, #rightColumnAds, #rightRailAds, #rightSideAd, #rightSideAdvert, #right_Ads2, #right_ad, #right_ad_1, #right_ad_2, #right_ad_box, #right_ad_container, #right_ad_top, #right_ad_wrapper, #right_ads, #right_ads_box, #right_adsense, #right_advert, #right_advertisement, #right_advertising, #right_adverts, #right_bg_ad, #right_block_ads, #right_bottom_ad, #right_column_ad, #right_column_ad_container, #right_column_ads, #right_column_adverts, #right_player_ad, #right_side_ad, #right_sidebar_ads, #right_top_ad { display: none !important; }
#right_top_gad, #rightad, #rightad1, #rightad2, #rightadBorder, #rightadBorder1, #rightadBorder2, #rightadContainer, #rightadcell, #rightadg, #rightadhome, #rightads, #rightads300x250, #rightadsarea, #rightbar-ad, #rightbar_ad, #rightcol_sponsorad, #rightgoogleads, #rightrail-ad, #rightside-ads, #rightside_ad, #rightskyad, #rm-adslot-bigsizebanner_1, #rm-adslot-contentad_1, #rotating_ad, #rotatingads, #row-ad, #rowAdv, #rtAdvertisement, #scroll-ad, #scroll_ad, #search-ad, #search-ads1, #search-google-ads, #search-sponsor, #search-sponsored-links, #searchAd, #searchAds, #search_ad, #search_ads, #second_ad_div, #secondad, #section-ad, #section-ad-bottom, #section_ad, #section_advertisements, #self-ad, #sev1mposterad, #show-ad, #show-sticky-ad { display: none !important; }
#showAd, #show_ads, #showads, #showcaseAd, #side-ad, #side-ad-container, #side-ads, #side-ads-box, #side-banner-ad, #side-boxad, #sideABlock, #sideAD, #sideAd, #sideAd1, #sideAd2, #sideAd3, #sideAd4, #sideAdArea, #sideAdLarge, #sideAdSmall, #sideAdSub, #sideAds, #sideBannerAd, #sideBar-ads, #sideBarAd, #sideSponsors, #side_ad, #side_ad_module, #side_ad_wrapper, #side_ads, #side_adverts, #side_longads, #side_skyscraper_ad, #side_sponsors, #sidead, #sidead1, #sideads, #sideads_container, #sideadscol, #sideadvert, #sideadzone, #sidebar-ad, #sidebar-ad-1, #sidebar-ad-2, #sidebar-ad-block, #sidebar-ad-boxes, #sidebar-ad-middle, #sidebar-ad-wrap, #sidebar-ad1, #sidebar-ad2 { display: none !important; }
#sidebar-ad3, #sidebar-ads, #sidebar-ads-content, #sidebar-ads-narrow, #sidebar-ads-wide, #sidebar-ads-wrapper, #sidebar-adspace, #sidebar-adv, #sidebar-advertise-text, #sidebar-advertisement, #sidebar-left-ad, #sidebar-main-ad, #sidebar-sponsors, #sidebar-top-ad, #sidebar-top-ads, #sidebarAd, #sidebarAd1, #sidebarAd2, #sidebarAdSense, #sidebarAdSpace, #sidebarAdUnitWidget, #sidebarAds, #sidebarAdvTop, #sidebarAdvert, #sidebarSponsors, #sidebarTextAds, #sidebarTowerAds, #sidebar_ad, #sidebar_ad_1, #sidebar_ad_2, #sidebar_ad_3, #sidebar_ad_big, #sidebar_ad_container, #sidebar_ad_top, #sidebar_ad_widget, #sidebar_ad_wrapper, #sidebar_adblock, #sidebar_ads, #sidebar_box_add, #sidebar_topad, #sidebarad, #sidebarad0, #sidebaradpane, #sidebarads, #sidebaradsense, #sidebaradverts, #sidebard-ads-wrapper, #sidebargooglead, #sidebargoogleads, #sidebarrectad { display: none !important; }
#sideline-ad, #sidepad-ad, #single-ad, #single-ad-2, #single-adblade, #single-mpu, #singleAd, #singleAdsContainer, #singlead, #singleads, #site-ad-container, #site-ads, #site-header__ads, #site-leaderboard-ads, #site-sponsor-ad, #site-sponsors, #siteAdHeader, #site_bottom_ad_div, #site_content_ad_div, #site_top_ad, #site_wrap_ad, #sitead, #skcolAdSky, #skin-ad, #skin-ad-left-rail-container, #skin-ad-right-rail-container, #skinTopAd, #skin_adv, #skinad-left, #skinad-right, #skinningads, #sky-ad, #sky-ads, #sky-left, #sky-right, #skyAd, #skyAdContainer, #skyScraperAd, #skyScrapperAd, #skyWrapperAds, #sky_ad, #sky_advert, #skyads, #skyadwrap, #skybox-ad, #skyline_ad, #skyscrapeAd, #skyscraper-ad, #skyscraperAd, #skyscraperAdContainer { display: none !important; }
#skyscraperAdWrap, #skyscraperAds, #skyscraperWrapperAd, #skyscraper_ad, #skyscraper_advert, #skyscraperadblock, #skyscrapper-ad, #slideAd, #slide_ad, #slidead, #slideboxad, #slider-ad, #sliderAdHolder, #slider_ad, #sm-banner-ad, #smallAd, #small_ad, #small_ads, #smallad, #smallads, #smallerAd, #sp-adv-banner-top, #specialAd, #special_ads, #specialadfeatures, #specials_ads, #speed_ads, #speeds_ads, #splashy-ad-container-top, #sponBox, #spon_links, #sponlink, #sponlinks, #sponsAds, #sponsLinks, #spons_links, #sponseredlinks, #sponsor-box-widget, #sponsor-flyout, #sponsor-flyout-wrap, #sponsor-links, #sponsor-partners, #sponsor-sidebar-container, #sponsorAd, #sponsorAd1, #sponsorAd2, #sponsorAdDiv, #sponsorBar, #sponsorBorder, #sponsorContainer0 { display: none !important; }
#sponsorFooter, #sponsorLinkDiv, #sponsorLinks, #sponsorResults, #sponsorSpot, #sponsorTab, #sponsorText, #sponsorTextLink, #sponsor_300x250, #sponsor_ad, #sponsor_ads, #sponsor_bar, #sponsor_bottom, #sponsor_box, #sponsor_deals, #sponsor_div, #sponsor_footer, #sponsor_header, #sponsor_link, #sponsor_no, #sponsor_posts, #sponsor_right, #sponsored-ads, #sponsored-carousel-nucleus, #sponsored-footer, #sponsored-inline, #sponsored-links, #sponsored-links-alt, #sponsored-links-container, #sponsored-listings, #sponsored-message, #sponsored-products, #sponsored-recommendations, #sponsored-resources, #sponsored-search, #sponsored-text-links, #sponsored-widget, #sponsored1, #sponsoredAd, #sponsoredAdvertisement, #sponsoredBottom, #sponsoredBox1, #sponsoredBox2, #sponsoredFeaturedHoz, #sponsoredHoz, #sponsoredLinks, #sponsoredLinksBox, #sponsoredList, #sponsoredResults, #sponsoredResultsWide { display: none !important; }
#sponsoredTop, #sponsored_ads, #sponsored_container, #sponsored_content, #sponsored_head, #sponsored_label, #sponsored_link_bottom, #sponsored_links, #sponsored_native_ad, #sponsoredad, #sponsoredads, #sponsoredlinks, #sponsorfeature, #sponsorlink, #sponsors-article, #sponsors-block, #sponsors-home, #sponsorsBox, #sponsorsContainer, #sponsorship-area-wrapper, #sponsorship-box, #sporsored-results, #spotlight-ads, #spotlightAds, #spotlight_ad, #spotlightad, #sprint_ad, #sqAd, #sq_ads, #square-ad, #square-ad-box, #square-ad-space, #square-ads, #square-sponsors, #squareAd, #squareAdBottom, #squareAdSpace, #squareAdTop, #squareAdWrap, #squareAds, #squareGoogleAd, #square_ad, #squaread, #squareadevertise, #squareadvert, #squared_ad, #staticad, #stationad, #sticky-ad, #sticky-ad-bottom { display: none !important; }
#sticky-ad-container, #sticky-ad-header, #sticky-add-side-block, #sticky-ads, #sticky-ads-top, #sticky-custom-ads, #sticky-footer-ad, #sticky-footer-ads, #sticky-left-ad, #sticky-rail-ad, #stickyAd, #stickyAdBlock, #stickyBottomAd, #stickySidebarAd, #stickySkyAd, #sticky_sidebar_ads, #stickyad, #stickyads, #stickyleftad, #stickyrightad, #stopAdv, #stop_ad3, #story-ad, #story-bottom-ad, #storyAd, #story_ad, #story_ads, #storyad2, #stripadv, #subheaderAd, #takeover-ad, #takeover_ad, #takeoverad, #td-ad-placeholder, #tdAds, #td_adunit2, #td_sponsorAd, #team_ad, #teaser1[style^="width:autopx;"], #teaser2[style^="width:autopx;"], #teaser3[style="width: 100%;text-align: center;display: scroll;position:fixed;bottom: 0;margin: 0 auto;z-index: 103;"], #teaser3[style^="width:autopx;"], #text-ad, #text-ads, #text-intext-ads, #text-link-ads, #textAd, #textAd1, #textAds, #textAdsTop { display: none !important; }
#text_ad, #text_ads, #text_advert, #textad, #textad3, #textlink-advertisement, #textsponsor, #tfm_admanagerTeaser, #tile-ad, #tileAds, #tmInfiniteAd, #toaster_ad, #top-ad, #top-ad-area, #top-ad-banner, #top-ad-container, #top-ad-content, #top-ad-desktop, #top-ad-div, #top-ad-google, #top-ad-iframe, #top-ad-rect, #top-ad-slot, #top-ad-slot-0, #top-ad-slot-1, #top-ad-unit, #top-ad-wrapper, #top-adblock, #top-adds, #top-ads, #top-ads-1, #top-ads-contain, #top-ads-container, #top-adspot, #top-advert, #top-advertisement, #top-advertisements, #top-advertising-content, #top-banner-ad, #top-banner-ad-browser, #top-buy-sell-ads, #top-dfp, #top-head-ad, #top-leaderboard-ad, #top-left-ad, #top-middle-add, #top-not-ads, #top-right-ad, #top-right-ad-slot, #top-skin-ad { display: none !important; }
#top-skin-ad-bg, #top-sponsor-ad, #top-story-ad, #topAD, #topAd, #topAd728x90, #topAdArea, #topAdBanner, #topAdBar, #topAdBox, #topAdContainer, #topAdDiv, #topAdDropdown, #topAdHolder, #topAdShow, #topAdSpace, #topAdSpace_div, #topAdWrapper, #topAdcontainer, #topAds, #topAds1, #topAds2, #topAdsContainer, #topAdsDiv, #topAdsG, #topAdv, #topAdvBox, #topAdvert, #topBanner-ad, #topBannerAd, #topBannerAdContainer, #topBannerAdv, #topImgAd, #topLeaderboardAd, #topMPU, #topMpuContainer, #topSponsorBanner, #topSponsoredLinks, #top_AD, #top_ad, #top_ad-360, #top_ad_area, #top_ad_banner, #top_ad_block, #top_ad_box, #top_ad_container, #top_ad_td, #top_ad_unit, #top_ad_wrapper, #top_ad_zone { display: none !important; }
#top_add, #top_ads, #top_ads_box, #top_ads_container, #top_ads_region, #top_ads_wrap, #top_adsense_cont, #top_adspace, #top_adv, #top_advert, #top_advert_box, #top_advertise, #top_advertising, #top_banner_ads, #top_container_ad, #top_google_ads, #top_mpu, #top_mpu_ad, #top_rectangle_ad, #top_right_ad, #top_row_ad, #top_span_ad, #top_sponsor_ads, #top_sponsor_text, #top_wide_ad, #topad, #topad-728x90, #topad-block, #topad-wrap, #topad1, #topad2, #topad728, #topad_holder, #topad_left, #topad_right, #topad_table, #topadbanner, #topadbanner2, #topadbar, #topadblock, #topadcell, #topadcontainer, #topaddwide, #topadleft, #topadone, #topadplaceholder, #topadright, #topads-spacer, #topads-wrapper, #topadsblock { display: none !important; }
#topadsdiv, #topadsense, #topadspace, #topadvert, #topadwrap, #topadz, #topadzone, #topbanner_ad, #topbanner_sponsor, #topbannerad, #topbanneradtitle, #topbar-ad, #topbarAd, #topbarad, #topbarads, #topcustomad, #topheader_ads, #topleaderAd, #topleaderboardad, #topnavad, #toppannonse, #topright-ad, #toprightAdvert, #toprightad, #toprow-ad, #topsidebar-ad, #topsponad, #topsponsorads, #topsponsored, #toptextad, #tor-footer-ad, #tower1ad, #towerAdContainer, #towerad, #tpd-post-header-ad, #tpl_advertising, #transparentad, #trc_google_ad, #txtAdHeader, #upper-ads, #upperMpu, #upperRightAds, #upper_adbox, #upper_advertising, #upper_small_ad, #upperad, #velsof_wheel_container, #vert-ads, #vertAd2, #vert_ad { display: none !important; }
#vert_ad_placeholder, #vertad1, #vertical.ad, #verticalAds, #vertical_ad, #vertical_ads, #verticalads, #video-ad, #video-ad-companion-rectangle, #video-adv, #video-adv-wrapper, #video-advert, #video-embed-ads, #video-in-player-ad, #video-side-adv, #video-sponsor-links, #video-under-player-ad, #videoAd, #videoAdContainer, #videoAdvert, #videoCompanionAd, #videoOverAd, #videoOverAd300, #videoPauseAd, #video_adv, #video_advert, #video_advert_top, #video_embed_ads, #video_hor_bot_ads, #video_overlay_ad, #videoad, #videoad-script-cnt, #videoads, #viewAd1, #viewabilityAdContainer, #visual-ad, #vuukle-quiz-and-ad, #vuukle_ads_square2, #wTopAd, #wallAd, #wall_advert, #wd-sponsored, #weather-ad, #weather_sponsor, #weatherad, #welcome_ad, #wg_ads, #wgtAd, #whitepaper-ad, #wide-ad { display: none !important; }
#wideAdd, #wide_ad_unit, #wide_ad_unit2, #wide_ad_unit3, #wide_adv, #wide_right_ad, #widget-ads-3, #widget-ads-4, #widget-adv-12, #widget-box-ad-1, #widget-box-ad-2, #widget_Adverts, #widget_ad, #widget_advertisement, #widget_thrive_ad_default-2, #widget_thrive_ad_default-4, #widgetwidget_adserve, #widgetwidget_adserve2, #wl-pencil-ad, #wow-ads, #wp-insert-ad-widget-1, #wp-topAds, #wp_ad_marker, #wp_adbn_root, #wp_ads_gpt_widget-16, #wp_ads_gpt_widget-17, #wp_ads_gpt_widget-18, #wp_ads_gpt_widget-19, #wp_ads_gpt_widget-21, #wp_ads_gpt_widget-4, #wp_ads_gpt_widget-5, #wpgtr_stickyads_textcss_container, #wpladbox1, #wpladbox2, #wrapAd, #wrapAdRight, #wrapCommentAd, #wrapper-AD_G, #wrapper-AD_L, #wrapper-AD_L2, #wrapper-AD_L3, #wrapper-AD_PUSH, #wrapper-AD_R, #wrapper-ad, #wrapper-ad970, #wrapperAdsTopLeft, #wrapperAdsTopRight, #wrapperRightAds, #wrapper_ad_Top, #wrapper_sponsoredlinks { display: none !important; }
#wrapper_topad, #wtopad, #yahoo-sponsors, #yahooAdsBottom, #yahooSponsored, #yahoo_ads, #yahoo_text_ad, #yahooads, #yandex_ad, #yandex_ad2, #yatadsky, #yrail_ads, #yreSponsoredLinks, #ysm_ad_iframe, #zMSplacement1, #zMSplacement2, #zMSplacement3, #zMSplacement4, #zMSplacement5, #zMSplacement6, #zdcFloatingBtn, #zeus_top-banner, #zone-adsense, #zsAdvertisingBanner, .-advertsSidebar, .ADBAR, .ADBox, .ADFooter, .ADInfo, .ADLeader, .ADMiddle1, .ADPod, .ADServer, .ADStyle, .ADTop, .ADVBig, .ADVFLEX_250, .ADVParallax, .ADV_Mobile, .AD_2, .AD_area, .ADbox, .ADmid, .ADwidget, .ATF_wrapper, .Ad--Align, .Ad--empty, .Ad--header, .Ad--loading, .Ad--presenter { display: none !important; }
.Ad--sidebar, .Ad-Advert_Container, .Ad-Header, .Ad-Inner, .Ad-adhesive, .Ad-hor-height, .Ad-label, .Ad-leaderboard, .Ad.Leaderboard, .Ad300, .Ad3Tile, .Ad728x90, .AdBar, .AdBody:not(body), .AdBorder, .AdBottomPage, .AdBox, .AdBox160, .AdBox7, .AdBox728, .AdCenter, .AdCommercial, .AdCompactheader, .AdContainer, .AdContainer-Sidebar, .AdHeader, .AdHere, .AdHolder, .AdInline, .AdInsLink, .AdLeft1, .AdLeft2, .AdMedium, .AdMessage, .AdMod, .AdModule, .AdOneColumnContainer, .AdOuterMostContainer, .AdPanel, .AdPlaceHolder, .AdPlaceholder, .AdPlacementContainer, .AdProduct, .AdRight1, .AdRight2, .AdSense, .AdSenseLeft, .AdSlot, .AdSpace, .AdSpeedWP { display: none !important; }
.AdTagModule, .AdTitle, .AdTop, .AdUnit, .AdWidget_ImageWidget, .Ad_C, .Ad_D, .Ad_Label, .Ad_Right, .Ad_container, .Ads--center, .Ads-768x90, .Ads-background, .Ads-leaderboard, .Ads-slot, .Ads-sticky, .AdsBottom, .AdsBox, .AdsBoxBottom, .AdsBoxSection, .AdsBoxTop, .AdsLayout__top-container, .AdsRectangleWrapper, .AdsSlot, .Ads__wrapper, .Ads_header, .Adsense, .AdsenseBox, .Adsterra, .Adtext, .Adv468, .Advert-label, .Advert300x250, .AdvertContainer, .AdvertWrapper, .AdvertisementAfterHeader, .AdvertisementAfterPost, .AdvertisementAsidePost, .AdvertisementText, .AdvertisementTextTag, .AdvertisementTop, .Advertisment, .AdvertorialTeaser, .AdvtSample, .AdzerkBanner, .AffiliateAds, .AppFooter__BannerAd, .Arpian-ads, .Article-advert, .ArticleAd { display: none !important; }
.ArticleAdSide, .ArticleAdWrapper, .ArticleInlineAd, .ArticleInnerAD, .Article__Ad, .BOX_Ad, .BOX_LeadAd, .Banner300x250, .Banner468X60, .BigBoxAd, .BigBoxAdLabel, .Billboard-ad, .Billboard-ad-holder, .Billboard_2-ad-holder, .Billboard_3-ad-holder, .Billboard_4-ad-holder, .Billboard_5-ad-holder, .BlockAd, .BottomAd-container, .BottomAdContainer, .BottomAdsPartial, .BottomAffiliate, .BoxAd, .BoxAdWrap, .BoxRail-ad, .ButtonAd, .CommentAd, .ConnatixAd, .ContentAd, .ContentAds, .ContentBottomAd, .ContentTextAd, .ContentTopAd, .DFPad, .DisplayAd, .FirstAd, .FooterAd, .FooterAdContainer, .FooterAds, .Footer_1-ad-holder, .GRVAd, .GRVMpuWrapper, .GRVMultiVideo, .Gallery-Content-BottomAd, .GeminiAdItem, .GeminiNativeAd, .GoogleAdv, .GoogleDfpAd, .GoogleDfpAd-Content, .GoogleDfpAd-Float { display: none !important; }
.GoogleDfpAd-container, .GoogleDfpAd-wrap, .GoogleDfpAd-wrapper, .GoogleDfpAdModule, .GoogleDoubleClick-SponsorText, .GroupAdSense, .HeaderAd, .HeaderAds, .HeaderBannerAd, .HeadingAdSpace, .Hero-Ad, .HomeAds, .InArticleAd, .IndexRightAd, .InsertedAd, .LastAd, .LayoutBottomAds, .LayoutHomeAds, .LayoutHomeAdsAd, .LayoutPromotionAdsNew, .LazyLoadAd, .LeaderAd, .LeaderAdvertisement, .LeaderBoardAd, .LearderAd_Border, .ListicleAdRow, .MPUHolder, .MPUad, .MapLayout_BottomAd, .MapLayout_BottomMobiAd, .MarketGid_container, .MbanAd, .MiddleAd, .MiddleAdContainer, .MiddleAdvert, .MiddleRightRadvertisement, .NA_ad, .NR-Ads, .NativeAdContainerRegion, .NavBarAd, .Normal-add, .OAS_wrap, .OcelotAdModule, .OcelotAdModule-ad, .PPD_ADS_JS, .Page-ad, .PageTopAd, .PcSideBarAd, .PencilAd, .PostAdvertisementBeforePost { display: none !important; }
.PostSidebarAd, .Post__ad, .PrimisResponsiveStyle, .PrintAd-Slider, .ProductAd, .PushdownAd, .RectangleAd, .Rectangle_1-ad-holder, .Rectangle_2-ad-holder, .Rectangle_3-ad-holder, .RelatedAds, .ResponsiveAd, .RightAd, .RightAd1, .RightAd2, .RightAdvertisement, .RightGoogleAd, .RightRailAd, .RightRailAds, .RightTowerAd, .STR_AdBlock, .SecondaryAd, .SecondaryAdLink, .Section-ad, .SectionSponsor, .SideAd, .SideAdCol, .SideAds, .SideWidget__ad, .Sidebar-ad, .Sidebar-ad--300x600, .SidebarAd, .SidebarAdvert, .SidebarRightAdvertisement, .SimpleAd, .SkyAdContainer, .SkyAdContent, .SkyScraperAd, .SovrnAd, .Sponsor-container, .SponsorHeader, .SponsorIsland, .SponsorLink, .SponsoredAdTitle, .SponsoredArticleAd, .SponsoredContent, .SponsoredContentWidget, .SponsoredLinks, .SponsoredLinksModule, .SponsoredLinksPadding { display: none !important; }
.SponsoredLinksPanel, .SponsoredResults, .Sponsored_link, .SquareAd, .Sticky-AdContainer, .StickyAdRail__Inner, .SummaryPage-HeaderAd, .TextAd, .TextAdds, .Textads, .TopAd, .TopAdBox, .TopAdContainer, .TopAdL, .TopAdR, .TopAds, .TopBannerAd, .TopRightRadvertisement, .Top_Ad, .TrackedBannerPromo, .TrackedSidebarPromo, .TrafficAd, .U210-adv-column, .UnderAd, .VerticalAd, .Video-Ad, .VideoAd, .WPBannerizeWidget, .WP_Widget_Ad_manager, .WideAdTile, .WideAdsLeft, .WidgetAdvertiser, .WidthAd, .\[\&_\.gdprAdTransparencyCogWheelButton\]\:\!pjra-z-\[5\], ._SummaryPageHeaderAdView, ._SummaryPageSidebarStickyAdView, ._ads, ._ads-full, ._ap_adrecover_ad, ._ap_apex_ad, ._articleAdvert, ._bannerAds, ._bottom_ad_wrapper, ._fullsquaread, ._has-ads, ._popIn_recommend_article_ad, ._popIn_recommend_article_ad_reserved, ._table_ad_div_wide, .a-ad, .a-d-250 { display: none !important; }
.a-d-90, .a-dserver, .a-dserver_text, .a-sponsor, .ab-ad_placement-article, .ablock300, .ablock468, .ablock728, .above-header-advert, .aboveCommentAds, .abovead, .ac-banner-ad, .ac-widget-placeholder, .ac_adbox, .acm-ad-tag-unit, .ad--300, .ad--300x250, .ad--468, .ad--468-60, .ad--728x90, .ad--970-750-336-300, .ad--970-90, .ad--article, .ad--article-top, .ad--articlemodule, .ad--b, .ad--banner, .ad--banner2, .ad--banniere_basse, .ad--banniere_haute, .ad--billboard, .ad--bottom, .ad--bottom-label, .ad--bottommpu, .ad--boundries, .ad--button, .ad--c, .ad--center, .ad--centered, .ad--container, .ad--content, .ad--content-ad, .ad--dart, .ad--desktop, .ad--displayed, .ad--droite_basse, .ad--droite_haute, .ad--droite_middle, .ad--e, .ad--fallback { display: none !important; }
.ad--footer, .ad--fullsize, .ad--google, .ad--halfpage, .ad--header, .ad--homepage-top, .ad--in-article, .ad--in-content, .ad--inArticleBanner, .ad--inline, .ad--inner, .ad--large, .ad--leaderboard, .ad--loading, .ad--medium-rectangle, .ad--medium_rectangle, .ad--medium_rectangle_outstream, .ad--mediumrectangle, .ad--mid, .ad--mid-content, .ad--mobile, .ad--mpu, .ad--native, .ad--nativeFlex, .ad--no-bg, .ad--noscroll, .ad--object, .ad--outstream, .ad--overlayer, .ad--p1, .ad--p2, .ad--p3, .ad--p4, .ad--p6, .ad--p7, .ad--placeholder, .ad--pubperform, .ad--pushdown, .ad--rail, .ad--rectangle, .ad--rectangle1, .ad--rectangle2, .ad--right, .ad--rightRail, .ad--scroll, .ad--section, .ad--sidebar, .ad--sky, .ad--skyscraper, .ad--slider { display: none !important; }
.ad--slot, .ad--sponsor-content, .ad--square-rectangle, .ad--sticky, .ad--stripe, .ad--stroeer, .ad--subcontainer, .ad--top, .ad--top-desktop, .ad--top-leaderboard, .ad--top-slot, .ad--topmobile, .ad--topmobile2, .ad--topmobile3, .ad--wallpaper, .ad--widget, .ad--wrapper, .ad-1, .ad-120-60, .ad-120x60, .ad-120x600, .ad-120x90, .ad-125x125, .ad-13, .ad-137, .ad-14, .ad-160, .ad-160-160, .ad-160-600, .ad-160x600, .ad-2, .ad-200, .ad-200x200, .ad-250, .ad-250x300, .ad-3, .ad-300, .ad-300-2, .ad-300-250-600, .ad-300-600, .ad-300-b, .ad-300-block, .ad-300-dummy, .ad-300-flex, .ad-300-x-250, .ad-300250, .ad-300X250, .ad-300X250-body, .ad-300x, .ad-300x100 { display: none !important; }
.ad-300x200, .ad-300x250, .ad-300x600, .ad-336, .ad-336x280, .ad-336x280B, .ad-350, .ad-4, .ad-468, .ad-468x120, .ad-468x60, .ad-5, .ad-544x250, .ad-55, .ad-560, .ad-6, .ad-600, .ad-600-h, .ad-635x40, .ad-7, .ad-728, .ad-728-90, .ad-728-banner, .ad-728-x-90, .ad-728x90, .ad-728x90-1, .ad-728x90-top, .ad-728x90-top0, .ad-728x90-wrapper, .ad-728x90_forum, .ad-768, .ad-8, .ad-88-60, .ad-88x31, .ad-9, .ad-90, .ad-90x600, .ad-970, .ad-970-250, .ad-970-90, .ad-970250, .ad-970x250, .ad-970x90, .ad-Advert_Placeholder, .ad-E, .ad-LREC, .ad-LREC2, .ad-Leaderboard, .ad-MPU, .ad-MediumRectangle { display: none !important; }
.ad-PENCIL, .ad-S, .ad-Square, .ad-SuperBanner, .ad-TOPPER, .ad-W, .ad-a, .ad-ab, .ad-abc, .ad-above-header, .ad-accordion, .ad-active, .ad-adSense, .ad-adcode, .ad-adhesion, .ad-adlink-bottom, .ad-adlink-side, .ad-adsense, .ad-adsense-block-250, .ad-advertisement-horizontal, .ad-affiliate, .ad-after-content, .ad-after-header, .ad-align-none, .ad-aligncenter, .ad-alignment, .ad-alsorectangle, .ad-anchor, .ad-aps-wide, .ad-area--pd, .ad-area-small, .ad-article-breaker, .ad-article-inline, .ad-article-teaser, .ad-article-wrapper, .ad-aside-pc-billboard, .ad-atf, .ad-atf-top, .ad-background, .ad-background-center, .ad-background-container, .ad-ban, .ad-banner-2, .ad-banner-250x600, .ad-banner-300, .ad-banner-300x250, .ad-banner-5, .ad-banner-6, .ad-banner-728x90, .ad-banner-bottom-container { display: none !important; }
.ad-banner-box, .ad-banner-btf, .ad-banner-container, .ad-banner-content, .ad-banner-full-wrapper, .ad-banner-header, .ad-banner-image, .ad-banner-inlisting, .ad-banner-leaderboard, .ad-banner-placeholder, .ad-banner-single, .ad-banner-smaller, .ad-banner-static, .ad-banner-top, .ad-banner-top-wrapper, .ad-banner-wrapper, .ad-banners, .ad-bar, .ad-bar-header, .ad-bb, .ad-before-header, .ad-below, .ad-below-images, .ad-below-player, .ad-belowarticle, .ad-bg, .ad-big, .ad-big-box, .ad-bigbanner, .ad-bigbillboard, .ad-bigbox, .ad-bigbox-double-inread, .ad-bigbox-fixed, .ad-bigsize, .ad-billboard, .ad-bline, .ad-block, .ad-block--300, .ad-block--leader, .ad-block-300, .ad-block-banner-container, .ad-block-big, .ad-block-bottom, .ad-block-btf, .ad-block-container, .ad-block-header, .ad-block-holder, .ad-block-inside, .ad-block-mod, .ad-block-section { display: none !important; }
.ad-block-square, .ad-block-sticky-ad, .ad-block-wide, .ad-block-wk, .ad-block-wrapper, .ad-block-wrapper-dev, .ad-blogads, .ad-bnr, .ad-body, .ad-boombox, .ad-border, .ad-bordered, .ad-borderless, .ad-bot, .ad-bottom, .ad-bottom-container, .ad-bottom-right-container, .ad-bottom728x90, .ad-bottomLeft, .ad-bottomleader, .ad-bottomline, .ad-box-2, .ad-box-300x250, .ad-box-auto, .ad-box-caption, .ad-box-container, .ad-box-title, .ad-box-up, .ad-box-video, .ad-box-wrapper, .ad-box1, .ad-box2, .ad-box3, .ad-box:not(#ad-banner):not(:empty), .ad-box_h, .ad-boxamp-wrapper, .ad-boxbottom, .ad-boxes, .ad-boxsticky, .ad-boxtop, .ad-brdr-btm, .ad-break, .ad-break-item, .ad-breaker, .ad-breakout, .ad-browse-rectangle, .ad-bt, .ad-btn, .ad-btn-heading, .ad-bug-300w { display: none !important; }
.ad-burnside, .ad-button, .ad-buttons, .ad-c-label, .ad-cad, .ad-calendar, .ad-call-300x250, .ad-callout, .ad-callout-wrapper, .ad-caption, .ad-card, .ad-card-container, .ad-carousel, .ad-cat, .ad-catfish, .ad-cell, .ad-cen, .ad-cen2, .ad-cen3, .ad-center, .ad-centered, .ad-centering, .ad-chartbeatwidget, .ad-choices, .ad-circ, .ad-click, .ad-close-button, .ad-cls, .ad-cls-fix, .ad-cnt, .ad-code, .ad-codes, .ad-col, .ad-col-02, .ad-colour, .ad-column, .ad-comment, .ad-companion, .ad-complete, .ad-component, .ad-component-fullbanner2, .ad-component-wrapper, .ad-contain, .ad-contain-300x250, .ad-contain-top, .ad-container--inline, .ad-container--leaderboard, .ad-container--masthead, .ad-container--mrec, .ad-container--stripe { display: none !important; }
.ad-container--top, .ad-container-160x600, .ad-container-300x250, .ad-container-728, .ad-container-728x90, .ad-container-adsense, .ad-container-banner-top, .ad-container-bot, .ad-container-bottom, .ad-container-box, .ad-container-embedded, .ad-container-header, .ad-container-inner, .ad-container-inthread, .ad-container-leaderboard, .ad-container-left, .ad-container-m, .ad-container-medium-rectangle, .ad-container-middle, .ad-container-multiple, .ad-container-pave, .ad-container-property, .ad-container-responsive, .ad-container-right, .ad-container-side, .ad-container-single, .ad-container-tool, .ad-container-top, .ad-container-topad, .ad-container-wrapper, .ad-container1, .ad-container3x, .ad-container__ad-slot, .ad-container__leaderboard, .ad-container__sticky-wrapper, .ad-container_row, .ad-content, .ad-content-area, .ad-content-rectangle, .ad-content-slot, .ad-content-wrapper, .ad-context, .ad-cover, .ad-critical, .ad-cta, .ad-current, .ad-curtain, .ad-custom-size, .ad-d, .ad-decoration { display: none !important; }
.ad-defer, .ad-desktop, .ad-desktop-in-content, .ad-desktop-legacy, .ad-desktop-native-1, .ad-desktop-native-2, .ad-desktop-only, .ad-desktop-right, .ad-detail, .ad-dfp-column, .ad-dfp-row, .ad-disclaimer, .ad-disclaimer-container, .ad-disclaimer-text, .ad-display, .ad-displayed, .ad-diver, .ad-divider, .ad-dog, .ad-dog__cnx-container, .ad-dog__ratio-16x9, .ad-dt, .ad-dx_wrp, .ad-e, .ad-element, .ad-enabled, .ad-engage, .ad-entity-container, .ad-entry-wrapper, .ad-ex, .ad-exchange, .ad-expand, .ad-external, .ad-fadein, .ad-fadeup, .ad-feature-content, .ad-feature-sponsor, .ad-feature-text, .ad-featured-video-caption, .ad-feedback, .ad-fi, .ad-field, .ad-filler, .ad-filmstrip, .ad-first, .ad-fix, .ad-fixed, .ad-flag, .ad-flex, .ad-flex-center { display: none !important; }
.ad-float, .ad-floating, .ad-floor, .ad-footer, .ad-footer-empty, .ad-footer-leaderboard, .ad-format-300x250, .ad-format-300x600, .ad-forum, .ad-frame, .ad-frame-container, .ad-full, .ad-full-width, .ad-fullbanner, .ad-fullbanner-btf-container, .ad-fullbannernohieght, .ad-fullwidth, .ad-gap-sm, .ad-giga, .ad-google, .ad-google-contextual, .ad-gpt, .ad-gpt-breaker, .ad-gpt-container, .ad-gpt-main, .ad-gpt-vertical, .ad-graphic-large, .ad-gray, .ad-grey, .ad-grid, .ad-grid-125, .ad-grid-container, .ad-group, .ad-halfpage, .ad-halfpage-placeholder, .ad-hdr, .ad-head, .ad-header, .ad-header-below, .ad-header-container, .ad-header-creative, .ad-header-inner-wrap, .ad-header-pencil, .ad-header-placeholder, .ad-header-sidebar, .ad-header-small-square, .ad-heading, .ad-height-250, .ad-height-280, .ad-height-600 { display: none !important; }
.ad-here, .ad-hero, .ad-hide-mobile, .ad-hideable, .ad-hint, .ad-hldr-tmc, .ad-ho, .ad-hold, .ad-holder, .ad-holder-center, .ad-holder-mob-300, .ad-home-bottom, .ad-home-leaderboard-placeholder, .ad-home-right, .ad-homeleaderboard, .ad-homepage, .ad-homepage-1, .ad-homepage-2, .ad-homepage-one, .ad-hor, .ad-horizontal, .ad-horizontal-large, .ad-horizontal-top, .ad-horizontal-top-wrapper, .ad-hoverable, .ad-hpto, .ad-icon, .ad-identifier, .ad-iframe, .ad-iframe-container, .ad-in-content, .ad-in-content-300, .ad-in-post, .ad-in-read, .ad-in-results, .ad-inStory, .ad-incontent, .ad-incontent-wrap, .ad-index-main, .ad-indicator-horiz, .ad-info-wrap, .ad-inline, .ad-inline-article, .ad-inline-block, .ad-inner, .ad-inner-container, .ad-inner-container-background, .ad-innr, .ad-insert, .ad-inserter-widget { display: none !important; }
.ad-inside, .ad-integrated-display, .ad-internal, .ad-interruptor, .ad-interstitial, .ad-island, .ad-item, .ad-item-related, .ad-label, .ad-lable, .ad-landscape, .ad-large-1, .ad-large-game, .ad-last, .ad-lat, .ad-lat2, .ad-layer, .ad-lazy, .ad-lb, .ad-ldrbrd, .ad-lead, .ad-lead-bottom, .ad-leader, .ad-leader-board, .ad-leader-bottom, .ad-leader-plus-top, .ad-leader-top, .ad-leader-wrap, .ad-leader-wrapper, .ad-leaderboard, .ad-leaderboard-base, .ad-leaderboard-companion, .ad-leaderboard-container, .ad-leaderboard-flex, .ad-leaderboard-footer, .ad-leaderboard-header, .ad-leaderboard-middle, .ad-leaderboard-placeholder, .ad-leaderboard-slot, .ad-leaderboard-splitter, .ad-leaderboard-top, .ad-leaderboard-wrapper, .ad-leaderbody, .ad-leaderheader, .ad-leadtop, .ad-left-1, .ad-left-top, .ad-leftrail, .ad-lib-div, .ad-line { display: none !important; }
.ad-link, .ad-link-block, .ad-link-label, .ad-link-left, .ad-link-right, .ad-links, .ad-links-text, .ad-list-desktop, .ad-list-item, .ad-loaded, .ad-loader, .ad-location, .ad-location-container, .ad-lock, .ad-lock-content, .ad-lowerboard, .ad-lrec, .ad-m-banner, .ad-m-mrec, .ad-m-rec, .ad-mad, .ad-main, .ad-manager-ad, .ad-manager-placeholder, .ad-manager-wrapper, .ad-margin, .ad-marketplace, .ad-marketswidget, .ad-marquee, .ad-masthead, .ad-masthead-1, .ad-masthead-left, .ad-mb, .ad-med, .ad-med-rec, .ad-med-rect, .ad-med-rect-tmp, .ad-medium, .ad-medium-container, .ad-medium-content, .ad-medium-rectangle, .ad-medium-rectangle-base, .ad-medium-two, .ad-medium-widget, .ad-medrect, .ad-megaboard, .ad-message, .ad-messaging, .ad-microsites, .ad-midleader { display: none !important; }
.ad-mobile, .ad-mobile--sticky, .ad-mobile-300x150, .ad-mobile-300x250, .ad-mobile-300x50, .ad-mobile-banner, .ad-mobile-flex-inc, .ad-mobile-flex-pos2, .ad-mobile-incontent-ad-plus, .ad-mobile-mpu-plus-outstream-inc, .ad-mobile-nav-ad-plus, .ad-mod, .ad-mod-section, .ad-mod-section-728-90, .ad-module, .ad-mount, .ad-mpl, .ad-mpu, .ad-mpu-bottom, .ad-mpu-container, .ad-mpu-middle, .ad-mpu-middle2, .ad-mpu-placeholder, .ad-mpu-plus-top, .ad-mpu-top, .ad-mpu__aside, .ad-mpufixed, .ad-mr-article, .ad-mrec, .ad-mrect, .ad-msg, .ad-msn, .ad-native, .ad-native-top-sidebar, .ad-nav-ad, .ad-nav-ad-plus, .ad-new, .ad-new-box, .ad-no-css, .ad-no-mobile, .ad-no-notice, .ad-no-style, .ad-noBorderAndMargin, .ad-noline, .ad-note, .ad-notice, .ad-notice-small, .ad-observer, .ad-oms, .ad-on { display: none !important; }
.ad-on-top, .ad-one, .ad-other, .ad-outer, .ad-outlet, .ad-outline, .ad-output-middle, .ad-output-wrapper, .ad-outside, .ad-overlay, .ad-packs, .ad-padding, .ad-page-leader, .ad-page-medium, .ad-page-setting, .ad-pagehead, .ad-panel, .ad-panel-wrap, .ad-panel__container, .ad-panel__container--styled, .ad-panel__googlead, .ad-panorama, .ad-parallax, .ad-parent-billboard, .ad-parent-class, .ad-parent-halfpage, .ad-pb, .ad-peg, .ad-pencil-margin, .ad-permalink, .ad-personalise, .ad-place, .ad-place-active, .ad-place-holder, .ad-placeholder--mpu, .ad-placeholder-leaderboard, .ad-placeholder-wrapper, .ad-placeholder-wrapper-dynamic, .ad-placeholder__inner, .ad-placement-left, .ad-placement-right, .ad-places, .ad-plea, .ad-poc, .ad-poc-admin, .ad-point, .ad-popup, .ad-popup-content, .ad-pos, .ad-pos-0 { display: none !important; }
.ad-pos-1, .ad-pos-2, .ad-pos-3, .ad-pos-4, .ad-pos-5, .ad-pos-6, .ad-pos-7, .ad-pos-8, .ad-pos-middle, .ad-pos-top, .ad-position, .ad-position-1, .ad-position-2, .ad-poss, .ad-post, .ad-post-footer, .ad-post-top, .ad-postText, .ad-poster, .ad-posterad-inlisting, .ad-preloader-container, .ad-preparing, .ad-prevent-jump, .ad-primary, .ad-primary-desktop, .ad-primary-sidebar, .ad-priority, .ad-program-list, .ad-program-top, .ad-promo, .ad-pub, .ad-push, .ad-pushdown, .ad-r, .ad-rac-box, .ad-rail, .ad-rail-wrapper, .ad-ratio, .ad-rb-hover, .ad-reader-con-item, .ad-rect, .ad-rect-atf-01, .ad-rect-top-right, .ad-rectangle, .ad-rectangle-1, .ad-rectangle-banner, .ad-rectangle-container, .ad-rectangle-long, .ad-rectangle-long-sky, .ad-rectangle-text { display: none !important; }
.ad-rectangle-wide, .ad-rectangle-xs, .ad-rectangle2, .ad-rectanglemed, .ad-region, .ad-region-delay-load, .ad-related, .ad-relatedbottom, .ad-render-space, .ad-responsive, .ad-responsive-slot, .ad-responsive-wide, .ad-result, .ad-rev-content, .ad-rh, .ad-right, .ad-right-header, .ad-right1, .ad-right2, .ad-right3, .ad-risingstar-container, .ad-roadblock, .ad-root, .ad-rotation, .ad-rotator, .ad-row, .ad-row-box, .ad-row-horizontal, .ad-row-horizontal-top, .ad-row-viewport, .ad-s, .ad-s-rendered, .ad-sample, .ad-script-processed, .ad-scroll, .ad-scrollpane, .ad-search-grid, .ad-secondary-desktop, .ad-section, .ad-section-body, .ad-section-one, .ad-section-three, .ad-section__skyscraper, .ad-sense, .ad-sense-ad, .ad-sep, .ad-separator, .ad-shifted, .ad-show-label, .ad-showcase { display: none !important; }
.ad-side, .ad-side-one, .ad-side-top, .ad-side-wrapper, .ad-sidebar, .ad-sidebar-mrec, .ad-sidebar-skyscraper, .ad-siderail, .ad-signup, .ad-single-bottom, .ad-sitewide, .ad-size-300x600, .ad-size-728x90, .ad-size-landscape, .ad-size-leaderboard, .ad-size-medium-rectangle, .ad-size-medium-rectangle-flex, .ad-size-mpu, .ad-skeleton, .ad-skin-link, .ad-sky, .ad-sky-left, .ad-sky-right, .ad-sky-wrap, .ad-skyscr, .ad-skyscraper, .ad-skyscraper1, .ad-skyscraper2, .ad-skyscraper3, .ad-slider, .ad-slot, .ad-slot--container, .ad-slot--inline, .ad-slot--mostpop, .ad-slot--mpu-banner-ad, .ad-slot--rendered, .ad-slot--right, .ad-slot--top, .ad-slot--top-above-nav, .ad-slot--top-banner-ad, .ad-slot--wrapper, .ad-slot-1, .ad-slot-2, .ad-slot-234-60, .ad-slot-300-250, .ad-slot-728-90, .ad-slot-a, .ad-slot-article, .ad-slot-banner, .ad-slot-bigbox { display: none !important; }
.ad-slot-billboard, .ad-slot-box, .ad-slot-container, .ad-slot-container-1, .ad-slot-desktop, .ad-slot-full-width, .ad-slot-header, .ad-slot-horizontal, .ad-slot-inview, .ad-slot-placeholder, .ad-slot-rail, .ad-slot-replies, .ad-slot-replies-header, .ad-slot-responsive, .ad-slot-sidebar, .ad-slot-sidebar-b, .ad-slot-tall, .ad-slot-top, .ad-slot-top-728, .ad-slot-widget, .ad-slot-wrapper, .ad-slotRg, .ad-slotRgc, .ad-slot__ad--top, .ad-slot__content, .ad-slot__label, .ad-slot__oas, .ad-slots-wrapper, .ad-slug, .ad-small, .ad-small-1, .ad-small-2, .ad-smallBP, .ad-source, .ad-sp, .ad-space-mpu-box, .ad-space-topbanner, .ad-spacing, .ad-span, .ad-speedbump, .ad-splash, .ad-sponsor, .ad-sponsor-large-container, .ad-sponsor-text, .ad-sponsored-feed-top, .ad-sponsored-links, .ad-sponsored-post, .ad-sponsors, .ad-spot, .ad-spotlight { display: none !important; }
.ad-spteaser, .ad-sq-super, .ad-square, .ad-square-placeholder, .ad-square2-container, .ad-square300, .ad-squares, .ad-stack, .ad-standard, .ad-statement, .ad-static, .ad-sticky, .ad-sticky-banner, .ad-sticky-bottom, .ad-sticky-container, .ad-sticky-slot, .ad-sticky-wrapper, .ad-stickyhero, .ad-stickyhero--standard, .ad-stickyhero-enable-mobile, .ad-story-inject, .ad-story-top, .ad-strategic, .ad-strip, .ad-style2, .ad-subnav-container, .ad-subtitle, .ad-summary, .ad-superbanner, .ad-superbanner-node, .ad-t, .ad-t-text, .ad-table, .ad-tabs, .ad-tag, .ad-tag-square, .ad-tag__inner, .ad-tag__wrapper, .ad-takeover, .ad-takeover-homepage, .ad-tall, .ad-tech-widget, .ad-temp, .ad-text, .ad-text-centered, .ad-text-label, .ad-text-link, .ad-text-links, .ad-textads, .ad-textlink { display: none !important; }
.ad-thanks, .ad-ticker, .ad-tile, .ad-title, .ad-tl1, .ad-top, .ad-top-300x250, .ad-top-728, .ad-top-728x90, .ad-top-banner, .ad-top-billboard, .ad-top-billboard-init, .ad-top-box-right, .ad-top-container, .ad-top-desktop, .ad-top-featured, .ad-top-in, .ad-top-lboard, .ad-top-left, .ad-top-mobile, .ad-top-mpu, .ad-top-padding, .ad-top-rectangle, .ad-top-right-container, .ad-top-side, .ad-top-slot, .ad-top-spacing, .ad-top-wrap-inner, .ad-top-wrapper, .ad-topbanner, .ad-topper, .ad-topright, .ad-tower, .ad-tower-container, .ad-towers, .ad-transition, .ad-trck, .ad-two, .ad-twos, .ad-txt, .ad-txt-red, .ad-type, .ad-type-branding, .ad-type-cube, .ad-type-flex-leaderboard, .ad-unit--leaderboard, .ad-unit-2, .ad-unit-300, .ad-unit-300-wrapper, .ad-unit-container { display: none !important; }
.ad-unit-horisontal, .ad-unit-inline-center, .ad-unit-label, .ad-unit-mpu, .ad-unit-panel, .ad-unit-secondary, .ad-unit-sponsored-bar, .ad-unit-t, .ad-unit-text, .ad-unit-top, .ad-unit-wrapper, .ad-unit__inner, .ad-units-single-header-wrapper, .ad-update, .ad-vert, .ad-vertical, .ad-vertical-container, .ad-vertical-stack-ad, .ad-view-zone, .ad-w-300, .ad-w-728, .ad-w-970, .ad-warning, .ad-warp, .ad-watermark, .ad-wgt, .ad-wide, .ad-wide-bottom, .ad-wide-wrap, .ad-widget, .ad-widget-area, .ad-widget-box, .ad-widget-list, .ad-widget-sizes, .ad-widget-wrapper, .ad-widgets, .ad-width-300, .ad-width-728, .ad-wireframe, .ad-wireframe-wrapper, .ad-with-background, .ad-with-header-wrapper, .ad-with-notice, .ad-wp, .ad-wp-720, .ad-wppr, .ad-wppr-container, .ad-wrap-leaderboard, .ad-wrap-transparent, .ad-wrap:not(#google_ads_iframe_checktag) { display: none !important; }
.ad-wrap_wallpaper, .ad-wrapp, .ad-wrapper, .ad-wrapper--ad-unit-wrap, .ad-wrapper--articletop, .ad-wrapper--lg, .ad-wrapper--sidebar, .ad-wrapper-250, .ad-wrapper-bg, .ad-wrapper-desktop, .ad-wrapper-left, .ad-wrapper-mobile, .ad-wrapper-mobile-atf, .ad-wrapper-outer, .ad-wrapper-solid, .ad-wrapper-sticky, .ad-wrapper-top, .ad-wrapper-with-text, .ad-wrapper__ad-slug, .ad-xs-title, .ad-zone-ajax, .ad-zone-container, .ad.addon, .ad.bottomrect, .ad.box, .ad.brandboard, .ad.card, .ad.center, .ad.contentboard, .ad.desktop-970x250, .ad.element, .ad.floater-link, .ad.gallery, .ad.halfpage, .ad.inner, .ad.item, .ad.leaderboard, .ad.maxiboard, .ad.maxisky, .ad.middlerect, .ad.module, .ad.monsterboard, .ad.netboard, .ad.post-area, .ad.promotion, .ad.rectangle, .ad.rectangle_2, .ad.rectangle_3, .ad.rectangle_home_1, .ad.section { display: none !important; }
.ad.sidebar-module, .ad.size-300x250, .ad.skybridgeleft, .ad.small-mpu, .ad.small-teaser, .ad.super, .ad.wideboard_tablet, .ad02, .ad03, .ad04, .ad08sky, .ad1-float, .ad1-left, .ad1-right, .ad10, .ad100, .ad1000, .ad1001, .ad100x100, .ad120, .ad120_600, .ad120x120, .ad120x240GrayBorder, .ad120x60, .ad120x600, .ad125, .ad125x125, .ad125x125a, .ad125x125b, .ad140, .ad160, .ad160600, .ad160_blk, .ad160_l, .ad160_r, .ad160b, .ad160x160, .ad160x600, .ad160x600GrayBorder, .ad160x600_1, .ad160x600box, .ad170x30, .ad18, .ad180, .ad180x80, .ad185x100, .ad19, .ad1Image, .ad1_bottom, .ad1_latest { display: none !important; }
.ad1_top, .ad1b, .ad1left, .ad1x1, .ad2-float, .ad200, .ad200x60, .ad220x50, .ad230, .ad233x224, .ad234, .ad234x60, .ad236x62, .ad240, .ad250, .ad250wrap, .ad250x250, .ad250x300, .ad260, .ad260x60, .ad284x134, .ad290, .ad2content_box, .ad300, .ad300-hp-top, .ad3001, .ad300250, .ad300Block, .ad300Wrapper, .ad300X250, .ad300_2, .ad300_250, .ad300_bg, .ad300_ver2, .ad300b, .ad300banner, .ad300px, .ad300shows, .ad300top, .ad300w, .ad300x100, .ad300x120, .ad300x150, .ad300x250, .ad300x250-1, .ad300x250-2, .ad300x250-inline, .ad300x250Module, .ad300x250Right, .ad300x250Top { display: none !important; }
.ad300x250_box, .ad300x250_container, .ad300x250a, .ad300x250b, .ad300x250box, .ad300x250box2, .ad300x250flex, .ad300x250s, .ad300x250x2, .ad300x40, .ad300x50-right, .ad300x600, .ad300x600cat, .ad300x600post, .ad300x77, .ad300x90, .ad310, .ad315, .ad320x250, .ad320x50, .ad336, .ad336_b, .ad336x250, .ad336x280, .ad336x362, .ad343x290, .ad350, .ad350r, .ad360, .ad366, .ad3rdParty, .ad400, .ad400right, .ad400x40, .ad450, .ad468, .ad468_60, .ad468box, .ad468innerboxadpic, .ad468x60, .ad468x60Wrap, .ad468x60_main, .ad470x60, .ad530, .ad540x90, .ad590, .ad590x90, .ad5_container, .ad600, .ad612x80 { display: none !important; }
.ad620x70, .ad626X35, .ad640x480, .ad644, .ad650x140, .ad652, .ad70, .ad728, .ad72890, .ad728By90, .ad728_90, .ad728_blk, .ad728_cont, .ad728_wrap, .ad728b, .ad728cont, .ad728h, .ad728top, .ad728x90, .ad728x90-1, .ad728x90-2, .ad728x90box, .ad728x90btf, .ad970, .ad970_250, .adActive, .adAlert, .adArea, .adAreaLC, .adAreaNative, .adAreaTopTitle, .adArticleBanner, .adArticleBody, .adArticleSideTop300x250, .adBan, .adBanner300x250, .adBanner728x90, .adBillboard, .adBkgd, .adBlock, .adBlock728, .adBlockBottom, .adBlockSpacer, .adBlockSpot, .adBorder, .adBorders, .adBox, .adBox-small, .adBox1, .adBox2 { display: none !important; }
.adBox5, .adBox6, .adBox728, .adBox728X90, .adBox728X90_header, .adBoxBody, .adBoxBorder, .adBoxContainer, .adBoxContent, .adBoxFooter, .adBoxHeader, .adBoxSidebar, .adBoxSingle, .adBoxTitle, .adBox_1, .adBox_3, .adBtm, .adCall, .adCaptionText, .adCell, .adCenter, .adCenterAd, .adCentertile, .adChoice, .adChoiceLogo, .adChoicesLogo, .adChrome, .adClose, .adCode, .adColumn, .adColumnLeft, .adColumnRight, .adComponent, .adCont, .adContTop, .adContainer1, .adContainerSide, .adContent, .adContentAd, .adContour, .adCopy, .adCreative, .adCreator, .adCube, .adDefRect, .adDetails_ad336, .adDiv, .adDrawer, .adDyn, .adElement { display: none !important; }
.adExpanded, .adFooterLinks, .adFrame, .adFrameCnt, .adFrameContainer, .adFrames, .adFuel-label, .adFull, .adFullbanner, .adGlobalHeader, .adGoogle, .adGroup, .adHalfPage, .adHead, .adHeader, .adHeaderAdbanner, .adHeaderText, .adHeaderblack, .adHeading, .adHeadline, .adHeadlineSummary, .adHed, .adHeight200, .adHeight270, .adHeight280, .adHeight313, .adHeight600, .adHolder, .adHolder2, .adHolderStory, .adHoldert, .adHome300x250, .adHomeSideTop300x250, .adHorisontal, .adHorisontalNoBorder, .adHorizontalTextAlt, .adHplaceholder, .adHz, .adIDiv, .adIframe, .adIframeCount, .adImg, .adImgIM, .adInArticle, .adInContent, .adInfo, .adInitRemove, .adInner, .adInnerLeftBottom, .adInsider { display: none !important; }
.adInteractive, .adIsland, .adItem, .adLabel, .adLabelLine, .adLabels, .adLargeRec, .adLargeRect, .adLat, .adLeader, .adLeaderBoard_container, .adLeaderForum, .adLeaderboard, .adLeaderboardAdContainer, .adLeft, .adLine, .adLink, .adLinkCnt, .adListB, .adLoader, .adLocal, .adLocation, .adMPU, .adMPUHome, .adMRECHolder, .adMarker, .adMarkerBlock, .adMastheadLeft, .adMastheadRight, .adMed, .adMedRectBox, .adMedRectBoxLeft, .adMediaMiddle, .adMediumRectangle, .adMessage, .adMiddle, .adMinHeight280, .adMinHeight313, .adMiniTower, .adMod, .adModule, .adModule--inner, .adModule--outer, .adModule-outer, .adModule300, .adModuleAd, .adMpu, .adMpuHolder, .adMrginBottom, .adNarrow { display: none !important; }
.adNoBorder, .adNoOutline, .adNone, .adNote, .adNotice, .adNotice90, .adNoticeOut, .adNotification, .adObj, .adOne, .adOuterContainer, .adOverlay, .adPanel, .adPanelContent, .adPanorama, .adPlaceholder, .adPlacement, .adPod, .adPosition, .adPremium, .adRecommend, .adRecommendRight, .adRect, .adRectangle, .adRectangle-pos-large, .adRectangle-pos-medium, .adRectangle-pos-small, .adRectangleBanner, .adRectangleUnit, .adRemove, .adRenderer, .adRendererInfinite, .adResponsive, .adResult, .adResults, .adRight, .adRightSide, .adRightSky, .adRoller, .adRotator, .adRow, .adRowTopWrapper, .adSKY, .adSection, .adSenceImagePush, .adSense, .adSense-header, .adSepDiv, .adServer, .adSeven { display: none !important; }
.adSide, .adSideBarMPU, .adSideBarMPUTop, .adSidebarButtons, .adSizer, .adSkin, .adSky, .adSkyscaper, .adSkyscraper, .adSlice, .adSlide, .adSlot, .adSlot-container, .adSlotAdition, .adSlotCnt, .adSlotContainer, .adSlotHeaderContainer, .adSlug, .adSpBelow, .adSpace, .adSpace300x250, .adSpace950x90, .adSpacer, .adSpec, .adSplash, .adSponsor, .adSponsorText, .adSponsorhipInfo, .adSpot, .adSpot-mrec, .adSpot-textBox, .adSpotBlock, .adSpotFullWidth, .adSpotIsland, .adSquare, .adStatementText, .adStyle, .adStyle1, .adSub, .adSubColPod, .adSummary, .adSuperboard, .adSupertower, .adTD, .adTXTnew, .adTab, .adTag, .adTag-top, .adTag-wrap, .adTagThree { display: none !important; }
.adTagTwo, .adText, .adTextDownload, .adTextPmpt, .adTextStreaming, .adTextWrap, .adTicker, .adTile, .adTileWrap, .adTiler, .adTip, .adTitle, .adTitleR, .adTop, .adTopBk, .adTopFloat, .adTopHome, .adTopLB, .adTopLeft, .adTopRight, .adTopWrapper, .adTopboxright, .adTwo, .adTxt, .adType2, .adUnderArticle, .adUnit, .adUnitHorz, .adUnitVert, .adVar, .adVertical, .adVideo, .adVideo2, .adVl, .adVplaceholder, .adWarning, .adWebBoard, .adWideSkyscraper, .adWideSkyscraperRight, .adWidget, .adWidgetBlock, .adWithTab, .adWizard-ad, .adWord, .adWords-bg, .adWrap, .adWrapLg, .adWrapper, .adWrapper1, .adZone { display: none !important; }
.adZoneRight, .ad_0, .ad_1, .ad_1000_125, .ad_120x60, .ad_120x600, .ad_120x90, .ad_125, .ad_130x90, .ad_150x150, .ad_160, .ad_160_600, .ad_160x600, .ad_188_inner, .ad_2, .ad_200, .ad_240, .ad_250250, .ad_250x200, .ad_250x250, .ad_290_290, .ad_3, .ad_300, .ad_300250, .ad_300_250, .ad_300_250_1, .ad_300_250_2, .ad_300_250_wrapper, .ad_300_600, .ad_300by250, .ad_300x100, .ad_300x250, .ad_300x250_container, .ad_300x600, .ad_320x250_async, .ad_336, .ad_336x280, .ad_350x250, .ad_4, .ad_468, .ad_468x60, .ad_5, .ad_600, .ad_640, .ad_640x480, .ad_728, .ad_72890, .ad_728Home, .ad_728_90, .ad_728_90_1 { display: none !important; }
.ad_728_90b, .ad_728_top, .ad_728x90, .ad_728x90-1, .ad_728x90-2, .ad_728x90_container, .ad_728x90b, .ad_90, .ad_970x250, .ad_970x250_300x250, .ad_970x250_container, .ad_Bumper, .ad_Flex, .ad_Left, .ad_Right, .ad__300x250, .ad__300x600, .ad__970x250, .ad__align, .ad__centered, .ad__container, .ad__content, .ad__full--width, .ad__header, .ad__holder, .ad__image, .ad__in_article, .ad__inline, .ad__item, .ad__label, .ad__leaderboard, .ad__mobi, .ad__mobile-footer, .ad__mpu, .ad__placeholder, .ad__rectangle, .ad__section-border, .ad__sidebar, .ad__space, .ad__sticky, .ad__template, .ad__window, .ad__wrapper, .ad_adv, .ad_after_section, .ad_amazon, .ad_area, .ad_area_two, .ad_back, .ad_background { display: none !important; }
.ad_background_1, .ad_background_true, .ad_banner, .ad_banner2, .ad_banner_2, .ad_banner_250x250, .ad_banner_468, .ad_banner_728, .ad_banner_728x90_inner, .ad_banner_border, .ad_banner_div, .ad_bar, .ad_below_content, .ad_belowfirstpost_frame, .ad_bg, .ad_bgskin, .ad_big_banner, .ad_bigbox, .ad_billboard, .ad_blk, .ad_block, .ad_block_1, .ad_block_2, .ad_block_widget, .ad_body, .ad_border, .ad_botbanner, .ad_bottom, .ad_bottom_728, .ad_bottom_leaderboard, .ad_bottom_left, .ad_bottom_mpu, .ad_bottom_space, .ad_box, .ad_box1, .ad_box2, .ad_box_2, .ad_box_6, .ad_box_9, .ad_box_ad, .ad_box_div, .ad_box_header, .ad_box_spacer, .ad_box_top, .ad_break, .ad_break2_container, .ad_break_container, .ad_btf, .ad_btn, .ad_btn-white { display: none !important; }
.ad_btn1, .ad_btn2, .ad_by, .ad_callout, .ad_caption, .ad_center, .ad_center_bottom, .ad_centered, .ad_choice, .ad_choices, .ad_cl, .ad_claim, .ad_click, .ad_cls_fix, .ad_code, .ad_col, .ad_column, .ad_column_box, .ad_common, .ad_con, .ad_cont, .ad_cont_footer, .ad_contain, .ad_container, .ad_container_body, .ad_container_bottom, .ad_content, .ad_content_below, .ad_content_bottom, .ad_content_wide, .ad_content_wrapper, .ad_contents, .ad_crown, .ad_custombanner, .ad_d_big, .ad_db, .ad_default, .ad_description, .ad_desktop, .ad_disclaimer, .ad_div, .ad_div_banner, .ad_div_box, .ad_div_box2, .ad_element, .ad_embed, .ad_feature, .ad_float, .ad_floating_box, .ad_fluid { display: none !important; }
.ad_footer, .ad_footer_super_banner, .ad_frame, .ad_frame_around, .ad_fullwidth, .ad_gam, .ad_global_header, .ad_google, .ad_gpt, .ad_grein_botn, .ad_grid, .ad_group, .ad_half_page, .ad_halfpage, .ad_hd, .ad_head, .ad_head_rectangle, .ad_header, .ad_header_top, .ad_heading, .ad_headline, .ad_holder, .ad_horizontal, .ad_hover_href, .ad_iframe2, .ad_image, .ad_img, .ad_imgae_150, .ad_in_article, .ad_in_text, .ad_incontent, .ad_index02, .ad_indicator, .ad_inline, .ad_inline_wrapper, .ad_inner, .ad_inset, .ad_island, .ad_item, .ad_label, .ad_large, .ad_lb, .ad_leader, .ad_leader_bottom, .ad_leader_plus_top, .ad_leaderboard, .ad_leaderboard_atf, .ad_leaderboard_master, .ad_leaderboard_top, .ad_leaderboard_wrap { display: none !important; }
.ad_left, .ad_left_cell, .ad_left_column, .ad_lft, .ad_line2, .ad_link, .ad_links, .ad_lnks, .ad_loc, .ad_long, .ad_lrec, .ad_lrgsky, .ad_lt, .ad_main, .ad_maintopad, .ad_margin, .ad_marker, .ad_masthead, .ad_med, .ad_medium_rectangle, .ad_medrec, .ad_medrect, .ad_megabanner, .ad_message, .ad_mid_post_body, .ad_middle, .ad_middle_banner, .ad_mobile, .ad_mod, .ad_module, .ad_mp, .ad_mpu, .ad_mpu_top, .ad_mr, .ad_mrec, .ad_native, .ad_native_xrail, .ad_news, .ad_no_border, .ad_note, .ad_notice, .ad_oms, .ad_on_article, .ad_one, .ad_one_one, .ad_one_third, .ad_outer, .ad_overlays, .ad_p360, .ad_pagebody { display: none !important; }
.ad_panel, .ad_paragraphs_desktop_container, .ad_partner, .ad_partners, .ad_pause, .ad_pic, .ad_place, .ad_placeholder, .ad_placeholder_d_b, .ad_placeholder_d_s, .ad_placeholder_d_sticky, .ad_placement, .ad_plus, .ad_position, .ad_post, .ad_primary, .ad_promo, .ad_promo1, .ad_promo_spacer, .ad_push, .ad_r, .ad_rec, .ad_rect, .ad_rectangle, .ad_rectangle_300_250, .ad_rectangle_medium, .ad_rectangular, .ad_regular1, .ad_regular2, .ad_regular3, .ad_reminder, .ad_response, .ad_rhs, .ad_right, .ad_rightSky, .ad_right_300_250, .ad_right_cell, .ad_right_col, .ad_rightside, .ad_row, .ad_scroll, .ad_secondary, .ad_segment, .ad_sense_01, .ad_sense_footer_container, .ad_share_box, .ad_side, .ad_side_box, .ad_side_rectangle_banner, .ad_sidebar { display: none !important; }
.ad_sidebar_bigbox, .ad_sidebar_inner, .ad_sidebar_left, .ad_sidebar_right, .ad_size_160x600, .ad_skin, .ad_sky, .ad_sky2, .ad_sky2_2, .ad_skyscpr, .ad_skyscraper, .ad_skyscrapper, .ad_slider_out, .ad_slot, .ad_slot_inread, .ad_slot_right, .ad_slug, .ad_small, .ad_space, .ad_space_300_250, .ad_spacer, .ad_sponsor, .ad_sponsor_fp, .ad_sponsoredsection, .ad_spot, .ad_spot_b, .ad_spot_c, .ad_spotlight, .ad_square, .ad_square_r, .ad_square_r_top, .ad_square_top, .ad_start, .ad_static, .ad_station, .ad_story_island, .ad_stream, .ad_stream_hd, .ad_sub, .ad_supersize, .ad_table, .ad_tag, .ad_tag_middle, .ad_text, .ad_text_link, .ad_text_links, .ad_text_vertical, .ad_text_w, .ad_textlink1, .ad_textlink_box { display: none !important; }
.ad_thumbnail_header, .ad_title, .ad_title_small, .ad_tlb, .ad_to_list, .ad_top, .ad_top1, .ad_top_1, .ad_top_2, .ad_top_3, .ad_top_banner, .ad_top_leaderboard, .ad_top_left, .ad_top_mpu, .ad_top_right, .ad_topic_content, .ad_topmain, .ad_topright, .ad_topshop, .ad_tower, .ad_trailer_header, .ad_trick_header, .ad_trick_left, .ad_ttl, .ad_two, .ad_two_third, .ad_txt2, .ad_type_1, .ad_type_adsense, .ad_type_dfp, .ad_under, .ad_under_royal_slider, .ad_unit, .ad_unit_300, .ad_unit_300_x_250, .ad_unit_600, .ad_unit_rail, .ad_unit_wrapper, .ad_unit_wrapper_main, .ad_url, .ad_v2, .ad_v3, .ad_vertisement, .ad_w, .ad_w300h450, .ad_w300i, .ad_w_us_a300, .ad_warn, .ad_warning, .ad_watch_now { display: none !important; }
.ad_watermark, .ad_wid300, .ad_wide, .ad_wide_vertical, .ad_widget, .ad_widget_200_100, .ad_widget_200_200, .ad_widget_image, .ad_widget_title, .ad_word, .ad_wrap, .ad_wrapper, .ad_wrapper_300, .ad_wrapper_970x90, .ad_wrapper_box, .ad_wrapper_false, .ad_wrapper_fixed, .ad_wrapper_top, .ad_wrp, .ad_xrail, .ad_xrail_top, .ad_zone, .adace-adi-popup-wrapper, .adace-slideup-slot-wrap, .adace-slot, .adace-slot-wrapper, .adace-sponsors-box, .adace-vignette, .adalert-overlayer, .adalert-toplayer, .adamazon, .adarea, .adarea-long, .adarticle, .adb-top, .adback, .adban, .adband, .adbanner-300-250, .adbanner-bottom, .adbanner1, .adbannerbox, .adbannerright, .adbannertop, .adbase, .adbbox, .adbckgrnd, .adbetween, .adbetweenarticles, .adbkgnd { display: none !important; }
.adblade, .adblade-container, .adbladeimg, .adblk, .adblock-bottom, .adblock-header, .adblock-header1, .adblock-main, .adblock-popup, .adblock-top, .adblock-top-left, .adblock-wide, .adblock300, .adblock300250, .adblock728x90, .adblock__banner, .adblock_noborder, .adblock_primary, .adblockdiv, .adblocks-topright, .adboard, .adborder, .adborderbottom, .adbordertop, .adbot, .adbot_postbit, .adbot_showthread, .adbottom, .adbottomright, .adbox-300x250, .adbox-468x60, .adbox-border-desk, .adbox-box, .adbox-header, .adbox-outer, .adbox-rectangle, .adbox-sidebar, .adbox-slider, .adbox-style, .adbox-title, .adbox-topbanner, .adbox-wrapper, .adbox1, .adbox160, .adbox2, .adbox300, .adbox300x250, .adbox336, .adbox600, .adbox728 { display: none !important; }
.adboxRightSide, .adboxTopBanner, .adboxVert, .adbox_300x600, .adbox_310x400, .adbox_366x280, .adbox_468X60, .adbox_border, .adbox_bottom, .adbox_br, .adbox_cont, .adbox_largerect, .adbox_left, .adbox_top, .adboxbg, .adboxbot, .adboxclass, .adboxcm, .adboxcontent, .adboxcontentsum, .adboxes, .adboxesrow, .adboxid, .adboxlarge, .adboxlong, .adboxo, .adboxtop, .adbreak, .adbrite2, .adbtn, .adbtns, .adbttm_right_300, .adbttm_right_label, .adbucks, .adbug, .adbutler-inline-ad, .adbutler-top-banner, .adbutler_top_banner, .adbutton, .adbutton-block, .adbuttons, .adcard, .adcasing, .adcenter, .adchange, .adchoices, .adchoices-link, .adclass, .adcode, .adcode-widget { display: none !important; }
.adcode2, .adcode300x250, .adcode728x90, .adcode_container, .adcodetextwrap300x250, .adcodetop, .adcol1, .adcol2, .adcolumn, .adcolumn_wrapper, .adcomment, .adcon, .adcont, .adcontainer-Leaderboard, .adcontainer-Rectangle, .adcontainer2, .adcontainer300x250l, .adcontainer300x250r, .adcontainer_big, .adcontainer_footer, .adcopy, .add-sidebar, .add300, .add300top, .add300x250, .addAdvertContainer, .add_topbanner, .addarea, .addarearight, .addbanner, .addboxRight, .addisclaimer, .addiv, .adds2, .adds300x250, .adds620x90, .addtitle, .addvert, .addwide, .adengageadzone, .adenquire, .adex-ad-text, .adfbox, .adfeedback, .adfeeds, .adfix, .adflag, .adflexi, .adfliction, .adfoot { display: none !important; }
.adfootbox, .adfooter, .adform__topbanner, .adfoxly-overlay, .adfoxly-place-delay, .adfoxly-wrapper, .adframe, .adframe2, .adframe_banner, .adframe_rectangle, .adfree, .adfront, .adfront-head, .adfrp, .adfull, .adgear, .adgmleaderboard, .adguru-content-html, .adguru-modal-popup, .adhalfhome, .adhalfpage, .adhalfpageright, .adhead, .adheader, .adheightpromo, .adheighttall, .adherebox, .adhesion-block, .adhesion-header, .adhesion:not(body), .adhesiveAdWrapper, .adhesiveWrapper, .adhesive_holder, .adhi, .adhide, .adhint, .adholder, .adholder-300, .adholder2, .adholderban, .adhoriz, .adiframe, .adindex, .adindicator, .adinfo, .adinjwidget, .adinner, .adinpost, .adinsert, .adinsert160 { display: none !important; }
.adinside, .adintext, .adintro, .adisclaimer, .adisland, .adits, .adjlink, .adk-slot, .adkicker, .adkit, .adlabel-horz, .adlabel-vert, .adlabel1, .adlabel2, .adlabel3, .adlabelleft, .adlarge, .adlarger, .adlateral, .adlayer, .adleader, .adleft1, .adleftph, .adlgbox, .adline, .adlink, .adlinkdiv, .adlinks, .adlinks-class, .adlist, .adlist1, .adlist2, .adloaded, .adlsot, .admain, .adman, .admarker, .admaster, .admediumred, .admedrec, .admeldBoxAd, .admessage, .admiddle, .admiddlesidebar, .admngr, .admngrfr, .admngrft, .admods, .admodule, .admoduleB { display: none !important; }
.admpu, .admpu-small, .admputop, .admz, .adnSpot, .adname, .adnet_area, .adnotecenter, .adnotice, .adnotification, .adnz-ad-placeholder, .adocean, .adocean728x90, .adocean_desktop_section, .adops, .adpacks, .adpacks_content, .adpadding, .adpane, .adparent, .adpic, .adplace, .adplace_center, .adplaceholder, .adplaceholder-top, .adplacement, .adplate-background, .adplugg-tag, .adpod, .adpopup, .adpos-300-mobile, .adpost, .adposter_pos, .adproxy, .adrec, .adrechts, .adrect, .adrectangle, .adrectwrapper, .adrevtising-buttom, .adright, .adright300, .adrightlg, .adrightsm, .adrighttop, .adriverBanner, .adroot, .adrotate-sponsor, .adrotate-widget, .adrotate_ads_row { display: none !important; }
.adrotate_top_banner, .adrotate_widget, .adrotate_widgets, .adrotatediv, .adrow, .adrule, .ads--bottom-spacing, .ads--desktop, .ads--full, .ads--no-preload, .ads--sidebar, .ads--single, .ads--square, .ads--super, .ads--top, .ads-1, .ads-120x600, .ads-125, .ads-160x600, .ads-160x600-outer, .ads-2, .ads-3, .ads-300, .ads-300-250, .ads-300-box, .ads-300x250, .ads-300x250-sidebar, .ads-300x300, .ads-300x600, .ads-300x600-wrapper-en, .ads-320-50, .ads-320x250, .ads-336x280, .ads-468, .ads-728, .ads-728-90, .ads-728by90, .ads-728x90, .ads-980x90, .ads-above-comments, .ads-ad, .ads-advertorial, .ads-article-right, .ads-articlebottom, .ads-aside, .ads-banner, .ads-banner-bottom, .ads-banner-js, .ads-banner-middle, .ads-banner-spacing { display: none !important; }
.ads-banner-top, .ads-banner-top-right, .ads-base, .ads-beforecontent, .ads-below-content, .ads-below-home, .ads-below-view-content, .ads-between-comments, .ads-bg, .ads-bigbox, .ads-bilboards, .ads-bing-bottom, .ads-bing-top, .ads-block, .ads-block-bottom-wrap, .ads-block-link-text, .ads-block-panel-tipo-1, .ads-block-rightside, .ads-block-top, .ads-block-top-right, .ads-border, .ads-bottom, .ads-bottom-block, .ads-bottom-center, .ads-bottom-content, .ads-bottom-left, .ads-bottom-right, .ads-box, .ads-box-border, .ads-box-cont, .ads-bt, .ads-btm, .ads-by, .ads-by-google, .ads-callback, .ads-card, .ads-carousel, .ads-center, .ads-centered, .ads-cnt, .ads-code, .ads-col, .ads-cols, .ads-cont, .ads-content, .ads-core-placer, .ads-custom, .ads-decorator, .ads-desktop, .ads-div { display: none !important; }
.ads-el, .ads-end-content, .ads-favicon, .ads-feed, .ads-fieldset, .ads-footer, .ads-fr, .ads-global-header, .ads-global-top, .ads-google, .ads-google-bottom, .ads-google-top, .ads-grp, .ads-half, .ads-header, .ads-header-desktop, .ads-header-left, .ads-header-right, .ads-here, .ads-hints, .ads-holder, .ads-home, .ads-homepage-2, .ads-horizontal, .ads-horizontal-banner, .ads-image, .ads-inarticle, .ads-inline, .ads-inner, .ads-instance, .ads-internal, .ads-item, .ads-label, .ads-label-inverse, .ads-large, .ads-leaderboard, .ads-leaderboard-border, .ads-leaderboard-panel, .ads-leaderbord, .ads-left, .ads-line, .ads-list, .ads-loaded, .ads-long, .ads-main, .ads-margin, .ads-marker, .ads-medium-rect, .ads-middle, .ads-middle-top { display: none !important; }
.ads-minheight, .ads-mini, .ads-mini-3rows, .ads-mobile, .ads-module, .ads-module-alignment, .ads-movie, .ads-mpu, .ads-narrow, .ads-native-wrapper, .ads-note, .ads-one, .ads-outer, .ads-panel, .ads-parent, .ads-pholder, .ads-placeholder, .ads-placeholder-inside, .ads-placeholder-wrapper, .ads-placment, .ads-post, .ads-post-closing, .ads-post-footer, .ads-post-full, .ads-posting, .ads-profile, .ads-rail, .ads-rect, .ads-rectangle, .ads-relatedbottom, .ads-rendering-fix, .ads-right, .ads-right-min, .ads-rotate, .ads-row, .ads-scroller-box, .ads-section, .ads-side, .ads-sidebar, .ads-sidebar-boxad, .ads-sidebar-widget, .ads-sign, .ads-single, .ads-site, .ads-size-small, .ads-skin, .ads-skin-mobile, .ads-sky, .ads-skyscraper, .ads-skyscraper-container-left { display: none !important; }
.ads-skyscraper-container-right, .ads-skyscraper-left, .ads-skyscraper-right, .ads-small, .ads-small-horizontal, .ads-small-squares, .ads-smartphone, .ads-social-box, .ads-sponsored-title, .ads-sponsors, .ads-square, .ads-square-large, .ads-square-small, .ads-squares, .ads-star, .ads-stick-footer, .ads-sticky, .ads-story, .ads-story-leaderboard-atf, .ads-stripe, .ads-styled, .ads-superbanner, .ads-system, .ads-text, .ads-title, .ads-to-hide, .ads-top, .ads-top-728, .ads-top-center, .ads-top-content, .ads-top-fixed, .ads-top-home, .ads-top-left, .ads-top-main, .ads-top-right, .ads-top-spacer, .ads-topbar, .ads-two, .ads-txt, .ads-ul, .ads-verticle, .ads-wall-container, .ads-wide, .ads-widget, .ads-widget-content, .ads-widget-content-wrap, .ads-widget-link, .ads-wrap, .ads-wrapper, .ads-wrapper-top { display: none !important; }
.ads-x1, .ads-zone, .ads.bottom, .ads.box, .ads.cell, .ads.cta, .ads.grid-layout, .ads.square, .ads.top, .ads.widget, .ads01, .ads1, .ads10, .ads11, .ads120, .ads120_600, .ads120_600-widget, .ads120_80, .ads120x, .ads123, .ads125, .ads125-widget, .ads160, .ads160-600, .ads2, .ads250, .ads250-250, .ads2Block, .ads3, .ads300, .ads300-200, .ads300-250, .ads300250, .ads300_250, .ads300_600-widget, .ads300box, .ads300x600, .ads336_280, .ads336x280, .ads4, .ads468, .ads468x60, .ads600, .ads720x90, .ads728, .ads728_90, .ads728b, .ads728x90, .ads728x90-1, .ads970 { display: none !important; }
.adsAdvert, .adsArea, .adsBanner, .adsBannerLink, .adsBlock, .adsBlockContainerHorizontal, .adsBot, .adsBottom, .adsBoxTop, .adsCap, .adsCell, .adsColumn, .adsConfig, .adsCont, .adsDef, .adsDesktop, .adsDetailsPage, .adsDisclaimer, .adsDiv, .adsFirst, .adsFixed, .adsFull, .adsHeader, .adsHeading, .adsHeight300x250, .adsHeight720x90, .adsHome-full, .adsImages, .adsInner, .adsLabel, .adsLibrary, .adsLine, .adsList, .adsMPU, .adsMag, .adsMarker, .adsMiddle, .adsMvCarousel, .adsNetwork, .adsOuter, .adsOverPrimary, .adsPlaceHolder, .adsPostquare, .adsPushdown, .adsRectangleMedium, .adsRight, .adsRow, .adsSecond, .adsSectionRL, .adsSpacing { display: none !important; }
.adsSticky, .adsTag, .adsText, .adsTop, .adsTopBanner, .adsTopCont, .adsTower2, .adsTowerWrap, .adsTxt, .adsWidget, .adsWrap, .ads_160, .ads_180, .ads_2, .ads_3, .ads_300, .ads_300_250, .ads_300x250, .ads_300x600, .ads_4, .ads_468, .ads_468x60, .ads_720x90, .ads_728, .ads_728x90, .ads_Header, .ads__article__header, .ads__aside, .ads__container, .ads__header, .ads__horizontal, .ads__hyperleaderboard--hyperleaderboard, .ads__inline, .ads__interstitial, .ads__link, .ads__listing, .ads__mid, .ads__middle, .ads__midpage-fullwidth, .ads__native, .ads__right-rail-ad, .ads__sidebar, .ads__top, .ads_ad_box, .ads_after, .ads_after_more, .ads_amazon, .ads_area, .ads_article, .ads_ba_cad { display: none !important; }
.ads_bar, .ads_before, .ads_between_content, .ads_bg, .ads_big, .ads_bigrec, .ads_block, .ads_border, .ads_box, .ads_box_headline, .ads_box_type1, .ads_center, .ads_code, .ads_column, .ads_container_top, .ads_content, .ads_css, .ads_div, .ads_div1, .ads_foot, .ads_footer, .ads_footerad, .ads_full_1, .ads_google, .ads_h, .ads_h1, .ads_h2, .ads_header, .ads_header_bottom, .ads_holder, .ads_home, .ads_horizontal, .ads_inview, .ads_item, .ads_label, .ads_lb, .ads_leader, .ads_leaderboard, .ads_left, .ads_main, .ads_main_hp, .ads_media, .ads_medium, .ads_medium_rectangle, .ads_medrect, .ads_middle, .ads_middle-container, .ads_middle_container, .ads_mobile_vert, .ads_mpu { display: none !important; }
.ads_outer, .ads_outline, .ads_place, .ads_place_160, .ads_place_top, .ads_placeholder, .ads_player, .ads_post, .ads_prtext, .ads_rectangle, .ads_remove, .ads_right, .ads_rightbar_top, .ads_side, .ads_sideba, .ads_sidebar, .ads_single_center, .ads_single_side, .ads_single_top, .ads_singlepost, .ads_slice, .ads_slot, .ads_small, .ads_small_rectangle, .ads_space_long, .ads_spacer, .ads_square, .ads_takeover, .ads_text, .ads_tit, .ads_title, .ads_top, .ads_top_1, .ads_top_banner, .ads_top_both, .ads_top_middle, .ads_top_nav, .ads_topbanner, .ads_topleft, .ads_topright, .ads_tower, .ads_tr, .ads_under_data, .ads_unit, .ads_up, .ads_video, .ads_wide, .ads_widesky, .ads_widget, .ads_wrap { display: none !important; }
.ads_wrap-para, .ads_wrapper, .adsafp, .adsanity-alignnone, .adsanity-group, .adsanity-single, .adsarea, .adsartical, .adsbanner1, .adsbanner2, .adsbantop, .adsbar, .adsbg300, .adsbillboard, .adsblock, .adsblockvert, .adsbnr, .adsbody, .adsborder, .adsboth, .adsbottom, .adsbottombox, .adsbox--masthead, .adsbox-square, .adsbox970x90, .adsbox990x90, .adsboxBtn, .adsbox_300x250, .adsboxitem, .adsbx728x90, .adsbyadop, .adsbyexoclick, .adsbyexoclick-wrapper, .adsbygalaksion, .adsbygoogle-box, .adsbygoogle-noablate, .adsbygoogle-wrapper, .adsbygoogle2, .adsbypublift, .adsbypubmax, .adsbytrafficjunky, .adsbyvli, .adsbyxa, .adscaleTop, .adscenter, .adscentertext, .adsclick, .adscontainer, .adscontent250, .adscontentcenter { display: none !important; }
.adscontntad, .adscreen, .adsdelivery, .adsdesktop, .adsdiv, .adsection_a2, .adsection_c2, .adsection_c3, .adsenbox, .adsens, .adsense-250, .adsense-300-600, .adsense-336, .adsense-336-280, .adsense-468, .adsense-728-90, .adsense-ad-results, .adsense-ads, .adsense-afterpost, .adsense-area, .adsense-article, .adsense-block, .adsense-box, .adsense-center, .adsense-code, .adsense-container, .adsense-content, .adsense-div, .adsense-float, .adsense-googleAds, .adsense-header, .adsense-heading, .adsense-iframe-container, .adsense-inline, .adsense-left, .adsense-links, .adsense-loading, .adsense-module, .adsense-overlay, .adsense-post, .adsense-resposivo-meio, .adsense-right, .adsense-slot, .adsense-square, .adsense-sticky-slide, .adsense-title, .adsense-top, .adsense-unit, .adsense-widget, .adsense-wrapper { display: none !important; }
.adsense1, .adsense160x600, .adsense250, .adsense3, .adsense300, .adsense300x250, .adsense728, .adsense728x90, .adsenseAds, .adsenseBannerArea, .adsenseBlock, .adsenseContainer, .adsenseList, .adsenseRow, .adsenseSky, .adsenseWrapper, .adsense_200, .adsense_336_280, .adsense_728x90_container, .adsense_ad, .adsense_block, .adsense_bottom, .adsense_container, .adsense_content_300x250, .adsense_div_wrapper, .adsense_inner, .adsense_label, .adsense_leader, .adsense_media, .adsense_menu, .adsense_mpu, .adsense_rectangle, .adsense_results, .adsense_right, .adsense_sidebar, .adsense_sidebar_top, .adsense_single, .adsense_top, .adsense_top_ad, .adsense_unit, .adsense_wrapper, .adsensebig, .adsensefloat, .adsenseformat, .adsenseframe, .adsenseleaderboard, .adsensemobile, .adsenvelope, .adsep, .adserve_728 { display: none !important; }
.adserverBox, .adserver_zone, .adserverad, .adserving, .adset, .adsfloat, .adsfloatpanel, .adsforums, .adsghori, .adsgrd, .adsgvert, .adsheight-250, .adshome, .adshowbig, .adshowcase, .adshp, .adside, .adside-box-index, .adside-box-single, .adside_box, .adsidebar, .adsidebox, .adsider, .adsincs2, .adsinfo, .adsingle, .adsingle-r, .adsingleph, .adsitem, .adsize728, .adsizer, .adsizewrapper, .adskeeperWrap, .adsky, .adsleaderboard, .adsleaderboardbox, .adsleff, .adsleft, .adsleftblock, .adslibraryArticle, .adslider, .adslink, .adslist, .adslisting, .adslisting2, .adslistingz, .adsload, .adsloading, .adslogan, .adslot { display: none !important; }
.adslot--leaderboard, .adslot-area, .adslot-banner, .adslot-billboard, .adslot-feature, .adslot-inline-wide, .adslot-mpu, .adslot-rectangle, .adslot-widget, .adslot970, .adslotMid, .adslot_1, .adslot_1m, .adslot_2, .adslot_2m, .adslot_3, .adslot_300, .adslot_3d, .adslot_3m, .adslot_4, .adslot_728, .adslot__ad-container, .adslot__ad-wrapper, .adslot_blurred, .adslot_bot_300x250, .adslot_collapse, .adslot_popup, .adslot_side1, .adslothead, .adslotleft, .adslotright, .adslotright_1, .adslotright_2, .adslug, .adsmaintop, .adsmall, .adsmaller, .adsmalltext, .adsmanag, .adsmbody, .adsmedrect, .adsmedrectright, .adsmessage, .adsmobile, .adsninja-ad-zone, .adsninja-ad-zone-container-with-set-height, .adsninja-rail-zone, .adsnippet_widget, .adsns, .adsntl { display: none !important; }
.adsonar-after, .adsonofftrigger, .adsoptimal-slot, .adsother, .adspace, .adspace-300x600, .adspace-336x280, .adspace-728x90, .adspace-MR, .adspace-lb, .adspace-leaderboard, .adspace-lr, .adspace-mpu, .adspace-mtb, .adspace-top, .adspace-widget, .adspace1, .adspace180, .adspace2, .adspace728x90, .adspace_2, .adspace_bottom, .adspace_buysell, .adspace_right, .adspace_rotate, .adspace_skyscraper, .adspace_top, .adspacer, .adspacer2, .adspan, .adspanel, .adspecial390, .adspeed, .adsplash-160x600, .adsplat, .adsponsor, .adspop, .adspost, .adspot, .adspot-desk, .adspot-title, .adspot1, .adspot200x90, .adspot468x60, .adspot728x90, .adspotGrey, .adspot_468x60, .adspot_728x90, .adsprefooter, .adspreview { display: none !important; }
.adsrecnode, .adsresponsive, .adsright, .adss, .adss-rel, .adssidebar2, .adsskyscraper, .adsslotcustom2, .adsslotcustom4, .adssmall, .adssquare, .adssquare2, .adsterra, .adstext, .adstextpad, .adstipt, .adstitle, .adstop, .adstory, .adstrip, .adstyle, .adsverting, .adsvideo, .adswallpapr, .adswidget, .adswiper, .adswitch, .adswordatas, .adsystem_ad, .adszone, .adt-300x250, .adt-300x600, .adt-728x90, .adtab, .adtable, .adtag, .adtc, .adtech, .adtech-ad-widget, .adtech-banner, .adtech-boxad, .adtech-copy, .adtech-video-2, .adtech-wrapper, .adtechMobile, .adtech_wrapper, .adtester-container, .adtext-bg, .adtext_gray, .adtext_horizontal { display: none !important; }
.adtext_onwhite, .adtext_vertical, .adtext_white, .adtextleft, .adtextright, .adthrive, .adthrive-ad, .adthrive-content, .adthrive-header, .adthrive-header-container, .adthrive-placeholder-content, .adthrive-placeholder-header, .adthrive-placeholder-static-sidebar, .adthrive-placeholder-video, .adthrive-sidebar, .adthrive-video-player, .adthrive_custom_ad, .adtile, .adtips, .adtips1, .adtitle, .adtoggle, .adtop, .adtop-border, .adtops, .adtower, .adtravel, .adttl, .adtxt, .adtxtlinks, .adult-adv, .adun, .adunit, .adunit-300-250, .adunit-active, .adunit-adbridg, .adunit-container, .adunit-container_sitebar_1, .adunit-googleadmanager, .adunit-lazy, .adunit-middle, .adunit-parent, .adunit-purch, .adunit-side, .adunit-title, .adunit-top, .adunit-wrap, .adunit-wrapper, .adunit125, .adunit160 { display: none !important; }
.adunit300x250, .adunit468, .adunitContainer, .adunit_300x250, .adunit_728x90, .adunit_content, .adunit_footer, .adunit_leaderboard, .adunit_rectangle, .adv--h600, .adv--square, .adv-120x600, .adv-160, .adv-160x600, .adv-200-200, .adv-250-250, .adv-300, .adv-300-1, .adv-300-250, .adv-300-600, .adv-300x250, .adv-300x250-generic, .adv-336-280, .adv-4, .adv-468-60, .adv-468x60, .adv-700, .adv-728, .adv-728-90, .adv-970, .adv-970-250, .adv-970-250-2, .adv-980x60, .adv-ad, .adv-ads-selfstyle, .adv-aside, .adv-background, .adv-banner, .adv-bar, .adv-block, .adv-block-container, .adv-border, .adv-bottom, .adv-box, .adv-box-holder, .adv-box-wrapper, .adv-carousel, .adv-center, .adv-click, .adv-cont { display: none !important; }
.adv-cont1, .adv-conteiner, .adv-dvb, .adv-format-1, .adv-full-width, .adv-google, .adv-gpt-desktop-wrapper, .adv-gpt-wrapper-desktop, .adv-halfpage, .adv-header, .adv-holder, .adv-in-body, .adv-inset, .adv-intext, .adv-intext-label, .adv-key, .adv-label, .adv-leaderboard, .adv-leaderboard-banner, .adv-link--left, .adv-link--right, .adv-mobile-wrapper, .adv-mpu, .adv-outer, .adv-p, .adv-right, .adv-right-300, .adv-rotator, .adv-script-container, .adv-sidebar, .adv-skin-spacer, .adv-slot-container, .adv-text, .adv-top, .adv-top-banner, .adv-top-container, .adv-top-page, .adv-top-skin, .adv-under-video, .adv-unit, .adv-videoad, .adv-x61, .adv1, .adv120, .adv200, .adv250, .adv300, .adv300-250, .adv300-250-2, .adv300-70 { display: none !important; }
.adv300left, .adv300x100, .adv300x250, .adv300x60, .adv300x70, .adv336, .adv350, .adv460x60, .adv468, .adv468x90, .adv728, .adv728x90, .advBottom, .advBottomHome, .advBox, .advInt, .advLeaderboard, .advRightBig, .advSquare, .advText, .advTop, .adv_120, .adv_120_600, .adv_120x240, .adv_120x600, .adv_160_600, .adv_160x600, .adv_250, .adv_250_250, .adv_300, .adv_300_300, .adv_300_top, .adv_300x250, .adv_336_280, .adv_468_60, .adv_728_90, .adv_728x90, .adv__box, .adv__leaderboard, .adv__wrapper, .adv_aff, .adv_banner, .adv_banner_hor, .adv_bg, .adv_box, .adv_box_narrow, .adv_here, .adv_img, .adv_leaderboard, .adv_left { display: none !important; }
.adv_link, .adv_main_middle, .adv_main_middle_wrapper, .adv_main_right_down, .adv_main_right_down_wrapper, .adv_medium_rectangle, .adv_message, .adv_msg, .adv_panel, .adv_right, .adv_side1, .adv_side2, .adv_sidebar, .adv_title, .adv_top, .adv_txt, .adv_under_menu, .advads-background, .advads-close-button, .advads-parallax-container, .advads-sticky, .advads-target, .advads-widget, .advads_ad_widget-11, .advads_ad_widget-18, .advads_ad_widget-2, .advads_ad_widget-21, .advads_ad_widget-3, .advads_ad_widget-4, .advads_ad_widget-5, .advads_ad_widget-8, .advads_ad_widget-9, .advads_widget, .advance-ads, .advart, .advbig, .adver, .adver-block, .adver-header, .adver-left, .adver-text, .adverTag, .adverTxt, .adver_bot, .adver_cont_below, .adver_home, .advert--background, .advert--banner-wrap, .advert--fallback, .advert--header { display: none !important; }
.advert--in-sidebar, .advert--inline, .advert--leaderboard, .advert--loading, .advert--outer, .advert--placeholder, .advert--right-rail, .advert--square, .advert-100, .advert-120x90, .advert-160x600, .advert-300, .advert-300-side, .advert-728, .advert-728-90, .advert-728x90, .advert-article-bottom, .advert-autosize, .advert-background, .advert-banner, .advert-banner-container, .advert-banner-holder, .advert-bannerad, .advert-bar, .advert-bg-250, .advert-block, .advert-border, .advert-bot-box, .advert-bottom, .advert-box, .advert-bronze, .advert-bronze-btm, .advert-btm, .advert-card, .advert-center, .advert-col, .advert-col-center, .advert-competitions, .advert-container, .advert-content, .advert-content-item, .advert-detail, .advert-dfp, .advert-featured, .advert-footer, .advert-gold, .advert-group, .advert-head, .advert-header-728, .advert-horizontal { display: none !important; }
.advert-image, .advert-info, .advert-inner, .advert-label, .advert-leaderboard, .advert-leaderboard2, .advert-loader, .advert-mini, .advert-mpu, .advert-mrec, .advert-note, .advert-overlay, .advert-pane, .advert-panel, .advert-placeholder, .advert-placeholder-wrapper, .advert-preview-wrapper, .advert-right, .advert-row, .advert-section, .advert-sidebar, .advert-silver, .advert-sky, .advert-skyright, .advert-skyscraper, .advert-slider, .advert-spot-container, .advert-sticky-wrapper, .advert-stub, .advert-text, .advert-three, .advert-title, .advert-top, .advert-top-footer, .advert-txt, .advert-unit, .advert-wide, .advert-wingbanner-left, .advert-wingbanner-right, .advert-wrap, .advert-wrap1, .advert-wrap2, .advert-wrapper, .advert-wrapper-exco, .advert.box, .advert.desktop, .advert.mobile, .advert.mpu, .advert.skyscraper, .advert1 { display: none !important; }
.advert120, .advert1Banner, .advert2, .advert300, .advert4, .advert5, .advert728_90, .advert728x90, .advert8, .advertBanner, .advertBar, .advertBlock, .advertBottom, .advertBox, .advertCaption, .advertColumn, .advertCont, .advertContainer, .advertDownload, .advertFullBanner, .advertHeader, .advertHeadline, .advertLink, .advertLink1, .advertMPU, .advertMiddle, .advertMpu, .advertRight, .advertSideBar, .advertSign, .advertSlider, .advertSlot, .advertSuperBanner, .advertText, .advertTitleSky, .advertWrapper, .advert_300x250, .advert_336, .advert_468x60, .advert__container, .advert__fullbanner, .advert__leaderboard, .advert__mpu, .advert__sidebar, .advert__tagline, .advert_area, .advert_banner, .advert_banners, .advert_block, .advert_box { display: none !important; }
.advert_caption, .advert_cont, .advert_container, .advert_div, .advert_foot, .advert_header, .advert_home_300, .advert_img, .advert_label, .advert_leaderboard, .advert_line, .advert_list, .advert_main, .advert_main_bottom, .advert_mpu, .advert_nav, .advert_note, .advert_pos, .advert_small, .advert_span, .advert_text, .advert_title, .advert_top, .advert_txt, .advert_wrapper, .advertbar, .advertbox, .adverteaser, .advertembed, .adverthome, .adverticum_container, .adverticum_content, .advertis, .advertis-left, .advertis-right, .advertise-1, .advertise-2, .advertise-box, .advertise-here, .advertise-horz, .advertise-info, .advertise-leaderboard, .advertise-link, .advertise-list, .advertise-pic, .advertise-small, .advertise-square, .advertise-top, .advertise-vert, .advertiseContainer { display: none !important; }
.advertiseHere, .advertiseText, .advertise_ads, .advertise_box, .advertise_brand, .advertise_carousel, .advertise_here, .advertise_link, .advertise_link_sidebar, .advertise_links, .advertise_sec, .advertise_text, .advertise_txt, .advertise_verRight, .advertisebtn, .advertisedBy, .advertisement-1, .advertisement-2, .advertisement-250, .advertisement-300, .advertisement-300x250, .advertisement-background, .advertisement-banner, .advertisement-block, .advertisement-bottom, .advertisement-box, .advertisement-card, .advertisement-cell, .advertisement-container, .advertisement-content, .advertisement-copy, .advertisement-footer, .advertisement-google, .advertisement-header, .advertisement-holder, .advertisement-image, .advertisement-label, .advertisement-layout, .advertisement-leaderboard, .advertisement-leaderboard-lg, .advertisement-left, .advertisement-link, .advertisement-nav, .advertisement-placeholder, .advertisement-position1, .advertisement-right, .advertisement-sidebar, .advertisement-space, .advertisement-sponsor, .advertisement-tag { display: none !important; }
.advertisement-text, .advertisement-title, .advertisement-top, .advertisement-txt, .advertisement-wrapper, .advertisement.leaderboard, .advertisement.rectangle, .advertisement.under-article, .advertisement1, .advertisement300x250, .advertisement468, .advertisementBackground, .advertisementBanner, .advertisementBar, .advertisementBlock, .advertisementBox, .advertisementBoxBan, .advertisementContainer, .advertisementFull, .advertisementHeader, .advertisementImg, .advertisementLabel, .advertisementPanel, .advertisementRotate, .advertisementSection, .advertisementSmall, .advertisementText, .advertisementTop, .advertisement_160x600, .advertisement_300x250, .advertisement_728x90, .advertisement__header, .advertisement__label, .advertisement__leaderboard, .advertisement__wrapper, .advertisement_box, .advertisement_container, .advertisement_footer, .advertisement_header, .advertisement_horizontal, .advertisement_mobile, .advertisement_part, .advertisement_post, .advertisement_section_top, .advertisement_text, .advertisement_top, .advertisement_wrapper, .advertisements-link, .advertisements-right, .advertisements-sidebar { display: none !important; }
.advertisements_heading, .advertisementwrap, .advertiser, .advertiser-links, .advertising--row, .advertising--top, .advertising-banner, .advertising-block, .advertising-container, .advertising-container-top, .advertising-content, .advertising-disclaimer, .advertising-fixed, .advertising-header, .advertising-iframe, .advertising-inner, .advertising-leaderboard, .advertising-lrec, .advertising-mediumrectangle, .advertising-mention, .advertising-middle, .advertising-middle-i, .advertising-notice, .advertising-right, .advertising-right-d, .advertising-right-i, .advertising-section, .advertising-side, .advertising-side-hp, .advertising-srec, .advertising-top, .advertising-top-banner, .advertising-top-box, .advertising-top-category, .advertising-top-desktop, .advertising-vert, .advertising-wrapper, .advertising1, .advertising160, .advertising2, .advertising300_home, .advertising300x250, .advertising728, .advertising728_3, .advertisingBanner, .advertisingBlock, .advertisingLabel, .advertisingLegend, .advertisingLrec, .advertisingMob { display: none !important; }
.advertisingRight, .advertisingSlide, .advertisingTable, .advertisingTop, .advertising_300x250, .advertising_banner, .advertising_block, .advertising_bottom_box, .advertising_box_bg, .advertising_header_1, .advertising_hibu_lef, .advertising_hibu_mid, .advertising_hibu_rig, .advertising_horizontal_title, .advertising_images, .advertising_square, .advertising_top, .advertising_vertical_title, .advertising_widget, .advertising_wrapper, .advertisingarea, .advertisingarea-homepage, .advertisingimage, .advertisingimage-extended, .advertisingimageextended, .advertisment, .advertisment-banner, .advertisment-label, .advertisment-left-panal, .advertisment-module, .advertisment-rth, .advertisment-top, .advertismentBox, .advertismentContainer, .advertismentContent, .advertismentText, .advertisment_bar, .advertisment_caption, .advertisment_full, .advertisment_notice, .advertisment_two, .advertize, .advertize_here, .advertizing-banner, .advertlabel, .advertleft, .advertlink, .advertnotice, .advertop, .advertorial { display: none !important; }
.advertorial-2, .advertorial-block, .advertorial-image, .advertorial-promo-box, .advertorial-teaser, .advertorial-wrapper, .advertorial2, .advertorial_728x90, .advertorial_red, .advertorialitem, .advertorialtitle, .advertorialview, .advertorialwidget, .advertouter, .advertplay, .adverts, .adverts--banner, .adverts-125, .adverts-inline, .adverts2, .advertsLeaderboard, .adverts_RHS, .adverts_footer_advert, .adverts_footer_scrolling_advert, .adverts_header_advert, .adverts_side_advert, .advertspace, .adverttext, .adverttop, .advfrm, .advg468, .advhere, .adviewDFPBanner, .advimg160600, .advimg300250, .advn_zone, .advoice, .advr, .advr-wrapper, .advr_top, .advrectangle, .advrst, .advslideshow, .advspot, .advt, .advt-banner-3, .advt-block, .advt-right, .advt-sec, .advt300 { display: none !important; }
.advt720, .advtBlock, .advtMsg, .advt_160x600, .advt_468by60px, .advt_indieclick, .advt_single, .advt_widget, .advtbox, .advtcell, .advtext, .advtimg, .advtitle, .advtop, .advtop-leaderbord, .advttopleft, .advv_box, .adwblue, .adwert, .adwhitespace, .adwide, .adwideskyright, .adwidget, .adwithspace, .adwobs, .adwolf-holder, .adword-box, .adword-structure, .adword-text, .adword-title, .adword1, .adwordListings, .adwords, .adwords-container, .adwordsHeader, .adwords_in_content, .adworks, .adwrap, .adwrap-mrec, .adwrap-widget, .adwrap_MPU, .adwrapper--desktop, .adwrapper-lrec, .adwrapper1, .adwrapper948, .adwrappercls, .adwrappercls1, .adx-300x250-container, .adx-300x600-container, .adx-ads { display: none !important; }
.adx-wrapper, .adx-wrapper-middle, .adx_center, .adxli, .adz-horiz, .adz-horiz-ext, .adz2, .adz728x90, .adzbanner, .adzone, .adzone-footer, .adzone-preview, .adzone-sidebar, .adzone_skyscraper, .af-block-ad-wrapper, .af-label-ads, .afc-box, .aff-big-unit, .aff-iframe, .affcodes, .afffix-custom-ad, .affiliate-ad, .affiliate-footer, .affiliate-link, .affiliate-sidebar, .affiliate-strip, .affiliateAdvertText, .affiliate_ad, .affiliate_header_ads, .after-content-ad, .after-intro-ad, .after-post-ad, .after-post-ads, .after-story-ad-wrapper, .after_ad, .after_comments_ads, .after_content_banner_advert, .after_post_ad, .afw_ad, .aggads-ad, .ahe-ad, .ai-top-ad-outer, .aisle-ad, .ajax_ad, .ajaxads, .ajdg_bnnrwidgets, .ajdg_grpwidgets, .alice-adslot, .alice-root-header-ads__ad--top, .align.Ad { display: none !important; }
.alignads, .alt_ad, .alt_ad_block, .altad, .am-adContainer, .am-adslot, .am-bazaar-ad, .amAdvert, .am_ads, .amazon-auto-links, .amazon_ad, .amazonads, .ampFlyAdd, .ampforwp-sticky-custom-ad, .anchor-ad, .anchor-ad-wrapper, .anchorAd, .anchored-ad-widget, .annonstext, .anyad, .anzeige_banner, .aoa_overlay, .ap-ad-block, .ape-ads-container, .apexAd, .apiAds, .app-ad, .app_ad_unit, .app_advertising_skyscraper, .app_nexus_banners_common, .ar-header-m-ad, .arc-ad-wrapper, .arcAdsBox, .arcAdsContainer, .arcad-block-container, .archive-ad, .archive-ads, .archive-radio-ad-container, .areaAd, .area_ad, .area_ad03, .area_ad07, .area_ad09, .area_ad2, .arena-ad-col, .art-text-ad, .artAd, .artAdInner, .art_ads, .artcl_ad_dsk { display: none !important; }
.article--ad, .article--content-ad, .article-ad, .article-ad-align-left, .article-ad-blk, .article-ad-bottom, .article-ad-box, .article-ad-cont, .article-ad-container, .article-ad-holder, .article-ad-horizontal, .article-ad-left, .article-ad-legend, .article-ad-main, .article-ad-placeholder, .article-ad-placement, .article-ad-primary, .article-ad-row, .article-ad-row-inner, .article-ad-section, .article-ads, .article-advert, .article-advert--text, .article-advert-container, .article-advert-dfp, .article-aside-ad, .article-aside-top-ad, .article-content-ad, .article-content-adwrap, .article-first-ad, .article-footer-ad, .article-footer-ad-container, .article-footer__ad, .article-footer__ads, .article-header-ad, .article-header__railAd, .article-inline-ad, .article-mid-ad, .article-small-ads, .article-sponsor, .article-sponsorship-header, .article-top-ad, .articleADbox, .articleAd, .articleAdHeader, .articleAdTopRight, .articleAds, .articleAdsL, .articleAdvert, .articleBottom-ads { display: none !important; }
.articleEmbeddedAdBox, .articleFooterAd, .articleHeaderAd, .articleTop-ads, .articleTopAd, .article__ad-holder, .article__adblock, .article__adhesion, .article__adv, .article_ad, .article_ad_1, .article_ad_2, .article_ad_text, .article_ad_top, .article_adbox, .article_ads_banner, .article_bottom-ads, .article_bottom_ad, .article_google-ad, .article_google_ads, .article_inline_ad, .article_inner_ad, .article_mpu, .article_tower_ad, .articlead, .articleads, .articles-ad-block, .artnet-ads-ad, .aside-ad, .aside-ad-space, .aside-ad-wrapper, .aside-ads, .aside-ads-top, .asideAd, .aside_ad, .aside_ad_large, .async-ad-container, .at-header-ad, .at-sidebar-ad, .atf-ad, .atfAds, .atf_adWrapper, .atomsAdsCellModel, .attachment-advert_home, .attachment-dm-advert-bronze, .attachment-dm-advert-gold, .attachment-dm-advert-silver, .attachment-sidebar-ad, .attachment-squareAd, .avadvslot { display: none !important; }
.avap-ads-container, .avert--leaderboard, .avert--sidebar, .avert-text, .azk-adsense, .b-ad, .b-ad-main, .b-adhesion, .b-adv, .b-advert, .b-advertising__down-menu, .b-aside-ads, .b-header-ad, .b-right-rail--ads, .bAdvertisement, .b_adLastChild, .b_ads, .b_ads_cont, .b_ads_r, .b_ads_top, .background-ad, .background-ads, .background-adv, .backgroundAd, .bam-ad-slot, .bank-rate-ad, .banmanad, .banner--ad, .banner-125, .banner-300, .banner-300-100, .banner-300-250, .banner-300x250, .banner-300x600, .banner-320-100, .banner-468, .banner-468-60, .banner-468x60, .banner-728, .banner-728x90, .banner-ad, .banner-ad-b, .banner-ad-below, .banner-ad-block, .banner-ad-bottom-fixed, .banner-ad-container, .banner-ad-contianer, .banner-ad-footer, .banner-ad-image, .banner-ad-inner { display: none !important; }
.banner-ad-label, .banner-ad-large, .banner-ad-pos, .banner-ad-row, .banner-ad-skeleton-box, .banner-ad-space, .banner-ad-wrap, .banner-ad-wrapper, .banner-ad2, .banner-ads-right, .banner-ads-sidebar, .banner-adsense, .banner-adv, .banner-advert, .banner-advert-wrapper, .banner-advertisement, .banner-advertising, .banner-adverts, .banner-asd__title, .banner-buysellads, .banner-img > .pbl, .banner-sponsorship, .banner-top-ads, .banner120x600, .banner160, .banner160x600, .banner200x200, .banner300, .banner300x250, .banner336, .banner336x280, .banner350, .banner468, .banner728, .banner728-ad, .banner728-container, .banner728x90, .bannerADS, .bannerADV, .bannerAd, .bannerAd-module, .bannerAd3, .bannerAdContainer, .bannerAdLeaderboard, .bannerAdRectangle, .bannerAdSearch, .bannerAdSidebar, .bannerAdTower, .bannerAdWrap, .bannerAds { display: none !important; }
.bannerAdvert, .bannerAside, .bannerGoogle, .bannerRightAd, .banner_160x600, .banner_240x400, .banner_250x250, .banner_300_250, .banner_300x250, .banner_300x600, .banner_468_60, .banner_468x60, .banner_728_90, .banner_ad-728x90, .banner_ad_300x250, .banner_ad_728x90, .banner_ad_container, .banner_ad_footer, .banner_ad_full, .banner_ad_leaderboard, .banner_ad_link, .banner_ad_wrapper, .banner_ads1, .banner_reklam, .banner_reklam2, .banner_slot, .bannerad, .bannerad3, .banneradd, .bannerads, .banneradv, .bannerandads, .bannergroup-ads, .bannermpu, .banners_ad, .bannervcms, .bar_ad, .base-ad-mpu, .base-ad-slot, .base-ad-top, .base_ad, .baseboard-ad, .bb-ad, .bb-ad-mrec, .bbccom-advert, .bbccom_advert, .bcom_ad, .before-header-ad, .before-injected-ad, .below-ad-border { display: none !important; }
.below-article-ad-sidebar, .below-nav-ad, .belowMastheadWrapper, .belowNavAds, .below_game_ad, .below_nav_ad_wrap, .below_player_ad, .bg-ad-gray, .bg-ads, .bg-ads-space, .bg-grey-ad, .bgAdBlue, .bg_ad, .bg_ads, .bgcolor_ad, .bgr-ad-leaderboard, .bh-ads, .bh_ad_container, .bidbarrel-ad, .big-ad, .big-ads, .big-advertisement, .big-box-ad, .big-right-ad, .bigAd, .bigAdContainer, .bigAds, .bigAdvBanner, .bigBoxAdArea, .bigCubeAd, .big_ad, .big_ad2, .big_ads, .bigad, .bigad1, .bigad2, .bigadleft, .bigadright, .bigads, .bigadtxt1, .bigbox-ad, .bigbox.ad, .bigbox_ad, .bigboxad, .bigsponsor, .billboard-ad, .billboard-ad-one, .billboard-ad-space, .billboard-ads, .billboard.ad { display: none !important; }
.billboardAd, .billboard__advert, .billboard_ad, .billboard_ad_wrap, .billboard_adwrap, .bing-ads-wrapper, .bing-native-ad, .bl300_ad, .block--ad, .block--ads, .block--dfp, .block--doubleclick, .block--simpleads, .block-ad, .block-ad-entity, .block-ad-header, .block-ad-leaderboard, .block-ad-wrapper, .block-admanager, .block-ads, .block-ads-bottom, .block-ads-home, .block-ads-system, .block-ads-top, .block-ads-yahoo, .block-ads1, .block-ads2, .block-ads3, .block-ads_top, .block-adsense, .block-adtech, .block-adv, .block-advert, .block-advertisement, .block-advertisement-banner-block, .block-advertising, .block-adzerk, .block-bg-advertisement, .block-boxes-ad, .block-cdw-google-ads, .block-dfp, .block-dfp-ad, .block-dfp-blocks, .block-doubleclick_ads, .block-fusion-ads, .block-google-admanager, .block-openads, .block-openx, .block-quartz-ads, .block-reklama { display: none !important; }
.block-simpleads, .block-skyscraper-ad, .block-sponsor, .block-sponsored-links, .block-the-dfp, .block-wrap-ad, .block-yt-ads, .blockAd, .blockAds, .blockAdvertise, .block__ads__ad, .block_ad, .block_ad1, .block_ad303x1000_left, .block_ad303x1000_right, .block_ad_middle, .block_ad_top, .block_ads, .block_adslot, .block_adv, .block_advert, .block_article_ad, .blockad, .blocked-ads, .blog-ad, .blog-ad-image, .blog-ads, .blog-advertisement, .blogAd, .blogAdvertisement, .blog_ad, .blogads, .bmd_advert, .bn_ads, .bnr_ad, .body-ad, .body-ads, .body-top-ads, .bodyAd, .body_ad, .bodyads, .bodyads2, .bordered-ad, .botAd, .bot_ad, .bot_ads, .bottom-ad, .bottom-ad--bigbox, .bottom-ad-banner, .bottom-ad-box { display: none !important; }
.bottom-ad-container, .bottom-ad-desktop, .bottom-ad-large, .bottom-ad-placeholder, .bottom-ad-wrapper, .bottom-ad-zone, .bottom-ad2, .bottom-ads, .bottom-ads-container, .bottom-ads-sticky, .bottom-ads-wrapper, .bottom-adv, .bottom-adv-container, .bottom-banner-ad, .bottom-fixed-ad, .bottom-left-ad, .bottom-main-adsense, .bottom-mobile-ad, .bottom-mpu-ad, .bottom-post-ad-space, .bottom-post-ads, .bottom-right-advert, .bottom-side-advertisement, .bottomAd, .bottomAdBlock, .bottomAdContainer, .bottomAds, .bottomAdvert, .bottomAdvertisement, .bottom_ad, .bottom_ad_block, .bottom_ad_placeholder, .bottom_ad_responsive, .bottom_ads, .bottom_adsense, .bottom_adspace, .bottom_banner_ad, .bottom_banner_advert_text, .bottom_bar_ads, .bottom_left_advert, .bottom_right_ad, .bottom_rightad, .bottom_side_ad, .bottom_sponsor, .bottom_sticky_ad, .bottomad, .bottomads, .bottomadvert, .botton_advertisement, .box-ad { display: none !important; }
.box-ad-middle, .box-ads, .box-adsense, .box-adsense-top, .box-advert, .box-advertisement, .box-advertising, .box-adverts, .box-bannerads, .box-bannerads-leaderboard-fallback, .box-entry-ad, .box-fixed-ads, .box-footer-ad, .boxAd, .boxAdContainer, .boxAds, .boxAds2, .boxAdvertisement, .boxSponsor, .box_ad, .box_ad_container, .box_ad_content, .box_ad_horizontal, .box_ad_spacer, .box_ad_wrap, .box_ads, .box_adv, .box_adv_728, .box_advert, .box_advertising, .box_content_ad, .box_content_ads, .box_layout_ad, .box_publicidad, .box_sidebar-ads, .boxad, .boxad1, .boxad2, .boxadcont, .boxads, .boxadv, .bps-ad-wrapper, .bps-advertisement, .bq_adleaderboard, .bq_rightAd, .br-ad, .br-ad-wrapper, .breadads, .break-ads, .breaker-ad { display: none !important; }
.breakerAd, .briefNewsAd, .brn-ads-box, .brn-ads-mobile-container, .brn-ads-sticky-wrapper, .broker-ad, .browse-ad-container, .browsi-ad, .btm_ad, .btn_ad, .bump-ad, .bunyad-ad, .buttom_ad, .buttom_ad_size, .button-ad, .button-ads, .buttonAd, .buttonAdSpot, .buttonAds, .button_ad, .button_ads, .button_advert, .button_left_ad, .button_right_ad, .buttonad, .buttonadbox, .buttonads, .buySellAdsContainer, .buysellAds, .buzzAd, .c-Ad, .c-Adhesion, .c-ArticleAds, .c-ad, .c-ad--adStickyContainer, .c-ad--bigbox, .c-ad--header, .c-ad-flex, .c-ad-fluid, .c-ad-placeholder, .c-ad-size2, .c-ad-size3, .c-adDisplay, .c-adDisplay_container, .c-adOmnibar, .c-adSense, .c-adSkyBox, .c-adbutler-ad, .c-adbutler-ad__wrapper, .c-adcontainer { display: none !important; }
.c-ads, .c-adunit, .c-adunit--billboard, .c-adunit--first, .c-adunit__container, .c-adv3__inner, .c-advert, .c-advert-app, .c-advert-superbanner, .c-advertisement, .c-advertisement--billboard, .c-advertisement--rectangle, .c-advertising, .c-advertising__banner-area, .c-adverts, .c-advscrollingzone, .c-box--advert, .c-gallery-vertical__advert, .c-googleadslot, .c-gpt-ad, .c-header__ad, .c-header__advert-container, .c-pageArticleSingle_bottomAd, .c-prebid, .c-sidebar-ad-stream__ad, .c-sitenav-adslot, .c-sitenavPlaceholder__ad, .c_nt_ad, .cableads, .cactus-ads, .cactus-header-ads, .caja_ad, .california-ad, .california-sidebar-ad, .calloutAd, .carbon-ad, .carbon_ads, .carbonad, .carbonad-tag, .carbonads-widget, .card--ad, .card--article-ad, .card-ad, .card-ads, .card-article-ads, .cardAd, .catalog_ads, .category-ad:not(html):not(body):not(.post), .category-ads:not(html):not(body):not(.post), .categoryMosaic-advertising { display: none !important; }
.categoryMosaic-advertisingText, .cazAd, .cb-ad-banner, .cb-ad-container, .cbd_ad_manager, .cbs-ad, .cc-advert, .center-ad, .center-ad-long, .center-tag-rightad, .centerAD, .centerAd, .centerAds, .center_ad, .center_add, .center_ads, .center_inline_ad, .centerad, .centerads, .centeradv, .centered-ad, .ch-ad-item, .channel--ad, .channel-ad, .channel-adv, .channel-icon--ad, .channel-icon__ad-buffer, .channel-sidebar-big-box-ad, .channelBoxAds, .channel_ad_2016, .chapter-bottom-ads, .chapter-top-ads, .chart_ads, .chitika-ad, .cl-ad-billboard, .clAdPlacementAnchorWrapper, .clever-core-ads, .clickforceads, .clickio-side-ad, .client-ad, .clsy-c-advsection, .cms-ad, .cn-advertising, .cnbcHeaderAd, .cnc-ads, .cnx-player, .cnx-player-wrapper, .coinzilla-ad, .coinzilla-ad--mobile, .col-ad { display: none !important; }
.col-ad-hidden, .col-has-ad, .col-line-ad, .col2-ads, .colAd, .colBoxAdframe, .colBoxDisplayAd, .col_ad, .colads, .collapsed-ad, .colombiaAd, .column-ad, .columnAd, .columnAdvert, .columnBoxAd, .columnRightAdvert, .combinationAd, .comment-ad, .comment-ad-wrap, .comment-advertisement, .comment_ad, .comment_ad_box, .commercialAd, .companion-ad, .companion-ads, .companionAd, .companion_ad, .complex-ad, .component-ar-horizontal-bar-ad, .components-Ad-___Ad__ad, .con_ads, .connatix, .connatix-container, .connatix-hodler, .connatix-holder, .connatix-main-container, .connatix-wrapper, .connatix-wysiwyg-container, .consoleAd, .cont-ad, .container--ad, .container--ads, .container--ads-leaderboard-atf, .container--advert, .container--bannerAd, .container-ad-600, .container-ad-left, .container-adds, .container-adrotate, .container-ads { display: none !important; }
.container-adwords, .container-banner-ads, .container-bottom-ad, .container-first-ads, .container-lower-ad, .container-rectangle-ad, .container-top-adv, .containerAdsense, .containerSqAd, .container__ad, .container__box--ads, .container_ad, .container_ad_v, .container_publicidad, .containerads, .contains-ad, .contains-advertisment, .content--right-ads, .content-ad, .content-ad-article, .content-ad-box, .content-ad-container, .content-ad-left, .content-ad-right, .content-ad-side, .content-ad-widget, .content-ad-wrapper, .content-ads, .content-ads-bottom, .content-advert, .content-advertisment, .content-bottom-ad, .content-bottom-mpu, .content-contentad, .content-footer-ad, .content-footer-ad-block, .content-header-ad, .content-kuss-ads, .content-leaderboard-ad, .content-leaderboard-ads, .content-page-ad_wrap, .content-result-ads, .content-top-ad-item, .content1-ad, .content2-ad, .contentAd, .contentAd--sb1, .contentAdBox, .contentAdContainer, .contentAdFoot { display: none !important; }
.contentAdIndex, .contentAds, .contentAdsCommon, .contentAdsWrapper, .contentAdvertisement, .contentTopAd, .contentTopAdSmall, .contentTopAds, .content__ad, .content__ad__content, .content_ad, .content_ad_728, .content_ad_head, .content_ad_side, .content_ads, .content_adsense, .content_adsq, .content_advert, .content_advertising, .content_advt, .content_bottom_adsense, .content_gpt_top_ads, .content_inner_ad, .content_left_advert, .contentad, .contentad-end, .contentad-home, .contentad-storyad-1, .contentad-superbanner-2, .contentad-top, .contentad2, .contentadarticle, .contentadleft, .contentads1, .contentads2, .contentbox_ad, .contentleftad, .contest_ad, .context-ads, .contextualAds, .contextual_ad_unit, .cornerad, .cpmstarHeadline, .cpmstarText, .crain-advertisement, .criteo-ad, .crm-adcontain, .crumb-ad, .cspAd, .css--ad { display: none !important; }
.ct-ads, .ct-advert, .ct-advertising-footer, .ct-bottom-ads, .ct_ad, .cta-ad, .cube-ad, .cubeAd, .cube_ad, .cube_ads, .custom-ad, .custom-ad-area, .custom-ad-container, .custom-ads, .custom-advert-banner, .custom-sticky-ad-container, .customAd, .custom_ad, .custom_ad_responsive, .custom_ads, .custom_ads_positions, .custom_banner_ad, .custom_footer_ad, .customadvert, .customized_ad_module, .cwAdvert, .cxAdvertisement, .d3-c-adblock, .d3-o-adv-block, .da-custom-ad-box, .dac__banner__wrapper, .daily-adlabel, .dart-ad, .dart-ad-content, .dart-ad-grid, .dart-ad-title, .dart-advertisement, .dart-leaderboard, .dart-leaderboard-top, .dartAdImage, .dart_ad, .dart_tag, .dartad, .dartadbanner, .dartadvert, .dartiframe, .dc-ad, .dcmads, .dd-ad, .dd-ad-container { display: none !important; }
.deckAd, .deckads, .demand-supply, .desktop-ad, .desktop-ad-banner, .desktop-ad-container, .desktop-ad-inpage, .desktop-ad-slider, .desktop-ads, .desktop-adunit, .desktop-advert, .desktop-article-top-ad, .desktop-aside-ad-hide, .desktop-lazy-ads, .desktop-sidebar-ad-wrapper, .desktop-top-ad-wrapper, .desktop.ad, .desktopAd, .desktop_ad, .desktop_mpu, .desktop_only_ad, .desktopads, .detail-ad, .detail-ads, .detail__ad--small, .detail_ad, .detail_article_ad, .detail_top_advert, .details-advert, .dfm-featured-bottom-flex-container, .dfp-ad, .dfp-ad-bigbox2-wrap, .dfp-ad-container, .dfp-ad-container-box, .dfp-ad-container-wide, .dfp-ad-full, .dfp-ad-hideempty, .dfp-ad-lazy, .dfp-ad-lead2-wrap, .dfp-ad-lead3-wrap, .dfp-ad-midbreaker-wrap, .dfp-ad-midbreaker2-wrap, .dfp-ad-placeholder, .dfp-ad-rect, .dfp-ad-region-1, .dfp-ad-region-2, .dfp-ad-tags, .dfp-ad-top-wrapper, .dfp-ad-unit, .dfp-ad-widget { display: none !important; }
.dfp-ads-ad-article-middle, .dfp-ads-embedded, .dfp-adspot, .dfp-article-ad, .dfp-banner, .dfp-banner-slot, .dfp-billboard-wrapper, .dfp-block, .dfp-bottom, .dfp-button, .dfp-close-ad, .dfp-double-mpu, .dfp-dynamic-tag, .dfp-fixedbar, .dfp-here-bottom, .dfp-here-top, .dfp-interstitial, .dfp-leaderboard, .dfp-leaderboard-container, .dfp-mrec, .dfp-panel, .dfp-plugin-advert, .dfp-position, .dfp-slot, .dfp-slot-wallpaper, .dfp-space, .dfp-super-leaderboard, .dfp-tag-wrapper, .dfp-top, .dfp-top1, .dfp-top1-container, .dfp-top_leaderboard, .dfp-wrap, .dfp-wrapper, .dfpAd, .dfpAdUnitContainer, .dfpAds, .dfpAdspot, .dfpAdvert, .dfp_ATF_wrapper, .dfp_ad--outbrain, .dfp_ad_block, .dfp_ad_caption, .dfp_ad_content_bottom, .dfp_ad_content_top, .dfp_ad_footer, .dfp_ad_header, .dfp_ad_pos, .dfp_ad_unit, .dfp_ads_block { display: none !important; }
.dfp_frame, .dfp_slot, .dfp_strip, .dfp_top-ad, .dfp_txt, .dfp_unit, .dfp_unit--interscroller, .dfp_unit-ad_container, .dfpad, .dfrads, .dfx-ad, .dfx-adBlock1Wrapper, .dg-gpt-ad-container, .dianomi-ad, .dianomi-container, .dianomi-embed, .dianomiScriptContainer, .dianomi_context, .dikr-responsive-ads-slot, .discourse-adplugin, .discourse-google-dfp, .display-ad, .display-ad-block, .display-adhorizontal, .display-ads-block, .display-advertisement, .displayAd, .displayAdCode, .displayAdSlot, .displayAdUnit, .displayAds, .display_ad, .display_ads_right, .div-gpt-ad-adhesion-leaderboard-wrap, .div-insticator-ad, .divAd, .divAdright, .divAds, .divAdsBanner, .divAdsLeft, .divAdsRight, .divReklama, .divRepAd, .divSponsoredBox, .divSponsoredLinks, .divTopADBanner, .divTopADBannerWapper, .divTopArticleAd, .div_advertisement, .divad1 { display: none !important; }
.divad2, .divad3, .divads, .divider-ad, .divider-advert, .divider-full-width-ad, .divider_ad, .dlSponsoredLinks, .dm-adSlotBillboard, .dm-adSlotNative1, .dm-adSlotNative2, .dm-adSlotNative3, .dm-adSlotRectangle1, .dm-adSlotRectangle2, .dm-adSlotSkyscraper, .dm-adSlot__sticky, .dm_ad-billboard, .dm_ad-container, .dm_ad-halfpage, .dm_ad-leaderboard, .dm_ad-link, .dm_ad-skyscraper, .dmpu-ad, .dn-ad-wide, .dotcom-ad, .double-ad, .double-ads, .doubleClickAd, .doubleclickAds, .download-ad, .downloadAds, .download_ad, .dsk-box-ad-d, .dsq_ad, .dt-sponsor, .dtads-desktop, .dtads-slot, .dual-ads, .dualAds, .dyn-sidebar-ad, .dynamic-ads, .dynamicAdvertContainer, .dynamicLeadAd, .dynamic_adslot, .dynamicad1, .dynamicad2, .e-ad, .e-advertise, .e3lan, .e3lan-top { display: none !important; }
.e3lan-widget-content, .e3lan300-100, .e3lan300-250, .e3lan300_250-widget, .eaa-ad, .eads, .easy-ads, .easyAdsBox, .easyAdsSinglePosition, .ebayads, .ebm-ad-target__outer, .ecommerce-ad, .ecosia-ads, .eddy-adunit, .editor_ad, .eg-ad, .eg-custom-ad, .element--ad, .element-ad, .element-adplace, .element_contentad1, .element_contentad2, .element_contentad3, .element_contentad4, .element_contentad5, .elementor-widget-wp-widget-advads_ad_widget, .embAD, .embed-ad, .embedded-article-ad, .embeddedAd, .embeddedAds, .embedded_ad_wrapper, .empire-prefill-container-injected, .empire-unit-prefill-container, .empty-ad, .endAHolder, .endti-adlabel, .entry-ad, .entry-ads, .entry-bottom-ad, .entry-bottom-ads, .entry-top-ad, .entryAd, .entry_ad, .entryad, .etn-ad-text, .eu-advertisment1, .evo-ads-widget, .evolve-ad, .ex_pu_iframe { display: none !important; }
.exo_wrapper, .external-ad, .external-add, .ezAdsWidget, .ezmob-footer, .ezmob-footer-desktop, .ezo_ad, .ezoic-ad, .ezoic-ad-adaptive, .ezoic-adpicker-ad, .ezoic-floating-bottom, .f-ad, .f-item-ad, .f-item-ad-inhouse, .fbs-ad--ntv-home-wrapper, .fbs-ad--top-wrapper, .fbs-ad--topx-wrapper, .fc_clmb_ad, .fce_ads, .featureAd, .feature_ad, .featured-ad, .featured-ads, .featured-sponsors, .featured-story-ad, .featuredAdBox, .featuredAds, .featuredBoxAD, .featured_ad, .featuredadvertising, .feed-ad, .feed-ad-wrapper, .fh_ad_microbuttons, .field-59-companion-ad, .fig-ad-content, .first-article-ad-block, .first-banner-ad, .first-leaderbord-adv, .first-leaderbord-adv-mobile, .firstAd-container, .first_ad, .first_party_ad_wrapper, .first_post_ad, .firstad, .firstpost_advert, .firstpost_advert_container, .fix_ad, .fixadheight, .fixadheightbottom, .fixed-ad-aside { display: none !important; }
.fixed-ad-bottom, .fixed-ads, .fixed-bottom-ad, .fixed-sidebar-ad, .fixedAds, .fixedLeftAd, .fixedRightAd, .fixed_ad, .fixed_adslot, .fixed_advert_banner, .fjs-ad-hide-empty, .fla-ad, .flashAd, .flash_ad, .flash_advert, .flashad, .flashadd, .flex-ad, .flex-posts-ads, .flexAd, .flexAds, .flexContentAd, .flexad, .flexadvert, .flexiad, .flm-ad, .floatad, .floatads, .floated-ad, .floated_right_ad, .floating-ads, .floating-advert, .floatingAds, .fly-ad, .fm-badge-ad, .fnadvert, .fns_td_wrap, .fold-ads, .follower-ad-bottom, .following-ad, .following-ad-container, .foot-ad, .foot-ads, .foot-advertisement, .foot_adsense, .footad, .footer-300-ad, .footer-ad, .footer-ad-full-wrapper, .footer-ad-labeling { display: none !important; }
.footer-ad-row, .footer-ad-section, .footer-ad-squares, .footer-ad-unit, .footer-ad-wrap, .footer-adrow, .footer-ads, .footer-ads-slide, .footer-ads-wrapper, .footer-ads_unlocked, .footer-adsbar, .footer-adsense, .footer-advert, .footer-advert-large, .footer-advertisement, .footer-advertisements, .footer-advertising, .footer-advertising-area, .footer-banner-ad, .footer-banner-ads, .footer-floating-ad, .footer-im-ad, .footer-leaderboard-ad, .footer-post-ad-blk, .footer-prebid, .footer-text-ads, .footerAd, .footerAdModule, .footerAdUnit, .footerAdWrapper, .footerAds, .footerAdsWrap, .footerAdslot, .footerAdverts, .footerBottomAdSec, .footerFullAd, .footerPageAds, .footerTextAd, .footer__ads--content, .footer__advert, .footer_ad, .footer_ad336, .footer_ad_container, .footer_ads, .footer_adv, .footer_advertisement, .footer_block_ad, .footer_bottom_ad, .footer_bottomad, .footer_line_ad { display: none !important; }
.footer_text_ad, .footer_text_adblog, .footerad, .footeradspace, .footertextadbox, .forbes-ad-container, .forex_ad_links, .fortune-ad-unit, .forum-ad, .forum-ad-2, .forum-teaser-ad, .forum-topic--adsense, .forumAd, .forum_ad_beneath, .four-ads, .fp-ad-nativendo-one-third, .fp-ad-rectangle, .fp-ad300, .fp-ads, .fp-right-ad, .fp-right-ad-list, .fp-right-ad-zone, .fp_ad_text, .fp_adv-box, .frame_adv, .framead, .freestar-ad-container, .freestar-ad-sidebar-container, .freestar-ad-wide-container, .freestar-incontent-ad, .frn_adbox, .front-ad, .front_ad, .frontads, .frontendAd, .frontone_ad, .frontpage__article--ad, .frontpage_ads, .fsAdContainer, .fs_ad, .fs_ads, .fsrads, .ft-ad, .full-ad, .full-ad-wrapper, .full-ads, .full-adv, .full-bleed-ad, .full-bleed-ad-container, .full-page-ad { display: none !important; }
.full-top-ad-area, .full-width-ad, .full-width-ad-container, .full-width-ads, .fullAdBar, .fullBleedAd, .fullSizeAd, .fullWidthAd, .full_AD, .full_ad_box, .full_ad_row, .full_width_ad, .fulladblock, .fullbanner_ad, .fullbannerad, .fullpage-ad, .fullsize-ad-square, .fullwidth-advertisement, .fusion-ads, .fuv_sidebar_ad_widget, .fwAdTags, .fw_ad, .g-ad, .g-ad-fix, .g-ad-leaderboard, .g-ad-slot, .g-adver, .g-advertisement-block, .g1-ads, .g1-advertisement, .g2-adsense, .g3-adsense, .gAdMTable, .gAdMainParent, .gAdMobileTable, .gAdOne, .gAdOneMobile, .gAdRows, .gAdSky, .gAdThreeDesktop, .gAdThreeMobile, .gAdTwo, .gAds, .gAds1, .gAdsBlock, .gAdsContainer, .gAdvertising, .g_ad, .g_adv, .ga-ads { display: none !important; }
.gaTeaserAds, .gaTeaserAdsBox, .gabfire_ad, .gabfire_simplead_widget, .gad-container, .gad-right1, .gad-right2, .gad300x600, .gad336x280, .gadContainer, .gad_container, .gads_container, .gadsense, .gadsense-ad, .gallery-ad, .gallery-ad-container, .gallery-ad-counter, .gallery-ad-holder, .gallery-ad-lazyload-placeholder, .gallery-ad-overlay, .gallery-adslot-top, .gallery-injectedAd, .gallery-sidebar-ad, .gallery-slide-ad, .galleryAds, .galleryLeftAd, .galleryRightAd, .gallery_ad, .gallery_ad_wrapper, .gallery_ads_box, .galleryad, .galleryads, .gam-ad, .gam-ad-hz-bg, .gam_ad_slot, .game-ads, .game-category-ads, .gameAd, .gameBottomAd, .gamepage_boxad, .games-ad-wrapper, .gb-ad-top, .gb_area_ads, .general-ad, .genericAds, .ggl_ads_row, .ggl_txt_ads, .giant_pushbar_ads_l, .glacier-ad, .globalAd { display: none !important; }
.gnm-ad-unit, .gnm-ad-unit-container, .gnm-ad-zones, .gnm-adhesion-ad, .gnm-banner-ad, .gnm-bg-ad, .go-ad, .goAdMan, .goads, .googads, .google-2ad-m, .google-ad, .google-ad-160-600, .google-ad-468-60, .google-ad-728-90, .google-ad-block, .google-ad-container, .google-ad-content, .google-ad-header2, .google-ad-image, .google-ad-manager, .google-ad-placeholder, .google-ad-sidebar, .google-ad-space, .google-ad-widget, .google-ads, .google-ads-billboard, .google-ads-bottom, .google-ads-container, .google-ads-footer-01, .google-ads-footer-02, .google-ads-in_article, .google-ads-leaderboard, .google-ads-long, .google-ads-responsive, .google-ads-right, .google-ads-sidebar, .google-ads-widget, .google-ads-wrapper, .google-adsense, .google-advert-sidebar, .google-afc-wrapper, .google-bottom-ads, .google-dfp-ad-caption, .google-dfp-ad-wrapper, .google-right-ad, .google-sponsored, .google-sponsored-ads, .google-sponsored-link, .google-sponsored-links { display: none !important; }
.google468, .googleAd, .googleAdBox, .googleAdContainer, .googleAdSearch, .googleAdSense, .googleAdWrapper, .googleAdd, .googleAds, .googleAdsContainer, .googleAdsense, .googleAdv, .google_ad, .google_ad_container, .google_ad_label, .google_ad_wide, .google_add, .google_admanager, .google_ads, .google_ads_content, .google_ads_sidebar, .google_adsense, .google_adsense1, .google_adsense_footer, .google_afc, .google_afc_ad, .googlead, .googleadArea, .googleadbottom, .googleadcontainer, .googleaddiv, .googleads, .googleads-container, .googleads-height, .googleadsense, .googleadsrectangle, .googleadv, .googleadvertisement, .googleadwrap, .googleafc, .gpAds, .gpt-ad, .gpt-ad-container, .gpt-ad-sidebar-wrap, .gpt-ad-wrapper, .gpt-ads, .gpt-billboard, .gpt-breaker-container, .gpt-container, .gpt-leaderboard-banner { display: none !important; }
.gpt-mpu-banner, .gpt-sticky-sidebar, .gpt.top-slot, .gptSlot, .gptSlot-outerContainer, .gptSlot__sticky-footer, .gptslot, .gradientAd, .graphic_ad, .grev-ad, .grey-ad, .grey-ad-line, .grey-ad-notice, .greyAd, .greyad, .grid-ad, .grid-ad-col__big, .grid-advertisement, .grid-block-ad, .grid-item-ad, .gridAd, .gridAdRow, .gridSideAd, .grid_ad_container, .gridad, .gridlove-ad, .gridstream_ad, .ground-ads-shared, .group-ad-leaderboard, .group-google-ads, .group-item-ad, .group_ad, .gsAd, .gtm-ad-slot, .guide__row--fixed-ad, .guj-ad--placeholder, .gujAd, .gutterads, .gw-ad, .h-adholder, .h-ads, .h-adver, .h-large-ad-box, .h-top-ad, .h11-ad-top, .h_Ads, .h_ad, .half-ad, .half-page-ad, .half-page-ad-1 { display: none !important; }
.half-page-ad-2, .halfPageAd, .half_ad_box, .halfpage_ad, .halfpage_ad_1, .halfpage_ad_container, .happy-inline-ad, .has-ad, .has-adslot, .has-fixed-bottom-ad, .hasAD, .hdr-ad, .hdr-ads, .hdrAd, .hdr_ad, .head-ad, .head-ads, .head-banner468, .head-top-ads, .headAd, .head_ad, .head_ad_wrapper, .head_ads, .head_adv, .head_advert, .headad, .headadcontainer, .header-ad, .header-ad-area, .header-ad-banner, .header-ad-box, .header-ad-container, .header-ad-desktop, .header-ad-frame, .header-ad-holder, .header-ad-region, .header-ad-row, .header-ad-space, .header-ad-top, .header-ad-widget, .header-ad-wrap, .header-ad-wrapper, .header-ad-zone, .header-adbanner, .header-adbox, .header-adcode, .header-adplace, .header-ads, .header-ads-area, .header-ads-container { display: none !important; }
.header-ads-holder, .header-ads-wrap, .header-ads-wrapper, .header-adsense, .header-adslot-container, .header-adspace, .header-adv, .header-advert, .header-advert-wrapper, .header-advertise, .header-advertisement, .header-advertising, .header-and-footer--banner-ad, .header-article-ads, .header-banner-ad, .header-banner-ads, .header-banner-advertising, .header-bannerad, .header-bottom-adboard-area, .header-pencil-ad, .header-sponsor, .header-top-ad, .header-top_ads, .headerAd, .headerAd1, .headerAdBanner, .headerAdContainer, .headerAdPosition, .headerAdSpacing, .headerAdWrapper, .headerAds, .headerAds250, .headerAdspace, .headerAdvert, .headerAdvertisement, .headerTextAd, .headerTopAd, .headerTopAds, .header__ad, .header__ads, .header__ads-wrapper, .header__advertisement, .header_ad, .header_ad1, .header_ad_center, .header_ad_div, .header_ad_space, .header_ads, .header_ads-container, .header_ads_box { display: none !important; }
.header_adspace, .header_advert, .header_advertisement, .header_advertisment, .header_leaderboard_ad, .header_top_ad, .headerad, .headeradarea, .headeradblock, .headeradright, .headerads, .heading-ad-space, .headline-adblock, .headline-ads, .headline_advert, .hederAd, .herald-ad, .hero-ad, .hero-ad-slot, .hero-advert, .heroAd, .hidden-ad, .hide-ad, .hide_ad, .hidead, .highlightsAd, .hm-ad, .hmad, .hn-ads, .holder-ad, .holder-ads, .home-ad, .home-ad-bigbox, .home-ad-container, .home-ad-inline, .home-ad-links, .home-ad-region-1, .home-ad-section, .home-ads, .home-ads-container, .home-ads1, .home-adv-box, .home-advert, .home-body-ads, .home-page-ad, .home-sidebar-ad, .home-sponsored-links, .home-sticky-ad, .home-top-ad, .homeAd { display: none !important; }
.homeAd1, .homeAd2, .homeAdBox, .homeAdBoxA, .homeAdSection, .homeBoxMediumAd, .homeCentreAd, .homeMainAd, .homeMediumAdGroup, .homePageAdSquare, .homePageAds, .homeTopAdContainer, .home_ad, .home_ad_bottom, .home_ad_large, .home_ad_title, .home_adblock, .home_advert, .home_advertisement, .home_mrec_ad, .homeadwrapper, .homepage--sponsor-content, .homepage-ad, .homepage-ad-block, .homepage-ad-module, .homepage-advertisement, .homepage-banner-ad, .homepage-footer-ad, .homepage-footer-ads, .homepage-page__ff-ad-container, .homepage-page__tag-ad-container, .homepage-page__video-ad-container, .homepageAd, .homepage__native-ad, .homepage_ads, .homepage_block_ad, .hor-ad, .hor_ad, .horiAd, .horiz_adspace, .horizontal-ad, .horizontal-ad-container, .horizontal-ad-holder, .horizontal-ad-wrapper, .horizontal-ad2, .horizontal-ads, .horizontal-advert-container, .horizontal-full-ad, .horizontal.ad, .horizontalAd { display: none !important; }
.horizontalAdText, .horizontalAdvert, .horizontal_Fullad, .horizontal_ad, .horizontal_adblock, .horizontal_ads, .horizontaltextadbox, .horizsponsoredlinks, .hortad, .hotad_bottom, .hotel-ad, .house-ad, .house-ad-small, .house-ad-unit, .house-ads, .houseAd, .houseAd1, .houseAdsStyle, .housead, .hover_ads, .hoverad, .hp-ad-container, .hp-ad-grp, .hp-adsection, .hp-sectionad, .hpRightAdvt, .hp_320-250-ad, .hp_ad_300, .hp_ad_box, .hp_ad_cont, .hp_ad_text, .hp_adv300x250, .hp_advP1, .hp_horizontal_ad, .hp_textlink_ad, .htl-ad, .htl-ad-placeholder, .html-advertisement, .html5-ad-progress-list, .hw-ad--frTop, .hyad, .hyperAd, .i-amphtml-element.live-updates.render-embed, .i-amphtml-unresolved, .iAdserver, .iab300x250, .iab728x90, .ib-adv, .ico-adv, .icon-advertise { display: none !important; }
.iconAdChoices, .icon_ad_choices, .iconads, .idgGoogleAdTag, .ie-adtext, .iframe-ad, .iframe-ads, .iframeAd, .iframeAds, .ima-ad-container, .image-advertisement, .image-viewer-ad, .image-viewer-mpu, .imageAd, .imageAds, .imagead, .imageads, .img-advert, .img_ad, .img_ads, .imgad, .in-article-ad, .in-article-ad-placeholder, .in-article-ad-wrapper, .in-article-adx, .in-between-ad, .in-content-ad, .in-content-ad-wrapper, .in-page-ad, .in-slider-ad, .in-story-ads, .in-text-ad, .in-text__advertising, .in-thumb-ad, .in-thumb-video-ad, .inPageAd, .in_ad, .in_article_ad, .in_article_ad_wrapper, .in_content_ad_container, .in_content_advert, .inarticlead, .inc-ad, .incontent-ad1, .incontentAd, .incontent_ads, .index-adv, .index_728_ad, .index_ad, .index_ad_a2 { display: none !important; }
.index_ad_a4, .index_ad_a5, .index_ad_a6, .index_right_ad, .infinity-ad, .inhousead, .injected-ad, .injectedAd, .inline-ad, .inline-ad-card, .inline-ad-container, .inline-ad-desktop, .inline-ad-placeholder, .inline-ad-text, .inline-ad-wrap, .inline-ad-wrapper, .inline-adblock, .inline-advert, .inline-banner-ad, .inline-display-ad, .inline-google-ad-slot, .inline-mpu, .inline-story-add, .inlineAd, .inlineAdContainer, .inlineAdImage, .inlineAdInner, .inlineAdNotice, .inlineAdText, .inlineAdvert, .inlineAdvertisement, .inlinePageAds, .inlineSideAd, .inline_ad, .inline_ad_container, .inline_ad_title, .inline_ads, .inlinead, .inlinead_lazyload, .inlineadsense, .inlineadtitle, .inlist-ad, .inlistAd, .inner-ad, .inner-ad-disclaimer, .inner-ad-section, .inner-adv, .inner-advert, .inner-post-ad, .innerAdWrapper { display: none !important; }
.innerAds, .innerContentAd, .innerWidecontentAd, .inner_ad, .inner_ad_advertise, .inner_big_ad, .innerad, .inpostad, .inr_top_ads, .ins_adwrap, .insert-post-ads, .insert_ad, .insert_ad_column, .insert_advertisement, .insertad, .inside_ad, .insideads, .inslide-ad, .insticator-ads, .instream_ad, .intAdRow, .intad, .interAd, .internal-ad, .internalAd, .internal_ad, .interstitial-ad, .intext-ads, .intra-article-ad, .intro-ad, .ion-ad, .ione-widget-dart-ad, .ipc-advert, .ipc-advert-class, .ipsAd, .ipsAdvertisement, .iqadlinebottom, .iqadmarker, .iqadtile_wrapper, .is-ad, .is-carbon-ad, .is-desktop-ads, .is-mpu, .is-preload-ad, .is-script-ad, .is-sponsored, .is-sticky-ad, .isAd, .isAdPage, .isad_box { display: none !important; }
.ise-ad, .island-ad, .islandAd, .islandAdvert, .island_ad, .islandad, .item--ad, .item-ad, .item-ad-leaderboard, .item-advertising, .item-container-ad, .itemAdvertise, .item_ads, .itsanad, .j-ad, .jLinkSponsored, .jannah_ad, .jg-ad-5, .jg-ad-970, .jobbioapp, .jobs-ad-box, .jobs-ad-marker, .jquery-adi, .jquery-script-ads, .js-ad, .js-ad-banner-container, .js-ad-buttons, .js-ad-container, .js-ad-dynamic, .js-ad-frame, .js-ad-home, .js-ad-loader-bottom, .js-ad-slot, .js-ad-static, .js-ad-unit, .js-ad-unit-bottom, .js-ad-wrapper, .js-ad_iframe, .js-adfliction-iframe, .js-adfliction-standard, .js-ads, .js-ads-carousel, .js-advert, .js-advert-container, .js-adzone, .js-anchor-ad, .js-article-advert-injected, .js-billboard-advert, .js-dfp-ad, .js-dfp-ad-bottom { display: none !important; }
.js-dfp-ad-top, .js-gpt-ad, .js-gptAd, .js-header-ad, .js-header-ad-wrapper, .js-lazy-ad, .js-mapped-ad, .js-mpu, .js-native-ad, .js-no-sticky-ad, .js-overlay_ad, .js-react-simple-ad, .js-results-ads, .js-right-ad-block, .js-sidebar-ads, .js-skyscraper-ad, .js-slide-right-ad, .js-slide-top-ad, .js-sticky-ad, .js-stream-ad, .js-toggle-ad, .jsAdSlot, .jsMPUSponsor, .js_adContainer, .js_ad_wrapper, .js_deferred-ad, .js_desktop-horizontal-ad, .js_midbanner_ad_slot, .js_preheader-ad-container, .js_slideshow-full-width-ad, .js_slideshow-sidebar-ad, .js_sticky-top-ad, .jsx-adcontainer, .jw-ad, .jw-ad-block, .jw-ad-label, .jw-ad-media-container, .jw-ad-visible, .kakao_ad_area, .keen_ad, .kiwi-ad-wrapper-300x250, .kiwi-ad-wrapper-728x90, .kiwi-ad-wrapper-950x80, .kumpulads-post, .kumpulads-side, .kwizly-psb-ad, .l-ad, .l-ad-top, .l-ads, .l-adsense { display: none !important; }
.l-article__ad, .l-bottom-ads, .l-grid--ad-card, .l-header-advertising, .l-section--ad, .l1-ads-wrapper, .label-ad, .label_advertising_text, .labelads, .large-advert, .largeAd, .largeRectangleAd, .largeUnitAd, .large_ad, .lastAdHolder, .lastads, .latest-ad, .layout-ad, .layout__right-ads, .layout_h-ad, .lazy-ad, .lazy-ad-unit, .lazy-adv, .lazyad, .lazyadsense, .lazyadslot, .lazyload-ad, .lazyload_ad, .lazyload_ad_article, .lb-ad, .lb-adhesion-unit, .lb-advert-container, .lb-item-ad, .ld-ad, .ld-ad-inner, .ldm_ad, .lead-ad, .lead-ads, .leader-ad, .leader-ad-728, .leaderAd, .leaderAdTop, .leaderAdvert, .leaderBoardAdWrapper, .leaderBoardAdvert, .leader_ad, .leader_aol, .leaderad, .leaderboard-ad, .leaderboard-ad-belt { display: none !important; }
.leaderboard-ad-component, .leaderboard-ad-container, .leaderboard-ad-dummy, .leaderboard-ad-fixed, .leaderboard-ad-grid, .leaderboard-ad-main, .leaderboard-ad-module, .leaderboard-ad-pane, .leaderboard-ad-placeholder, .leaderboard-ad-section, .leaderboard-ad-unit, .leaderboard-ad-wrapper, .leaderboard-adblock, .leaderboard-ads, .leaderboard-ads-text, .leaderboard-advert, .leaderboard-advertisement, .leaderboard-main-ad, .leaderboard-top-ad, .leaderboard-top-ad-wrapper, .leaderboard.advert, .leaderboard1AdWrapper, .leaderboardAd, .leaderboardAdWrapper, .leaderboardFooter_ad, .leaderboardRectAdWrapper, .leaderboard_ad_container, .leaderboard_ad_unit, .leaderboard_ads, .leaderboard_adsense, .leaderboard_adv, .leaderboard_banner_ad, .leaderboardad, .leaderboardadmiddle, .leaderboardadtop, .leaderboardadwrap, .lee-track-ilad, .left-ad, .left-ads, .left-advert, .left-rail-ad, .left-sponser-ad, .leftAd, .leftAdColumn, .leftAdContainer, .leftAds, .leftAdsEnabled, .leftAdsFix, .leftAdvDiv, .leftAdvert { display: none !important; }
.leftCol_advert, .leftColumnAd, .left_300_ad, .left_ad, .left_ad_160, .left_ad_areas, .left_ad_box, .left_ad_container, .left_add_block, .left_adlink, .left_ads, .left_adsense, .left_advertisement_block, .left_col_ad, .left_google_add, .leftad, .leftadd, .leftadtag, .leftbar_ad2, .leftbarads, .leftbottomads, .leftnavad, .leftrighttopad, .leftsidebar_ad, .lefttopad1, .legacy-ads, .lft_advt_container, .lg-ads-160x90, .lg-ads-311x500, .lg-ads-635x100, .lg-ads-skin-container, .ligatus, .lightad, .lijit-ad, .linead, .linkAD, .linkAds, .link_ad, .linkads, .list-ad, .list-adbox, .list-ads, .list-feature-ad, .list-footer-ad, .listad, .listicle-instream-ad-holder, .listing-item-ad, .listingAd, .listings_ad, .lite-page-ad { display: none !important; }
.live-ad, .lng-ad, .local-ads, .localad, .location-ad, .log_ads, .logged_out_ad, .logo-ad, .logoAds, .logo_AdChoices, .logoad, .logoutAd, .logoutAdContainer, .long-ads, .longAd, .longAdBox, .longAds, .long_ad, .longform-ad, .loop-ad, .lower-ad, .lower-ads, .lowerAd, .lowerAds, .lower_ad, .lr-ad, .lr-pack-ad, .lr_skyad, .lrec-container, .lst_ads, .lyrics-inner-ad-wrap, .m-ContentAd, .m-ad, .m-ad-brick, .m-ad-region, .m-ad-unit, .m-ad__wrapper, .m-adaptive-ad-component, .m-advert, .m-advertisement, .m-advertisement--container, .m-balloon-header--ad, .m-block-ad, .m-content-advert, .m-content-advert-wrap, .m-dfp-ad-text, .m-header-ad, .m-in-content-ad, .m-in-content-ad-row, .m-jac-ad { display: none !important; }
.m-sponsored, .m1-header-ad, .m2n-ads-slot, .m_ad, .m_ad1, .m_ad300, .m_banner_ads, .macAd, .macad, .mad_adcontainer, .magAd, .magad, .main-ad, .main-ad-container, .main-ad-gallery, .main-add-sec, .main-ads, .main-advert, .main-advertising, .main-column-ad, .main-footer-ad, .main-header-ad, .main-header__ad-wrapper, .main-right-ads, .mainAd, .mainAdContainer, .mainAds, .mainLeftAd, .mainLinkAd, .mainRightAd, .main_ad, .main_adbox, .main_ads, .main_adv, .mantis-ad, .mantisadd, .manual-ad, .map-ad, .mapped-ad, .mar-block-ad, .mar-leaderboard--bottom, .margin-advertisement, .margin0-ads, .marginalContentAdvertAddition, .marketing-ad, .marketplace-ad, .marketplaceAd, .marquee-ad, .masonry-tile-ad, .masonry__ad { display: none !important; }
.master_post_advert, .masthead-ad, .masthead-ads, .mastheadAds, .masthead__ad, .match-ad, .mb-advert, .mb-advert__incontent, .mb-advert__leaderboard--large, .mb-advert__mpu, .mb-advert__tweeny, .mb-block--advert-side, .mb-list-ad, .mc_floating_ad, .mc_text_ads_box, .md-advertisement, .medRect, .media-viewer__ads-container, .mediaAd, .mediaAdContainer, .medium-rectangle-ad, .medium-top-ad, .mediumRectAdWrapper, .mediumRectagleAd, .mediumRectangleAd, .mediumRectangleAdvert, .medium_ad, .mediumad, .medrec-ad, .medrect-ad, .medrect-ad2, .medrectAd, .medrect_ad, .mega-ad, .member-ads, .menu-ad, .menuAd, .message_ads, .meta-ad, .meta_ad, .metabet-adtile, .meteored-ads, .mf-adsense-leaderboard, .mf-adsense-rightrail, .mg_box_ads, .mgid-wrapper, .mgid_3x2, .mid-ad-wrapper, .mid-ads, .mid-advert { display: none !important; }
.mid-article-banner-ad, .mid-post-ad, .mid-section-ad, .midAd, .midAdv-cont, .midAdv-cont2, .midAdvert, .mid_ad, .mid_banner_ad, .midad, .midarticlead, .middle-ad, .middle-ads, .middle-ads728, .middle-footer-ad, .middleAd, .middleAdLeft, .middleAdMid, .middleAdRight, .middleAdWrapper, .middleAds, .middleBannerAd, .middle_AD, .middle_ad, .middle_ad_responsive, .middle_ads, .middlead, .middleadouter, .midpost-ad, .min-height-ad, .min_navi_ad, .mini-ad, .mini-ads, .mini_ads, .miniad, .miniads, .misc-ad, .misc-ad-label, .miscAd, .mj-floating-ad-wrapper, .mks_ads_widget, .mm-ad-sponsored, .mm-ads-adhesive-ad, .mm-ads-gpt-adunit, .mm-ads-leaderboard-header, .mm-banner970-ad, .mmads, .mntl-gpt-adunit, .mntl-sc-block-adslot, .moads-top-banner { display: none !important; }
.moads-widget, .mob-ad-break-text, .mob-adspace, .mob-hero-banner-ad-wrap, .mob_ads, .mobads, .mobile-ad, .mobile-ad-container, .mobile-ad-negative-space, .mobile-ad-placeholder, .mobile-ad-slider, .mobile-ads, .mobile-fixed-ad, .mobile-instream-ad-holder, .mobile-instream-ad-holder-single, .mobileAd, .mobileAdWrap, .mobileAppAd, .mobile_ad_banner, .mobile_ad_container, .mobile_featuredad, .mobile_leaderboard_ad, .mobileadbig, .mobileadunit, .mobilesideadverts, .mod-ad, .mod-adblock, .mod-ads, .mod-google-ads, .mod-horizontal-ad, .mod-sponsored-links, .mod-vertical-ad, .mod_ad, .mod_ad_container, .mod_ad_text, .mod_ad_top, .mod_admodule, .mod_ads, .mod_advert, .mod_index_ad, .mod_js_ad, .mod_openads, .mod_r_ad, .mod_r_ad1, .modal-ad, .module--ad, .module-ad, .module-ad-small, .module-ads, .module-advert { display: none !important; }
.module-advertisement, .module-box-ads, .module-image-ad, .module-rectangleads, .module-sponsored-ads, .module1colAds, .moduleAd, .moduleAdSpot, .moduleAdvert, .moduleAdvertContent, .moduleBannerAd, .module__ad-wide, .module_ad, .module_ad_disclaimer, .module_box_ad, .module_header_sponsored, .module_home_ads, .module_single_ads, .modulegad, .moduletable-adsponsor, .moduletable-advert, .moduletable-bannerAd6, .moduletable-centerad, .moduletable-googleads, .moduletable-rectangleads, .moduletable_ad-right, .moduletable_ad300x250, .moduletable_adtop, .moduletable_advertisement, .moduletable_top_ad, .moduletableadvert, .moduletableexclusive-ads, .moduletablesquaread, .moduletabletowerad, .mom-ad, .moneyball-ad, .monsterad, .mos-ad, .mosaicAd, .motherboard-ad, .movable-ad, .movv-ad, .mp-ad, .mpsponsor, .mpu-ad, .mpu-ad-con, .mpu-ad-river, .mpu-ad-top, .mpu-advert, .mpu-c { display: none !important; }
.mpu-footer, .mpu-fp, .mpu-holder, .mpu-leaderboard, .mpu-left, .mpu-left-bk, .mpu-mediatv, .mpu-right, .mpu-title, .mpu-top-left, .mpu-top-left-banner, .mpu-top-right, .mpu-unit, .mpu-wrap, .mpu-wrapper, .mpuAd, .mpuAdArea, .mpuAdSlot, .mpuAdvert, .mpuArea, .mpuBlock, .mpuBox, .mpuContainer, .mpu_Ad, .mpu_ad, .mpu_advert, .mpu_container, .mpu_holder, .mpu_placeholder, .mpu_side, .mpu_wrapper, .mpuad, .mpuads, .mr1_adwrap, .mr2_adwrap, .mr3_adwrap, .mr4_adwrap, .mrec-ads, .mrec-banners, .mrecAds, .mrec_advert, .mrf-adv, .mrf-adv__wrapper, .msg-ad, .msgad, .mt-ad-container, .mt_ad, .mt_ads, .mtop_adfit, .mu-ad-container { display: none !important; }
.mv_atf_ad_holder, .mvp-ad-label, .mvp-feat1-list-ad, .mvp-flex-ad, .mvp-post-ad-wrap, .mvp-widget-ad, .mvp-widget-feat2-side-ad, .mvp_ad_widget, .mw-ad, .my-ads, .myAds, .myAdsGroup, .my__container__ad, .n1ad-center-300, .narrow_ad_unit, .narrow_ads, .national_ad, .nationalad, .native-ad, .native-ad-article, .native-ad-container, .native-ad-item, .native-ad-mode, .native-ad-slot, .native-adv, .native-advts, .native-leaderboard-ad, .native-sidebar-ad, .native.ad, .nativeAd, .native_ad, .native_ad_inline, .native_ad_wrap, .native_ads, .nativead, .nav-ad, .nav-ad-gpt-container, .nav-ad-plus-leader, .nav-adWrapper, .nav_ad, .navbar-ad-section, .navbar-ads, .navbar-header-ad, .naviad, .ndmadkit, .netPost_ad1, .netPost_ad3, .netads, .netshelter-ad, .newHeaderAd { display: none !important; }
.new_ad1, .new_ad_left, .new_ad_normal, .new_ad_wrapper_all, .new_ads_unit, .newad, .newad1, .news-ad, .news-ad-square-a, .news-ad-square-box, .news-ads-top, .news-item--ad, .news_ad_box, .news_vibrant_ads_banner, .newsad, .newsblock-ads, .newsfeed_adunit, .newspack_global_ad, .nfy-ad, .nfy-ad-teaser, .nfy-ad-tile, .nfy-ad-wrapper, .nfy-cobo-ad, .nfy-col-ad, .ng-ad-banner, .ng-ad-insert, .nm-ad, .nn_mobile_mpu_wrapper, .node-ad, .node_ad_wrapper, .normalAds, .normal_ads, .normalad, .northad, .not-an-ad-header, .note-advertisement, .np-ad, .np-ad-background, .np-ad-border, .np-ads-wrapper, .np-adv-container, .np-advert_apu, .np-advert_apu-double, .np-advert_info, .np-header-ad, .np-header-ads-area, .np-right-ad, .nrAds, .nsAdRow, .nts-ad { display: none !important; }
.ntv-ad, .nuffnangad, .nuk-ad-placeholder, .nv-ads-wrapper, .nw-ad, .nw-ad-label, .nw-c-leaderboard-ad, .nw-top-ad, .nw_adv_square, .nx-billboard-ad, .nx-placeholder-ad, .o-ad, .o-ad-banner-top, .o-ad-container, .o-advert, .o-listing__ad, .o-site-header__advert, .oad-ad, .oas-ad, .oas-container, .oas-leaderboard-ads, .oas_ad, .oas_add, .oas_advertisement, .oasad, .oasads, .ob_ads_header, .ob_container .item-container-obpd, .ob_dual_right > .ob_ads_header ~ .odb_div, .offads, .oi-add-block, .oi-header-ad, .oio-banner-zone, .oio-link-sidebar, .oio-openslots, .oio-zone-position, .oko-adhesion, .on_player_ads, .oneColumnAd, .onet-ad, .online-ad-container, .opd_adsticky, .otd-ad-top, .outer-ad-container, .outer-ad-unit-wrapper, .outerAdWrapper, .outerAds, .outer_ad_container, .outside_ad, .outsider-ad { display: none !important; }
.ov-ad-slot, .overflow-ad, .overlay-ad, .overlay-ad-container, .overlay-ads, .overlay-box-ad, .overlay_ad, .p-ad, .p-ad-block, .p-ad-dfp-banner, .p-ad-dfp-middle-rec, .p-ad-feature-pr, .p-ad-outbreak, .p-ad-rectangle, .p-ad-thumbnail-txt, .p-ads-billboard, .p-ads-rec, .p-post-ad:not(html):not(body), .p75_sidebar_ads, .p_adv, .p_topad, .package_adBox, .padAdvx, .padvertlabel, .page-ad, .page-ads, .page-advert, .page-advertisement, .page-bottom-fixed-ads, .page-box-ad, .page-break-ad, .page-footer-ad, .page-header-ad, .page-header_ad, .page-top-ads, .pageAd, .pageAdSkin, .pageAdSkinUrl, .pageAds, .pageFooterAd, .pageGoogleAd, .pageGoogleAds, .pageHeaderAd, .pageHeaderAds, .pageTopAd, .page__top-ad-wrapper, .page_ad, .pagead, .pagepusheradATF, .pages__ad { display: none !important; }
.pane-ad-pane, .pane-ads, .pane-sasia-ad, .pane-site-ads, .pane-sponsored-links, .pane_ad_wide, .panel-ad, .panel-adsense, .panel-advert, .panel.ad, .panel_ad, .paneladvert, .par-ad, .par-adv-slot, .parade-ad-container, .parent-ad-desktop, .partial-ad, .partner-ad, .partner-ad-module-wrapper, .partner-ads-list, .partnerAd, .partner_ads, .partnerad_container, .partnersTextLinks, .pauseAdPlacement, .pb-slot-container, .pc-ad, .pcads_widget, .pd-ads-mpu, .pdpads, .penci-ad-box, .penci-ad-image, .penci-ad_box, .penci-adsense-below-slider, .penci-google-adsense, .penci-google-adsense-1, .penci-promo-link, .penci_list_bannner_widget, .pencil-ad, .pencil-ad-container, .pencil-ad-section, .pencil_ad, .perm_ad, .pf_content_ad, .pf_sky_ad, .pf_top_ad, .pg-ad-block, .pg-adnotice, .pg-adtarget, .pgevoke-fp-bodyad2 { display: none !important; }
.pgevoke-story-rightrail-ad1, .pgevoke-story-topads, .pgevoke-topads, .ph-ad, .photo-ad, .photo-ad-pad, .photoAd, .photoad, .phpads_container, .phpbb-ads-center, .pix_adzone, .placeholder-ad, .placeholder-dfp, .placeholderAd, .plain-ad, .plainAd, .player-ad, .player-ad-overlay, .player-ads, .player-ads2, .player-section__ads-banners, .player-under-ad, .playerAd, .playerAdv, .player_ad, .player_ad2, .player_ad_box, .playerad, .playerdads, .plugin-ad, .plugin-ad-container, .pm-ad, .pm-ad-unit, .pm-ad-zone, .pm-ads-banner, .pm-ads-inplayer, .pm-banner-ad, .pmc-adm-boomerang-pub-div, .polar-ad, .polaris-ad--wrapper-desktop, .polarisMarketing, .polaris__ad, .polaris__below-header-ad-wrapper, .position-ads, .post-ad, .post-ad-title, .post-ad-top, .post-ad-type, .post-ads, .post-ads-top { display: none !important; }
.post-adsense-bottom, .post-advert, .post-advert-row, .post-advertisement, .post-load-ad, .post-news-ad, .post-sidebar-ad, .post-sponsored, .postAd, .postWideAd, .post_ad, .post_ads, .post_advert, .post_detail_right_advert, .post_sponsored, .postad, .postads, .postbit-ad, .poster_ad, .posts-ad, .pp-ad-container, .pp_ad_code_adtxt, .ppb_ads, .ppr_priv_footer_banner_ad_billboard, .ppr_priv_header_banner_ad, .ppr_priv_horizon_ad, .pr_adslot_0, .pr_adslot_1, .preheader_advert, .premium-ad, .premium-ads, .premium-adv, .premium-mpu-container, .priad, .priad-1, .primary-ad, .primary-ad-widget, .primary-advertisment, .primis-player-container, .primis-video, .primis-wrapper, .print-ad-wrapper, .print-adslot, .printAds, .product-ad, .product-ads, .product-inlist-ad, .profile-ad-container, .profile-ads-container, .profile__ad-wrapper { display: none !important; }
.profile_ad_bottom, .profile_ad_top, .programtic-ads, .promo-ad, .promo-mpu, .promoAd, .promoAds, .promoAdvertising, .promo_ad, .promo_ads, .promo_border, .promoad, .promoboxAd, .promoted_content_ad, .promotionAdContainer, .promotionTextAd, .proper-ad-insert, .proper-ad-unit, .ps-ad, .pt-ad--container, .pt-ad--scroll, .pt_ad03, .pt_col_ad02, .pub_ads, .publication-ad, .publicidad_horizontal, .publicidade, .publisher_ad, .pubtech-adv-slot, .puff-ad, .puff-advertorials, .pull-ad, .pull_top_ad, .pullad, .purchad, .push--ad, .push-ad, .push-adv, .pushDownAd, .pushdown-ad, .pushdownAd, .pwa-ad, .pz-ad-box, .quads-ad-label, .quads-bg-ad, .quads-location, .queue_ad, .queued-ad, .quigo, .quigo-ad { display: none !important; }
.quigoads, .r-ad, .r-pause-ad-container, .r89-outstream-video, .r_ad, .r_ads, .rail-ad, .rail-ads-1, .rail-article-sponsored, .rail__ad, .rail_ad, .railad, .railadspace, .ray-floating-ads-container, .rc-sponsored, .rcom-freestar-ads-widget, .re-AdTop1Container, .ready-ad, .rec_ad, .recent-ad, .recentAds, .recent_ad_holder, .recipeFeatureAd, .rect-ad, .rect-ad-1, .rectAd300, .rect_ad, .rect_ad_module, .rect_advert, .rectad, .rectadv, .rectangle-ad, .rectangle-ad-container, .rectangle-embed-ad, .rectangleAd, .rectangleAdContainer, .rectangle_ad, .rectanglead, .rectangleads, .refreshAds, .region-ad-bottom-leaderboard, .region-ad-pan, .region-ad-right, .region-ad-top, .region-ads, .region-ads-content-top, .region-banner-ad, .region-dfp-ad-footer, .region-dfp-ad-header, .region-header-ad { display: none !important; }
.region-header-ads, .region-top-ad, .region-top-ad-block, .regular-ads, .regularad, .rekl-left, .rekl-right, .rekl-top, .rekl_left, .rekl_right, .rekl_top, .rekl_top_wrapper, .reklam, .reklam-block, .reklam-kare, .reklam-masthead, .reklam2, .reklam728, .reklama, .reklama-vert, .reklama1, .reklame-wrapper, .reklamka, .related-ad, .related-ads, .relatedAds, .related_ad, .remnant_ad, .remove-ads, .remove-ads-link, .res_ad, .resads-adspot, .responsive-ad, .responsive-ad-header-container, .responsive-ad-wrapper, .responsive-ads, .responsiveAdsense, .responsive_ad_top, .responsive_ads_468x60, .result-ad, .result-sponsored, .resultAd, .result_ad, .resultad, .results-ads, .revcontent-wrap, .review-ad, .reviews-display-ad, .revive-ad, .rh-ad { display: none !important; }
.rhads, .rhs-ad, .rhs-ads-panel, .rhs-advert-container, .rhs-mrec-wrapper, .rhs_ad, .rhs_ad_title, .rhs_ads, .rhsad, .rhsadvert, .right-ad, .right-ad-1, .right-ad-2, .right-ad-3, .right-ad-4, .right-ad-5, .right-ad-block, .right-ad-container, .right-ad-holder, .right-ad-wrapper, .right-ad2, .right-ad350px250px, .right-ads, .right-ads2, .right-adsense, .right-adv, .right-advert, .right-advertisement, .right-col-ad, .right-column-ad, .right-column-ads, .right-rail-ad, .right-rail-ad-container, .right-rail-box-ad-container, .right-side-ad, .right-side-ads, .right-sidebar-box-ad, .right-sidebar-box-ads, .right-sponser-ad, .right-top-ad, .right-video-dvertisement, .rightAD, .rightAd, .rightAd1, .rightAd2, .rightAdBlock, .rightAdBox, .rightAdColumn, .rightAdContainer, .rightAds { display: none !important; }
.rightAdsFix, .rightAdvert, .rightAdverts, .rightBoxAd, .rightBoxMidAds, .rightColAd, .rightColAdBox, .rightColumnAd, .rightColumnAdd, .rightColumnAdsTop, .rightColumnRectAd, .rightHeaderAd, .rightRailAd, .rightRailMiddleAd, .rightSecAds, .rightSideBarAd, .rightSideSponsor, .rightTopAdWrapper, .right_ad, .right_ad_1, .right_ad_2, .right_ad_box, .right_ad_box1, .right_ad_text, .right_ad_top, .right_ad_unit, .right_ad_wrap, .right_ads, .right_ads_column, .right_adsense_box_2, .right_adskin, .right_adv, .right_advert, .right_advertise_cnt, .right_advertisement, .right_block_advert, .right_box_ad, .right_col_ad, .right_column_ads, .right_content_ad, .right_image_ad, .right_long_ad, .right_outside_ads, .right_side_ads, .right_side_box_ad, .right_sponsor_main, .rightad, .rightadHeightBottom, .rightadblock, .rightadd { display: none !important; }
.rightads, .rightadunit, .rightadv, .rightboxads, .rightcolads, .rightcoladvert, .rightrail-ad-placed, .rightsideAd, .river-item-sponsored, .rj-ads-wrapper, .rm-adslot, .rolloverad, .roof-ad, .root-ad-anchor, .rotating-ad, .rotating-ads, .row-ad, .row-ad-leaderboard, .rowAd, .rowAds, .row_header_ads, .rpd_ads, .rr-ad, .rr_ads, .rs-ad, .rs-advert, .rs-advert__container, .rs_ad_block, .rs_ad_top, .rt_ad, .rwSideAd, .rwdArticleInnerAdBlock, .s-ad, .s-ads, .s_ads, .sadvert, .sagreklam, .sal-adv-gpt, .sam_ad, .sb-ad, .sb-ads, .sbAd, .sbAdUnitContainer, .sbTopadWrapper, .sb_ad, .sb_ad_holder, .sc-ad, .scad, .script-ad, .scroll-ad-item-container { display: none !important; }
.scroll-ads, .scroll-track-ad, .scrolling-ads, .sda_adbox, .sdc-advert__top-1, .se-ligatus, .search-ad, .search-advertisement, .search-result-list-item--sidebar-ad, .search-result-list-item--topad, .search-results-ad, .search-sponsor, .search-sponsored, .searchAd, .searchAdTop, .searchAds, .searchad, .searchads, .secondary-ad-widget, .secondary-advertisment, .secondary_ad, .section-ad, .section-ad-unit, .section-ad-wrapper, .section-ad2, .section-ads, .section-adtag, .section-adv, .section-advertisement, .section-sponsor, .section-widget-ad, .section_ad, .section_ad_left, .section_ads, .seoAdWrapper, .servedAdlabel, .serviceAd, .sexunder_ads, .sf_ad_box, .sg-adblock, .sgAd, .sh-section-ad, .shadvertisment, .sheknows-infuse-ad, .shift-ad, .shortadvertisement, .show-desk-ad, .show-sticky-ad, .showAd, .showAdContainer { display: none !important; }
.showads, .showcaseAd, .showcasead, .shr-ads-container, .sidbaread, .side-ad, .side-ad-300, .side-ad-blocks, .side-ad-container, .side-ad-inner, .side-ad-top, .side-ads, .side-ads-block, .side-ads-wide, .side-adv-block, .side-adv-text, .side-advert, .side-advertising, .side-adverts, .side-bar-ad, .sideAd, .sideAdLeft, .sideAdWide, .sideBarAd, .sideBlockAd, .sideBoxAd, .side__ad, .side__ad-box, .side_ad, .side_ad2, .side_ad_top, .side_add_wrap, .side_ads, .side_adsense, .side_adv, .side_col_ad_wrap, .sidead, .sideadmid, .sideads, .sideads_l, .sideadsbox, .sideadtable, .sideadvert, .sideadverts, .sidebar-ad-area, .sidebar-ad-b, .sidebar-ad-box, .sidebar-ad-c, .sidebar-ad-component, .sidebar-ad-cont { display: none !important; }
.sidebar-ad-container, .sidebar-ad-div, .sidebar-ad-label, .sidebar-ad-rect, .sidebar-ad-slot, .sidebar-ad-top, .sidebar-ad-wrapper, .sidebar-adbox, .sidebar-ads, .sidebar-ads-block, .sidebar-ads-wrap, .sidebar-adsdiv, .sidebar-adv-container, .sidebar-advert, .sidebar-advertisement, .sidebar-advertisment, .sidebar-adverts, .sidebar-adverts-header, .sidebar-banner-ad, .sidebar-below-ad-unit, .sidebar-big-ad, .sidebar-big-box-ad, .sidebar-bottom-ad, .sidebar-box-ad, .sidebar-box-ads, .sidebar-content-ad, .sidebar-header-ads, .sidebar-skyscraper-ad, .sidebar-sponsored, .sidebar-sponsors, .sidebar-square-ad, .sidebar-sticky--ad, .sidebar-text-ad, .sidebar-top-ad, .sidebar-tower-ad, .sidebarAD, .sidebarAd, .sidebarAdvert, .sidebar__ad, .sidebar_ad, .sidebar_ad_300, .sidebar_ad_300_250, .sidebar_ad_container, .sidebar_ad_holder, .sidebar_ad_leaderboard, .sidebar_ad_module, .sidebar_ads, .sidebar_ads_left, .sidebar_ads_right, .sidebar_ads_title { display: none !important; }
.sidebar_adsense, .sidebar_advert, .sidebar_advertising, .sidebar_box_ad, .sidebar_right_ad, .sidebar_skyscraper_ad, .sidebar_sponsors, .sidebarad, .sidebarad_bottom, .sidebaradbox, .sidebaradcontent, .sidebarads, .sidebaradsense, .sidebarbox__advertising, .sidebarboxad, .sidebox-ad, .sidebox_ad, .sideright_ads, .sideskyad, .signad, .simple-ad-placeholder, .simple_ads_manager_widget, .simple_adsense_widget, .simplead-container, .simpleads-item, .single-ad, .single-ad-anchor, .single-ad-wrap, .single-ads, .single-ads-section, .single-bottom-ads, .single-mpu, .single-post-ad, .single-post-ads, .single-post-bottom-ads, .single-top-ad, .singleAd, .singleAdBox, .singleAdsContainer, .singlePostAd, .single_ad, .single_ad_300x250, .single_advert, .single_bottom_ad, .single_top_ad, .singlead, .singleads, .singleadstopcstm2, .singlepageleftad, .singlepostad { display: none !important; }
.singlepostadsense, .singpagead, .sister-ads, .site-ad-block, .site-ads, .site-bottom-ad-slot, .site-head-ads, .site-header-ad, .site-header__ads, .site-top-ad, .siteWideAd, .site_ad, .site_ad--gray, .site_ad--label, .site_ads, .site_sponsers, .sitesponsor, .skinAd, .sky-ad, .sky-ad1, .skyAd, .skyAdd, .skyAdvert, .skyAdvert2, .sky_ad, .sky_ad_top, .skyad, .skyscraper-ad, .skyscraper-ad-1, .skyscraper-ad-container, .skyscraper.ad, .skyscraperAd, .skyscraper_ad, .skyscrapper-ads-container, .slate-ad, .slide-ad, .slideAd, .slide_ad, .slidead, .slider-ads, .slider-item-ad, .slider-right-advertisement-banner, .sliderad, .slideshow-ad, .slideshow-ad-container, .slideshow-ad-wrapper, .slideshow-ads, .slideshowAd, .slideshowadvert, .sm-ad { display: none !important; }
.sm-admgnr-unit, .sm-ads, .sm-advertisement, .sm-widget-ad-holder, .sm_ad, .small-ad, .small-ad-header, .small-ad-long, .small-ads, .smallAd, .smallAdContainer, .smallAds, .smallAdvertisments, .small_ad, .small_ad_bg, .small_ads, .smallad, .smalladblock, .smallads, .smalladscontainer, .smallsponsorad, .smart-ad, .smartAd, .smartad, .smn-new-gpt-ad, .snhb-ads-en, .snippet-ad, .snoadrotatewidgetwrap, .speakol-widget, .spinAdvert, .splashy-ad-container, .spon_link, .sponadbox, .sponlinkbox, .spons-link, .spons-wrap, .sponsBox, .sponsLinks, .sponsWrap, .sponsbox, .sponser-link, .sponserLink, .sponslink, .sponsor-ads, .sponsor-area, .sponsor-block, .sponsor-bottom, .sponsor-box, .sponsor-btns, .sponsor-inner { display: none !important; }
.sponsor-left, .sponsor-link, .sponsor-links, .sponsor-popup, .sponsor-post, .sponsor-right, .sponsor-spot, .sponsor-text, .sponsor-text-container, .sponsor-wrap, .sponsorAd, .sponsorArea, .sponsorBlock, .sponsorBottom, .sponsorBox, .sponsorFooter, .sponsorFooter-container, .sponsorLabel, .sponsorLink, .sponsorLinks, .sponsorPanel, .sponsorPost, .sponsorPostWrap, .sponsorStrip, .sponsorText, .sponsorTitle, .sponsorTxt, .sponsor_ad, .sponsor_ad1, .sponsor_ad2, .sponsor_ad_area, .sponsor_ad_section, .sponsor_area, .sponsor_bar, .sponsor_block, .sponsor_columns, .sponsor_div, .sponsor_footer, .sponsor_image, .sponsor_label, .sponsor_line, .sponsor_links, .sponsor_logo, .sponsor_placement, .sponsor_popup, .sponsor_post, .sponsor_units, .sponsorad, .sponsoradlabel, .sponsorads { display: none !important; }
.sponsoradtitle, .sponsored-ad, .sponsored-ad-container, .sponsored-ad-label, .sponsored-add, .sponsored-ads, .sponsored-article, .sponsored-article-item, .sponsored-article-widget, .sponsored-block, .sponsored-buttons, .sponsored-container, .sponsored-container-bottom, .sponsored-default, .sponsored-display-ad, .sponsored-header, .sponsored-link, .sponsored-links, .sponsored-post, .sponsored-post-container, .sponsored-result, .sponsored-results, .sponsored-right, .sponsored-slot, .sponsored-tag, .sponsored-text, .sponsored-top, .sponsored-widget, .sponsoredAd, .sponsoredAds, .sponsoredBanners, .sponsoredBar, .sponsoredBottom, .sponsoredBox, .sponsoredContent, .sponsoredEntry, .sponsoredFeature, .sponsoredInfo, .sponsoredInner, .sponsoredItem, .sponsoredLabel, .sponsoredLeft, .sponsoredLink, .sponsoredLinks, .sponsoredLinks2, .sponsoredLinksBox, .sponsoredListing, .sponsoredProduct, .sponsoredResults, .sponsoredSearch { display: none !important; }
.sponsoredTop, .sponsored_ad, .sponsored_ads, .sponsored_bar_text, .sponsored_box, .sponsored_by, .sponsored_link, .sponsored_links, .sponsored_links2, .sponsored_links_box, .sponsored_links_container, .sponsored_links_section, .sponsored_post, .sponsored_result, .sponsored_results, .sponsored_sidepanel, .sponsored_ss, .sponsored_text, .sponsored_title, .sponsored_well, .sponsoredby, .sponsoredlink, .sponsoredlinks, .sponsoredresults, .sponsorheader, .sponsoringbanner, .sponsorlink, .sponsorlink2, .sponsormsg, .sponsors-advertisment, .sponsors-box, .sponsors-footer, .sponsors-module, .sponsors-widget, .sponsorsBanners, .sponsors_box_container, .sponsors_links, .sponsors_spacer, .sponsorsbanner, .sponsorsbig, .sponsorship-banner-bottom, .sponsorship-box, .sponsorship-chrome, .sponsorship-container, .sponsorship-leaderboard, .sponsorshipContainer, .sponsorship_ad, .sponsorshipbox, .sponsorwrapper, .sponstitle { display: none !important; }
.sponstop, .spot-ad, .spotlight-ad, .spotlightAd, .spt-footer-ad, .sq_ad, .sqrd-ad-manager, .square-ad, .square-ad-1, .square-ad-container, .square-ad-pane, .square-ads, .square-advt, .square-adwrap, .square-sidebar-ad, .square-sponsorship, .squareAd, .squareAdWrap, .squareAdd, .squareAddtwo, .squareAds, .square_ad, .squaread, .squaread-container, .squareadMain, .squareads, .squared_ad, .squirrel_widget, .sr-adsense, .sr-advert, .sraAdvert, .srp-sidebar-ads, .ssp-advert, .standalonead, .standard-ad-container, .standard_ad_slot, .static-ad, .staticAd, .static_mpu_wrap, .staticad, .sterra-ad, .stick-ad-container, .stickad, .sticky-ad, .sticky-ad-bottom, .sticky-ad-container, .sticky-ad-footer, .sticky-ad-header, .sticky-ad-wrapper, .sticky-ads { display: none !important; }
.sticky-ads-container, .sticky-ads-content, .sticky-adsense, .sticky-advert-widget, .sticky-bottom-ad, .sticky-footer-ad, .sticky-footer-ad-container, .sticky-navbar-ad-container, .sticky-rail-ad-container, .sticky-side-ad, .sticky-sidebar-ad, .sticky-top-ad-wrap, .stickyAd, .stickyAdWrapper, .stickyAdsGroup, .stickyContainerMpu, .stickyRailAd, .sticky_ad_sidebar, .sticky_ad_wrapper, .sticky_ads, .stickyad, .stickyadv, .stky-ad-footer, .stm-ad-player, .stmAdHeightWidget, .stock_ad, .stocks-ad-tag, .store-ads, .story-ad, .story-ad-container, .story-ad-right, .story-inline-advert, .storyAd, .storyAdvert, .story__top__ad, .story_ad_div, .story_body_advert, .storyad, .storyad300, .storyadHolderAfterLoad, .stpro_ads, .str-top-ad, .strack_bnr, .strack_cli, .strawberry-ads, .strawberry-ads__pretty-container, .stream-ad, .streamAd, .strip-ad, .stripad { display: none !important; }
.sub-ad, .subAdBannerArea, .subAdBannerHeader, .subNavAd, .subad, .subheader_adsense, .submenu_ad, .subnav-ad-layout, .subnav-ad-wrapper, .subscribeAd, .subscriber-ad, .subscribox-ad, .sudoku-ad, .sugarad, .suggAd, .super-ad, .superbanner-adcontent, .support_ad, .tabAd, .tabAds, .tab_ad, .tab_ad_area, .table-ad, .tableAd1, .tablet-ad, .tadm_ad_unit, .takeover-ad, .tallAdvert, .tallad, .tappx-ad, .tbboxad, .tc-adbanner, .tc_ad, .tc_ad_unit, .tcf-ad, .td-a-ad, .td-a-rec-id-custom_ad_1, .td-a-rec-id-custom_ad_2, .td-a-rec-id-custom_ad_3, .td-a-rec-id-custom_ad_4, .td-a-rec-id-custom_ad_5, .td-ad, .td-ad-m, .td-ad-p, .td-ad-tp, .td-adspot-title, .td-sponsor-title, .tdAdHeader, .td_ad, .td_footer_ads { display: none !important; }
.td_left_widget_ad, .td_leftads, .td_reklama_bottom, .td_reklama_top, .td_spotlight_ads, .teaser--advertorial, .teaser-ad, .teaser-advertisement, .teaser-sponsor, .teaserAd, .teaserAdContainer, .teaserAdHeadline, .teaser_ad, .templates_ad_placement, .test-adsense, .testAd-holder, .text-ad-sitewide, .text-ad-top, .text-advertisement, .text-panel-ad, .text-sponsor, .textAd3, .textAdBlock, .textAdBox, .textAds, .textLinkAd, .textSponsor, .text_ad_title, .text_ad_website, .text_ads_2, .text_ads_wrapper, .text_adv, .textad, .textadContainer, .textadbox, .textadlink, .textadscontainer, .textadsds, .textadsfoot, .textadtext, .textlinkads, .th-ad, .thb_ad_before_header, .thb_ad_header, .theAdvert, .theads, .theleftad, .themonic-ad1, .themonic-ad2, .themonic-ad3 { display: none !important; }
.themonic-ad6, .third-party-ad, .thumb-ads, .thumb_ad, .thumbnailad, .thumbs-adv, .thumbs-adv-holder, .tile--ad, .tile-ad, .tile-ad-container, .tile-advert, .tileAdContainer, .tileAdWrap, .tileAds, .tile_AdBanner, .tile_ad, .tile_ad_container, .tips_advertisement, .title-ad, .tl-ad-container, .tmiads, .tmo-ad, .tmo-ad-ezoic, .tncls_ad, .tncls_ad_250, .tncls_ad_300, .tnt-ads, .tnt-ads-container, .tnt-dmp-reactive, .tnw-ad, .toaster-ad, .toolkit-ad-shell, .top-300-ad, .top-ad, .top-ad-728, .top-ad-970x90, .top-ad-anchor, .top-ad-area, .top-ad-banner-wrapper, .top-ad-bloc, .top-ad-block, .top-ad-center, .top-ad-container, .top-ad-content, .top-ad-deck, .top-ad-desktop, .top-ad-div, .top-ad-horizontal, .top-ad-inside, .top-ad-module { display: none !important; }
.top-ad-recirc, .top-ad-right, .top-ad-sidebar, .top-ad-slot, .top-ad-space, .top-ad-sticky, .top-ad-unit, .top-ad-wrap, .top-ad-wrapper, .top-ad-zone, .top-ad1, .top-ad__sticky-wrapper, .top-adbox, .top-ads, .top-ads-amp, .top-ads-block, .top-ads-bottom-bar, .top-ads-container, .top-ads-mobile, .top-ads-wrapper, .top-adsense, .top-adsense-banner, .top-adspace, .top-adv, .top-adv-container, .top-adverbox, .top-advert, .top-advertisement, .top-banner-468, .top-banner-ad, .top-banner-ad-container, .top-banner-ad-wrapper, .top-banner-add, .top-banner-ads, .top-banner-advert, .top-bar-ad-related, .top-box-right-ad, .top-content-adplace, .top-dfp-wrapper, .top-fixed-ad, .top-half-page-ad, .top-header-ad, .top-header-ad1, .top-horiz-ad, .top-horizontal-ad, .top-item-ad, .top-leaderboard-ad, .top-left-ad, .top-menu-ads, .top-post-ad { display: none !important; }
.top-post-ads, .top-right-ad, .top-side-advertisement, .top-sidebar-ad, .top-sidebar-adbox, .top-site-ad, .top-sponsored-header, .top-story-ad, .top-topics__ad, .top-wide-ad-container, .top.ad, .top250Ad, .top300ad, .topAD, .topAd, .topAd728x90, .topAdBanner, .topAdBar, .topAdBlock, .topAdCenter, .topAdContainer, .topAdIn, .topAdLeft, .topAdRight, .topAdSpacer, .topAdWrap, .topAdWrapper, .topAdd, .topAds, .topAdsWrappper, .topAdvBox, .topAdvert, .topAdvertisement, .topAdvertistemt, .topAdverts, .topAlertAds, .topArtAd, .topArticleAds, .topBannerAd, .topBarAd, .topBoxAdvertisement, .topLeaderboardAd, .topRightAd, .top_Ad, .top__ad, .top_ad, .top_ad1, .top_ad_728, .top_ad_728_90, .top_ad_banner { display: none !important; }
.top_ad_big, .top_ad_disclaimer, .top_ad_div, .top_ad_holder, .top_ad_inner, .top_ad_label, .top_ad_list, .top_ad_long, .top_ad_post, .top_ad_responsive, .top_ad_seperate, .top_ad_short, .top_ad_wrap, .top_ad_wrapper, .top_adbox1, .top_adbox2, .top_adh, .top_ads, .top_ads_container, .top_adsense, .top_adspace, .top_adv, .top_adv_content, .top_advert, .top_advertisement, .top_advertising_lb, .top_advertizing_cnt, .top_bar_ad, .top_big_ads, .top_container_ad, .top_corner_ad, .top_head_ads, .top_header_ad, .top_header_ad_inner, .top_right_ad, .top_rightad, .top_side_adv, .top_sponsor, .topad-area, .topad-bar, .topad-bg, .topad1, .topad2, .topadbar, .topadblock, .topadbox, .topadcont, .topadrow, .topads, .topads-spacer { display: none !important; }
.topadsbx, .topadsection, .topadspace, .topadspot, .topadtara, .topadtxt, .topadvert, .topbannerAd, .topbar-ad-parent, .topbar-ad-unit, .topboardads, .topright_ad, .topside_ad, .topsidebarad, .tout-ad, .tout-ad-embed, .tower-ad, .tower-ad-abs, .tower-ad-b, .tower-ad-wrapper, .tower-ads-container, .towerAd, .towerAdLeft, .towerAds, .tower_ad, .tower_ad_desktop, .tower_ad_disclaimer, .towerad, .tp-ad-label, .tp_ads, .tpd-banner-ad-container, .tpd-banner-desktop, .tpd-box-ad-d, .trc-content-sponsored, .trc-content-sponsoredUB, .trend-card-advert, .trend-card-advert__title, .tsm-ad, .tt_ads, .ttb_adv_bg, .tw-adv-gpt, .txt_ads, .txtad_area, .txtadbox, .txtadvertise, .type-ad, .u-ads, .u-lazy-ad-wrapper, .udn-ads, .ue-c-ad { display: none !important; }
.ult_vp_videoPlayerAD, .under-header-ad, .under-player-ad, .under-player-ads, .under_ads, .underplayer__ad, .uniAdBox, .unionAd, .unit-ad, .upper-ad-box, .upper-ad-space, .upper_ad, .upx-ad-placeholder, .us_ad, .uvs-ad-full-width, .vadvert, .variable-ad, .variableHeightAd, .vce-ad-below-header, .vce-ad-container, .vce-header-ads, .vce_adsense_expand, .vce_adsense_widget, .vce_adsense_wrapper, .vdvwad, .vert-ad, .vert-ads, .vertad, .vertical-ad, .vertical-ads, .vertical-adsense, .vertical-trending-ads, .verticalAd, .verticalAdText, .vertical_ad, .vertical_ads, .verticalad, .vf-ad-comments, .vf-conversation-starter__ad, .vf-promo-gtag, .vf-promo-wrapper, .vf3-conversations-list__promo, .vi-sticky-ad, .video-ad-bottom, .video-ad-container, .video-ad-content, .video-ads, .video-ads-container, .video-ads-grid, .video-ads-wrapper { display: none !important; }
.video-adv, .video-advert, .video-archive-ad, .video-boxad, .video-inline-ads, .video-page__adv, .video-right-ad, .video-right-ads, .video-side__adv_title, .videoAd-wrapper, .videoAd300, .videoBoxAd, .videoOverAd300, .videoOverAdSmall, .videoPauseAd, .videoSideAds, .video_ad, .video_ads, .videoad, .videoad-base, .videoad2, .videos-ad, .videos-ad-wrap, .view-Advertisment, .view-ad, .view-ads, .view-advertisement, .view-advertisements, .view-advertorials, .view-adverts, .view-article-inner-ads, .view-homepage-center-ads, .view-id-Advertisment, .view-id-ads, .view-id-advertisement, .view-image-ads, .view-site-ads, .view_ad, .views-field-field-ad, .visibleAd, .vjs-ad-iframe, .vjs-ad-overlay, .vjs-ima3-ad-container, .vjs-marker-ad, .vjs-overlay.size-300x250, .vl-ad-item, .vl-advertisment, .vl-header-ads, .vlog-ad, .vm-ad-horizontal { display: none !important; }
.vmag_medium_ad, .vodl-ad__bigsizebanner, .vpnad, .vs-advert-300x250, .vsw-ads, .vswAdContainer, .vuukle-ad-block, .vuukle-ads, .vw-header__ads, .w-ad-box, .w-adsninja-video-player, .w-content--ad, .wAdvert, .w_AdExternal, .w_ad, .waf-ad, .wahAd, .wahAdRight, .waldo-display-unit, .waldo-placeholder, .waldo-placeholder-bottom, .wall-ads-control, .wall-ads-left, .wall-ads-right, .wallAd, .wall_ad, .wcAd, .wcfAdLocation, .weatherad, .web_ads, .webpart-wrap-advert, .website-ad-space, .well-ad, .werbungAd, .wfb-ad, .wg-ad-square, .wh-advert, .wh_ad, .wh_ad_inner, .when-show-ads, .wide-ad, .wide-ad-container, .wide-ad-new-layout, .wide-ad-outer, .wide-ads-container, .wide-advert, .wide-footer-ad, .wide-header-ad, .wide-skyscraper-ad, .wideAd { display: none !important; }
.wideAdTable, .widePageAd, .wide_ad, .wide_adBox_footer, .wide_ad_unit, .wide_ad_unit_top, .wide_ads, .wide_google_ads, .wide_grey_ad_box, .wide_sponsors, .widead, .wideadbox, .widget--ad, .widget--ajdg_bnnrwidgets, .widget--local-ads, .widget-300x250ad, .widget-ad, .widget-ad-codes, .widget-ad-image, .widget-ad-script, .widget-ad-sky, .widget-ad-zone, .widget-ad300x250, .widget-adcode, .widget-ads, .widget-adsense, .widget-adv, .widget-advads-ad-widget, .widget-advert-970, .widget-advertisement, .widget-dfp, .widget-sponsor, .widget-sponsor--container, .widget-text-ad, .widgetAD, .widgetAds, .widgetSponsors, .widget_300x250_advertisement, .widget_ad, .widget_ad-widget, .widget_ad125, .widget_ad300, .widget_ad_300, .widget_ad_boxes_widget, .widget_ad_layers_ad_widget, .widget_ad_rotator, .widget_ad_widget, .widget_adace_ads_widget, .widget_admanagerwidget, .widget_adrotate_widgets { display: none !important; }
.widget_ads, .widget_ads_entries, .widget_ads_widget, .widget_adsblock, .widget_adsensem, .widget_adsensewidget, .widget_adsingle, .widget_adswidget1-quick-adsense, .widget_adswidget2-quick-adsense, .widget_adswidget3-quick-adsense, .widget_adv_location, .widget_adv_text, .widget_advads_ad_widget, .widget_advert, .widget_advert_content, .widget_advert_widget, .widget_advertisement, .widget_advertisements, .widget_advertisment, .widget_advwidget, .widget_alaya_ad, .widget_arvins_ad_randomizer, .widget_awaken_pro_medium_rectangle_ad, .widget_better-ads, .widget_com_ad_widget, .widget_core_ads_desk, .widget_cpxadvert_widgets, .widget_customad_widget, .widget_customadvertising, .widget_dfp, .widget_doubleclick_widget, .widget_ep_rotating_ad_widget, .widget_epcl_ads_fluid, .widget_evolve_ad_gpt_widget, .widget_html_snippet_ad_widget, .widget_ima_ads, .widget_ione-dart-ad, .widget_ipm_sidebar_ad, .widget_island_ad, .widget_joblo_complex_ad, .widget_long_ads_widget, .widget_newspack-ads-widget, .widget_njads_single_widget, .widget_openxwpwidget, .widget_plugrush_widget, .widget_pmc-ads-widget, .widget_quads_ads_widget, .widget_rdc_ad_widget, .widget_sej_sidebar_ad, .widget_sidebar_adrotate_tedo_single_widget { display: none !important; }
.widget_sidebaradwidget, .widget_singlead, .widget_sponsored_content, .widget_supermag_ad, .widget_supernews_ad, .widget_text_adsense, .widget_themoneytizer_widget, .widget_thesun_dfp_ad_widget, .widget_tt_ads_widget, .widget_viral_advertisement, .widget_wp-bannerize-widget, .widget_wp_ads_gpt_widget, .widget_wp_insert_ad_widget, .widget_wpex_advertisement, .widget_wpstealthads_widget, .widgetads, .width-ad-slug, .wikia-ad, .wio-xbanner, .worldplus-ad, .wp-ads-target, .wp-block-ad-slot, .wp-block-gamurs-ad, .wp-block-tpd-block-tpd-ads, .wp125ad, .wp125ad_2, .wp_bannerize, .wp_bannerize_banner_box, .wp_bannerize_container, .wpadcenter-ad-container, .wpadvert, .wpd-advertisement, .wpex-ads-widget, .wppaszone, .wpvqgr-a-d-s, .wpx-bannerize, .wpx_bannerize, .wpx_bannerize_banner_box, .wrap-ad, .wrap-ads, .wrap_boxad, .wrapad, .wrapper-ad, .wrapper-header-ad-slot, .wrapper_ad, .wrapper_advertisement, .wrapperad, .ww_ads_banner_wrapper, .xeiro-ads, .xmlad { display: none !important; }
.xpot-horizontal, .y-ads, .y-ads-wide, .yaAds, .yad-sponsored, .yahooAd, .yahooAds, .yahoo_ad, .yahoo_ads, .yahooad, .yahooads, .yan-sponsored, .ympb_target, .zeus-ad, .zeusAdWrapper, .zeusAd__container, .zmgad-full-width, .zmgad-right-rail, .zone-advertisement, .zoneAds, .zox-post-ad-wrap, .zox-post-bot-ad, .zox-widget-side-ad, .zox_ad_widget, .zox_adv_widget, AD-SLOT, DFP-AD, [class^="adDisplay-module"], [class^="amp-ad-"], [data-ad-cls], [data-ad-manager-id], [data-ad-module], [data-ad-name], [data-ad-width], [data-adblockkey], [data-adbridg-ad-class], [data-adshim], [data-advadstrackid], [data-asg-ins], [data-block-type="ad"], [data-css-class="dfp-inarticle"], [data-d-ad-id], [data-desktop-ad-id], [data-dynamic-ads], [data-ez-name], [data-freestar-ad][id], [data-id^="div-gpt-ad"], [data-identity="adhesive-ad"], [data-m-ad-id], [data-mobile-ad-id] { display: none !important; }
[data-name="adaptiveConstructorAd"], [data-rc-widget], [data-revive-zoneid], [data-role="tile-ads-module"], [data-template-type="nativead"], [data-testid="adBanner-wrapper"], [data-testid="ad_testID"], [data-testid="prism-ad-wrapper"], [data-type="ad-vertical"], [data-wpas-zoneid], [href="//sexcams.plus/"], [href="https://jdrucker.com/gold"] > img, [href="https://masstortfinancing.com"] img, [href="https://ourgoldguy.com/contact/"] img, [href="https://www.masstortfinancing.com/"] > img, [href^="http://clicks.totemcash.com/"], [href^="http://mypillow.com/"] > img, [href^="http://www.mypillow.com/"] > img, [href^="https://aads.com/campaigns/"], [href^="https://ad.admitad.com/"], [href^="https://ad1.adfarm1.adition.com/"], [href^="https://affiliate.fastcomet.com/"] > img, [href^="https://antiagingbed.com/discount/"] > img, [href^="https://ap.octopuspop.com/click/"] > img, [href^="https://awbbjmp.com/"], [href^="https://charmingdatings.life/"], [href^="https://clicks.affstrack.com/"] > img, [href^="https://cpa.10kfreesilver.com/"], [href^="https://glersakr.com/"], [href^="https://go.xlrdr.com"], [href^="https://ilovemyfreedoms.com/landing-"], [href^="https://istlnkcl.com/"], [href^="https://join.girlsoutwest.com/"], [href^="https://join.playboyplus.com/track/"], [href^="https://join3.bannedsextapes.com"], [href^="https://mylead.global/stl/"] > img, [href^="https://mypatriotsupply.com/"] > img, [href^="https://mypillow.com/"] > img, [href^="https://mystore.com/"] > img, [href^="https://noqreport.com/"] > img, [href^="https://optimizedelite.com/"] > img, [href^="https://rapidgator.net/article/premium/ref/"], [href^="https://shiftnetwork.infusionsoft.com/go/"] > img, [href^="https://track.aftrk1.com/"], [href^="https://track.fiverr.com/visit/"] > img, [href^="https://turtlebids.irauctions.com/"] img, [href^="https://v.investologic.co.uk/"], [href^="https://wct.link/click?"], [href^="https://www.avantlink.com/click.php"] img, [href^="https://www.brighteonstore.com/products/"] img { display: none !important; }
[href^="https://www.cloudways.com/en/?id"], [href^="https://www.herbanomic.com/"] > img, [href^="https://www.hostg.xyz/"] > img, [href^="https://www.mypatriotsupply.com/"] > img, [href^="https://www.mypillow.com/"] > img, [href^="https://www.profitablegatecpm.com/"], [href^="https://www.restoro.com/"], [href^="https://www.targetingpartner.com/"], [href^="https://zone.gotrackier.com/"], [href^="https://zstacklife.com/"] img, [id^="ad-wrap-"], [id^="ad_sky"], [id^="ad_slider"], [id^="div-gpt-ad"], [id^="section-ad-banner"], [name^="google_ads_iframe"], [onclick^="location.href='https://1337x.vpnonly.site/"], a-ad, a[data-href^="http://ads.trafficjunky.net/"], a[data-url^="https://vulpix.bet/?ref="], a[href*=".adsrv.eacdn.com/"], a[href*=".engine.adglare.net/"], a[href*=".foxqck.com/"], a[href*=".g2afse.com/"], a[href*="//daichoho.com/"], a[href*="//jjgirls.com/sex/Chaturbate"], a[href*="/jump/next.php?r="], a[href^=" https://www.friendlyduck.com/AF_"], a[href^="//ejitsirdosha.net/"], a[href^="//go.eabids.com/"], a[href^="//s.st1net.com/splash.php"], a[href^="//s.zlinkd.com/"], a[href^="//startgaming.net/tienda/" i], a[href^="//stighoazon.com/"], a[href^="http://adultfriendfinder.com/go/"], a[href^="http://annulmentequitycereals.com/"], a[href^="http://avthelkp.net/"], a[href^="http://bongacams.com/track?"], a[href^="http://cam4com.go2cloud.org/aff_c?"], a[href^="http://coefficienttolerategravel.com/"], a[href^="http://com-1.pro/"], a[href^="http://deskfrontfreely.com/"], a[href^="http://dragfault.com/"], a[href^="http://dragnag.com/"], a[href^="http://eighteenderived.com/"], a[href^="http://eslp34af.click/"], a[href^="http://guestblackmail.com/"], a[href^="http://handgripvegetationhols.com/"], a[href^="http://li.blogtrottr.com/click?"], a[href^="http://muzzlematrix.com/"] { display: none !important; }
a[href^="http://naggingirresponsible.com/"], a[href^="http://partners.etoro.com/"], a[href^="http://premonitioninventdisagree.com/"], a[href^="http://revolvemockerycopper.com/"], a[href^="http://sarcasmadvisor.com/"], a[href^="http://stickingrepute.com/"], a[href^="http://tc.tradetracker.net/"] > img, a[href^="http://trk.globwo.online/"], a[href^="http://troopsassistedstupidity.com/"], a[href^="http://vnte9urn.click/"], a[href^="http://www.adultempire.com/unlimited/promo?"][href*="&partner_id="], a[href^="http://www.friendlyduck.com/AF_"], a[href^="http://www.h4trck.com/"], a[href^="http://www.iyalc.com/"], a[href^="https://123-stream.org/"], a[href^="https://1betandgonow.com/"], a[href^="https://6-partner.com/"], a[href^="https://81ac.xyz/"], a[href^="https://a-ads.com/"], a[href^="https://a.adtng.com/"], a[href^="https://a.bestcontentfood.top/"], a[href^="https://a.bestcontentoperation.top/"], a[href^="https://a.bestcontentweb.top/"], a[href^="https://a.candyai.love/"], a[href^="https://a.medfoodhome.com/"], a[href^="https://a.medfoodsafety.com/"], a[href^="https://a2.adform.net/"], a[href^="https://ab.advertiserurl.com/aff/"], a[href^="https://activate-game.com/"], a[href^="https://ad.doubleclick.net/"], a[href^="https://ad.zanox.com/ppc/"] > img, a[href^="https://adclick.g.doubleclick.net/"], a[href^="https://ads.betfair.com/redirect.aspx?"], a[href^="https://ads.leovegas.com/"], a[href^="https://ads.planetwin365affiliate.com/"], a[href^="https://adultfriendfinder.com/go/"], a[href^="https://ak.hauchiwu.com/"], a[href^="https://ak.oalsauwy.net/"], a[href^="https://ak.psaltauw.net/"], a[href^="https://ak.stikroltiltoowi.net/"], a[href^="https://allhost.shop/aff.php?"], a[href^="https://auesk.cfd/"], a[href^="https://ausoafab.net/"], a[href^="https://aweptjmp.com/"], a[href^="https://awptjmp.com/"], a[href^="https://baipahanoop.net/"], a[href^="https://banners.livepartners.com/"], a[href^="https://bc.game/"], a[href^="https://black77854.com/"], a[href^="https://bngprm.com/"] { display: none !important; }
a[href^="https://bngpt.com/"], a[href^="https://bodelen.com/"], a[href^="https://bongacams10.com/track?"], a[href^="https://bongacams2.com/track?"], a[href^="https://bs.serving-sys.com"], a[href^="https://cam4com.go2cloud.org/"], a[href^="https://camfapr.com/landing/click/"], a[href^="https://cams.imagetwist.com/in/?track="], a[href^="https://chaturbate.com/in/?"], a[href^="https://chaturbate.jjgirls.com/?track="], a[href^="https://claring-loccelkin.com/"], a[href^="https://click.candyoffers.com/"], a[href^="https://click.dtiserv2.com/"], a[href^="https://click.hoolig.app/"], a[href^="https://click.linksynergy.com/fs-bin/"] > img, a[href^="https://clickadilla.com/"], a[href^="https://clickins.slixa.com/"], a[href^="https://clicks.pipaffiliates.com/"], a[href^="https://clixtrac.com/"], a[href^="https://combodef.com/"], a[href^="https://ctjdwm.com/"], a[href^="https://ctosrd.com/"], a[href^="https://ctrdwm.com/"], a[href^="https://datewhisper.life/"], a[href^="https://disobediencecalculatormaiden.com/"], a[href^="https://dl-protect.net/"], a[href^="https://drumskilxoa.click/"], a[href^="https://eergortu.net/"], a[href^="https://engine.blueistheneworanges.com/"], a[href^="https://engine.flixtrial.com/"], a[href^="https://engine.phn.doublepimp.com/"], a[href^="https://explore-site.com/"], a[href^="https://fc.lc/ref/"], a[href^="https://financeads.net/tc.php?"], a[href^="https://gamingadlt.com/?offer="], a[href^="https://get-link.xyz/"], a[href^="https://getmatchedlocally.com/"], a[href^="https://getvideoz.click/"], a[href^="https://gml-grp.com/"], a[href^="https://go.admjmp.com"], a[href^="https://go.bbrdbr.com"], a[href^="https://go.bushheel.com/"], a[href^="https://go.cmtaffiliates.com/"], a[href^="https://go.dmzjmp.com"], a[href^="https://go.etoro.com/"] > img, a[href^="https://go.goaserv.com/"], a[href^="https://go.grinsbest.com/"], a[href^="https://go.hpyjmp.com"], a[href^="https://go.hpyrdr.com/"], a[href^="https://go.markets.com/visit/?bta="] { display: none !important; }
a[href^="https://go.mnaspm.com/"], a[href^="https://go.rmhfrtnd.com/"], a[href^="https://go.skinstrip.net"][href*="?campaignId="], a[href^="https://go.strpjmp.com/"], a[href^="https://go.tmrjmp.com"], a[href^="https://go.trackitalltheway.com/"], a[href^="https://go.xlirdr.com"], a[href^="https://go.xlivrdr.com"], a[href^="https://go.xlviiirdr.com"], a[href^="https://go.xlviirdr.com"], a[href^="https://go.xlvirdr.com"], a[href^="https://go.xtbaffiliates.com/"], a[href^="https://go.xxxiijmp.com"], a[href^="https://go.xxxijmp.com"], a[href^="https://go.xxxvjmp.com/"], a[href^="https://golinks.work/"], a[href^="https://helmethomicidal.com/"], a[href^="https://hot-growngames.life/"], a[href^="https://in.rabbtrk.com/"], a[href^="https://intenseaffiliates.com/redirect/"], a[href^="https://iqbroker.com/"][href*="?aff="], a[href^="https://ismlks.com/"], a[href^="https://italarizege.xyz/"], a[href^="https://itubego.com/video-downloader/?affid="], a[href^="https://jaxofuna.com/"], a[href^="https://join.dreamsexworld.com/"], a[href^="https://join.sexworld3d.com/track/"], a[href^="https://join.virtuallust3d.com/"], a[href^="https://join.virtualtaboo.com/track/"], a[href^="https://juicyads.in/"], a[href^="https://kiksajex.com/"], a[href^="https://l.hyenadata.com/"], a[href^="https://land.brazzersnetwork.com/landing/"], a[href^="https://landing.brazzersnetwork.com/"], a[href^="https://lead1.pl/"], a[href^="https://lijavaxa.com/"], a[href^="https://lnkxt.bannerator.com/"], a[href^="https://lobimax.com/"], a[href^="https://loboclick.com/"], a[href^="https://lone-pack.com/"], a[href^="https://losingoldfry.com/"], a[href^="https://m.do.co/c/"] > img, a[href^="https://maymooth-stopic.com/"], a[href^="https://mediaserver.entainpartners.com/renderBanner.do?"], a[href^="https://mediaserver.gvcaffiliates.com/renderBanner.do?"], a[href^="https://mmwebhandler.aff-online.com/"], a[href^="https://myclick-2.com/"], a[href^="https://natour.naughtyamerica.com/track/"], a[href^="https://ndt5.net/"], a[href^="https://ngineet.cfd/"] { display: none !important; }
a[href^="https://offhandpump.com/"], a[href^="https://osfultrbriolenai.info/"], a[href^="https://pb-front.com/"], a[href^="https://pb-imc.com/"], a[href^="https://pb-track.com/"], a[href^="https://play1ad.shop/"], a[href^="https://playnano.online/offerwalls/?ref="], a[href^="https://porntubemate.com/"], a[href^="https://postback1win.com/"], a[href^="https://prf.hn/click/"][href*="/adref:"] > img, a[href^="https://prf.hn/click/"][href*="/camref:"] > img, a[href^="https://prf.hn/click/"][href*="/creativeref:"] > img, a[href^="https://pubads.g.doubleclick.net/"], a[href^="https://quotationfirearmrevision.com/"], a[href^="https://random-affiliate.atimaze.com/"], a[href^="https://rixofa.com/"], a[href^="https://s.cant3am.com/"], a[href^="https://s.deltraff.com/"], a[href^="https://s.ma3ion.com/"], a[href^="https://s.optzsrv.com/"], a[href^="https://s.zlink3.com/"], a[href^="https://s.zlinkd.com/"], a[href^="https://serve.awmdelivery.com/"], a[href^="https://service.bv-aff-trx.com/"], a[href^="https://sexynearme.com/"], a[href^="https://slkmis.com/"], a[href^="https://snowdayonline.xyz/"], a[href^="https://softwa.cfd/"], a[href^="https://startgaming.net/tienda/" i], a[href^="https://static.fleshlight.com/images/banners/"], a[href^="https://streamate.com/landing/click/"], a[href^="https://svb-analytics.trackerrr.com/"], a[href^="https://syndicate.contentsserved.com/"], a[href^="https://syndication.dynsrvtbg.com/"], a[href^="https://syndication.exoclick.com/"], a[href^="https://syndication.optimizesrv.com/"], a[href^="https://t.acam.link/"], a[href^="https://t.adating.link/"], a[href^="https://t.ajrkm1.com/"], a[href^="https://t.ajrkm3.com/"], a[href^="https://t.ajump1.com/"], a[href^="https://t.aslnk.link/"], a[href^="https://t.hrtye.com/"], a[href^="https://tatrck.com/"], a[href^="https://tc.tradetracker.net/"] > img, a[href^="https://tm-offers.gamingadult.com/"], a[href^="https://tour.mrskin.com/"], a[href^="https://track.1234sd123.com/"], a[href^="https://track.adform.net/"], a[href^="https://track.afcpatrk.com/"] { display: none !important; }
a[href^="https://track.aftrk3.com/"], a[href^="https://track.totalav.com/"], a[href^="https://track.wg-aff.com"], a[href^="https://tracker.loropartners.com/"], a[href^="https://tracking.avapartner.com/"], a[href^="https://traffdaq.com/"], a[href^="https://trk.nfl-online-streams.club/"], a[href^="https://trk.softonixs.xyz/"], a[href^="https://turnstileunavailablesite.com/"], a[href^="https://twinrdsrv.com/"], a[href^="https://upsups.click/"], a[href^="https://vo2.qrlsx.com/"], a[href^="https://voluum.prom-xcams.com/"], a[href^="https://witnessjacket.com/"], a[href^="https://wittered-mainging.com/"], a[href^="https://www.adskeeper.com"], a[href^="https://www.adultempire.com/"][href*="?partner_id="], a[href^="https://www.adxsrve.com/"], a[href^="https://www.bang.com/?aff="], a[href^="https://www.bet365.com/"][href*="affiliate="], a[href^="https://www.brazzersnetwork.com/landing/"], a[href^="https://www.dating-finder.com/?ai_d="], a[href^="https://www.dating-finder.com/signup/?ai_d="], a[href^="https://www.dql2clk.com/"], a[href^="https://www.endorico.com/Smartlink/"], a[href^="https://www.financeads.net/tc.php?"], a[href^="https://www.friendlyduck.com/AF_"], a[href^="https://www.geekbuying.com/dynamic-ads/"], a[href^="https://www.googleadservices.com/pagead/aclk?"] > img, a[href^="https://www.highcpmrevenuenetwork.com/"], a[href^="https://www.highperformancecpmgate.com/"], a[href^="https://www.infowarsstore.com/"] > img, a[href^="https://www.liquidfire.mobi/"], a[href^="https://www.mrskin.com/account/"], a[href^="https://www.mrskin.com/tour"], a[href^="https://www.nutaku.net/signup/landing/"], a[href^="https://www.onlineusershielder.com/"], a[href^="https://www.sheetmusicplus.com/"][href*="?aff_id="], a[href^="https://www.toprevenuegate.com/"], a[href^="https://www8.smartadserver.com/"], a[href^="https://xbet-4.com/"], a[href^="https://zirdough.net/"], a[style="width:100%;height:100%;z-index:10000000000000000;position:absolute;top:0;left:0;"], ad-shield-ads, ad-slot, app-ad, app-advertisement, app-large-ad, ark-top-ad, aside[id^="adrotate_widgets-"] { display: none !important; }
atf-ad-slot, bottomadblock, display-ad-component, display-ads, div[aria-label="Ads"], div[class^="Adstyled__AdWrapper-"], div[data-ad-placeholder], div[data-ad-targeting], div[data-ad-wrapper], div[data-adname], div[data-adunit-path], div[data-adunit], div[data-adzone], div[data-alias="300x250 Ad 1"], div[data-alias="300x250 Ad 2"], div[data-contentexchange-widget], div[data-dfp-id], div[data-id-advertdfpconf], div[id^="ad-div-"], div[id^="ad-position-"], div[id^="ad_position_"], div[id^="adngin-"], div[id^="adrotate_widgets-"], div[id^="adspot-"], div[id^="crt-"][style], div[id^="dfp-ad-"], div[id^="div-ads-"], div[id^="div-gpt-"], div[id^="ezoic-pub-ad-"], div[id^="google_dfp_"], div[id^="gpt_ad_"], div[id^="lazyad-"], div[id^="optidigital-adslot"], div[id^="rc-widget-"], div[id^="st"][style^="z-index: 999999999;"], div[id^="sticky_ad_"], div[id^="vuukle-ad-"], div[ow-ad-unit-wrapper], gpt-ad, guj-ad, hl-adsense, img[src^="https://images.purevpnaffiliates.com"], ps-connatix-module, span[data-ez-ph-id], span[id^="ezoic-pub-ad-placeholder-"], topadblock, zeus-ad, .Ad-Container:not(.adsbygoogle), .ad-area:not(.text-ad), .ad-placeholder:not(#filter_ads_by_classname):not(#detect_ad_empire):not(#detect):not(.adsbox) { display: none !important; }
.ads_container:not(.text-ad), .sidebar-ad:not(.adsbygoogle), #target.pk-page-ready #pk-status-message, #sellwild-loader, .ad_1tdq7q5, .style_k8mr7b-o_O-style_uhlm2, .aspace-300x169, .aspace-300x250, #hgiks-middle, #hgiks-top, .boxOverContent__banner, .happy-under-player, .mntl-leaderboard-header, .mntl-leaderboard-spacer, .shopee-search-user-brief, a[href*="&maxads="], a[href*=".cfm?domain="][href*="&fp="], .CitrusBannerWrapper--enollj, [class^="tile-picker__CitrusBannerContainer-sc-"], citrus-ad-wrapper, .RC-AD, .RC-AD-BOX-BOTTOM, .RC-AD-BOX-MIDDLE, .RC-AD-BOX-TOP, .RC-AD-TOP-BANNER, ins.adsbygoogle[data-ad-client], ins.adsbygoogle[data-ad-slot], #mgb-container > #mgb, #kt_player > a[target="_blank"], #kt_player > div[style$="display: block;"][style*="inset: 0px;"], #slashboxes > .deals-rail, .scroll-fixable.rail-right > .deals-rail, .click-track.partner, .click-track.shop-window-affiliate, .index-module_adBeforeContent__UYZT, .interstory_first_mobile, .interstory_second_mobile, #gnt_atomsnc, #gpt-dynamic_native_article_4, #gpt-high_impact, #gpt-poster, .gnt_em_vp__tavp, .gnt_em_vp_c[data-g-s="vp_dk"], .gnt_flp, .gnt_rr_xpst, .gnt_rr_xst, .gnt_tb.gnt_tbb, .gnt_tbr.gnt_tb, .gnt_x, .gnt_x__lbl { display: none !important; }
.gnt_xmst, .mntl-jwplayer-broad.article__broad-video-jw, #Player_Playoncontent, #Player_Playoncontent_footer, #aniview--player, #cmg-video-player-placeholder, #jwplayer-container-div, #jwplayer_contextual_player_div, #kargo-player, #mm-player-placeholder-large-screen, #mplayer-embed, #primis-holder, #primis_intext, #vidazoo-player, .GRVPrimisVideo, .GRVVideo, .ac-lre-desktop, .ac-lre-player-ph, .ac-lre-wrapper, .ad-container--hot-video, .ae-player__itv, .ami-video-wrapper, .ampexcoVideoPlayer, .aniview-inline-player, .anyClipWrapper, .aplvideo, .article-connatix-wrap, .article-detail-ad, .avp-p-wrapper, .ck-anyclips, .ck-anyclips-article, .exco-container, .ez-sidebar-wall-ad, .ez-video-wrap, .htl-inarticle-container, .js-widget-distroscale, .js-widget-send-to-news, .jwPlayer--floatingContainer, .legion_primiswrapper, .mm-embed--sendtonews, .mm-widget--sendtonews, .nts-video-wrapper, .oovvuu-embed-player, .playwire-article-leaderboard-ad, .pmc-contextual-player, .pop-out-eplayer-container, .popup-box-ads, .primis-ad, .primis-ad-wrap, .primis-custom { display: none !important; }
.primis-player, .primis-player__container, .primis-video-player, .primis_1, .s2nContainer, .send-to-news, .van_vid_carousel, .video--container--aniview, .vidible-wrapper, [class^="s2nPlayer"], .pizza-x.pizza, .pizza-y.pizza, .BeOpWidget, a[href^="https://billing.purevpn.com/aff.php"] > img, a[href^="https://fastestvpn.com/lifetime-special-deal?a_aid="], a[href^="https://get.surfshark.net/aff_c?"][href*="&aff_id="] > img, a[href^="https://go.nordvpn.net/aff"] > img, a[href^="https://torguard.net/aff.php"] > img, a[href^="https://track.ultravpn.com/"], a[href^="https://www.get-express-vpn.com/offer/"], a[href^="https://www.goldenfrog.com/vyprvpn?offer_id="][href*="&aff_id="], a[href^="https://www.privateinternetaccess.com/"] > img, a[href^="https://www.purevpn.com/"][href*="&utm_source=aff-"], .grid > .container > #aside-promotion, .default_rc_theme, .inf-onclickvideo-adbox, .inf-onclickvideo-container, .add-box-side, .add-box-top, .partner-loading-shown.partner-label, div[id*="MarketGid"], div[id*="ScriptRoot"], #ezmob_footer, .rec-sponsored, .rec_article_footer, .rec_article_right, .rec_container__right, .rec_container_footer, .rec_container_right, .rec_title_footer, [onclick*="content.ad/"], .amp-ad, .amp-ad-container, .amp-ad__wrapper, .amp-ads, .amp-ads-container, .amp-adv-container, .amp-adv-wrapper, .amp-article-ad-element, .amp-flying-carpet-text-border { display: none !important; }
.amp-sticky-ad-custom, .amp-sticky-ads, .amp-unresolved, .amp_ad_1, .amp_ad_header, .amp_ad_wrapper, .ampad, .ct_ampad, .spotim-amp-list-ad, AMP-AD, amp-ad, amp-ad-custom, amp-connatix-player, amp-fx-flying-carpet, #mobile-swipe-banner, #banner_pos1_ddb_0, #banner_pos2_ddb_0, #banner_pos3_ddb_0, #banner_pos4_ddb_0, #ddb_fluid_native_ddb_0, #premium_ddb_0, #rightrail_bottom_ddb_0, #rightrail_pos1_ddb_0, #rightrail_pos2_ddb_0, #rightrail_pos3_ddb_0, #rightrail_top_ddb_0, #story_bottom_ddb_0, #story_bottom_ddb_1, #story_top_ddb_0, .index-module_adBeforeContent__AMXn, .index-module_rightrailBottom__IJEl, .index-module_rightrailTop__mag4, .index-module_sd_background__Um4w, .premium_PremiumPlacement__2dEp0, #ultimedia_wrapper, .brandpost_inarticle, .container-content__container-relatedlinks, #pubexchange_below_content, .pubexchange_module, #around-the-web, #g-outbrain, #js-outbrain-ads-module, #js-outbrain-module, #js-outbrain-relateds, #outbrain, #outbrain-id, #outbrain-section, #outbrain-wrapper, #outbrain1, #outbrainAdWrapper { display: none !important; }
#outbrainWidget, #outbrain_widget_0, .ArticleFooter-outbrain, .ArticleOutbrainLocal, .OUTBRAIN, .Outbrain, .adv_outbrain, .article_OutbrainContent, .box-outbrain, .c2_outbrain, .component-outbrain, .js-outbrain-container, .mid-outbrain, .ob-p.ob-dynamic-rec-container, .ob-smartfeed-wrapper, .ob-widget-header, .outBrainWrapper, .outbrain, .outbrain-ad-slot, .outbrain-ad-units, .outbrain-ads, .outbrain-bg, .outbrain-bloc, .outbrain-content, .outbrain-group, .outbrain-module, .outbrain-placeholder, .outbrain-recommended, .outbrain-reserved-space, .outbrain-single-bottom, .outbrain-widget, .outbrain-wrap, .outbrain-wrapper, .outbrain-wrapper-container, .outbrain-wrapper-outer, .outbrainAdHeight, .outbrainWidget, .outbrain__main, .outbrain_container, .outbrain_skybox, .outbrainad, .outbrainbox, .promoted-outbrain, .responsive-ad-outbrain, .sics-component__outbrain, .sidebar-outbrain, .single__outbrain, .voc-ob-wrapper, .widget_outbrain, .widget_outbrain_widget { display: none !important; }
a[data-oburl^="https://paid.outbrain.com/network/redir?"], a[data-redirect^="https://paid.outbrain.com/network/redir?"], a[href^="https://paid.outbrain.com/network/redir?"], a[onmousedown^="this.href='https://paid.outbrain.com/network/redir?"][target="_blank"], a[onmousedown^="this.href='https://paid.outbrain.com/network/redir?"][target="_blank"] + .ob_source, #block-boxes-taboola, #block-taboolablock, #component-taboola-below-article-feed, #component-taboola-below-article-feed-2, #component-taboola-below-homepage-feed, #js-Taboola-Container-0, #moduleTaboolaRightRail, #original_taboola, #possible_taboola, #taboola, #taboola-above-homepage-thumbnails, #taboola-ad, #taboola-adverts, #taboola-below, #taboola-below-article-1, #taboola-below-article-thumbnails, #taboola-below-article-thumbnails-2, #taboola-below-article-thumbnails-express, #taboola-below-article-thumbnails-mg, #taboola-below-article-thumbnails-photo, #taboola-below-article-thumbnails-v2, #taboola-below-disco-board, #taboola-below-forum-thumbnails, #taboola-below-homepage-thumbnails-2, #taboola-below-homepage-thumbnails-3, #taboola-below-main-column, #taboola-belowarticle, #taboola-bottom, #taboola-bottom-main-column, #taboola-div, #taboola-homepage-thumbnails, #taboola-homepage-thumbnails-desktop, #taboola-horizontal-toolbar, #taboola-in-feed-thumbnails, #taboola-mid-article-thumbnails, #taboola-mid-article-thumbnails-ii, #taboola-mid-main-column-thumbnails, #taboola-mobile-article-thumbnails, #taboola-native-right-rail-thumbnails, #taboola-placeholder, #taboola-right-rail, #taboola-right-rail-express, #taboola-right-rail-text-right, #taboola-right-rail-thumbnails, #taboola-right-rail-thumbnails-2nd { display: none !important; }
#taboola-text-2-columns-mix, #taboola-vid-container, #taboola-widget-wrapper, #taboola_bottom, #taboola_responsive_wrapper, #taboola_side, #taboola_wrapper, .article-taboola, .divider-taboola, .grid__module-sizer_name_taboola, .js-taboola, .m-article-taboola, .mc-column-Taboola, .nya-slot[style], .slottaboola, .taboola, .taboola-above-article, .taboola-above-article-thumbnails, .taboola-ad, .taboola-banner, .taboola-block, .taboola-bottom-adunit, .taboola-container, .taboola-frame, .taboola-general, .taboola-in-plug-wrap, .taboola-inbetweener, .taboola-item, .taboola-like-block, .taboola-module, .taboola-placeholder, .taboola-recommends, .taboola-sidebar, .taboola-sidebar-container, .taboola-skip-wrapper, .taboola-thumbnails-container, .taboola-vertical, .taboola-widget, .taboola-wrapper, .taboolaArticle, .taboolaDiv, .taboolaHeight, .taboola__container, .taboola_blk, .taboola_body_ad, .taboola_container, .taboola_lhs, .taboola_module, .taboolaloader, .trb_taboola { display: none !important; }
.trc-first-recommendation, .trc-spotlight-first-recommendation, .trc_excludable, .trc_rbox, .trc_rbox_border_elm, .trc_rbox_div, .trc_related_container, .trc_spotlight_item, .van_taboola, .widget_taboola, [data-taboola-options], [data-testid="commercial-label-taboola"], [data-testid^="taboola-"], amp-embed[type="taboola"], div[id^="taboola-stream-"], .ZERGNET, .module-zerg, .sidebar-zergnet, .zerg-widget, .zerg-widgets, .zergnet, .zergnet-holder, .zergnet-row, .zergnet-unit, .zergnet-widget, .zergnet-widget-container, .zergnet-widget__header, .zergnet-widget__subtitle, .zergnet__container, div[id^="zergnet-widget"], .ad-fallback, .ad.reform-top, .reform-top-container, .section-subheader > .section-hotel-prices-header, html[lang] > body.ishome > div.adult + main.main, .buttonautocl, html[lang] > body:not([class]):not([id]):not([style]) > div.background-container > div.container > div.captcha-box, html[lang] > body.startnew > div#sections > section#section_uname, html[lang] > body:not([style]) > div.captchaBody, html[lang] > body#body > * > div.cv-xwrapper > div.cvc > div.cv-inner, html[lang] > body#body > * > div.cvh.BlockClicksActivityBusy, html#html[sti][vic][lang] > body#allbody, html > body > div.container.m-p > #checkbox-window.checkbox-window, html[lang] > body:not([class]):not([id]):not([style]) > div.container > div.recaptcha-box, html > body.hold-transition.theme-primary.bg-img[style^="background-image"][style*="wallpaperaccess.com"][style*="background-repeat"][style*="background-size"], html > body > div.container > form#unsubscribe-form[onsubmit="submitUnsubscribeForm(event)"], html > body > div.content > dl > dd.dd1 > div.min_sider > form#form1[action="unsubscribe.php"], html > body.body > div.container > div.content > form > table.optoutForm, div[data-testid="prism-taboola"], .ninja-recommend-block { display: none !important; }
img[src^="//counter.ukr.net/"], amp-embed[type="taboola"], #qoo-counter, #ramblerCounter, #top100counter, .plugin-daily_count, a[href^="http://click.hotlog.ru/"], a[href^="http://hitcounter.ru/top/stat.php"], a[href^="http://metrika.yandex.ru/stat/"], a[href^="http://top.mail.ru/jump"], a[href^="http://top100.rambler.ru/"], a[href^="http://www.liveinternet.ru/stat/"], a[href^="https://metrika.yandex.ru/stat/"], a[href^="https://top.mail.ru/jump"], img[src*="counter.yadro.ru"], img[src^="http://c.bigmir.net/"], body > table[width="100%"][style^="border: 1px solid #"], div[data-is-promoted="true"], #bottomads > div[id^="tads"], #taw #tvcap ._hsi.mnr-c, div[role="navigation"] + c-wiz > div > .kxhcC, #search div[jscontroller][jsaction] > div[class] > div[jscontroller] div[jscontroller] > div[jscontroller] > div[jsname][jscontroller][jsaction][data-record-click-time][class], .ilovz, div[data-attrid="kc:/local:promotions"], #rso > div.sh-sr__shop-result-group[data-hveid], .cu-container, .uEierd, a[data-ad-tracking-url], div[data-org-tls] > div.JgC4m[class*=" "], #rhs_block .xpdopen div[data-ved] > .mod[data-ved]:not([data-attrid]), .gws-local-promotions__border, .gws-local-hotels__booking-module, body #tads, .ads-ad, .luhb-div, #center_col > #taw > #tvcap > .cu-container > .commercial-unit-desktop-top, .flt-actionblock, .commercial-unit-mobile-top > div[data-pla="1"], html[itemtype="http://schema.org/SearchResultsPage"] #cnt div[class$="sh-sr__tau"][style], .GC3LC41DERB + div[style="position: relative; height: 170px;"], .GGQPGYLCD5, .GGQPGYLCMCB, .GISRH3UDHB { display: none !important; }.pub_728x90.text-ad.textAd.text_ad.text_ads.text-ads.text-ad-links { display: block !important; }
div[class*=" "][style^="width: 1px; height: 1px; position: absolute; left: -10000px; top: -"] { display: block !important; }
div[class="adsbygoogle"][id="ad-detector"] { display: block !important; }
body > div[id^="img_"][class^="img_"][style^="width"]:first-child { position: absolute !important; top: -100000px !important; }
body > div:first-child > script + div[id^="img_"][class^="img_"] { position: absolute !important; top: -100000px !important; }
body > a:only-child > div[id^="img_"][class^="img_"] { height: 0px !important; width: 0px !important; filter: opacity(0) !important; }
div[style*="fixed"] span[id^="img_"][class^="img_"] > style:first-child + div[style*="flex"][style*="relative"] { width: 10000px !important; }</style><script async="" src="./Home_Assignment1_files/lazy.min.js.download" nonce=""></script><style id="inert-style">
[inert] {
  pointer-events: none;
  cursor: default;
}

[inert], [inert] * {
  user-select: none;
  -webkit-user-select: none;
  -moz-user-select: none;
  -ms-user-select: none;
}
</style><script async="" type="text/javascript" charset="UTF-8" src="./Home_Assignment1_files/rs=AA2YrTs9um7nM7ISNupfodds9-y7C7I4sA" nonce=""></script><link type="text/css" href="./Home_Assignment1_files/rs=AA2YrTu2DxB2kN0cQ82G6LVzDDDtDSuJSg" rel="stylesheet"><style type="text/css">.MathJax_Hover_Frame {border-radius: .25em; -webkit-border-radius: .25em; -moz-border-radius: .25em; -khtml-border-radius: .25em; box-shadow: 0px 0px 15px #83A; -webkit-box-shadow: 0px 0px 15px #83A; -moz-box-shadow: 0px 0px 15px #83A; -khtml-box-shadow: 0px 0px 15px #83A; border: 1px solid #A6D ! important; display: inline-block; position: absolute}
.MathJax_Menu_Button .MathJax_Hover_Arrow {position: absolute; cursor: pointer; display: inline-block; border: 2px solid #AAA; border-radius: 4px; -webkit-border-radius: 4px; -moz-border-radius: 4px; -khtml-border-radius: 4px; font-family: 'Courier New',Courier; font-size: 9px; color: #F0F0F0}
.MathJax_Menu_Button .MathJax_Hover_Arrow span {display: block; background-color: #AAA; border: 1px solid; border-radius: 3px; line-height: 0; padding: 4px}
.MathJax_Hover_Arrow:hover {color: white!important; border: 2px solid #CCC!important}
.MathJax_Hover_Arrow:hover span {background-color: #CCC!important}
</style><style type="text/css">#MathJax_About {position: fixed; left: 50%; width: auto; text-align: center; border: 3px outset; padding: 1em 2em; background-color: #DDDDDD; color: black; cursor: default; font-family: message-box; font-size: 120%; font-style: normal; text-indent: 0; text-transform: none; line-height: normal; letter-spacing: normal; word-spacing: normal; word-wrap: normal; white-space: nowrap; float: none; z-index: 201; border-radius: 15px; -webkit-border-radius: 15px; -moz-border-radius: 15px; -khtml-border-radius: 15px; box-shadow: 0px 10px 20px #808080; -webkit-box-shadow: 0px 10px 20px #808080; -moz-box-shadow: 0px 10px 20px #808080; -khtml-box-shadow: 0px 10px 20px #808080; filter: progid:DXImageTransform.Microsoft.dropshadow(OffX=2, OffY=2, Color='gray', Positive='true')}
#MathJax_About.MathJax_MousePost {outline: none}
.MathJax_Menu {position: absolute; background-color: white; color: black; width: auto; padding: 2px; border: 1px solid #CCCCCC; margin: 0; cursor: default; font: menu; text-align: left; text-indent: 0; text-transform: none; line-height: normal; letter-spacing: normal; word-spacing: normal; word-wrap: normal; white-space: nowrap; float: none; z-index: 201; box-shadow: 0px 10px 20px #808080; -webkit-box-shadow: 0px 10px 20px #808080; -moz-box-shadow: 0px 10px 20px #808080; -khtml-box-shadow: 0px 10px 20px #808080; filter: progid:DXImageTransform.Microsoft.dropshadow(OffX=2, OffY=2, Color='gray', Positive='true')}
.MathJax_MenuItem {padding: 2px 2em; background: transparent}
.MathJax_MenuArrow {position: absolute; right: .5em; padding-top: .25em; color: #666666; font-size: .75em}
.MathJax_MenuActive .MathJax_MenuArrow {color: white}
.MathJax_MenuArrow.RTL {left: .5em; right: auto}
.MathJax_MenuCheck {position: absolute; left: .7em}
.MathJax_MenuCheck.RTL {right: .7em; left: auto}
.MathJax_MenuRadioCheck {position: absolute; left: 1em}
.MathJax_MenuRadioCheck.RTL {right: 1em; left: auto}
.MathJax_MenuLabel {padding: 2px 2em 4px 1.33em; font-style: italic}
.MathJax_MenuRule {border-top: 1px solid #CCCCCC; margin: 4px 1px 0px}
.MathJax_MenuDisabled {color: GrayText}
.MathJax_MenuActive {background-color: Highlight; color: HighlightText}
.MathJax_MenuDisabled:focus, .MathJax_MenuLabel:focus {background-color: #E8E8E8}
.MathJax_ContextMenu:focus {outline: none}
.MathJax_ContextMenu .MathJax_MenuItem:focus {outline: none}
#MathJax_AboutClose {top: .2em; right: .2em}
.MathJax_Menu .MathJax_MenuClose {top: -10px; left: -10px}
.MathJax_MenuClose {position: absolute; cursor: pointer; display: inline-block; border: 2px solid #AAA; border-radius: 18px; -webkit-border-radius: 18px; -moz-border-radius: 18px; -khtml-border-radius: 18px; font-family: 'Courier New',Courier; font-size: 24px; color: #F0F0F0}
.MathJax_MenuClose span {display: block; background-color: #AAA; border: 1.5px solid; border-radius: 18px; -webkit-border-radius: 18px; -moz-border-radius: 18px; -khtml-border-radius: 18px; line-height: 0; padding: 8px 0 6px}
.MathJax_MenuClose:hover {color: white!important; border: 2px solid #CCC!important}
.MathJax_MenuClose:hover span {background-color: #CCC!important}
.MathJax_MenuClose:hover:focus {outline: none}
</style><style type="text/css">.MJX_Assistive_MathML {position: absolute!important; top: 0; left: 0; clip: rect(1px, 1px, 1px, 1px); padding: 1px 0 0 0!important; border: 0!important; height: 1px!important; width: 1px!important; overflow: hidden!important; display: block!important; -webkit-touch-callout: none; -webkit-user-select: none; -khtml-user-select: none; -moz-user-select: none; -ms-user-select: none; user-select: none}
.MJX_Assistive_MathML.MJX_Assistive_MathML_Block {width: 100%!important}
</style><style type="text/css">#MathJax_Zoom {position: absolute; background-color: #F0F0F0; overflow: auto; display: block; z-index: 301; padding: .5em; border: 1px solid black; margin: 0; font-weight: normal; font-style: normal; text-align: left; text-indent: 0; text-transform: none; line-height: normal; letter-spacing: normal; word-spacing: normal; word-wrap: normal; white-space: nowrap; float: none; -webkit-box-sizing: content-box; -moz-box-sizing: content-box; box-sizing: content-box; box-shadow: 5px 5px 15px #AAAAAA; -webkit-box-shadow: 5px 5px 15px #AAAAAA; -moz-box-shadow: 5px 5px 15px #AAAAAA; -khtml-box-shadow: 5px 5px 15px #AAAAAA; filter: progid:DXImageTransform.Microsoft.dropshadow(OffX=2, OffY=2, Color='gray', Positive='true')}
#MathJax_ZoomOverlay {position: absolute; left: 0; top: 0; z-index: 300; display: inline-block; width: 100%; height: 100%; border: 0; padding: 0; margin: 0; background-color: white; opacity: 0; filter: alpha(opacity=0)}
#MathJax_ZoomFrame {position: relative; display: inline-block; height: 0; width: 0}
#MathJax_ZoomEventTrap {position: absolute; left: 0; top: 0; z-index: 302; display: inline-block; border: 0; padding: 0; margin: 0; background-color: white; opacity: 0; filter: alpha(opacity=0)}
</style><style type="text/css">.MathJax_Preview {color: #888}
#MathJax_Message {position: fixed; left: 1em; bottom: 1.5em; background-color: #E6E6E6; border: 1px solid #959595; margin: 0px; padding: 2px 8px; z-index: 102; color: black; font-size: 80%; width: auto; white-space: nowrap}
#MathJax_MSIE_Frame {position: absolute; top: 0; left: 0; width: 0px; z-index: 101; border: 0px; margin: 0px; padding: 0px}
.MathJax_Error {color: #CC0000; font-style: italic}
</style><style type="text/css">.MJXp-script {font-size: .8em}
.MJXp-right {-webkit-transform-origin: right; -moz-transform-origin: right; -ms-transform-origin: right; -o-transform-origin: right; transform-origin: right}
.MJXp-bold {font-weight: bold}
.MJXp-italic {font-style: italic}
.MJXp-scr {font-family: MathJax_Script,'Times New Roman',Times,STIXGeneral,serif}
.MJXp-frak {font-family: MathJax_Fraktur,'Times New Roman',Times,STIXGeneral,serif}
.MJXp-sf {font-family: MathJax_SansSerif,'Times New Roman',Times,STIXGeneral,serif}
.MJXp-cal {font-family: MathJax_Caligraphic,'Times New Roman',Times,STIXGeneral,serif}
.MJXp-mono {font-family: MathJax_Typewriter,'Times New Roman',Times,STIXGeneral,serif}
.MJXp-largeop {font-size: 150%}
.MJXp-largeop.MJXp-int {vertical-align: -.2em}
.MJXp-math {display: inline-block; line-height: 1.2; text-indent: 0; font-family: 'Times New Roman',Times,STIXGeneral,serif; white-space: nowrap; border-collapse: collapse}
.MJXp-display {display: block; text-align: center; margin: 1em 0}
.MJXp-math span {display: inline-block}
.MJXp-box {display: block!important; text-align: center}
.MJXp-box:after {content: " "}
.MJXp-rule {display: block!important; margin-top: .1em}
.MJXp-char {display: block!important}
.MJXp-mo {margin: 0 .15em}
.MJXp-mfrac {margin: 0 .125em; vertical-align: .25em}
.MJXp-denom {display: inline-table!important; width: 100%}
.MJXp-denom > * {display: table-row!important}
.MJXp-surd {vertical-align: top}
.MJXp-surd > * {display: block!important}
.MJXp-script-box > *  {display: table!important; height: 50%}
.MJXp-script-box > * > * {display: table-cell!important; vertical-align: top}
.MJXp-script-box > *:last-child > * {vertical-align: bottom}
.MJXp-script-box > * > * > * {display: block!important}
.MJXp-mphantom {visibility: hidden}
.MJXp-munderover, .MJXp-munder {display: inline-table!important}
.MJXp-over {display: inline-block!important; text-align: center}
.MJXp-over > * {display: block!important}
.MJXp-munderover > *, .MJXp-munder > * {display: table-row!important}
.MJXp-mtable {vertical-align: .25em; margin: 0 .125em}
.MJXp-mtable > * {display: inline-table!important; vertical-align: middle}
.MJXp-mtr {display: table-row!important}
.MJXp-mtd {display: table-cell!important; text-align: center; padding: .5em 0 0 .5em}
.MJXp-mtr > .MJXp-mtd:first-child {padding-left: 0}
.MJXp-mtr:first-child > .MJXp-mtd {padding-top: 0}
.MJXp-mlabeledtr {display: table-row!important}
.MJXp-mlabeledtr > .MJXp-mtd:first-child {padding-left: 0}
.MJXp-mlabeledtr:first-child > .MJXp-mtd {padding-top: 0}
.MJXp-merror {background-color: #FFFF88; color: #CC0000; border: 1px solid #CC0000; padding: 1px 3px; font-style: normal; font-size: 90%}
.MJXp-scale0 {-webkit-transform: scaleX(.0); -moz-transform: scaleX(.0); -ms-transform: scaleX(.0); -o-transform: scaleX(.0); transform: scaleX(.0)}
.MJXp-scale1 {-webkit-transform: scaleX(.1); -moz-transform: scaleX(.1); -ms-transform: scaleX(.1); -o-transform: scaleX(.1); transform: scaleX(.1)}
.MJXp-scale2 {-webkit-transform: scaleX(.2); -moz-transform: scaleX(.2); -ms-transform: scaleX(.2); -o-transform: scaleX(.2); transform: scaleX(.2)}
.MJXp-scale3 {-webkit-transform: scaleX(.3); -moz-transform: scaleX(.3); -ms-transform: scaleX(.3); -o-transform: scaleX(.3); transform: scaleX(.3)}
.MJXp-scale4 {-webkit-transform: scaleX(.4); -moz-transform: scaleX(.4); -ms-transform: scaleX(.4); -o-transform: scaleX(.4); transform: scaleX(.4)}
.MJXp-scale5 {-webkit-transform: scaleX(.5); -moz-transform: scaleX(.5); -ms-transform: scaleX(.5); -o-transform: scaleX(.5); transform: scaleX(.5)}
.MJXp-scale6 {-webkit-transform: scaleX(.6); -moz-transform: scaleX(.6); -ms-transform: scaleX(.6); -o-transform: scaleX(.6); transform: scaleX(.6)}
.MJXp-scale7 {-webkit-transform: scaleX(.7); -moz-transform: scaleX(.7); -ms-transform: scaleX(.7); -o-transform: scaleX(.7); transform: scaleX(.7)}
.MJXp-scale8 {-webkit-transform: scaleX(.8); -moz-transform: scaleX(.8); -ms-transform: scaleX(.8); -o-transform: scaleX(.8); transform: scaleX(.8)}
.MJXp-scale9 {-webkit-transform: scaleX(.9); -moz-transform: scaleX(.9); -ms-transform: scaleX(.9); -o-transform: scaleX(.9); transform: scaleX(.9)}
.MathJax_PHTML .noError {vertical-align: ; font-size: 90%; text-align: left; color: black; padding: 1px 3px; border: 1px solid}
</style><style type="text/css">.MathJax_Display {text-align: center; margin: 0; position: relative; display: block!important; text-indent: 0; max-width: none; max-height: none; min-width: 0; min-height: 0; width: 100%}
.MathJax .merror {background-color: #FFFF88; color: #CC0000; border: 1px solid #CC0000; padding: 1px 3px; font-style: normal; font-size: 90%}
.MathJax .MJX-monospace {font-family: monospace}
.MathJax .MJX-sans-serif {font-family: sans-serif}
#MathJax_Tooltip {background-color: InfoBackground; color: InfoText; border: 1px solid black; box-shadow: 2px 2px 5px #AAAAAA; -webkit-box-shadow: 2px 2px 5px #AAAAAA; -moz-box-shadow: 2px 2px 5px #AAAAAA; -khtml-box-shadow: 2px 2px 5px #AAAAAA; filter: progid:DXImageTransform.Microsoft.dropshadow(OffX=2, OffY=2, Color='gray', Positive='true'); padding: 3px 4px; z-index: 401; position: absolute; left: 0; top: 0; width: auto; height: auto; display: none}
.MathJax {display: inline; font-style: normal; font-weight: normal; line-height: normal; font-size: 100%; font-size-adjust: none; text-indent: 0; text-align: left; text-transform: none; letter-spacing: normal; word-spacing: normal; word-wrap: normal; white-space: nowrap; float: none; direction: ltr; max-width: none; max-height: none; min-width: 0; min-height: 0; border: 0; padding: 0; margin: 0}
.MathJax:focus, body :focus .MathJax {display: inline-table}
.MathJax.MathJax_FullWidth {text-align: center; display: table-cell!important; width: 10000em!important}
.MathJax img, .MathJax nobr, .MathJax a {border: 0; padding: 0; margin: 0; max-width: none; max-height: none; min-width: 0; min-height: 0; vertical-align: 0; line-height: normal; text-decoration: none}
img.MathJax_strut {border: 0!important; padding: 0!important; margin: 0!important; vertical-align: 0!important}
.MathJax span {display: inline; position: static; border: 0; padding: 0; margin: 0; vertical-align: 0; line-height: normal; text-decoration: none; box-sizing: content-box}
.MathJax nobr {white-space: nowrap!important}
.MathJax img {display: inline!important; float: none!important}
.MathJax * {transition: none; -webkit-transition: none; -moz-transition: none; -ms-transition: none; -o-transition: none}
.MathJax_Processing {visibility: hidden; position: fixed; width: 0; height: 0; overflow: hidden}
.MathJax_Processed {display: none!important}
.MathJax_test {font-style: normal; font-weight: normal; font-size: 100%; font-size-adjust: none; text-indent: 0; text-transform: none; letter-spacing: normal; word-spacing: normal; overflow: hidden; height: 1px}
.MathJax_test.mjx-test-display {display: table!important}
.MathJax_test.mjx-test-inline {display: inline!important; margin-right: -1px}
.MathJax_test.mjx-test-default {display: block!important; clear: both}
.MathJax_ex_box {display: inline-block!important; position: absolute; overflow: hidden; min-height: 0; max-height: none; padding: 0; border: 0; margin: 0; width: 1px; height: 60ex}
.MathJax_em_box {display: inline-block!important; position: absolute; overflow: hidden; min-height: 0; max-height: none; padding: 0; border: 0; margin: 0; width: 1px; height: 60em}
.mjx-test-inline .MathJax_left_box {display: inline-block; width: 0; float: left}
.mjx-test-inline .MathJax_right_box {display: inline-block; width: 0; float: right}
.mjx-test-display .MathJax_right_box {display: table-cell!important; width: 10000em!important; min-width: 0; max-width: none; padding: 0; border: 0; margin: 0}
.MathJax .MathJax_HitBox {cursor: text; background: white; opacity: 0; filter: alpha(opacity=0)}
.MathJax .MathJax_HitBox * {filter: none; opacity: 1; background: transparent}
#MathJax_Tooltip * {filter: none; opacity: 1; background: transparent}
@font-face {font-family: MathJax_Main; src: url('https://colab.research.google.com/static/mathjax/fonts/HTML-CSS/TeX/woff/MathJax_Main-Regular.woff?V=2.7.5') format('woff'), url('https://colab.research.google.com/static/mathjax/fonts/HTML-CSS/TeX/otf/MathJax_Main-Regular.otf?V=2.7.5') format('opentype')}
@font-face {font-family: MathJax_Main-bold; src: url('https://colab.research.google.com/static/mathjax/fonts/HTML-CSS/TeX/woff/MathJax_Main-Bold.woff?V=2.7.5') format('woff'), url('https://colab.research.google.com/static/mathjax/fonts/HTML-CSS/TeX/otf/MathJax_Main-Bold.otf?V=2.7.5') format('opentype')}
@font-face {font-family: MathJax_Main-italic; src: url('https://colab.research.google.com/static/mathjax/fonts/HTML-CSS/TeX/woff/MathJax_Main-Italic.woff?V=2.7.5') format('woff'), url('https://colab.research.google.com/static/mathjax/fonts/HTML-CSS/TeX/otf/MathJax_Main-Italic.otf?V=2.7.5') format('opentype')}
@font-face {font-family: MathJax_Math-italic; src: url('https://colab.research.google.com/static/mathjax/fonts/HTML-CSS/TeX/woff/MathJax_Math-Italic.woff?V=2.7.5') format('woff'), url('https://colab.research.google.com/static/mathjax/fonts/HTML-CSS/TeX/otf/MathJax_Math-Italic.otf?V=2.7.5') format('opentype')}
@font-face {font-family: MathJax_Caligraphic; src: url('https://colab.research.google.com/static/mathjax/fonts/HTML-CSS/TeX/woff/MathJax_Caligraphic-Regular.woff?V=2.7.5') format('woff'), url('https://colab.research.google.com/static/mathjax/fonts/HTML-CSS/TeX/otf/MathJax_Caligraphic-Regular.otf?V=2.7.5') format('opentype')}
@font-face {font-family: MathJax_Size1; src: url('https://colab.research.google.com/static/mathjax/fonts/HTML-CSS/TeX/woff/MathJax_Size1-Regular.woff?V=2.7.5') format('woff'), url('https://colab.research.google.com/static/mathjax/fonts/HTML-CSS/TeX/otf/MathJax_Size1-Regular.otf?V=2.7.5') format('opentype')}
@font-face {font-family: MathJax_Size2; src: url('https://colab.research.google.com/static/mathjax/fonts/HTML-CSS/TeX/woff/MathJax_Size2-Regular.woff?V=2.7.5') format('woff'), url('https://colab.research.google.com/static/mathjax/fonts/HTML-CSS/TeX/otf/MathJax_Size2-Regular.otf?V=2.7.5') format('opentype')}
@font-face {font-family: MathJax_Size3; src: url('https://colab.research.google.com/static/mathjax/fonts/HTML-CSS/TeX/woff/MathJax_Size3-Regular.woff?V=2.7.5') format('woff'), url('https://colab.research.google.com/static/mathjax/fonts/HTML-CSS/TeX/otf/MathJax_Size3-Regular.otf?V=2.7.5') format('opentype')}
@font-face {font-family: MathJax_Size4; src: url('https://colab.research.google.com/static/mathjax/fonts/HTML-CSS/TeX/woff/MathJax_Size4-Regular.woff?V=2.7.5') format('woff'), url('https://colab.research.google.com/static/mathjax/fonts/HTML-CSS/TeX/otf/MathJax_Size4-Regular.otf?V=2.7.5') format('opentype')}
.MathJax .noError {vertical-align: ; font-size: 90%; text-align: left; color: black; padding: 1px 3px; border: 1px solid}
</style><script async="async" type="text/javascript" src="./Home_Assignment1_files/editor.main.js.download"></script><link rel="stylesheet" type="text/css" data-name="vs/editor/editor.main" href="./Home_Assignment1_files/editor.main.css"><script async="async" type="text/javascript" src="./Home_Assignment1_files/editor.main.nls.js.download"></script><script src="./Home_Assignment1_files/api.js.download" nonce=""></script><script src="./Home_Assignment1_files/api(1).js.download" nonce=""></script><style type="text/css" media="screen" class="monaco-colors">.codicon-add:before { content: '\ea60'; }
.codicon-plus:before { content: '\ea60'; }
.codicon-gist-new:before { content: '\ea60'; }
.codicon-repo-create:before { content: '\ea60'; }
.codicon-lightbulb:before { content: '\ea61'; }
.codicon-light-bulb:before { content: '\ea61'; }
.codicon-repo:before { content: '\ea62'; }
.codicon-repo-delete:before { content: '\ea62'; }
.codicon-gist-fork:before { content: '\ea63'; }
.codicon-repo-forked:before { content: '\ea63'; }
.codicon-git-pull-request:before { content: '\ea64'; }
.codicon-git-pull-request-abandoned:before { content: '\ea64'; }
.codicon-record-keys:before { content: '\ea65'; }
.codicon-keyboard:before { content: '\ea65'; }
.codicon-tag:before { content: '\ea66'; }
.codicon-tag-add:before { content: '\ea66'; }
.codicon-tag-remove:before { content: '\ea66'; }
.codicon-person:before { content: '\ea67'; }
.codicon-person-follow:before { content: '\ea67'; }
.codicon-person-outline:before { content: '\ea67'; }
.codicon-person-filled:before { content: '\ea67'; }
.codicon-git-branch:before { content: '\ea68'; }
.codicon-git-branch-create:before { content: '\ea68'; }
.codicon-git-branch-delete:before { content: '\ea68'; }
.codicon-source-control:before { content: '\ea68'; }
.codicon-mirror:before { content: '\ea69'; }
.codicon-mirror-public:before { content: '\ea69'; }
.codicon-star:before { content: '\ea6a'; }
.codicon-star-add:before { content: '\ea6a'; }
.codicon-star-delete:before { content: '\ea6a'; }
.codicon-star-empty:before { content: '\ea6a'; }
.codicon-comment:before { content: '\ea6b'; }
.codicon-comment-add:before { content: '\ea6b'; }
.codicon-alert:before { content: '\ea6c'; }
.codicon-warning:before { content: '\ea6c'; }
.codicon-search:before { content: '\ea6d'; }
.codicon-search-save:before { content: '\ea6d'; }
.codicon-log-out:before { content: '\ea6e'; }
.codicon-sign-out:before { content: '\ea6e'; }
.codicon-log-in:before { content: '\ea6f'; }
.codicon-sign-in:before { content: '\ea6f'; }
.codicon-eye:before { content: '\ea70'; }
.codicon-eye-unwatch:before { content: '\ea70'; }
.codicon-eye-watch:before { content: '\ea70'; }
.codicon-circle-filled:before { content: '\ea71'; }
.codicon-primitive-dot:before { content: '\ea71'; }
.codicon-close-dirty:before { content: '\ea71'; }
.codicon-debug-breakpoint:before { content: '\ea71'; }
.codicon-debug-breakpoint-disabled:before { content: '\ea71'; }
.codicon-debug-hint:before { content: '\ea71'; }
.codicon-primitive-square:before { content: '\ea72'; }
.codicon-edit:before { content: '\ea73'; }
.codicon-pencil:before { content: '\ea73'; }
.codicon-info:before { content: '\ea74'; }
.codicon-issue-opened:before { content: '\ea74'; }
.codicon-gist-private:before { content: '\ea75'; }
.codicon-git-fork-private:before { content: '\ea75'; }
.codicon-lock:before { content: '\ea75'; }
.codicon-mirror-private:before { content: '\ea75'; }
.codicon-close:before { content: '\ea76'; }
.codicon-remove-close:before { content: '\ea76'; }
.codicon-x:before { content: '\ea76'; }
.codicon-repo-sync:before { content: '\ea77'; }
.codicon-sync:before { content: '\ea77'; }
.codicon-clone:before { content: '\ea78'; }
.codicon-desktop-download:before { content: '\ea78'; }
.codicon-beaker:before { content: '\ea79'; }
.codicon-microscope:before { content: '\ea79'; }
.codicon-vm:before { content: '\ea7a'; }
.codicon-device-desktop:before { content: '\ea7a'; }
.codicon-file:before { content: '\ea7b'; }
.codicon-file-text:before { content: '\ea7b'; }
.codicon-more:before { content: '\ea7c'; }
.codicon-ellipsis:before { content: '\ea7c'; }
.codicon-kebab-horizontal:before { content: '\ea7c'; }
.codicon-mail-reply:before { content: '\ea7d'; }
.codicon-reply:before { content: '\ea7d'; }
.codicon-organization:before { content: '\ea7e'; }
.codicon-organization-filled:before { content: '\ea7e'; }
.codicon-organization-outline:before { content: '\ea7e'; }
.codicon-new-file:before { content: '\ea7f'; }
.codicon-file-add:before { content: '\ea7f'; }
.codicon-new-folder:before { content: '\ea80'; }
.codicon-file-directory-create:before { content: '\ea80'; }
.codicon-trash:before { content: '\ea81'; }
.codicon-trashcan:before { content: '\ea81'; }
.codicon-history:before { content: '\ea82'; }
.codicon-clock:before { content: '\ea82'; }
.codicon-folder:before { content: '\ea83'; }
.codicon-file-directory:before { content: '\ea83'; }
.codicon-symbol-folder:before { content: '\ea83'; }
.codicon-logo-github:before { content: '\ea84'; }
.codicon-mark-github:before { content: '\ea84'; }
.codicon-github:before { content: '\ea84'; }
.codicon-terminal:before { content: '\ea85'; }
.codicon-console:before { content: '\ea85'; }
.codicon-repl:before { content: '\ea85'; }
.codicon-zap:before { content: '\ea86'; }
.codicon-symbol-event:before { content: '\ea86'; }
.codicon-error:before { content: '\ea87'; }
.codicon-stop:before { content: '\ea87'; }
.codicon-variable:before { content: '\ea88'; }
.codicon-symbol-variable:before { content: '\ea88'; }
.codicon-array:before { content: '\ea8a'; }
.codicon-symbol-array:before { content: '\ea8a'; }
.codicon-symbol-module:before { content: '\ea8b'; }
.codicon-symbol-package:before { content: '\ea8b'; }
.codicon-symbol-namespace:before { content: '\ea8b'; }
.codicon-symbol-object:before { content: '\ea8b'; }
.codicon-symbol-method:before { content: '\ea8c'; }
.codicon-symbol-function:before { content: '\ea8c'; }
.codicon-symbol-constructor:before { content: '\ea8c'; }
.codicon-symbol-boolean:before { content: '\ea8f'; }
.codicon-symbol-null:before { content: '\ea8f'; }
.codicon-symbol-numeric:before { content: '\ea90'; }
.codicon-symbol-number:before { content: '\ea90'; }
.codicon-symbol-structure:before { content: '\ea91'; }
.codicon-symbol-struct:before { content: '\ea91'; }
.codicon-symbol-parameter:before { content: '\ea92'; }
.codicon-symbol-type-parameter:before { content: '\ea92'; }
.codicon-symbol-key:before { content: '\ea93'; }
.codicon-symbol-text:before { content: '\ea93'; }
.codicon-symbol-reference:before { content: '\ea94'; }
.codicon-go-to-file:before { content: '\ea94'; }
.codicon-symbol-enum:before { content: '\ea95'; }
.codicon-symbol-value:before { content: '\ea95'; }
.codicon-symbol-ruler:before { content: '\ea96'; }
.codicon-symbol-unit:before { content: '\ea96'; }
.codicon-activate-breakpoints:before { content: '\ea97'; }
.codicon-archive:before { content: '\ea98'; }
.codicon-arrow-both:before { content: '\ea99'; }
.codicon-arrow-down:before { content: '\ea9a'; }
.codicon-arrow-left:before { content: '\ea9b'; }
.codicon-arrow-right:before { content: '\ea9c'; }
.codicon-arrow-small-down:before { content: '\ea9d'; }
.codicon-arrow-small-left:before { content: '\ea9e'; }
.codicon-arrow-small-right:before { content: '\ea9f'; }
.codicon-arrow-small-up:before { content: '\eaa0'; }
.codicon-arrow-up:before { content: '\eaa1'; }
.codicon-bell:before { content: '\eaa2'; }
.codicon-bold:before { content: '\eaa3'; }
.codicon-book:before { content: '\eaa4'; }
.codicon-bookmark:before { content: '\eaa5'; }
.codicon-debug-breakpoint-conditional-unverified:before { content: '\eaa6'; }
.codicon-debug-breakpoint-conditional:before { content: '\eaa7'; }
.codicon-debug-breakpoint-conditional-disabled:before { content: '\eaa7'; }
.codicon-debug-breakpoint-data-unverified:before { content: '\eaa8'; }
.codicon-debug-breakpoint-data:before { content: '\eaa9'; }
.codicon-debug-breakpoint-data-disabled:before { content: '\eaa9'; }
.codicon-debug-breakpoint-log-unverified:before { content: '\eaaa'; }
.codicon-debug-breakpoint-log:before { content: '\eaab'; }
.codicon-debug-breakpoint-log-disabled:before { content: '\eaab'; }
.codicon-briefcase:before { content: '\eaac'; }
.codicon-broadcast:before { content: '\eaad'; }
.codicon-browser:before { content: '\eaae'; }
.codicon-bug:before { content: '\eaaf'; }
.codicon-calendar:before { content: '\eab0'; }
.codicon-case-sensitive:before { content: '\eab1'; }
.codicon-check:before { content: '\eab2'; }
.codicon-checklist:before { content: '\eab3'; }
.codicon-chevron-down:before { content: '\eab4'; }
.codicon-drop-down-button:before { content: '\eab4'; }
.codicon-chevron-left:before { content: '\eab5'; }
.codicon-chevron-right:before { content: '\eab6'; }
.codicon-chevron-up:before { content: '\eab7'; }
.codicon-chrome-close:before { content: '\eab8'; }
.codicon-chrome-maximize:before { content: '\eab9'; }
.codicon-chrome-minimize:before { content: '\eaba'; }
.codicon-chrome-restore:before { content: '\eabb'; }
.codicon-circle:before { content: '\eabc'; }
.codicon-circle-outline:before { content: '\eabc'; }
.codicon-debug-breakpoint-unverified:before { content: '\eabc'; }
.codicon-circle-slash:before { content: '\eabd'; }
.codicon-circuit-board:before { content: '\eabe'; }
.codicon-clear-all:before { content: '\eabf'; }
.codicon-clippy:before { content: '\eac0'; }
.codicon-close-all:before { content: '\eac1'; }
.codicon-cloud-download:before { content: '\eac2'; }
.codicon-cloud-upload:before { content: '\eac3'; }
.codicon-code:before { content: '\eac4'; }
.codicon-collapse-all:before { content: '\eac5'; }
.codicon-color-mode:before { content: '\eac6'; }
.codicon-comment-discussion:before { content: '\eac7'; }
.codicon-compare-changes:before { content: '\eafd'; }
.codicon-credit-card:before { content: '\eac9'; }
.codicon-dash:before { content: '\eacc'; }
.codicon-dashboard:before { content: '\eacd'; }
.codicon-database:before { content: '\eace'; }
.codicon-debug-continue:before { content: '\eacf'; }
.codicon-debug-disconnect:before { content: '\ead0'; }
.codicon-debug-pause:before { content: '\ead1'; }
.codicon-debug-restart:before { content: '\ead2'; }
.codicon-debug-start:before { content: '\ead3'; }
.codicon-debug-step-into:before { content: '\ead4'; }
.codicon-debug-step-out:before { content: '\ead5'; }
.codicon-debug-step-over:before { content: '\ead6'; }
.codicon-debug-stop:before { content: '\ead7'; }
.codicon-debug:before { content: '\ead8'; }
.codicon-device-camera-video:before { content: '\ead9'; }
.codicon-device-camera:before { content: '\eada'; }
.codicon-device-mobile:before { content: '\eadb'; }
.codicon-diff-added:before { content: '\eadc'; }
.codicon-diff-ignored:before { content: '\eadd'; }
.codicon-diff-modified:before { content: '\eade'; }
.codicon-diff-removed:before { content: '\eadf'; }
.codicon-diff-renamed:before { content: '\eae0'; }
.codicon-diff:before { content: '\eae1'; }
.codicon-discard:before { content: '\eae2'; }
.codicon-editor-layout:before { content: '\eae3'; }
.codicon-empty-window:before { content: '\eae4'; }
.codicon-exclude:before { content: '\eae5'; }
.codicon-extensions:before { content: '\eae6'; }
.codicon-eye-closed:before { content: '\eae7'; }
.codicon-file-binary:before { content: '\eae8'; }
.codicon-file-code:before { content: '\eae9'; }
.codicon-file-media:before { content: '\eaea'; }
.codicon-file-pdf:before { content: '\eaeb'; }
.codicon-file-submodule:before { content: '\eaec'; }
.codicon-file-symlink-directory:before { content: '\eaed'; }
.codicon-file-symlink-file:before { content: '\eaee'; }
.codicon-file-zip:before { content: '\eaef'; }
.codicon-files:before { content: '\eaf0'; }
.codicon-filter:before { content: '\eaf1'; }
.codicon-flame:before { content: '\eaf2'; }
.codicon-fold-down:before { content: '\eaf3'; }
.codicon-fold-up:before { content: '\eaf4'; }
.codicon-fold:before { content: '\eaf5'; }
.codicon-folder-active:before { content: '\eaf6'; }
.codicon-folder-opened:before { content: '\eaf7'; }
.codicon-gear:before { content: '\eaf8'; }
.codicon-gift:before { content: '\eaf9'; }
.codicon-gist-secret:before { content: '\eafa'; }
.codicon-gist:before { content: '\eafb'; }
.codicon-git-commit:before { content: '\eafc'; }
.codicon-git-compare:before { content: '\eafd'; }
.codicon-git-merge:before { content: '\eafe'; }
.codicon-github-action:before { content: '\eaff'; }
.codicon-github-alt:before { content: '\eb00'; }
.codicon-globe:before { content: '\eb01'; }
.codicon-grabber:before { content: '\eb02'; }
.codicon-graph:before { content: '\eb03'; }
.codicon-gripper:before { content: '\eb04'; }
.codicon-heart:before { content: '\eb05'; }
.codicon-home:before { content: '\eb06'; }
.codicon-horizontal-rule:before { content: '\eb07'; }
.codicon-hubot:before { content: '\eb08'; }
.codicon-inbox:before { content: '\eb09'; }
.codicon-issue-closed:before { content: '\eba4'; }
.codicon-issue-reopened:before { content: '\eb0b'; }
.codicon-issues:before { content: '\eb0c'; }
.codicon-italic:before { content: '\eb0d'; }
.codicon-jersey:before { content: '\eb0e'; }
.codicon-json:before { content: '\eb0f'; }
.codicon-bracket:before { content: '\eb0f'; }
.codicon-kebab-vertical:before { content: '\eb10'; }
.codicon-key:before { content: '\eb11'; }
.codicon-law:before { content: '\eb12'; }
.codicon-lightbulb-autofix:before { content: '\eb13'; }
.codicon-link-external:before { content: '\eb14'; }
.codicon-link:before { content: '\eb15'; }
.codicon-list-ordered:before { content: '\eb16'; }
.codicon-list-unordered:before { content: '\eb17'; }
.codicon-live-share:before { content: '\eb18'; }
.codicon-loading:before { content: '\eb19'; }
.codicon-location:before { content: '\eb1a'; }
.codicon-mail-read:before { content: '\eb1b'; }
.codicon-mail:before { content: '\eb1c'; }
.codicon-markdown:before { content: '\eb1d'; }
.codicon-megaphone:before { content: '\eb1e'; }
.codicon-mention:before { content: '\eb1f'; }
.codicon-milestone:before { content: '\eb20'; }
.codicon-mortar-board:before { content: '\eb21'; }
.codicon-move:before { content: '\eb22'; }
.codicon-multiple-windows:before { content: '\eb23'; }
.codicon-mute:before { content: '\eb24'; }
.codicon-no-newline:before { content: '\eb25'; }
.codicon-note:before { content: '\eb26'; }
.codicon-octoface:before { content: '\eb27'; }
.codicon-open-preview:before { content: '\eb28'; }
.codicon-package:before { content: '\eb29'; }
.codicon-paintcan:before { content: '\eb2a'; }
.codicon-pin:before { content: '\eb2b'; }
.codicon-play:before { content: '\eb2c'; }
.codicon-run:before { content: '\eb2c'; }
.codicon-plug:before { content: '\eb2d'; }
.codicon-preserve-case:before { content: '\eb2e'; }
.codicon-preview:before { content: '\eb2f'; }
.codicon-project:before { content: '\eb30'; }
.codicon-pulse:before { content: '\eb31'; }
.codicon-question:before { content: '\eb32'; }
.codicon-quote:before { content: '\eb33'; }
.codicon-radio-tower:before { content: '\eb34'; }
.codicon-reactions:before { content: '\eb35'; }
.codicon-references:before { content: '\eb36'; }
.codicon-refresh:before { content: '\eb37'; }
.codicon-regex:before { content: '\eb38'; }
.codicon-remote-explorer:before { content: '\eb39'; }
.codicon-remote:before { content: '\eb3a'; }
.codicon-remove:before { content: '\eb3b'; }
.codicon-replace-all:before { content: '\eb3c'; }
.codicon-replace:before { content: '\eb3d'; }
.codicon-repo-clone:before { content: '\eb3e'; }
.codicon-repo-force-push:before { content: '\eb3f'; }
.codicon-repo-pull:before { content: '\eb40'; }
.codicon-repo-push:before { content: '\eb41'; }
.codicon-report:before { content: '\eb42'; }
.codicon-request-changes:before { content: '\eb43'; }
.codicon-rocket:before { content: '\eb44'; }
.codicon-root-folder-opened:before { content: '\eb45'; }
.codicon-root-folder:before { content: '\eb46'; }
.codicon-rss:before { content: '\eb47'; }
.codicon-ruby:before { content: '\eb48'; }
.codicon-save-all:before { content: '\eb49'; }
.codicon-save-as:before { content: '\eb4a'; }
.codicon-save:before { content: '\eb4b'; }
.codicon-screen-full:before { content: '\eb4c'; }
.codicon-screen-normal:before { content: '\eb4d'; }
.codicon-search-stop:before { content: '\eb4e'; }
.codicon-server:before { content: '\eb50'; }
.codicon-settings-gear:before { content: '\eb51'; }
.codicon-settings:before { content: '\eb52'; }
.codicon-shield:before { content: '\eb53'; }
.codicon-smiley:before { content: '\eb54'; }
.codicon-sort-precedence:before { content: '\eb55'; }
.codicon-split-horizontal:before { content: '\eb56'; }
.codicon-split-vertical:before { content: '\eb57'; }
.codicon-squirrel:before { content: '\eb58'; }
.codicon-star-full:before { content: '\eb59'; }
.codicon-star-half:before { content: '\eb5a'; }
.codicon-symbol-class:before { content: '\eb5b'; }
.codicon-symbol-color:before { content: '\eb5c'; }
.codicon-symbol-customcolor:before { content: '\eb5c'; }
.codicon-symbol-constant:before { content: '\eb5d'; }
.codicon-symbol-enum-member:before { content: '\eb5e'; }
.codicon-symbol-field:before { content: '\eb5f'; }
.codicon-symbol-file:before { content: '\eb60'; }
.codicon-symbol-interface:before { content: '\eb61'; }
.codicon-symbol-keyword:before { content: '\eb62'; }
.codicon-symbol-misc:before { content: '\eb63'; }
.codicon-symbol-operator:before { content: '\eb64'; }
.codicon-symbol-property:before { content: '\eb65'; }
.codicon-wrench:before { content: '\eb65'; }
.codicon-wrench-subaction:before { content: '\eb65'; }
.codicon-symbol-snippet:before { content: '\eb66'; }
.codicon-tasklist:before { content: '\eb67'; }
.codicon-telescope:before { content: '\eb68'; }
.codicon-text-size:before { content: '\eb69'; }
.codicon-three-bars:before { content: '\eb6a'; }
.codicon-thumbsdown:before { content: '\eb6b'; }
.codicon-thumbsup:before { content: '\eb6c'; }
.codicon-tools:before { content: '\eb6d'; }
.codicon-triangle-down:before { content: '\eb6e'; }
.codicon-triangle-left:before { content: '\eb6f'; }
.codicon-triangle-right:before { content: '\eb70'; }
.codicon-triangle-up:before { content: '\eb71'; }
.codicon-twitter:before { content: '\eb72'; }
.codicon-unfold:before { content: '\eb73'; }
.codicon-unlock:before { content: '\eb74'; }
.codicon-unmute:before { content: '\eb75'; }
.codicon-unverified:before { content: '\eb76'; }
.codicon-verified:before { content: '\eb77'; }
.codicon-versions:before { content: '\eb78'; }
.codicon-vm-active:before { content: '\eb79'; }
.codicon-vm-outline:before { content: '\eb7a'; }
.codicon-vm-running:before { content: '\eb7b'; }
.codicon-watch:before { content: '\eb7c'; }
.codicon-whitespace:before { content: '\eb7d'; }
.codicon-whole-word:before { content: '\eb7e'; }
.codicon-window:before { content: '\eb7f'; }
.codicon-word-wrap:before { content: '\eb80'; }
.codicon-zoom-in:before { content: '\eb81'; }
.codicon-zoom-out:before { content: '\eb82'; }
.codicon-list-filter:before { content: '\eb83'; }
.codicon-list-flat:before { content: '\eb84'; }
.codicon-list-selection:before { content: '\eb85'; }
.codicon-selection:before { content: '\eb85'; }
.codicon-list-tree:before { content: '\eb86'; }
.codicon-debug-breakpoint-function-unverified:before { content: '\eb87'; }
.codicon-debug-breakpoint-function:before { content: '\eb88'; }
.codicon-debug-breakpoint-function-disabled:before { content: '\eb88'; }
.codicon-debug-stackframe-active:before { content: '\eb89'; }
.codicon-circle-small-filled:before { content: '\eb8a'; }
.codicon-debug-stackframe-dot:before { content: '\eb8a'; }
.codicon-debug-stackframe:before { content: '\eb8b'; }
.codicon-debug-stackframe-focused:before { content: '\eb8b'; }
.codicon-debug-breakpoint-unsupported:before { content: '\eb8c'; }
.codicon-symbol-string:before { content: '\eb8d'; }
.codicon-debug-reverse-continue:before { content: '\eb8e'; }
.codicon-debug-step-back:before { content: '\eb8f'; }
.codicon-debug-restart-frame:before { content: '\eb90'; }
.codicon-call-incoming:before { content: '\eb92'; }
.codicon-call-outgoing:before { content: '\eb93'; }
.codicon-menu:before { content: '\eb94'; }
.codicon-expand-all:before { content: '\eb95'; }
.codicon-feedback:before { content: '\eb96'; }
.codicon-group-by-ref-type:before { content: '\eb97'; }
.codicon-ungroup-by-ref-type:before { content: '\eb98'; }
.codicon-account:before { content: '\eb99'; }
.codicon-bell-dot:before { content: '\eb9a'; }
.codicon-debug-console:before { content: '\eb9b'; }
.codicon-library:before { content: '\eb9c'; }
.codicon-output:before { content: '\eb9d'; }
.codicon-run-all:before { content: '\eb9e'; }
.codicon-sync-ignored:before { content: '\eb9f'; }
.codicon-pinned:before { content: '\eba0'; }
.codicon-github-inverted:before { content: '\eba1'; }
.codicon-debug-alt:before { content: '\eb91'; }
.codicon-server-process:before { content: '\eba2'; }
.codicon-server-environment:before { content: '\eba3'; }
.codicon-pass:before { content: '\eba4'; }
.codicon-stop-circle:before { content: '\eba5'; }
.codicon-play-circle:before { content: '\eba6'; }
.codicon-record:before { content: '\eba7'; }
.codicon-debug-alt-small:before { content: '\eba8'; }
.codicon-vm-connect:before { content: '\eba9'; }
.codicon-cloud:before { content: '\ebaa'; }
.codicon-merge:before { content: '\ebab'; }
.codicon-export:before { content: '\ebac'; }
.codicon-graph-left:before { content: '\ebad'; }
.codicon-magnet:before { content: '\ebae'; }
.codicon-notebook:before { content: '\ebaf'; }
.codicon-redo:before { content: '\ebb0'; }
.codicon-check-all:before { content: '\ebb1'; }
.codicon-pinned-dirty:before { content: '\ebb2'; }
.codicon-pass-filled:before { content: '\ebb3'; }
.codicon-circle-large-filled:before { content: '\ebb4'; }
.codicon-circle-large:before { content: '\ebb5'; }
.codicon-circle-large-outline:before { content: '\ebb5'; }
.codicon-combine:before { content: '\ebb6'; }
.codicon-gather:before { content: '\ebb6'; }
.codicon-table:before { content: '\ebb7'; }
.codicon-variable-group:before { content: '\ebb8'; }
.codicon-type-hierarchy:before { content: '\ebb9'; }
.codicon-type-hierarchy-sub:before { content: '\ebba'; }
.codicon-type-hierarchy-super:before { content: '\ebbb'; }
.codicon-git-pull-request-create:before { content: '\ebbc'; }
.codicon-run-above:before { content: '\ebbd'; }
.codicon-run-below:before { content: '\ebbe'; }
.codicon-notebook-template:before { content: '\ebbf'; }
.codicon-debug-rerun:before { content: '\ebc0'; }
.codicon-workspace-trusted:before { content: '\ebc1'; }
.codicon-workspace-untrusted:before { content: '\ebc2'; }
.codicon-workspace-unspecified:before { content: '\ebc3'; }
.codicon-terminal-cmd:before { content: '\ebc4'; }
.codicon-terminal-debian:before { content: '\ebc5'; }
.codicon-terminal-linux:before { content: '\ebc6'; }
.codicon-terminal-powershell:before { content: '\ebc7'; }
.codicon-terminal-tmux:before { content: '\ebc8'; }
.codicon-terminal-ubuntu:before { content: '\ebc9'; }
.codicon-terminal-bash:before { content: '\ebca'; }
.codicon-arrow-swap:before { content: '\ebcb'; }
.codicon-copy:before { content: '\ebcc'; }
.codicon-person-add:before { content: '\ebcd'; }
.codicon-filter-filled:before { content: '\ebce'; }
.codicon-wand:before { content: '\ebcf'; }
.codicon-debug-line-by-line:before { content: '\ebd0'; }
.codicon-inspect:before { content: '\ebd1'; }
.codicon-layers:before { content: '\ebd2'; }
.codicon-layers-dot:before { content: '\ebd3'; }
.codicon-layers-active:before { content: '\ebd4'; }
.codicon-compass:before { content: '\ebd5'; }
.codicon-compass-dot:before { content: '\ebd6'; }
.codicon-compass-active:before { content: '\ebd7'; }
.codicon-azure:before { content: '\ebd8'; }
.codicon-issue-draft:before { content: '\ebd9'; }
.codicon-git-pull-request-closed:before { content: '\ebda'; }
.codicon-git-pull-request-draft:before { content: '\ebdb'; }
.codicon-debug-all:before { content: '\ebdc'; }
.codicon-debug-coverage:before { content: '\ebdd'; }
.codicon-run-errors:before { content: '\ebde'; }
.codicon-folder-library:before { content: '\ebdf'; }
.codicon-debug-continue-small:before { content: '\ebe0'; }
.codicon-beaker-stop:before { content: '\ebe1'; }
.codicon-graph-line:before { content: '\ebe2'; }
.codicon-graph-scatter:before { content: '\ebe3'; }
.codicon-pie-chart:before { content: '\ebe4'; }
.codicon-bracket-dot:before { content: '\ebe5'; }
.codicon-bracket-error:before { content: '\ebe6'; }
.codicon-lock-small:before { content: '\ebe7'; }
.codicon-azure-devops:before { content: '\ebe8'; }
.codicon-verified-filled:before { content: '\ebe9'; }
.codicon-newline:before { content: '\ebea'; }
.codicon-layout:before { content: '\ebeb'; }
.codicon-layout-activitybar-left:before { content: '\ebec'; }
.codicon-layout-activitybar-right:before { content: '\ebed'; }
.codicon-layout-panel-left:before { content: '\ebee'; }
.codicon-layout-panel-center:before { content: '\ebef'; }
.codicon-layout-panel-justify:before { content: '\ebf0'; }
.codicon-layout-panel-right:before { content: '\ebf1'; }
.codicon-layout-panel:before { content: '\ebf2'; }
.codicon-layout-sidebar-left:before { content: '\ebf3'; }
.codicon-layout-sidebar-right:before { content: '\ebf4'; }
.codicon-layout-statusbar:before { content: '\ebf5'; }
.codicon-layout-menubar:before { content: '\ebf6'; }
.codicon-layout-centered:before { content: '\ebf7'; }
.codicon-layout-sidebar-right-off:before { content: '\ec00'; }
.codicon-layout-panel-off:before { content: '\ec01'; }
.codicon-layout-sidebar-left-off:before { content: '\ec02'; }
.codicon-target:before { content: '\ebf8'; }
.codicon-indent:before { content: '\ebf9'; }
.codicon-record-small:before { content: '\ebfa'; }
.codicon-error-small:before { content: '\ebfb'; }
.codicon-arrow-circle-down:before { content: '\ebfc'; }
.codicon-arrow-circle-left:before { content: '\ebfd'; }
.codicon-arrow-circle-right:before { content: '\ebfe'; }
.codicon-arrow-circle-up:before { content: '\ebff'; }
.codicon-heart-filled:before { content: '\ec04'; }
.codicon-map:before { content: '\ec05'; }
.codicon-map-filled:before { content: '\ec06'; }
.codicon-circle-small:before { content: '\ec07'; }
.codicon-bell-slash:before { content: '\ec08'; }
.codicon-bell-slash-dot:before { content: '\ec09'; }
.codicon-comment-unresolved:before { content: '\ec0a'; }
.codicon-git-pull-request-go-to-changes:before { content: '\ec0b'; }
.codicon-git-pull-request-new-changes:before { content: '\ec0c'; }
.codicon-search-fuzzy:before { content: '\ec0d'; }
.codicon-comment-draft:before { content: '\ec0e'; }
.codicon-send:before { content: '\ec0f'; }
.codicon-sparkle:before { content: '\ec10'; }
.codicon-insert:before { content: '\ec11'; }
.codicon-dialog-error:before { content: '\ea87'; }
.codicon-dialog-warning:before { content: '\ea6c'; }
.codicon-dialog-info:before { content: '\ea74'; }
.codicon-dialog-close:before { content: '\ea76'; }
.codicon-tree-item-expanded:before { content: '\eab4'; }
.codicon-tree-filter-on-type-on:before { content: '\eb83'; }
.codicon-tree-filter-on-type-off:before { content: '\eb85'; }
.codicon-tree-filter-clear:before { content: '\ea76'; }
.codicon-tree-item-loading:before { content: '\eb19'; }
.codicon-menu-selection:before { content: '\eab2'; }
.codicon-menu-submenu:before { content: '\eab6'; }
.codicon-menubar-more:before { content: '\ea7c'; }
.codicon-scrollbar-button-left:before { content: '\eb6f'; }
.codicon-scrollbar-button-right:before { content: '\eb70'; }
.codicon-scrollbar-button-up:before { content: '\eb71'; }
.codicon-scrollbar-button-down:before { content: '\eb6e'; }
.codicon-toolbar-more:before { content: '\ea7c'; }
.codicon-quick-input-back:before { content: '\ea9b'; }
.codicon-widget-close:before { content: '\ea76'; }
.codicon-goto-previous-location:before { content: '\eaa1'; }
.codicon-goto-next-location:before { content: '\ea9a'; }
.codicon-diff-review-insert:before { content: '\ea60'; }
.codicon-diff-review-remove:before { content: '\eb3b'; }
.codicon-diff-review-close:before { content: '\ea76'; }
.codicon-parameter-hints-next:before { content: '\eab4'; }
.codicon-parameter-hints-previous:before { content: '\eab7'; }
.codicon-suggest-more-info:before { content: '\eab6'; }
.codicon-inline-suggestion-hints-next:before { content: '\eab6'; }
.codicon-inline-suggestion-hints-previous:before { content: '\eab5'; }
.codicon-diff-insert:before { content: '\ea60'; }
.codicon-diff-remove:before { content: '\eb3b'; }
.codicon-find-selection:before { content: '\eb85'; }
.codicon-find-collapsed:before { content: '\eab6'; }
.codicon-find-expanded:before { content: '\eab4'; }
.codicon-find-replace:before { content: '\eb3d'; }
.codicon-find-replace-all:before { content: '\eb3c'; }
.codicon-find-previous-match:before { content: '\eaa1'; }
.codicon-find-next-match:before { content: '\ea9a'; }
.codicon-folding-expanded:before { content: '\eab4'; }
.codicon-folding-collapsed:before { content: '\eab6'; }
.codicon-folding-manual-collapsed:before { content: '\eab6'; }
.codicon-folding-manual-expanded:before { content: '\eab4'; }
.codicon-marker-navigation-next:before { content: '\ea9a'; }
.codicon-marker-navigation-previous:before { content: '\eaa1'; }
.codicon-extensions-warning-message:before { content: '\ea6c'; }
.monaco-editor .inputarea.ime-input { background-color: #f7f7f7; }
.monaco-editor .view-overlays .current-line { border: 2px solid #eeeeee; }
.monaco-editor .margin-view-overlays .current-line-margin { border: 2px solid #eeeeee; }
.monaco-editor .bracket-indent-guide.lvl-0 { --guide-color: rgba(4, 49, 250, 0.3); --guide-color-active: #0431fa; }
.monaco-editor .bracket-indent-guide.lvl-1 { --guide-color: rgba(49, 147, 49, 0.3); --guide-color-active: #319331; }
.monaco-editor .bracket-indent-guide.lvl-2 { --guide-color: rgba(123, 56, 20, 0.3); --guide-color-active: #7b3814; }
.monaco-editor .bracket-indent-guide.lvl-3 { --guide-color: rgba(4, 49, 250, 0.3); --guide-color-active: #0431fa; }
.monaco-editor .bracket-indent-guide.lvl-4 { --guide-color: rgba(49, 147, 49, 0.3); --guide-color-active: #319331; }
.monaco-editor .bracket-indent-guide.lvl-5 { --guide-color: rgba(123, 56, 20, 0.3); --guide-color-active: #7b3814; }
.monaco-editor .bracket-indent-guide.lvl-6 { --guide-color: rgba(4, 49, 250, 0.3); --guide-color-active: #0431fa; }
.monaco-editor .bracket-indent-guide.lvl-7 { --guide-color: rgba(49, 147, 49, 0.3); --guide-color-active: #319331; }
.monaco-editor .bracket-indent-guide.lvl-8 { --guide-color: rgba(123, 56, 20, 0.3); --guide-color-active: #7b3814; }
.monaco-editor .bracket-indent-guide.lvl-9 { --guide-color: rgba(4, 49, 250, 0.3); --guide-color-active: #0431fa; }
.monaco-editor .bracket-indent-guide.lvl-10 { --guide-color: rgba(49, 147, 49, 0.3); --guide-color-active: #319331; }
.monaco-editor .bracket-indent-guide.lvl-11 { --guide-color: rgba(123, 56, 20, 0.3); --guide-color-active: #7b3814; }
.monaco-editor .bracket-indent-guide.lvl-12 { --guide-color: rgba(4, 49, 250, 0.3); --guide-color-active: #0431fa; }
.monaco-editor .bracket-indent-guide.lvl-13 { --guide-color: rgba(49, 147, 49, 0.3); --guide-color-active: #319331; }
.monaco-editor .bracket-indent-guide.lvl-14 { --guide-color: rgba(123, 56, 20, 0.3); --guide-color-active: #7b3814; }
.monaco-editor .bracket-indent-guide.lvl-15 { --guide-color: rgba(4, 49, 250, 0.3); --guide-color-active: #0431fa; }
.monaco-editor .bracket-indent-guide.lvl-16 { --guide-color: rgba(49, 147, 49, 0.3); --guide-color-active: #319331; }
.monaco-editor .bracket-indent-guide.lvl-17 { --guide-color: rgba(123, 56, 20, 0.3); --guide-color-active: #7b3814; }
.monaco-editor .bracket-indent-guide.lvl-18 { --guide-color: rgba(4, 49, 250, 0.3); --guide-color-active: #0431fa; }
.monaco-editor .bracket-indent-guide.lvl-19 { --guide-color: rgba(49, 147, 49, 0.3); --guide-color-active: #319331; }
.monaco-editor .bracket-indent-guide.lvl-20 { --guide-color: rgba(123, 56, 20, 0.3); --guide-color-active: #7b3814; }
.monaco-editor .bracket-indent-guide.lvl-21 { --guide-color: rgba(4, 49, 250, 0.3); --guide-color-active: #0431fa; }
.monaco-editor .bracket-indent-guide.lvl-22 { --guide-color: rgba(49, 147, 49, 0.3); --guide-color-active: #319331; }
.monaco-editor .bracket-indent-guide.lvl-23 { --guide-color: rgba(123, 56, 20, 0.3); --guide-color-active: #7b3814; }
.monaco-editor .bracket-indent-guide.lvl-24 { --guide-color: rgba(4, 49, 250, 0.3); --guide-color-active: #0431fa; }
.monaco-editor .bracket-indent-guide.lvl-25 { --guide-color: rgba(49, 147, 49, 0.3); --guide-color-active: #319331; }
.monaco-editor .bracket-indent-guide.lvl-26 { --guide-color: rgba(123, 56, 20, 0.3); --guide-color-active: #7b3814; }
.monaco-editor .bracket-indent-guide.lvl-27 { --guide-color: rgba(4, 49, 250, 0.3); --guide-color-active: #0431fa; }
.monaco-editor .bracket-indent-guide.lvl-28 { --guide-color: rgba(49, 147, 49, 0.3); --guide-color-active: #319331; }
.monaco-editor .bracket-indent-guide.lvl-29 { --guide-color: rgba(123, 56, 20, 0.3); --guide-color-active: #7b3814; }
.monaco-editor .vertical { box-shadow: 1px 0 0 0 var(--guide-color) inset; }
.monaco-editor .horizontal-top { border-top: 1px solid var(--guide-color); }
.monaco-editor .horizontal-bottom { border-bottom: 1px solid var(--guide-color); }
.monaco-editor .vertical.indent-active { box-shadow: 1px 0 0 0 var(--guide-color-active) inset; }
.monaco-editor .horizontal-top.indent-active { border-top: 1px solid var(--guide-color-active); }
.monaco-editor .horizontal-bottom.indent-active { border-bottom: 1px solid var(--guide-color-active); }
.monaco-editor .line-numbers.dimmed-line-number { color: rgba(153, 153, 153, 0.4); }
.monaco-editor .cursors-layer .cursor { background-color: #000000; border-color: #000000; color: #ffffff; }
.monaco-editor .unexpected-closing-bracket { color: rgba(255, 18, 18, 0.8); }
.monaco-editor .bracket-highlighting-0 { color: #0431fa; }
.monaco-editor .bracket-highlighting-1 { color: #319331; }
.monaco-editor .bracket-highlighting-2 { color: #7b3814; }
.monaco-editor .bracket-highlighting-3 { color: #0431fa; }
.monaco-editor .bracket-highlighting-4 { color: #319331; }
.monaco-editor .bracket-highlighting-5 { color: #7b3814; }
.monaco-editor .bracket-highlighting-6 { color: #0431fa; }
.monaco-editor .bracket-highlighting-7 { color: #319331; }
.monaco-editor .bracket-highlighting-8 { color: #7b3814; }
.monaco-editor .bracket-highlighting-9 { color: #0431fa; }
.monaco-editor .bracket-highlighting-10 { color: #319331; }
.monaco-editor .bracket-highlighting-11 { color: #7b3814; }
.monaco-editor .bracket-highlighting-12 { color: #0431fa; }
.monaco-editor .bracket-highlighting-13 { color: #319331; }
.monaco-editor .bracket-highlighting-14 { color: #7b3814; }
.monaco-editor .bracket-highlighting-15 { color: #0431fa; }
.monaco-editor .bracket-highlighting-16 { color: #319331; }
.monaco-editor .bracket-highlighting-17 { color: #7b3814; }
.monaco-editor .bracket-highlighting-18 { color: #0431fa; }
.monaco-editor .bracket-highlighting-19 { color: #319331; }
.monaco-editor .bracket-highlighting-20 { color: #7b3814; }
.monaco-editor .bracket-highlighting-21 { color: #0431fa; }
.monaco-editor .bracket-highlighting-22 { color: #319331; }
.monaco-editor .bracket-highlighting-23 { color: #7b3814; }
.monaco-editor .bracket-highlighting-24 { color: #0431fa; }
.monaco-editor .bracket-highlighting-25 { color: #319331; }
.monaco-editor .bracket-highlighting-26 { color: #7b3814; }
.monaco-editor .bracket-highlighting-27 { color: #0431fa; }
.monaco-editor .bracket-highlighting-28 { color: #319331; }
.monaco-editor .bracket-highlighting-29 { color: #7b3814; }
.monaco-editor .squiggly-error { background: url("data:image/svg+xml,%3Csvg%20xmlns%3D'http%3A%2F%2Fwww.w3.org%2F2000%2Fsvg'%20viewBox%3D'0%200%206%203'%20enable-background%3D'new%200%200%206%203'%20height%3D'3'%20width%3D'6'%3E%3Cg%20fill%3D'%23e51400'%3E%3Cpolygon%20points%3D'5.5%2C0%202.5%2C3%201.1%2C3%204.1%2C0'%2F%3E%3Cpolygon%20points%3D'4%2C0%206%2C2%206%2C0.6%205.4%2C0'%2F%3E%3Cpolygon%20points%3D'0%2C2%201%2C3%202.4%2C3%200%2C0.6'%2F%3E%3C%2Fg%3E%3C%2Fsvg%3E") repeat-x bottom left; }
.monaco-editor .squiggly-warning { background: url("data:image/svg+xml,%3Csvg%20xmlns%3D'http%3A%2F%2Fwww.w3.org%2F2000%2Fsvg'%20viewBox%3D'0%200%206%203'%20enable-background%3D'new%200%200%206%203'%20height%3D'3'%20width%3D'6'%3E%3Cg%20fill%3D'%23bf8803'%3E%3Cpolygon%20points%3D'5.5%2C0%202.5%2C3%201.1%2C3%204.1%2C0'%2F%3E%3Cpolygon%20points%3D'4%2C0%206%2C2%206%2C0.6%205.4%2C0'%2F%3E%3Cpolygon%20points%3D'0%2C2%201%2C3%202.4%2C3%200%2C0.6'%2F%3E%3C%2Fg%3E%3C%2Fsvg%3E") repeat-x bottom left; }
.monaco-editor .squiggly-info { background: url("data:image/svg+xml,%3Csvg%20xmlns%3D'http%3A%2F%2Fwww.w3.org%2F2000%2Fsvg'%20viewBox%3D'0%200%206%203'%20enable-background%3D'new%200%200%206%203'%20height%3D'3'%20width%3D'6'%3E%3Cg%20fill%3D'%231a85ff'%3E%3Cpolygon%20points%3D'5.5%2C0%202.5%2C3%201.1%2C3%204.1%2C0'%2F%3E%3Cpolygon%20points%3D'4%2C0%206%2C2%206%2C0.6%205.4%2C0'%2F%3E%3Cpolygon%20points%3D'0%2C2%201%2C3%202.4%2C3%200%2C0.6'%2F%3E%3C%2Fg%3E%3C%2Fsvg%3E") repeat-x bottom left; }
.monaco-editor .squiggly-hint { background: url("data:image/svg+xml,%3Csvg%20xmlns%3D%22http%3A%2F%2Fwww.w3.org%2F2000%2Fsvg%22%20height%3D%223%22%20width%3D%2212%22%3E%3Cg%20fill%3D%22%236c6c6c%22%3E%3Ccircle%20cx%3D%221%22%20cy%3D%221%22%20r%3D%221%22%2F%3E%3Ccircle%20cx%3D%225%22%20cy%3D%221%22%20r%3D%221%22%2F%3E%3Ccircle%20cx%3D%229%22%20cy%3D%221%22%20r%3D%221%22%2F%3E%3C%2Fg%3E%3C%2Fsvg%3E") no-repeat bottom left; }
.monaco-editor.showUnused .squiggly-inline-unnecessary { opacity: 0.467; }
.monaco-editor .selectionHighlight { background-color: rgba(173, 214, 255, 0.15); }

	.monaco-editor .diagonal-fill {
		background-image: linear-gradient(
			-45deg,
			rgba(34, 34, 34, 0.2) 12.5%,
			#0000 12.5%, #0000 50%,
			rgba(34, 34, 34, 0.2) 50%, rgba(34, 34, 34, 0.2) 62.5%,
			#0000 62.5%, #0000 100%
		);
		background-size: 8px 8px;
	}
	
.monaco-editor .findMatch { background-color: rgba(234, 92, 0, 0.33); }
.monaco-editor .currentFindMatch { background-color: #a8ac94; }
.monaco-editor .findScope { background-color: rgba(180, 180, 180, 0.3); }
.monaco-editor .find-widget { background-color: #f3f3f3; }
.monaco-editor .find-widget { box-shadow: 0 0 8px 2px rgba(0, 0, 0, 0.16); }
.monaco-editor .find-widget { color: #616161; }
.monaco-editor .find-widget.no-results .matchesCount { color: #a1260d; }
.monaco-editor .find-widget .monaco-sash { background-color: #c8c8c8; }

		.monaco-editor .find-widget .button:not(.disabled):hover,
		.monaco-editor .find-widget .codicon-find-selection:hover {
			background-color: rgba(184, 184, 184, 0.31) !important;
		}
	
.monaco-editor .find-widget .monaco-inputbox.synthetic-focus { outline-color: #0090f1; }
.monaco-editor .monaco-hover .hover-row:not(:first-child):not(:empty) { border-top: 1px solid rgba(200, 200, 200, 0.5); }
.monaco-editor .monaco-hover hr { border-top: 1px solid rgba(200, 200, 200, 0.5); }
.monaco-editor .monaco-hover hr { border-bottom: 0px solid rgba(200, 200, 200, 0.5); }
.monaco-editor { --vscode-foreground: #616161;
--vscode-disabledForeground: rgba(97, 97, 97, 0.5);
--vscode-errorForeground: #a1260d;
--vscode-descriptionForeground: #717171;
--vscode-icon-foreground: #424242;
--vscode-focusBorder: #0090f1;
--vscode-textSeparator-foreground: rgba(0, 0, 0, 0.18);
--vscode-textLink-foreground: #006ab1;
--vscode-textLink-activeForeground: #006ab1;
--vscode-textPreformat-foreground: #a31515;
--vscode-textBlockQuote-background: rgba(127, 127, 127, 0.1);
--vscode-textBlockQuote-border: rgba(0, 122, 204, 0.5);
--vscode-textCodeBlock-background: rgba(220, 220, 220, 0.4);
--vscode-widget-shadow: rgba(0, 0, 0, 0.16);
--vscode-input-background: #ffffff;
--vscode-input-foreground: #616161;
--vscode-inputOption-activeBorder: #007acc;
--vscode-inputOption-hoverBackground: rgba(184, 184, 184, 0.31);
--vscode-inputOption-activeBackground: rgba(0, 144, 241, 0.2);
--vscode-inputOption-activeForeground: #000000;
--vscode-input-placeholderForeground: rgba(97, 97, 97, 0.5);
--vscode-inputValidation-infoBackground: #d6ecf2;
--vscode-inputValidation-infoBorder: #007acc;
--vscode-inputValidation-warningBackground: #f6f5d2;
--vscode-inputValidation-warningBorder: #b89500;
--vscode-inputValidation-errorBackground: #f2dede;
--vscode-inputValidation-errorBorder: #be1100;
--vscode-dropdown-background: #ffffff;
--vscode-dropdown-foreground: #616161;
--vscode-dropdown-border: #cecece;
--vscode-button-foreground: #ffffff;
--vscode-button-separator: rgba(255, 255, 255, 0.4);
--vscode-button-background: #007acc;
--vscode-button-hoverBackground: #0062a3;
--vscode-button-secondaryForeground: #ffffff;
--vscode-button-secondaryBackground: #5f6a79;
--vscode-button-secondaryHoverBackground: #4c5561;
--vscode-badge-background: #c4c4c4;
--vscode-badge-foreground: #333333;
--vscode-scrollbar-shadow: #dddddd;
--vscode-scrollbarSlider-background: rgba(100, 100, 100, 0.4);
--vscode-scrollbarSlider-hoverBackground: rgba(100, 100, 100, 0.7);
--vscode-scrollbarSlider-activeBackground: rgba(0, 0, 0, 0.6);
--vscode-progressBar-background: #0e70c0;
--vscode-editorError-foreground: #e51400;
--vscode-editorWarning-foreground: #bf8803;
--vscode-editorInfo-foreground: #1a85ff;
--vscode-editorHint-foreground: #6c6c6c;
--vscode-sash-hoverBorder: #0090f1;
--vscode-editor-background: #f7f7f7;
--vscode-editor-foreground: #000000;
--vscode-editorStickyScroll-background: #f7f7f7;
--vscode-editorStickyScrollHover-background: #f0f0f0;
--vscode-editorWidget-background: #f3f3f3;
--vscode-editorWidget-foreground: #616161;
--vscode-editorWidget-border: #c8c8c8;
--vscode-quickInput-background: #f3f3f3;
--vscode-quickInput-foreground: #616161;
--vscode-quickInputTitle-background: rgba(0, 0, 0, 0.06);
--vscode-pickerGroup-foreground: #0066bf;
--vscode-pickerGroup-border: #cccedb;
--vscode-keybindingLabel-background: rgba(221, 221, 221, 0.4);
--vscode-keybindingLabel-foreground: #555555;
--vscode-keybindingLabel-border: rgba(204, 204, 204, 0.4);
--vscode-keybindingLabel-bottomBorder: rgba(187, 187, 187, 0.4);
--vscode-editor-selectionBackground: #add6ff;
--vscode-editor-inactiveSelectionBackground: #e5ebf1;
--vscode-editor-selectionHighlightBackground: rgba(173, 214, 255, 0.3);
--vscode-editor-findMatchBackground: #a8ac94;
--vscode-editor-findMatchHighlightBackground: rgba(234, 92, 0, 0.33);
--vscode-editor-findRangeHighlightBackground: rgba(180, 180, 180, 0.3);
--vscode-searchEditor-findMatchBackground: rgba(234, 92, 0, 0.22);
--vscode-search-resultsInfoForeground: #616161;
--vscode-editor-hoverHighlightBackground: rgba(173, 214, 255, 0.15);
--vscode-editorHoverWidget-background: #f3f3f3;
--vscode-editorHoverWidget-foreground: #616161;
--vscode-editorHoverWidget-border: #c8c8c8;
--vscode-editorHoverWidget-statusBarBackground: #e7e7e7;
--vscode-editorLink-activeForeground: #0000ff;
--vscode-editorInlayHint-foreground: #616161;
--vscode-editorInlayHint-background: rgba(196, 196, 196, 0.3);
--vscode-editorInlayHint-typeForeground: #616161;
--vscode-editorInlayHint-typeBackground: rgba(196, 196, 196, 0.3);
--vscode-editorInlayHint-parameterForeground: #616161;
--vscode-editorInlayHint-parameterBackground: rgba(196, 196, 196, 0.3);
--vscode-editorLightBulb-foreground: #ddb100;
--vscode-editorLightBulbAutoFix-foreground: #007acc;
--vscode-diffEditor-insertedTextBackground: rgba(155, 185, 85, 0.09);
--vscode-diffEditor-removedTextBackground: rgba(255, 0, 0, 0.03);
--vscode-diffEditor-insertedLineBackground: rgba(155, 185, 85, 0.09);
--vscode-diffEditor-removedLineBackground: rgba(255, 0, 0, 0.03);
--vscode-diffEditor-diagonalFill: rgba(34, 34, 34, 0.2);
--vscode-diffEditor-unchangedRegionBackground: #e4e4e4;
--vscode-diffEditor-unchangedRegionForeground: #4d4c4c;
--vscode-diffEditor-unchangedCodeBackground: rgba(184, 184, 184, 0.16);
--vscode-list-focusOutline: #0090f1;
--vscode-list-activeSelectionBackground: #d6ebff;
--vscode-list-activeSelectionForeground: #000000;
--vscode-list-inactiveSelectionBackground: #e4e6f1;
--vscode-list-hoverBackground: #f0f0f0;
--vscode-list-dropBackground: #d6ebff;
--vscode-list-highlightForeground: #0066bf;
--vscode-list-focusHighlightForeground: #0066bf;
--vscode-list-invalidItemForeground: #b89500;
--vscode-list-errorForeground: #b01011;
--vscode-list-warningForeground: #855f00;
--vscode-listFilterWidget-background: #f3f3f3;
--vscode-listFilterWidget-outline: rgba(0, 0, 0, 0);
--vscode-listFilterWidget-noMatchesOutline: #be1100;
--vscode-listFilterWidget-shadow: rgba(0, 0, 0, 0.16);
--vscode-list-filterMatchBackground: rgba(234, 92, 0, 0.33);
--vscode-tree-indentGuidesStroke: #a9a9a9;
--vscode-tree-inactiveIndentGuidesStroke: rgba(169, 169, 169, 0.4);
--vscode-tree-tableColumnsBorder: rgba(97, 97, 97, 0.13);
--vscode-tree-tableOddRowsBackground: rgba(97, 97, 97, 0.04);
--vscode-list-deemphasizedForeground: #8e8e90;
--vscode-checkbox-background: #ffffff;
--vscode-checkbox-selectBackground: #f3f3f3;
--vscode-checkbox-foreground: #616161;
--vscode-checkbox-border: #cecece;
--vscode-checkbox-selectBorder: #424242;
--vscode-quickInputList-focusForeground: #000000;
--vscode-quickInputList-focusBackground: #d6ebff;
--vscode-menu-foreground: #616161;
--vscode-menu-background: #ffffff;
--vscode-menu-selectionForeground: #000000;
--vscode-menu-selectionBackground: #d6ebff;
--vscode-menu-separatorBackground: #d4d4d4;
--vscode-toolbar-hoverBackground: rgba(184, 184, 184, 0.31);
--vscode-toolbar-activeBackground: rgba(166, 166, 166, 0.31);
--vscode-editor-snippetTabstopHighlightBackground: rgba(10, 50, 100, 0.2);
--vscode-editor-snippetFinalTabstopHighlightBorder: rgba(10, 50, 100, 0.5);
--vscode-breadcrumb-foreground: rgba(97, 97, 97, 0.8);
--vscode-breadcrumb-background: #f7f7f7;
--vscode-breadcrumb-focusForeground: #4e4e4e;
--vscode-breadcrumb-activeSelectionForeground: #4e4e4e;
--vscode-breadcrumbPicker-background: #f3f3f3;
--vscode-merge-currentHeaderBackground: rgba(64, 200, 174, 0.5);
--vscode-merge-currentContentBackground: rgba(64, 200, 174, 0.2);
--vscode-merge-incomingHeaderBackground: rgba(64, 166, 255, 0.5);
--vscode-merge-incomingContentBackground: rgba(64, 166, 255, 0.2);
--vscode-merge-commonHeaderBackground: rgba(96, 96, 96, 0.4);
--vscode-merge-commonContentBackground: rgba(96, 96, 96, 0.16);
--vscode-editorOverviewRuler-currentContentForeground: rgba(64, 200, 174, 0.5);
--vscode-editorOverviewRuler-incomingContentForeground: rgba(64, 166, 255, 0.5);
--vscode-editorOverviewRuler-commonContentForeground: rgba(96, 96, 96, 0.4);
--vscode-editorOverviewRuler-findMatchForeground: rgba(209, 134, 22, 0.49);
--vscode-editorOverviewRuler-selectionHighlightForeground: rgba(0, 0, 0, 0);
--vscode-minimap-findMatchHighlight: #d18616;
--vscode-minimap-selectionOccurrenceHighlight: #c9c9c9;
--vscode-minimap-selectionHighlight: #add6ff;
--vscode-minimap-errorHighlight: rgba(255, 18, 18, 0.7);
--vscode-minimap-warningHighlight: #bf8803;
--vscode-minimap-foregroundOpacity: #000000;
--vscode-minimapSlider-background: rgba(100, 100, 100, 0.2);
--vscode-minimapSlider-hoverBackground: rgba(100, 100, 100, 0.35);
--vscode-minimapSlider-activeBackground: rgba(0, 0, 0, 0.3);
--vscode-problemsErrorIcon-foreground: #e51400;
--vscode-problemsWarningIcon-foreground: #bf8803;
--vscode-problemsInfoIcon-foreground: #1a85ff;
--vscode-charts-foreground: #616161;
--vscode-charts-lines: rgba(97, 97, 97, 0.5);
--vscode-charts-red: #e51400;
--vscode-charts-blue: #1a85ff;
--vscode-charts-yellow: #bf8803;
--vscode-charts-orange: #d18616;
--vscode-charts-green: #388a34;
--vscode-charts-purple: #652d90;
--vscode-symbolIcon-arrayForeground: #616161;
--vscode-symbolIcon-booleanForeground: #616161;
--vscode-symbolIcon-classForeground: #d67e00;
--vscode-symbolIcon-colorForeground: #616161;
--vscode-symbolIcon-constantForeground: #616161;
--vscode-symbolIcon-constructorForeground: #652d90;
--vscode-symbolIcon-enumeratorForeground: #d67e00;
--vscode-symbolIcon-enumeratorMemberForeground: #007acc;
--vscode-symbolIcon-eventForeground: #d67e00;
--vscode-symbolIcon-fieldForeground: #007acc;
--vscode-symbolIcon-fileForeground: #616161;
--vscode-symbolIcon-folderForeground: #616161;
--vscode-symbolIcon-functionForeground: #652d90;
--vscode-symbolIcon-interfaceForeground: #007acc;
--vscode-symbolIcon-keyForeground: #616161;
--vscode-symbolIcon-keywordForeground: #616161;
--vscode-symbolIcon-methodForeground: #652d90;
--vscode-symbolIcon-moduleForeground: #616161;
--vscode-symbolIcon-namespaceForeground: #616161;
--vscode-symbolIcon-nullForeground: #616161;
--vscode-symbolIcon-numberForeground: #616161;
--vscode-symbolIcon-objectForeground: #616161;
--vscode-symbolIcon-operatorForeground: #616161;
--vscode-symbolIcon-packageForeground: #616161;
--vscode-symbolIcon-propertyForeground: #616161;
--vscode-symbolIcon-referenceForeground: #616161;
--vscode-symbolIcon-snippetForeground: #616161;
--vscode-symbolIcon-stringForeground: #616161;
--vscode-symbolIcon-structForeground: #616161;
--vscode-symbolIcon-textForeground: #616161;
--vscode-symbolIcon-typeParameterForeground: #616161;
--vscode-symbolIcon-unitForeground: #616161;
--vscode-symbolIcon-variableForeground: #007acc;
--vscode-editor-lineHighlightBorder: #eeeeee;
--vscode-editor-rangeHighlightBackground: rgba(253, 255, 0, 0.2);
--vscode-editor-symbolHighlightBackground: rgba(234, 92, 0, 0.33);
--vscode-editorCursor-foreground: #000000;
--vscode-editorWhitespace-foreground: rgba(51, 51, 51, 0.2);
--vscode-editorIndentGuide-background: #d3d3d3;
--vscode-editorIndentGuide-activeBackground: #939393;
--vscode-editorLineNumber-foreground: #999999;
--vscode-editorActiveLineNumber-foreground: #0b216f;
--vscode-editorLineNumber-activeForeground: #0b216f;
--vscode-editorRuler-foreground: #d3d3d3;
--vscode-editorCodeLens-foreground: #919191;
--vscode-editorBracketMatch-background: rgba(0, 100, 0, 0.1);
--vscode-editorBracketMatch-border: #b9b9b9;
--vscode-editorOverviewRuler-border: rgba(127, 127, 127, 0.3);
--vscode-editorGutter-background: #f7f7f7;
--vscode-editorUnnecessaryCode-opacity: rgba(0, 0, 0, 0.47);
--vscode-editorGhostText-foreground: rgba(0, 0, 0, 0.47);
--vscode-editorOverviewRuler-rangeHighlightForeground: rgba(0, 122, 204, 0.6);
--vscode-editorOverviewRuler-errorForeground: rgba(255, 18, 18, 0.7);
--vscode-editorOverviewRuler-warningForeground: #bf8803;
--vscode-editorOverviewRuler-infoForeground: #1a85ff;
--vscode-editorBracketHighlight-foreground1: #0431fa;
--vscode-editorBracketHighlight-foreground2: #319331;
--vscode-editorBracketHighlight-foreground3: #7b3814;
--vscode-editorBracketHighlight-foreground4: rgba(0, 0, 0, 0);
--vscode-editorBracketHighlight-foreground5: rgba(0, 0, 0, 0);
--vscode-editorBracketHighlight-foreground6: rgba(0, 0, 0, 0);
--vscode-editorBracketHighlight-unexpectedBracket-foreground: rgba(255, 18, 18, 0.8);
--vscode-editorBracketPairGuide-background1: rgba(0, 0, 0, 0);
--vscode-editorBracketPairGuide-background2: rgba(0, 0, 0, 0);
--vscode-editorBracketPairGuide-background3: rgba(0, 0, 0, 0);
--vscode-editorBracketPairGuide-background4: rgba(0, 0, 0, 0);
--vscode-editorBracketPairGuide-background5: rgba(0, 0, 0, 0);
--vscode-editorBracketPairGuide-background6: rgba(0, 0, 0, 0);
--vscode-editorBracketPairGuide-activeBackground1: rgba(0, 0, 0, 0);
--vscode-editorBracketPairGuide-activeBackground2: rgba(0, 0, 0, 0);
--vscode-editorBracketPairGuide-activeBackground3: rgba(0, 0, 0, 0);
--vscode-editorBracketPairGuide-activeBackground4: rgba(0, 0, 0, 0);
--vscode-editorBracketPairGuide-activeBackground5: rgba(0, 0, 0, 0);
--vscode-editorBracketPairGuide-activeBackground6: rgba(0, 0, 0, 0);
--vscode-editorUnicodeHighlight-border: #cea33d;
--vscode-editorUnicodeHighlight-background: rgba(206, 163, 61, 0.08);
--vscode-editorOverviewRuler-bracketMatchForeground: #a0a0a0;
--vscode-editor-linkedEditingBackground: rgba(255, 0, 0, 0.3);
--vscode-editor-wordHighlightBackground: rgba(87, 87, 87, 0.25);
--vscode-editor-wordHighlightStrongBackground: #d6ebff;
--vscode-editor-wordHighlightTextBackground: rgba(173, 214, 255, 0.45);
--vscode-editorOverviewRuler-wordHighlightForeground: rgba(160, 160, 160, 0.8);
--vscode-editorOverviewRuler-wordHighlightStrongForeground: rgba(192, 160, 192, 0.8);
--vscode-editorOverviewRuler-wordHighlightTextForeground: rgba(0, 0, 0, 0);
--vscode-peekViewTitle-background: #f3f3f3;
--vscode-peekViewTitleLabel-foreground: #000000;
--vscode-peekViewTitleDescription-foreground: #616161;
--vscode-peekView-border: #1a85ff;
--vscode-peekViewResult-background: #f3f3f3;
--vscode-peekViewResult-lineForeground: #646465;
--vscode-peekViewResult-fileForeground: #1e1e1e;
--vscode-peekViewResult-selectionBackground: rgba(51, 153, 255, 0.2);
--vscode-peekViewResult-selectionForeground: #6c6c6c;
--vscode-peekViewEditor-background: #f2f8fc;
--vscode-peekViewEditorGutter-background: #f2f8fc;
--vscode-peekViewEditorStickyScroll-background: #f2f8fc;
--vscode-peekViewResult-matchHighlightBackground: rgba(234, 92, 0, 0.3);
--vscode-peekViewEditor-matchHighlightBackground: rgba(245, 216, 2, 0.87);
--vscode-editorMarkerNavigationError-background: #e51400;
--vscode-editorMarkerNavigationError-headerBackground: rgba(229, 20, 0, 0.1);
--vscode-editorMarkerNavigationWarning-background: #bf8803;
--vscode-editorMarkerNavigationWarning-headerBackground: rgba(191, 136, 3, 0.1);
--vscode-editorMarkerNavigationInfo-background: #1a85ff;
--vscode-editorMarkerNavigationInfo-headerBackground: rgba(26, 133, 255, 0.1);
--vscode-editorMarkerNavigation-background: #f7f7f7;
--vscode-editorHoverWidget-highlightForeground: #0066bf;
--vscode-editorSuggestWidget-background: #f3f3f3;
--vscode-editorSuggestWidget-border: #c8c8c8;
--vscode-editorSuggestWidget-foreground: #000000;
--vscode-editorSuggestWidget-selectedForeground: #000000;
--vscode-editorSuggestWidget-selectedBackground: #d6ebff;
--vscode-editorSuggestWidget-highlightForeground: #0066bf;
--vscode-editorSuggestWidget-focusHighlightForeground: #0066bf;
--vscode-editorSuggestWidgetStatus-foreground: rgba(0, 0, 0, 0.5);
--vscode-editor-foldBackground: rgba(173, 214, 255, 0.3);
--vscode-editorGutter-foldingControlForeground: #424242; }

.mtk1 { color: #000000; }
.mtk2 { color: #f7f7f7; }
.mtk3 { color: #808080; }
.mtk4 { color: #ff0000; }
.mtk5 { color: #0451a5; }
.mtk6 { color: #0000ff; }
.mtk7 { color: #098658; }
.mtk8 { color: #008000; }
.mtk9 { color: #dd0000; }
.mtk10 { color: #811f3f; }
.mtk11 { color: #e00000; }
.mtk12 { color: #116644; }
.mtk13 { color: #383838; }
.mtk14 { color: #257693; }
.mtk15 { color: #795e26; }
.mtk16 { color: #001080; }
.mtk17 { color: #cd3131; }
.mtk18 { color: #863b00; }
.mtk19 { color: #af00db; }
.mtk20 { color: #c43b3b; }
.mtk21 { color: #800000; }
.mtk22 { color: #3030c0; }
.mtk23 { color: #666666; }
.mtk24 { color: #778899; }
.mtk25 { color: #c700c7; }
.mtk26 { color: #a31515; }
.mtk27 { color: #4f76ac; }
.mtk28 { color: #008080; }
.mtk29 { color: #001188; }
.mtk30 { color: #4864aa; }
.mtki { font-style: italic; }
.mtkb { font-weight: bold; }
.mtku { text-decoration: underline; text-underline-position: under; }
.mtks { text-decoration: line-through; }
.mtks.mtku { text-decoration: underline line-through; text-underline-position: under; }</style><script async="async" type="text/javascript" src="./Home_Assignment1_files/python.js.download"></script></head><body class="" style="overscroll-behavior: contain;"><div style="visibility: hidden; overflow: hidden; position: absolute; top: 0px; height: 1px; width: auto; padding: 0px; border: 0px; margin: 0px; text-align: left; text-indent: 0px; text-transform: none; line-height: normal; letter-spacing: normal; word-spacing: normal;"><div id="MathJax_Hidden"></div></div><div id="MathJax_Message" style="display: none;"></div><div class="scripts"><script nonce="">window.performance.mark('external_scripts_start');</script><script src="./Home_Assignment1_files/gapi_loader.js.download" nonce=""></script><script src="./Home_Assignment1_files/socketio_binary.js.download" nonce=""></script><script src="./Home_Assignment1_files/analytics_binary.js.download" nonce=""></script><script src="./Home_Assignment1_files/MathJax.js.download" nonce=""></script><script src="./Home_Assignment1_files/js_monaco_editor_vs_loader.js.download" nonce=""></script><script nonce="">window.performance.mark('external_scripts_end'); window.performance.measure('external_scripts', 'external_scripts_start', 'external_scripts_end'); window.performance.mark('colab_load_start');</script><script src="./Home_Assignment1_files/external_binary.js.download" nonce=""></script><script nonce="">
          window.performance.mark('colab_load_end');
          window.performance.measure('colab_load', 'colab_load_start', 'colab_load_end');
        </script></div><colab-snackbar leading="" labeltext="" id="message-area" class="message-area"><template shadowrootmode="open"><!----><style>
        :host .mdc-snackbar__surface {
          background-color: var(--colab-inverse-surface-color);
        }

        :host .mdc-snackbar__label {
          color: var(--colab-inverse-on-surface-color);
        }
      </style>
      <!--?lit$079637519$-->
      <div class="mdc-snackbar mdc-snackbar--leading">
        <div class="mdc-snackbar__surface">
          <!--?lit$079637519$-->
          <div class="mdc-snackbar__actions">
            <slot name="action"></slot>
            <slot name="dismiss"></slot>
          </div>
        </div>
      </div><!--?--></template>
      <md-icon-button class="close" slot="dismiss" title="Close" data-aria-label="Close" value=""><template shadowrootmode="open" shadowrootdelegatesfocus><!----><button id="button" class="icon-button  standard " aria-label="Close">
        <!--?lit$079637519$--><md-focus-ring part="focus-ring" for="button" aria-hidden="true"><template shadowrootmode="open"><!----></template></md-focus-ring>
        <!--?lit$079637519$--><md-ripple aria-hidden="true"><template shadowrootmode="open"><!----><div class="surface   "></div></template></md-ripple>
        <!--?lit$079637519$--><span class="icon"><slot></slot></span>
        <!--?lit$079637519$-->
        <!--?lit$079637519$--><span class="touch"></span>
  </button></template>
        <md-icon aria-hidden="true"><template shadowrootmode="open"><!----><slot></slot></template>close</md-icon>
      </md-icon-button>
    </colab-snackbar><colab-snackbar leading="" labeltext="" id="message-area-secondary" class="message-area"><template shadowrootmode="open"><!----><style>
        :host .mdc-snackbar__surface {
          background-color: var(--colab-inverse-surface-color);
        }

        :host .mdc-snackbar__label {
          color: var(--colab-inverse-on-surface-color);
        }
      </style>
      <!--?lit$079637519$-->
      <div class="mdc-snackbar mdc-snackbar--leading">
        <div class="mdc-snackbar__surface">
          <!--?lit$079637519$-->
          <div class="mdc-snackbar__actions">
            <slot name="action"></slot>
            <slot name="dismiss"></slot>
          </div>
        </div>
      </div><!--?--></template>
      <md-icon-button class="close" slot="dismiss" title="Close" data-aria-label="Close" value=""><template shadowrootmode="open" shadowrootdelegatesfocus><!----><button id="button" class="icon-button  standard " aria-label="Close">
        <!--?lit$079637519$--><md-focus-ring part="focus-ring" for="button" aria-hidden="true"><template shadowrootmode="open"><!----></template></md-focus-ring>
        <!--?lit$079637519$--><md-ripple aria-hidden="true"><template shadowrootmode="open"><!----><div class="surface   "></div></template></md-ripple>
        <!--?lit$079637519$--><span class="icon"><slot></slot></span>
        <!--?lit$079637519$-->
        <!--?lit$079637519$--><span class="touch"></span>
  </button></template>
        <md-icon aria-hidden="true"><template shadowrootmode="open"><!----><slot></slot></template>close</md-icon>
      </md-icon-button>
    </colab-snackbar><div ng-non-bindable=""></div><div class="gb_S" ng-non-bindable=""><div class="gb_Bc"><div>Google Account</div><div class="gb_g">CHARITH REDDY PUTTA</div><div>charithreddyputta@gmail.com</div></div></div><script nonce="">this.gbar_=this.gbar_||{};(function(_){var window=this;
try{
var yd;yd=class extends _.hd{};_.zd=function(a,b){if(b in a.i)return a.i[b];throw new yd;};_.Ad=function(a){return _.zd(_.ed.i(),a)};
}catch(e){_._DumpException(e)}
try{
/*

 Copyright Google LLC
 SPDX-License-Identifier: Apache-2.0
*/
var Dd;_.Bd=function(a){const b=a.length;if(b>0){const c=Array(b);for(let d=0;d<b;d++)c[d]=a[d];return c}return[]};Dd=function(a){return new _.Cd(b=>b.substr(0,a.length+1).toLowerCase()===a+":")};_.Ed=globalThis.trustedTypes;_.Fd=class{constructor(a){this.i=a}toString(){return this.i}};_.Gd=new _.Fd("about:invalid#zClosurez");_.Cd=class{constructor(a){this.kh=a}};_.Hd=[Dd("data"),Dd("http"),Dd("https"),Dd("mailto"),Dd("ftp"),new _.Cd(a=>/^[^:]*([/?#]|$)/.test(a))];_.Id=class{constructor(a){this.i=a}toString(){return this.i+""}};_.Jd=new _.Id(_.Ed?_.Ed.emptyHTML:"");
}catch(e){_._DumpException(e)}
try{
var Od,be,Nd,Pd,Ud;_.Kd=function(a){return a==null?a:(0,_.Xa)(a)?a|0:void 0};_.Ld=function(a){if(a==null)return a;if(typeof a==="string"&&a)a=+a;else if(typeof a!=="number")return;return(0,_.Xa)(a)?a|0:void 0};_.Md=function(a,b){return a.lastIndexOf(b,0)==0};Od=function(){let a=null;if(!Nd)return a;try{const b=c=>c;a=Nd.createPolicy("ogb-qtm#html",{createHTML:b,createScript:b,createScriptURL:b})}catch(b){}return a};_.Qd=function(){Pd===void 0&&(Pd=Od());return Pd};
_.Sd=function(a){const b=_.Qd();return new _.Rd(b?b.createScriptURL(a):a)};_.Td=function(a){if(a instanceof _.Rd)return a.i;throw Error("H");};_.Vd=function(a){if(Ud.test(a))return a};_.Wd=function(a){if(a instanceof _.Fd)if(a instanceof _.Fd)a=a.i;else throw Error("H");else a=_.Vd(a);return a};_.Xd=function(a,b=document){let c;const d=(c=b.querySelector)==null?void 0:c.call(b,`${a}[nonce]`);return d==null?"":d.nonce||d.getAttribute("nonce")||""};_.Yd=function(a,b,c){return _.sb(a,b,c,!1)!==void 0};
_.Zd=function(a,b){return _.Ld(_.Bc(a,b))};_.S=function(a,b){return _.Kd(_.Bc(a,b))};_.T=function(a,b,c=0){let d;return(d=_.Zd(a,b))!=null?d:c};_.$d=function(a,b,c=0){let d;return(d=_.S(a,b))!=null?d:c};_.ae=function(a){var b=_.Va(a);return b=="array"||b=="object"&&typeof a.length=="number"};Nd=_.Ed;_.Rd=class{constructor(a){this.i=a}toString(){return this.i+""}};Ud=/^\s*(?!javascript:)(?:[\w+.-]+:|[^:/?#]*(?:[/?#]|$))/i;var ge,ke,ce;_.ee=function(a){return a?new ce(_.de(a)):be||(be=new ce)};_.fe=function(a,b){return typeof b==="string"?a.getElementById(b):b};_.U=function(a,b){var c=b||document;c.getElementsByClassName?a=c.getElementsByClassName(a)[0]:(c=document,a?a=(b||c).querySelector(a?"."+a:""):(b=b||c,a=(a?b.querySelectorAll(a?"."+a:""):b.getElementsByTagName("*"))[0]||null));return a||null};
_.he=function(a,b){_.ub(b,function(c,d){d=="style"?a.style.cssText=c:d=="class"?a.className=c:d=="for"?a.htmlFor=c:ge.hasOwnProperty(d)?a.setAttribute(ge[d],c):_.Md(d,"aria-")||_.Md(d,"data-")?a.setAttribute(d,c):a[d]=c})};ge={cellpadding:"cellPadding",cellspacing:"cellSpacing",colspan:"colSpan",frameborder:"frameBorder",height:"height",maxlength:"maxLength",nonce:"nonce",role:"role",rowspan:"rowSpan",type:"type",usemap:"useMap",valign:"vAlign",width:"width"};
_.ie=function(a){return a?a.defaultView:window};_.le=function(a,b){const c=b[1],d=_.je(a,String(b[0]));c&&(typeof c==="string"?d.className=c:Array.isArray(c)?d.className=c.join(" "):_.he(d,c));b.length>2&&ke(a,d,b);return d};ke=function(a,b,c){function d(e){e&&b.appendChild(typeof e==="string"?a.createTextNode(e):e)}for(let e=2;e<c.length;e++){const f=c[e];!_.ae(f)||_.Db(f)&&f.nodeType>0?d(f):_.Wb(f&&typeof f.length=="number"&&typeof f.item=="function"?_.Bd(f):f,d)}};
_.me=function(a){return _.je(document,a)};_.je=function(a,b){b=String(b);a.contentType==="application/xhtml+xml"&&(b=b.toLowerCase());return a.createElement(b)};_.ne=function(a){let b;for(;b=a.firstChild;)a.removeChild(b)};_.oe=function(a){return a&&a.parentNode?a.parentNode.removeChild(a):null};_.pe=function(a,b){return a&&b?a==b||a.contains(b):!1};_.de=function(a){return a.nodeType==9?a:a.ownerDocument||a.document};ce=function(a){this.i=a||_.t.document||document};_.n=ce.prototype;
_.n.H=function(a){return _.fe(this.i,a)};_.n.Ua=function(a,b,c){return _.le(this.i,arguments)};_.n.appendChild=function(a,b){a.appendChild(b)};_.n.te=_.ne;_.n.Nf=_.oe;_.n.Mf=_.pe;
}catch(e){_._DumpException(e)}
try{
_.zi=function(a){const b=_.Xd("script",a.ownerDocument);b&&a.setAttribute("nonce",b)};_.Ai=function(a){if(!a)return null;a=_.I(a,4);var b;a===null||a===void 0?b=null:b=_.Sd(a);return b};_.Bi=class extends _.Q{constructor(a){super(a)}};_.Ci=function(a,b){return(b||document).getElementsByTagName(String(a))};
}catch(e){_._DumpException(e)}
try{
var Ei=function(a,b,c){a<b?Di(a+1,b):_.Nc.log(Error("fa`"+a+"`"+b),{url:c})},Di=function(a,b){if(Fi){const c=_.me("SCRIPT");c.async=!0;c.type="text/javascript";c.charset="UTF-8";c.src=_.Td(Fi);_.zi(c);c.onerror=_.Gb(Ei,a,b,c.src);_.Ci("HEAD")[0].appendChild(c)}},Gi=class extends _.Q{constructor(a){super(a)}};var Hi=_.D(_.Zc,Gi,17)||new Gi,Ii,Fi=(Ii=_.D(Hi,_.Bi,1))?_.Ai(Ii):null,Ji,Ki=(Ji=_.D(Hi,_.Bi,2))?_.Ai(Ji):null,Li=function(){Di(1,2);if(Ki){const a=_.me("LINK");a.setAttribute("type","text/css");a.href=_.Td(Ki).toString();a.rel="stylesheet";let b=_.Xd("style",document);b&&a.setAttribute("nonce",b);_.Ci("HEAD")[0].appendChild(a)}};(function(){const a=_.$c();if(_.G(a,18))Li();else{const b=_.Zd(a,19)||0;window.addEventListener("load",()=>{window.setTimeout(Li,b)})}})();
}catch(e){_._DumpException(e)}
})(this.gbar_);
// Google Inc.
</script><div style="position: absolute; width: 0px; height: 0px; overflow: hidden; padding: 0px; border: 0px; margin: 0px;"><div id="MathJax_Font_Test" style="position: absolute; visibility: hidden; top: 0px; left: 0px; width: auto; min-width: 0px; max-width: none; padding: 0px; border: 0px; margin: 0px; white-space: nowrap; text-align: left; text-indent: 0px; text-transform: none; line-height: normal; letter-spacing: normal; word-spacing: normal; font-size: 40px; font-weight: normal; font-style: normal; font-size-adjust: none; font-family: MathJax_Size1, monospace;"></div></div><div id="hl-aria-live-message-container" aria-live="polite" class="visually-hidden"></div><div id="hl-aria-live-alert-container" role="alert" aria-live="assertive" class="visually-hidden"></div><iframe id="hfcr" src="./Home_Assignment1_files/RotateCookiesPage.html" style="display: none;"></iframe><div class="notebook-vertical" style="position: relative;">
      <div class="top-floater"><div role="banner">
    <colab-header-skip-button><template shadowrootmode="open"><!----><a id="skiplink" class="skip-link" href="https://colab.research.google.com/drive/111z-p0sZpSWYLqDIykTzErW3_j18hH7Q#top-toolbar"><!--?lit$079637519$-->Skip to main content</a></template></colab-header-skip-button>
    <!--?lit$079637519$-->
    <!--?lit$079637519$-->
          <div id="private-outputs-warning" class="header-warning private-outputs-warning" hidden=""><md-icon aria-hidden="true"><template shadowrootmode="open"><!----><slot></slot></template>info</md-icon>
            <div class="message">
              <!--?lit$079637519$-->This notebook is open with private outputs. Outputs will not be saved. You can disable this in <a href="https://colab.research.google.com/drive/111z-p0sZpSWYLqDIykTzErW3_j18hH7Q#" id="private-outputs-notebook-info-link" command="notebook-settings" aria-describedby="private-outputs-notebook-info-link-tooltip">Notebook settings</a><colab-tooltip-trigger aria-hidden="true" for="private-outputs-notebook-info-link" id="private-outputs-notebook-info-link-tooltip"><template shadowrootmode="open"><!----><!--?lit$079637519$--><!----><div><!--?lit$079637519$-->Open notebook settings</div><!----><!--?--></template>
        </colab-tooltip-trigger>.
            </div>
          <div class="actions"><md-icon-button class="close" title="Close" data-aria-label="Close" value=""><template shadowrootmode="open" shadowrootdelegatesfocus><!----><button id="button" class="icon-button  standard " aria-label="Close">
        <!--?lit$079637519$--><md-focus-ring part="focus-ring" for="button" aria-hidden="true"><template shadowrootmode="open"><!----></template></md-focus-ring>
        <!--?lit$079637519$--><md-ripple aria-hidden="true"><template shadowrootmode="open"><!----><div class="surface   "></div></template></md-ripple>
        <!--?lit$079637519$--><span class="icon"><slot></slot></span>
        <!--?lit$079637519$-->
        <!--?lit$079637519$--><span class="touch"></span>
  </button></template>
          <md-icon aria-hidden="true"><template shadowrootmode="open"><!----><slot></slot></template>close</md-icon>
        </md-icon-button></div></div>
        
    <!--?lit$079637519$-->

    <div id="header" class="horizontal layout">
      <div id="header-background"><div></div></div>
      <div id="header-content">
        <!--?lit$079637519$-->
        <!--?lit$079637519$--><div id="header-logo">
              <!--?lit$079637519$--> <!--?lit$079637519$--><a href="https://drive.google.com/drive/search?q=owner%3Ame%20(type%3Aapplication%2Fvnd.google.colaboratory%20%7C%7C%20type%3Aapplication%2Fvnd.google.colab)&amp;authuser=0" aria-label="View in Google Drive">
        <!--?lit$079637519$--><md-icon class="colab-large-icon" aria-hidden="true"><template shadowrootmode="open"><!----><slot></slot></template><!--?lit$079637519$--><svg viewBox="0 0 24 24"><!--?lit$079637519$-->
      <g id="colab-logo">
        <path d="M4.54,9.46,2.19,7.1a6.93,6.93,0,0,0,0,9.79l2.36-2.36A3.59,3.59,0,0,1,4.54,9.46Z" style="fill:var(--colab-logo-dark)"></path>
        <path d="M2.19,7.1,4.54,9.46a3.59,3.59,0,0,1,5.08,0l1.71-2.93h0l-.1-.08h0A6.93,6.93,0,0,0,2.19,7.1Z" style="fill:var(--colab-logo-light)"></path>
        <path d="M11.34,17.46h0L9.62,14.54a3.59,3.59,0,0,1-5.08,0L2.19,16.9a6.93,6.93,0,0,0,9,.65l.11-.09" style="fill:var(--colab-logo-light)"></path>
        <path d="M12,7.1a6.93,6.93,0,0,0,0,9.79l2.36-2.36a3.59,3.59,0,1,1,5.08-5.08L21.81,7.1A6.93,6.93,0,0,0,12,7.1Z" style="fill:var(--colab-logo-light)"></path>
        <path d="M21.81,7.1,19.46,9.46a3.59,3.59,0,0,1-5.08,5.08L12,16.9A6.93,6.93,0,0,0,21.81,7.1Z" style="fill:var(--colab-logo-dark)"></path>
      </g></svg></md-icon>
      </a><!--?-->
            </div>
        <div id="header-doc-toolbar" class="flex">
          <div id="document-info">
            <!--?lit$079637519$--> <!--?lit$079637519$--><md-icon class="file-location-icon" id="file-type" aria-hidden="true" title="Notebook stored in Google Drive"><template shadowrootmode="open"><!----><slot></slot></template><!--?lit$079637519$-->
      <svg viewBox="0 0 192 192">
        <path d="M128.33,122l7.59,26.17l19.89,21.42c0,0,0,0,0,0v0c2.69-1.55,4.98-3.8,6.59-6.59l18.48-32 c1.61-2.78,2.41-5.89,2.41-9l-28.38-5.5L128.33,122z" fill="#EA4335"></path>
        <path d="M123.48,18.41c-2.69-1.55-5.78-2.41-9-2.41H77.53c-3.2,0-6.32,0.88-9,2.41l0,0l7.96,26.81l19.44,20.64 L96,66l0,0l19.58-20.89L123.48,18.41C123.48,18.41,123.48,18.41,123.48,18.41C123.48,18.41,123.48,18.41,123.48,18.41z" fill="#188038"></path>
        <path d="M63.67,122l-28.33-6.5L8.72,122c0,3.1,0.8,6.2,2.4,8.99L29.6,163c1.61,2.78,3.9,5.03,6.59,6.59 l19.59-20.18L63.67,122L63.67,122z" fill="#1967D2"></path>
        <path d="M155.47,69l-25.4-44c-1.61-2.79-3.9-5.04-6.59-6.59L96,66l32.33,56h54.95c0-3.11-0.8-6.21-2.41-9 L155.47,69z" fill="#FBBC04"></path><path d="M128.33,122H63.67l-27.48,47.59c2.69,1.55,5.78,2.41,9,2.41h101.61c3.22,0,6.31-0.86,9-2.41L128.33,122z" fill="#4285F4"></path>
        <path d="M96,66L68.53,18.41c-2.69,1.55-4.97,3.79-6.58,6.57l-50.83,88.05c-1.6,2.78-2.4,5.88-2.4,8.97h54.95L96,66 z" fill="#34A853"></path>
      </svg></md-icon>
    <input id="doc-name" class="doc-name" maxlength="259" autocomplete="off" aria-label="Notebook name" command="rename" style="width: 216.9px;" aria-describedby="doc-name-tooltip" fdprocessedid="g52uj"><colab-dom-lifecycle-events style="display: none;"></colab-dom-lifecycle-events></input><colab-tooltip-trigger aria-hidden="true" for="doc-name" id="doc-name-tooltip"><template shadowrootmode="open"><!----><!--?lit$079637519$--><!----><div><!--?lit$079637519$-->Rename notebook</div><!----><!--?--></template>
        </colab-tooltip-trigger><colab-input-sizer aria-hidden="true" style="left: -1000%; position: absolute; font-family: &quot;Google Sans&quot;, Roboto, Noto, sans-serif; font-size: 18px; font-weight: 400; letter-spacing: normal; padding-left: 3px; padding-right: 4px; white-space: pre;">Home-Assignment1.ipynb_</colab-input-sizer>
            <!--?lit$079637519$-->
                  <md-icon-button id="star-icon" command="toggle-star" aria-describedby="star-icon-tooltip" data-aria-label="Star" value=""><template shadowrootmode="open" shadowrootdelegatesfocus><!----><button id="button" class="icon-button  standard " aria-label="Star">
        <!--?lit$079637519$--><md-focus-ring part="focus-ring" for="button" aria-hidden="true"><template shadowrootmode="open"><!----></template></md-focus-ring>
        <!--?lit$079637519$--><md-ripple aria-hidden="true"><template shadowrootmode="open"><!----><div class="surface"></div></template></md-ripple>
        <!--?lit$079637519$--><span class="icon"><slot></slot></span>
        <!--?lit$079637519$-->
        <!--?lit$079637519$--><span class="touch"></span>
  </button></template>
                    <md-icon aria-hidden="true"><template shadowrootmode="open"><!----><slot></slot></template>star</md-icon>
                  </md-icon-button><colab-tooltip-trigger aria-hidden="true" for="star-icon" id="star-icon-tooltip"><template shadowrootmode="open"><!----><!--?lit$079637519$--><!----><div><!--?lit$079637519$-->Star notebook in Google Drive</div><!----><!--?--></template>
        </colab-tooltip-trigger>
                
            <!--?lit$079637519$--><colab-last-saved-indicator aria-live="polite" aria-atomic="true" class="lsi-refresh"><template shadowrootmode="open"><!----><md-text-button id="button" class=" save-message " value="" has-icon=""><template shadowrootmode="open" shadowrootdelegatesfocus><!---->
      <!--?lit$079637519$-->
      <div class="background"></div>
      <md-focus-ring part="focus-ring" for="button" aria-hidden="true"><template shadowrootmode="open"><!----></template></md-focus-ring>
      <md-ripple part="ripple" for="button" aria-hidden="true"><template shadowrootmode="open"><!----><div class="surface   "></div></template></md-ripple>
      <!--?lit$079637519$--><button id="button" class="button">
      <!--?lit$079637519$-->
      <span class="touch"></span>
      <!--?lit$079637519$--><slot name="icon"></slot>
      <span class="label"><slot></slot></span>
      <!--?lit$079637519$-->
    
    </button>
    </template><md-icon slot="icon" aria-hidden="true"><template shadowrootmode="open"><!----><slot></slot></template><!--?lit$079637519$-->sync</md-icon><!--?lit$079637519$-->Saving...</md-text-button><!--?lit$079637519$--><!--?--></template></colab-last-saved-indicator>
          </div>
        <div class="menubar-wrapper"><div><!----><div id="top-menubar" class="goog-menubar format-lightborder" role="menubar" tabindex="0" style="user-select: none;"><!--?lit$079637519$--><div class="goog-menu-button goog-inline-block" id="file-menu-button" role="button" aria-expanded="false" aria-haspopup="true" style="user-select: none;"><div class="goog-inline-block goog-menu-button-outer-box" style="user-select: none;"><div class="goog-inline-block goog-menu-button-inner-box" style="user-select: none;"><div class="goog-inline-block goog-menu-button-caption" style="user-select: none;"><!--?lit$079637519$-->File</div><div class="goog-inline-block goog-menu-button-dropdown" style="user-select: none;">&nbsp;</div></div></div></div><div class="goog-menu-button goog-inline-block" id="edit-menu-button" role="button" aria-expanded="false" aria-haspopup="true" style="user-select: none;"><div class="goog-inline-block goog-menu-button-outer-box" style="user-select: none;"><div class="goog-inline-block goog-menu-button-inner-box" style="user-select: none;"><div class="goog-inline-block goog-menu-button-caption" style="user-select: none;"><!--?lit$079637519$-->Edit</div><div class="goog-inline-block goog-menu-button-dropdown" style="user-select: none;">&nbsp;</div></div></div></div><div class="goog-menu-button goog-inline-block" id="view-menu-button" role="button" aria-expanded="false" aria-haspopup="true" style="user-select: none;"><div class="goog-inline-block goog-menu-button-outer-box" style="user-select: none;"><div class="goog-inline-block goog-menu-button-inner-box" style="user-select: none;"><div class="goog-inline-block goog-menu-button-caption" style="user-select: none;"><!--?lit$079637519$-->View</div><div class="goog-inline-block goog-menu-button-dropdown" style="user-select: none;">&nbsp;</div></div></div></div><div class="goog-menu-button goog-inline-block" id="insert-menu-button" role="button" aria-expanded="false" aria-haspopup="true" style="user-select: none;"><div class="goog-inline-block goog-menu-button-outer-box" style="user-select: none;"><div class="goog-inline-block goog-menu-button-inner-box" style="user-select: none;"><div class="goog-inline-block goog-menu-button-caption" style="user-select: none;"><!--?lit$079637519$-->Insert</div><div class="goog-inline-block goog-menu-button-dropdown" style="user-select: none;">&nbsp;</div></div></div></div><div class="goog-menu-button goog-inline-block" id="runtime-menu-button" role="button" aria-expanded="false" aria-haspopup="true" style="user-select: none;"><div class="goog-inline-block goog-menu-button-outer-box" style="user-select: none;"><div class="goog-inline-block goog-menu-button-inner-box" style="user-select: none;"><div class="goog-inline-block goog-menu-button-caption" style="user-select: none;"><!--?lit$079637519$-->Runtime</div><div class="goog-inline-block goog-menu-button-dropdown" style="user-select: none;">&nbsp;</div></div></div></div><div class="goog-menu-button goog-inline-block" id="tools-menu-button" role="button" aria-expanded="false" aria-haspopup="true" style="user-select: none;"><div class="goog-inline-block goog-menu-button-outer-box" style="user-select: none;"><div class="goog-inline-block goog-menu-button-inner-box" style="user-select: none;"><div class="goog-inline-block goog-menu-button-caption" style="user-select: none;"><!--?lit$079637519$-->Tools</div><div class="goog-inline-block goog-menu-button-dropdown" style="user-select: none;">&nbsp;</div></div></div></div><div class="goog-menu-button goog-inline-block" id="help-menu-button" role="button" aria-expanded="false" aria-haspopup="true" style="user-select: none;"><div class="goog-inline-block goog-menu-button-outer-box" style="user-select: none;"><div class="goog-inline-block goog-menu-button-inner-box" style="user-select: none;"><div class="goog-inline-block goog-menu-button-caption" style="user-select: none;"><!--?lit$079637519$-->Help</div><div class="goog-inline-block goog-menu-button-dropdown" style="user-select: none;">&nbsp;</div></div></div></div></div></div></div></div>
        <div id="header-right">
          <!--?lit$079637519$-->
    <colab-collaborator-bar id="collaborator-bar"><template shadowrootmode="open"><!----> <div class="collaborator-bar">
      <!--?lit$079637519$-->
      <!--?lit$079637519$-->
    </div></template></colab-collaborator-bar>
  
          <!--?lit$079637519$--> <md-icon-button id="comments" command="open-comments-thread" data-aria-label="Open comments pane" aria-describedby="comments-tooltip" value=""><template shadowrootmode="open" shadowrootdelegatesfocus><!----><button id="button" class="icon-button  standard " aria-label="Open comments pane">
        <!--?lit$079637519$--><md-focus-ring part="focus-ring" for="button" aria-hidden="true"><template shadowrootmode="open"><!----></template></md-focus-ring>
        <!--?lit$079637519$--><md-ripple aria-hidden="true"><template shadowrootmode="open"><!----><div class="surface   "></div></template></md-ripple>
        <!--?lit$079637519$--><span class="icon"><slot></slot></span>
        <!--?lit$079637519$-->
        <!--?lit$079637519$--><span class="touch"></span>
  </button></template>
                <md-icon aria-hidden="true"><template shadowrootmode="open"><!----><slot></slot></template>comment</md-icon>
              </md-icon-button><colab-tooltip-trigger aria-hidden="true" for="comments" id="comments-tooltip"><template shadowrootmode="open"><!----><!--?lit$079637519$--><!----><div><!--?lit$079637519$-->Open comments pane</div><!----><!--?--></template>
        </colab-tooltip-trigger>
          <!--?lit$079637519$--> <md-icon-button id="settings-cog" command="preferences" data-aria-label="Open settings" aria-describedby="settings-cog-tooltip" value=""><template shadowrootmode="open" shadowrootdelegatesfocus><!----><button id="button" class="icon-button  standard " aria-label="Open settings">
        <!--?lit$079637519$--><md-focus-ring part="focus-ring" for="button" aria-hidden="true"><template shadowrootmode="open"><!----></template></md-focus-ring>
        <!--?lit$079637519$--><md-ripple aria-hidden="true"><template shadowrootmode="open"><!----><div class="surface   "></div></template></md-ripple>
        <!--?lit$079637519$--><span class="icon"><slot></slot></span>
        <!--?lit$079637519$-->
        <!--?lit$079637519$--><span class="touch"></span>
  </button></template>
                <md-icon aria-hidden="true"><template shadowrootmode="open"><!----><slot></slot></template>settings</md-icon>
              </md-icon-button><colab-tooltip-trigger aria-hidden="true" for="settings-cog" id="settings-cog-tooltip"><template shadowrootmode="open"><!----><!--?lit$079637519$--><!----><div><!--?lit$079637519$-->Open settings</div><!----><!--?--></template>
        </colab-tooltip-trigger>
          <!--?lit$079637519$--> <md-filled-tonal-button id="share-toolbar-button" command="share" aria-describedby="share-toolbar-button-tooltip" value="" has-icon=""><template shadowrootmode="open" shadowrootdelegatesfocus><!---->
      <!--?lit$079637519$--><md-elevation part="elevation" aria-hidden="true"><template shadowrootmode="open"><!----><span class="shadow"></span></template></md-elevation>
      <div class="background"></div>
      <md-focus-ring part="focus-ring" for="button" aria-hidden="true"><template shadowrootmode="open"><!----></template></md-focus-ring>
      <md-ripple part="ripple" for="button" aria-hidden="true"><template shadowrootmode="open"><!----><div class="surface   "></div></template></md-ripple>
      <!--?lit$079637519$--><button id="button" class="button">
      <!--?lit$079637519$-->
      <span class="touch"></span>
      <!--?lit$079637519$--><slot name="icon"></slot>
      <span class="label"><slot></slot></span>
      <!--?lit$079637519$-->
    
    </button>
    </template>
                <md-icon slot="icon" aria-hidden="true"><template shadowrootmode="open"><!----><slot></slot></template><!--?lit$079637519$-->people</md-icon>
                <!--?lit$079637519$-->Share
              </md-filled-tonal-button><colab-tooltip-trigger aria-hidden="true" for="share-toolbar-button" id="share-toolbar-button-tooltip"><template shadowrootmode="open"><!----><!--?lit$079637519$--><!----><div><!--?lit$079637519$-->Share notebook</div><!----><!--?--></template>
        </colab-tooltip-trigger>
          <div class="header-onegoogle-container"><div class="onegoogle"><div class="gb_Fa gb_Jd gb_2d gb_Wc" id="gb"><div class="gb_Cd gb_Zd gb_xd" ng-non-bindable="" data-ogsr-up="" style="padding:0;height:auto;display:block"><div class="gb_Qe" style="display:block"><div class="gb_3c"></div><div class="gb_z gb_cd gb_Mf gb_0"><div class="gb_D gb_jb gb_Mf gb_0"><a class="gb_B gb_Za gb_0" aria-expanded="false" aria-label="Google Account: CHARITH REDDY PUTTA  
(charithreddyputta@gmail.com)" href="https://accounts.google.com/SignOutOptions?hl=en&amp;continue=https://colab.research.google.com/&amp;ec=GBRAqQM" tabindex="0" role="button"><img class="gb_P gbii" src="./Home_Assignment1_files/unnamed.png" srcset="https://lh3.googleusercontent.com/ogw/AF2bZygltkODUUvRreuWVh1oaBzI1eX-xO0l_tLpQ3n0uLxx3hI=s32-c-mo 1x, https://lh3.googleusercontent.com/ogw/AF2bZygltkODUUvRreuWVh1oaBzI1eX-xO0l_tLpQ3n0uLxx3hI=s64-c-mo 2x " alt="" aria-hidden="true" data-noaft=""><div class="gb_Q gb_R" aria-hidden="true"><svg class="gb_Ka" height="14" viewBox="0 0 14 14" width="14" xmlns="http://www.w3.org/2000/svg"><circle class="gb_La" cx="7" cy="7" r="7"></circle><path class="gb_Na" d="M6 10H8V12H6V10ZM6 2H8V8H6V2Z"></path></svg></div></a></div></div></div><div style="overflow: hidden; position: absolute; top: 0px; visibility: hidden; width: 436px; z-index: 991; height: 0px; margin-top: 57px; right: 0px; margin-right: 4px;"></div><div style="overflow: hidden; position: absolute; top: 0px; visibility: hidden; width: 420px; z-index: 991; height: 280px; margin-top: 70px; right: 0px; margin-right: 25px;"></div></div></div><script nonce="">this.gbar_=this.gbar_||{};(function(_){var window=this;
try{
_.ud=function(a,b,c){if(!a.j)if(c instanceof Array)for(var d of c)_.ud(a,b,d);else{d=(0,_.z)(a.C,a,b);const e=a.v+c;a.v++;b.dataset.eqid=e;a.B[e]=d;b&&b.addEventListener?b.addEventListener(c,d,!1):b&&b.attachEvent?b.attachEvent("on"+c,d):a.o.log(Error("D`"+b))}};
}catch(e){_._DumpException(e)}
try{
var vd=document.querySelector(".gb_J .gb_B"),wd=document.querySelector("#gb.gb_Sc");vd&&!wd&&_.ud(_.dd,vd,"click");
}catch(e){_._DumpException(e)}
try{
_.ah=function(a){if(a.v)return a.v;for(const b in a.i)if(a.i[b].fa()&&a.i[b].B())return a.i[b];return null};_.bh=function(a,b){a.i[b.J()]=b};var ch=new class extends _.R{constructor(){var a=_.Nc;super();this.B=a;this.v=null;this.o={};this.C={};this.i={};this.j=null}A(a){this.i[a]&&(_.ah(this)&&_.ah(this).J()==a||this.i[a].R(!0))}Pa(a){this.j=a;for(const b in this.i)this.i[b].fa()&&this.i[b].Pa(a)}ec(a){return a in this.i?this.i[a]:null}};_.gd("dd",ch);
}catch(e){_._DumpException(e)}
try{
_.ti=function(a,b){return _.M(a,36,b)};
}catch(e){_._DumpException(e)}
try{
var ui=document.querySelector(".gb_z .gb_B"),vi=document.querySelector("#gb.gb_Sc");ui&&!vi&&_.ud(_.dd,ui,"click");
}catch(e){_._DumpException(e)}
})(this.gbar_);
// Google Inc.
</script></div></div>
        </div>
      </div>
    </div>
  </div></div><div class="notebook-horizontal">
        <!--?lit$079637519$--><colab-left-pane role="complementary" aria-label="left pane"><!----><div class="colab-left-pane-nib layout vertical" role="toolbar" aria-orientation="vertical">
        <div class="left-pane-top"><!----><div class="left-pane-button">
        <!--?lit$079637519$--><md-icon-button toggle="" command="show-toc-pane" data-aria-label="Table of contents" title="Table of contents" value=""><template shadowrootmode="open" shadowrootdelegatesfocus><!----><button id="button" class="icon-button  standard " aria-label="Table of contents" aria-pressed="false">
        <!--?lit$079637519$--><md-focus-ring part="focus-ring" for="button" aria-hidden="true"><template shadowrootmode="open"><!----></template></md-focus-ring>
        <!--?lit$079637519$--><md-ripple aria-hidden="true"><template shadowrootmode="open"><!----><div class="surface"></div></template></md-ripple>
        <!--?lit$079637519$--><span class="icon"><slot></slot></span>
        <!--?lit$079637519$-->
        <!--?lit$079637519$--><span class="touch"></span>
  </button></template>
      <md-icon aria-hidden="true"><template shadowrootmode="open"><!----><slot></slot></template><!--?lit$079637519$-->format_list_bulleted</md-icon>
    </md-icon-button> <!--?lit$079637519$-->
      </div><!----><div class="left-pane-button">
        <!--?lit$079637519$--><md-icon-button toggle="" command="find" data-aria-label="Find and replace" title="Find and replace" tabindex="-1" value=""><template shadowrootmode="open" shadowrootdelegatesfocus><!----><button id="button" class="icon-button  standard " aria-label="Find and replace" aria-pressed="false">
        <!--?lit$079637519$--><md-focus-ring part="focus-ring" for="button" aria-hidden="true"><template shadowrootmode="open"><!----></template></md-focus-ring>
        <!--?lit$079637519$--><md-ripple aria-hidden="true"><template shadowrootmode="open"><!----><div class="surface"></div></template></md-ripple>
        <!--?lit$079637519$--><span class="icon"><slot></slot></span>
        <!--?lit$079637519$-->
        <!--?lit$079637519$--><span class="touch"></span>
  </button></template>
      <md-icon aria-hidden="true"><template shadowrootmode="open"><!----><slot></slot></template><!--?lit$079637519$-->search</md-icon>
    </md-icon-button> <!--?lit$079637519$-->
      </div><!----><div class="left-pane-button">
        <!--?lit$079637519$--><md-icon-button toggle="" command="show-variables" data-aria-label="Variables" title="Variables" tabindex="-1" value=""><template shadowrootmode="open" shadowrootdelegatesfocus><!----><button id="button" class="icon-button  standard " aria-label="Variables" aria-pressed="false">
        <!--?lit$079637519$--><md-focus-ring part="focus-ring" for="button" aria-hidden="true"><template shadowrootmode="open"><!----></template></md-focus-ring>
        <!--?lit$079637519$--><md-ripple aria-hidden="true"><template shadowrootmode="open"><!----><div class="surface"></div></template></md-ripple>
        <!--?lit$079637519$--><span class="icon"><slot></slot></span>
        <!--?lit$079637519$-->
        <!--?lit$079637519$--><span class="touch"></span>
  </button></template>
      <md-icon aria-hidden="true"><template shadowrootmode="open"><!----><slot></slot></template><!--?lit$079637519$--><svg viewBox="0 0 24 24"><!--?lit$079637519$-->
      <path d="M4.51,9.44V6.08c0-1.34.37-1.85,1.6-2.17l.22-.06V3.13l-.27,0-.44,0a4.46,4.46,0,0,0-2.2.59,2.78,2.78,0,0,0-1,2.51V9.74c0,1.26-.26,1.61-1.49,2L0,12l.94.29c1.21.38,1.49.75,1.49,2v3.5a2.94,2.94,0,0,0,1,2.6,4.39,4.39,0,0,0,2.14.56l.46,0,.27,0v-.72l-.22-.06c-1.24-.32-1.6-.81-1.6-2.17V14.58c0-1.43-.3-2.13-1.25-2.57C4.2,11.57,4.51,10.87,4.51,9.44Z"></path>
      <path d="M23.06,11.71c-1.22-.36-1.49-.71-1.49-2l0-3.5a3,3,0,0,0-1-2.6,4.38,4.38,0,0,0-2.14-.56l-.46,0-.27,0v.72l.22.06c1.24.32,1.6.81,1.6,2.17V9.44c0,1.44.3,2.13,1.25,2.57-1,.44-1.25,1.14-1.25,2.57v3.36c0,1.34-.37,1.85-1.6,2.17l-.22.06v.72l.27,0,.44,0a4.47,4.47,0,0,0,2.2-.59,2.82,2.82,0,0,0,1-2.51V14.28c0-1.26.26-1.61,1.49-2L24,12Z"></path>
      <path d="M15.16,8.22a.88.88,0,0,1,.46.16,1.25,1.25,0,0,0,.69.2h0A1,1,0,0,0,17,8.23a1.06,1.06,0,0,0,.24-.8,1.1,1.1,0,0,0-1.15-1h0c-1,0-1.73.64-3,2.57l-.12-.51c-.28-1.36-.56-2-1.39-2h0A8,8,0,0,0,9,7.08l-.47.16.16.91L9.41,8a3.22,3.22,0,0,1,.73-.14c.34,0,.43,0,.71,1.2l.56,2.47L9.76,13.82a3.6,3.6,0,0,1-.8.88.9.9,0,0,1-.38-.13,1.83,1.83,0,0,0-.88-.28,1,1,0,0,0-1,1.06A1.15,1.15,0,0,0,8,16.53c.85,0,1.35-.35,2.24-1.55l1.49-2,.46,1.88c.23,1,.46,1.66,1.53,1.66s1.66-.75,2.81-2.53l.17-.26-.81-.48-.16.2-.25.34-.19.25c-.45.57-.62.73-.76.73s-.28-.4-.34-.63l-.67-2.83a4.2,4.2,0,0,1-.15-.79C13.84,9.78,14.74,8.22,15.16,8.22Z"></path></svg></md-icon>
    </md-icon-button> <!--?lit$079637519$-->
      </div><!----><div class="left-pane-button">
        <!--?lit$079637519$--><md-icon-button toggle="" command="open-user-secrets" data-aria-label="Secrets" title="Secrets" tabindex="-1" value=""><template shadowrootmode="open" shadowrootdelegatesfocus><!----><button id="button" class="icon-button  standard " aria-label="Secrets" aria-pressed="false">
        <!--?lit$079637519$--><md-focus-ring part="focus-ring" for="button" aria-hidden="true"><template shadowrootmode="open"><!----></template></md-focus-ring>
        <!--?lit$079637519$--><md-ripple aria-hidden="true"><template shadowrootmode="open"><!----><div class="surface"></div></template></md-ripple>
        <!--?lit$079637519$--><span class="icon"><slot></slot></span>
        <!--?lit$079637519$-->
        <!--?lit$079637519$--><span class="touch"></span>
  </button></template>
      <md-icon aria-hidden="true"><template shadowrootmode="open"><!----><slot></slot></template><!--?lit$079637519$-->vpn_key</md-icon>
    </md-icon-button> <!--?lit$079637519$-->
      </div><!----><div class="left-pane-button">
        <!--?lit$079637519$--><md-icon-button toggle="" command="show-files" data-aria-label="Files" title="Files" tabindex="-1" value=""><template shadowrootmode="open" shadowrootdelegatesfocus><!----><button id="button" class="icon-button  standard " aria-label="Files" aria-pressed="false">
        <!--?lit$079637519$--><md-focus-ring part="focus-ring" for="button" aria-hidden="true"><template shadowrootmode="open"><!----></template></md-focus-ring>
        <!--?lit$079637519$--><md-ripple aria-hidden="true"><template shadowrootmode="open"><!----><div class="surface"></div></template></md-ripple>
        <!--?lit$079637519$--><span class="icon"><slot></slot></span>
        <!--?lit$079637519$-->
        <!--?lit$079637519$--><span class="touch"></span>
  </button></template>
      <md-icon aria-hidden="true"><template shadowrootmode="open"><!----><slot></slot></template><!--?lit$079637519$-->folder</md-icon>
    </md-icon-button> <!--?lit$079637519$-->
      </div></div>
        <div class="left-pane-bottom"><!----><div class="left-pane-button">
        <!--?lit$079637519$--><md-icon-button command="snippets" data-aria-label="Code snippets" title="Code snippets" tabindex="-1" value=""><template shadowrootmode="open" shadowrootdelegatesfocus><!----><button id="button" class="icon-button  standard " aria-label="Code snippets">
        <!--?lit$079637519$--><md-focus-ring part="focus-ring" for="button" aria-hidden="true"><template shadowrootmode="open"><!----></template></md-focus-ring>
        <!--?lit$079637519$--><md-ripple aria-hidden="true"><template shadowrootmode="open"><!----><div class="surface"></div></template></md-ripple>
        <!--?lit$079637519$--><span class="icon"><slot></slot></span>
        <!--?lit$079637519$-->
        <!--?lit$079637519$--><span class="touch"></span>
  </button></template>
      <md-icon aria-hidden="true"><template shadowrootmode="open"><!----><slot></slot></template><!--?lit$079637519$-->code</md-icon>
    </md-icon-button> <!--?lit$079637519$-->
      </div><!----><div class="left-pane-button">
        <!--?lit$079637519$--><md-icon-button command="show-command-palette" data-aria-label="Command palette" title="Command palette" tabindex="-1" value=""><template shadowrootmode="open" shadowrootdelegatesfocus><!----><button id="button" class="icon-button  standard " aria-label="Command palette">
        <!--?lit$079637519$--><md-focus-ring part="focus-ring" for="button" aria-hidden="true"><template shadowrootmode="open"><!----></template></md-focus-ring>
        <!--?lit$079637519$--><md-ripple aria-hidden="true"><template shadowrootmode="open"><!----><div class="surface"></div></template></md-ripple>
        <!--?lit$079637519$--><span class="icon"><slot></slot></span>
        <!--?lit$079637519$-->
        <!--?lit$079637519$--><span class="touch"></span>
  </button></template>
      <md-icon aria-hidden="true"><template shadowrootmode="open"><!----><slot></slot></template><!--?lit$079637519$--><svg viewBox="0 0 24 24"><!--?lit$079637519$-->
      <path d="M21,3H3A2,2,0,0,0,1,5V17a2,2,0,0,0,2,2H21a2,2,0,0,0,2-2V5A2,2,0,0,0,21,3Zm0,2V17H3V5"></path>
      <rect x="5" y="12" width="11" height="2"></rect>
      <rect x="5" y="8" width="11" height="2"></rect>
      <rect x="17" y="8" width="2" height="2"></rect>
      <rect x="17" y="12" width="2" height="2"></rect></svg></md-icon>
    </md-icon-button> <!--?lit$079637519$-->
      </div><!----><div class="left-pane-button">
        <!--?lit$079637519$--><md-icon-button command="show-terminal" data-aria-label="Terminal" title="Terminal" tabindex="-1" value=""><template shadowrootmode="open" shadowrootdelegatesfocus><!----><button id="button" class="icon-button  standard " aria-label="Terminal">
        <!--?lit$079637519$--><md-focus-ring part="focus-ring" for="button" aria-hidden="true"><template shadowrootmode="open"><!----></template></md-focus-ring>
        <!--?lit$079637519$--><md-ripple aria-hidden="true"><template shadowrootmode="open"><!----><div class="surface   "></div></template></md-ripple>
        <!--?lit$079637519$--><span class="icon"><slot></slot></span>
        <!--?lit$079637519$-->
        <!--?lit$079637519$--><span class="touch"></span>
  </button></template>
      <md-icon aria-hidden="true"><template shadowrootmode="open"><!----><slot></slot></template><!--?lit$079637519$-->terminal</md-icon>
    </md-icon-button> <!--?lit$079637519$-->
      </div></div>
      </div></colab-left-pane>
        <div class="layout vertical grow">
          <colab-notebook-toolbar id="top-toolbar" class="horizontal layout center noshrink"><!----> <!--?lit$079637519$-->
          <colab-toolbar-button command="insert-cell-below" icon="add" id="toolbar-add-code"><template shadowrootmode="open"><!----><md-text-button id="button" data-aria-disabled="false" value="" has-icon=""><template shadowrootmode="open" shadowrootdelegatesfocus><!---->
      <!--?lit$079637519$-->
      <div class="background"></div>
      <md-focus-ring part="focus-ring" for="button" aria-hidden="true"><template shadowrootmode="open"><!----></template></md-focus-ring>
      <md-ripple part="ripple" for="button" aria-hidden="true"><template shadowrootmode="open"><!----><div class="surface"></div></template></md-ripple>
      <!--?lit$079637519$--><button id="button" class="button">
      <!--?lit$079637519$-->
      <span class="touch"></span>
      <!--?lit$079637519$--><slot name="icon"></slot>
      <span class="label"><slot></slot></span>
      <!--?lit$079637519$-->
    
    </button>
    </template>
        <!--?lit$079637519$--><md-icon slot="icon" aria-hidden="true"><template shadowrootmode="open"><!----><slot></slot></template><!--?lit$079637519$-->add</md-icon>
        <span class="button-content"><slot></slot></span>
        <!--?lit$079637519$--><span class="screenreader-only"><!--?lit$079637519$-->Insert code cell below <!--?lit$079637519$-->Ctrl+M B</span>
      </md-text-button>
      <!--?lit$079637519$--> <colab-tooltip-trigger for="button" aria-hidden="true" id="tooltip" message="Insert code cell below" shortcut="Ctrl+M B"><template shadowrootmode="open"><!----><!--?lit$079637519$--><!----><div><!--?lit$079637519$-->Insert code cell below (Ctrl+M B)</div><!----><!--?--></template>
          </colab-tooltip-trigger><!--?--></template>
            <!--?lit$079637519$-->Code
          </colab-toolbar-button>
          <!--?lit$079637519$-->
          <colab-toolbar-button command="add-text" icon="add" id="toolbar-add-text"><template shadowrootmode="open"><!----><md-text-button id="button" data-aria-disabled="false" value="" has-icon=""><template shadowrootmode="open" shadowrootdelegatesfocus><!---->
      <!--?lit$079637519$-->
      <div class="background"></div>
      <md-focus-ring part="focus-ring" for="button" aria-hidden="true"><template shadowrootmode="open"><!----></template></md-focus-ring>
      <md-ripple part="ripple" for="button" aria-hidden="true"><template shadowrootmode="open"><!----><div class="surface"></div></template></md-ripple>
      <!--?lit$079637519$--><button id="button" class="button">
      <!--?lit$079637519$-->
      <span class="touch"></span>
      <!--?lit$079637519$--><slot name="icon"></slot>
      <span class="label"><slot></slot></span>
      <!--?lit$079637519$-->
    
    </button>
    </template>
        <!--?lit$079637519$--><md-icon slot="icon" aria-hidden="true"><template shadowrootmode="open"><!----><slot></slot></template><!--?lit$079637519$-->add</md-icon>
        <span class="button-content"><slot></slot></span>
        <!--?lit$079637519$--><span class="screenreader-only"><!--?lit$079637519$-->Add text cell <!--?lit$079637519$--></span>
      </md-text-button>
      <!--?lit$079637519$--> <colab-tooltip-trigger for="button" aria-hidden="true" id="tooltip" message="Add text cell" shortcut=""><template shadowrootmode="open"><!----><!--?lit$079637519$--><!----><div><!--?lit$079637519$-->Add text cell</div><!----><!--?--></template>
          </colab-tooltip-trigger><!--?--></template>
            <!--?lit$079637519$-->Text
          </colab-toolbar-button>
        
    <!--?lit$079637519$-->
    <!--?lit$079637519$-->
    <!--?lit$079637519$-->
    <!--?lit$079637519$-->
    <!--?lit$079637519$--> <span class="collapsed-options">
          <colab-last-saved-indicator aria-live="polite" aria-atomic="true" class="lsi-refresh"><template shadowrootmode="open"><!----><md-text-button id="button" class=" save-message " value="" has-icon=""><template shadowrootmode="open" shadowrootdelegatesfocus><!---->
      <!--?lit$079637519$-->
      <div class="background"></div>
      <md-focus-ring part="focus-ring" for="button" aria-hidden="true"><template shadowrootmode="open"><!----></template></md-focus-ring>
      <md-ripple part="ripple" for="button" aria-hidden="true"><template shadowrootmode="open"><!----><div class="surface   "></div></template></md-ripple>
      <!--?lit$079637519$--><button id="button" class="button">
      <!--?lit$079637519$-->
      <span class="touch"></span>
      <!--?lit$079637519$--><slot name="icon"></slot>
      <span class="label"><slot></slot></span>
      <!--?lit$079637519$-->
    
    </button>
    </template><md-icon slot="icon" aria-hidden="true"><template shadowrootmode="open"><!----><slot></slot></template><!--?lit$079637519$-->sync</md-icon><!--?lit$079637519$-->Saving...</md-text-button><!--?lit$079637519$--><!--?--></template></colab-last-saved-indicator>
        </span>

    <span class="flex"></span>
    <!--?lit$079637519$--><colab-connect-warning-button><template shadowrootmode="open"><!----><!--?lit$079637519$--><!--?--><!--?--></template></colab-connect-warning-button>
    <!--?lit$079637519$--><!--?lit$079637519$--><colab-connect-button><template shadowrootmode="open"><!----> <!--?lit$079637519$--><md-icon-button id="connect-icon" class="icon-okay" data-aria-label="Focus the last run cell" value=""><template shadowrootmode="open" shadowrootdelegatesfocus><!----><button id="button" class="icon-button  standard " aria-label="Focus the last run cell">
        <!--?lit$079637519$--><md-focus-ring part="focus-ring" for="button" aria-hidden="true"><template shadowrootmode="open"><!----></template></md-focus-ring>
        <!--?lit$079637519$--><md-ripple aria-hidden="true"><template shadowrootmode="open"><!----><div class="surface   "></div></template></md-ripple>
        <!--?lit$079637519$--><span class="icon"><slot></slot></span>
        <!--?lit$079637519$-->
        <!--?lit$079637519$--><span class="touch"></span>
  </button></template>
            <md-icon aria-hidden="true"><template shadowrootmode="open"><!----><slot></slot></template><!--?lit$079637519$-->done</md-icon>
          </md-icon-button>
          <colab-tooltip-trigger for="connect-icon" id="connect-icon-tooltip" aria-hidden="true" message="Focus the last run cell"><template shadowrootmode="open"><!----><!--?lit$079637519$--><!----><div><!--?lit$079637519$-->Focus the last run cell</div><!----><!--?--></template>
          </colab-tooltip-trigger>
      <colab-toolbar-button id="connect" tooltipid="colab-connect-tooltip" tooltiptext="Connected to
Python 3 Google Compute Engine backend
RAM: 1.58 GB/12.67 GB
Disk: 29.02 GB/107.72 GB"><template shadowrootmode="open"><!----><md-text-button id="button" value="" data-aria-disabled="false"><template shadowrootmode="open" shadowrootdelegatesfocus><!---->
      <!--?lit$079637519$-->
      <div class="background"></div>
      <md-focus-ring part="focus-ring" for="button" aria-hidden="true"><template shadowrootmode="open"><!----></template></md-focus-ring>
      <md-ripple part="ripple" for="button" aria-hidden="true"><template shadowrootmode="open"><!----><div class="surface   "></div></template></md-ripple>
      <!--?lit$079637519$--><button id="button" class="button">
      <!--?lit$079637519$-->
      <span class="touch"></span>
      <!--?lit$079637519$--><slot name="icon"></slot>
      <span class="label"><slot></slot></span>
      <!--?lit$079637519$-->
    
    </button>
    </template>
        <!--?lit$079637519$-->
        <span class="button-content"><slot></slot></span>
        <!--?lit$079637519$--><span class="screenreader-only"><!--?lit$079637519$-->Connected to
Python 3 Google Compute Engine backend
RAM: 1.58 GB/12.67 GB
Disk: 29.02 GB/107.72 GB <!--?lit$079637519$--></span>
      </md-text-button>
      <!--?lit$079637519$--> <colab-tooltip-trigger for="button" aria-hidden="true" id="colab-connect-tooltip" message="Connected to
Python 3 Google Compute Engine backend
RAM: 1.58 GB/12.67 GB
Disk: 29.02 GB/107.72 GB" shortcut=""><template shadowrootmode="open"><!----><!--?lit$079637519$--><!----><div><!--?lit$079637519$-->Connected to</div><!----><!----><div><!--?lit$079637519$-->Python 3 Google Compute Engine backend</div><!----><!----><div><!--?lit$079637519$-->RAM: 1.58 GB/12.67 GB</div><!----><!----><div><!--?lit$079637519$-->Disk: 29.02 GB/107.72 GB</div><!----><!--?--></template>
          </colab-tooltip-trigger><!--?--></template>
        <!--?lit$079637519$--> <div id="connect-button-resource-display">
        <!--?lit$079637519$--><colab-usage-sparkline class="ram" label="RAM"><template shadowrootmode="open"><!---->
      <div class="label"><!--?lit$079637519$-->RAM</div>
      <!--?lit$079637519$-->
      <canvas height="14" width="20"></canvas>
    </template></colab-usage-sparkline>
        <!--?lit$079637519$--><colab-usage-sparkline class="disks" label="Disk"><template shadowrootmode="open"><!---->
      <div class="label"><!--?lit$079637519$-->Disk</div>
      <!--?lit$079637519$-->
      <canvas height="14" width="20"></canvas>
    </template></colab-usage-sparkline>
      </div>
      </colab-toolbar-button>
      <!--?lit$079637519$--> <md-icon-button id="connect-dropdown" data-aria-expanded="false" data-aria-haspopup="menu" data-aria-label="Additional connection options" value=""><template shadowrootmode="open" shadowrootdelegatesfocus><!----><button id="button" class="icon-button  standard " aria-label="Additional connection options" aria-haspopup="menu" aria-expanded="false">
        <!--?lit$079637519$--><md-focus-ring part="focus-ring" for="button" aria-hidden="true"><template shadowrootmode="open"><!----></template></md-focus-ring>
        <!--?lit$079637519$--><md-ripple aria-hidden="true"><template shadowrootmode="open"><!----><div class="surface   "></div></template></md-ripple>
        <!--?lit$079637519$--><span class="icon"><slot></slot></span>
        <!--?lit$079637519$-->
        <!--?lit$079637519$--><span class="touch"></span>
  </button></template>
        <md-icon aria-hidden="true"><template shadowrootmode="open"><!----><slot></slot></template>arrow_drop_down</md-icon>
      </md-icon-button>
      <colab-tooltip-trigger for="connect-dropdown" id="connect-dropdown-tooltip" aria-hidden="true" message="Additional connection options"><template shadowrootmode="open"><!----><!--?lit$079637519$--><!----><div><!--?lit$079637519$-->Additional connection options</div><!----><!--?--></template>
      </colab-tooltip-trigger>
      <!--?lit$079637519$--><!--?--></template></colab-connect-button><!--?-->
    <!--?lit$079637519$--> <span class="colab-separator"></span>
          <colab-toolbar-button icon="spark" command="show-chat"><template shadowrootmode="open"><!----><md-text-button id="button" data-aria-disabled="false" value="" has-icon=""><template shadowrootmode="open" shadowrootdelegatesfocus><!---->
      <!--?lit$079637519$-->
      <div class="background"></div>
      <md-focus-ring part="focus-ring" for="button" aria-hidden="true"><template shadowrootmode="open"><!----></template></md-focus-ring>
      <md-ripple part="ripple" for="button" aria-hidden="true"><template shadowrootmode="open"><!----><div class="surface   "></div></template></md-ripple>
      <!--?lit$079637519$--><button id="button" class="button">
      <!--?lit$079637519$-->
      <span class="touch"></span>
      <!--?lit$079637519$--><slot name="icon"></slot>
      <span class="label"><slot></slot></span>
      <!--?lit$079637519$-->
    
    </button>
    </template>
        <!--?lit$079637519$-->
    <svg slot="icon" viewBox="0 -960 960 960" width="24" height="24">
      <defs>
        <lineargradient id="sparkGradient" x1="0" y1="1" x2="1" y2="0">
          <stop offset="33.06%" stop-color="#217BFE"></stop>
          <stop offset="44.4%" stop-color="#078EFB"></stop>
          <stop offset="65.69%" stop-color="#A190FF"></stop>
          <stop offset="75.05%" stop-color="#BD99FE"></stop>
        </lineargradient>
      </defs>
      <path fill="url(#sparkGradient)" d="M480-80q2 0 2-2 0-82 31-154t85-126q54-54 126-85t154-31q2 0 2-2t-2-2q-82 0-154-31t-126-85q-54-54-85-126t-31-154q0-2-2-2t-2 2q0 82-31 154t-85 126q-54 54-126 85T82-482q-2 0-2 2t2 2q82 0 154 31t126 85q54 54 85 126t31 154q0 2 2 2Z"></path>
    </svg>
        <span class="button-content"><slot></slot></span>
        <!--?lit$079637519$--><span class="screenreader-only"><!--?lit$079637519$--> <!--?lit$079637519$--></span>
      </md-text-button>
      <!--?lit$079637519$--><!--?--></template>
            <!--?lit$079637519$-->Gemini
          </colab-toolbar-button>
    <!--?lit$079637519$-->
    <span class="collapsed-options">
      <!--?lit$079637519$--><span class="colab-separator"></span>
      <!--?lit$079637519$--> <md-icon-button command="share" title="Share notebook" data-aria-label="Share notebook" value=""><template shadowrootmode="open" shadowrootdelegatesfocus><!----><button id="button" class="icon-button  standard " aria-label="Share notebook">
        <!--?lit$079637519$--><md-focus-ring part="focus-ring" for="button" aria-hidden="true"><template shadowrootmode="open"><!----></template></md-focus-ring>
        <!--?lit$079637519$--><md-ripple aria-hidden="true"><template shadowrootmode="open"><!----><div class="surface   "></div></template></md-ripple>
        <!--?lit$079637519$--><span class="icon"><slot></slot></span>
        <!--?lit$079637519$-->
        <!--?lit$079637519$--><span class="touch"></span>
  </button></template>
            <md-icon filled="" aria-hidden="true"><template shadowrootmode="open"><!----><slot></slot></template><!--?lit$079637519$-->people</md-icon>
          </md-icon-button><md-icon-button command="preferences" data-aria-label="Open settings" title="Open settings" value=""><template shadowrootmode="open" shadowrootdelegatesfocus><!----><button id="button" class="icon-button  standard " aria-label="Open settings">
        <!--?lit$079637519$--><md-focus-ring part="focus-ring" for="button" aria-hidden="true"><template shadowrootmode="open"><!----></template></md-focus-ring>
        <!--?lit$079637519$--><md-ripple aria-hidden="true"><template shadowrootmode="open"><!----><div class="surface   "></div></template></md-ripple>
        <!--?lit$079637519$--><span class="icon"><slot></slot></span>
        <!--?lit$079637519$-->
        <!--?lit$079637519$--><span class="touch"></span>
  </button></template>
        <md-icon filled="" aria-hidden="true"><template shadowrootmode="open"><!----><slot></slot></template>settings</md-icon>
      </md-icon-button>
    </span>
    <span class="colab-separator"></span>
    <!--?lit$079637519$--><md-icon-button toggle="" command="toggle-header" id="toggle-header-button" data-aria-label="Toggle header visibility" aria-describedby="toggle-header-button-tooltip" value=""><template shadowrootmode="open" shadowrootdelegatesfocus><!----><button id="button" class="icon-button  standard " aria-label="Toggle header visibility" aria-pressed="false">
        <!--?lit$079637519$--><md-focus-ring part="focus-ring" for="button" aria-hidden="true"><template shadowrootmode="open"><!----></template></md-focus-ring>
        <!--?lit$079637519$--><md-ripple aria-hidden="true"><template shadowrootmode="open"><!----><div class="surface   "></div></template></md-ripple>
        <!--?lit$079637519$--><span class="icon"><slot></slot></span>
        <!--?lit$079637519$-->
        <!--?lit$079637519$--><span class="touch"></span>
  </button></template>
    <md-icon aria-hidden="true"><template shadowrootmode="open"><!----><slot></slot></template>expand_less</md-icon>
    <md-icon slot="selected" aria-hidden="true"><template shadowrootmode="open"><!----><slot></slot></template>expand_more</md-icon>
  </md-icon-button><colab-tooltip-trigger aria-hidden="true" for="toggle-header-button" id="toggle-header-button-tooltip"><template shadowrootmode="open"><!----><!--?lit$079637519$--><!----><div><!--?lit$079637519$-->Toggle header visibility</div><!----><!--?--></template>
        </colab-tooltip-trigger><!--?--></colab-notebook-toolbar><colab-tab-layout-container class="layout horizontal grow flexible-tabs"><!----> <div class="layout horizontal tab-pane-parent">
      <!--?lit$079637519$--> <div class="layout vertical tab-pane-parent">
      <!--?lit$079637519$--><colab-tab-pane class="layout vertical grow no-header focused" align="horizontal"><!----> <div class="layout vertical grow">
    <div class="tab-pane-header layout horizontal noshrink">
      <md-tabs><template shadowrootmode="open"><!---->
      <div class="tabs">
        <slot></slot>
      </div>
      <md-divider part="divider"><template shadowrootmode="open"><!----></template></md-divider>
    </template><md-primary-tab noink="" title="" aria-labelledby="tab-title-h4ZnMUr1q4vU" class="selected-tab" tabindex="0" md-tab="" active=""><template shadowrootmode="open"><!----><div class="button" role="presentation">
      <md-focus-ring part="focus-ring" inward="" aria-hidden="true"><template shadowrootmode="open"><!----></template></md-focus-ring>
      <md-elevation part="elevation" aria-hidden="true"><template shadowrootmode="open"><!----><span class="shadow"></span></template></md-elevation>
      <md-ripple aria-hidden="true"><template shadowrootmode="open"><!----><div class="surface   "></div></template></md-ripple>
      <div role="presentation" class="content  has-label stacked ">
        <slot name="icon"></slot>
        <slot></slot>
        <!--?lit$079637519$--><div class="indicator"></div>
      </div>
      <!--?lit$079637519$-->
    </div></template>
          <div class="colab-tab-header">
            <span class="colab-tab-title" id="tab-title-h4ZnMUr1q4vU"><!--?lit$079637519$--><!--?lit$079637519$-->Notebook<!--?--></span>
            <!--?lit$079637519$-->
          </div>
        </md-primary-tab></md-tabs>
      <div class="layout grow"></div>
      <!--?lit$079637519$--> <md-icon-button data-aria-expanded="false" data-aria-haspopup="menu" title="More tab actions" data-aria-label="More tab actions" value=""><template shadowrootmode="open" shadowrootdelegatesfocus><!----><button id="button" class="icon-button  standard " aria-label="More tab actions" aria-haspopup="menu" aria-expanded="false">
        <!--?lit$079637519$--><md-focus-ring part="focus-ring" for="button" aria-hidden="true"><template shadowrootmode="open"><!----></template></md-focus-ring>
        <!--?lit$079637519$--><md-ripple aria-hidden="true"><template shadowrootmode="open"><!----><div class="surface   "></div></template></md-ripple>
        <!--?lit$079637519$--><span class="icon"><slot></slot></span>
        <!--?lit$079637519$-->
        <!--?lit$079637519$--><span class="touch"></span>
  </button></template>
    <md-icon aria-hidden="true"><template shadowrootmode="open"><!----><slot></slot></template>more_horiz</md-icon>
  </md-icon-button>
    </div>
    <div class="layout vertical grow tab-pane-container"> <colab-tab class="layout vertical grow notebook-tab-content selected-tab"><!----> <div class="overflow-flexbox-workaround">
      <colab-shaded-scroller ignore-dom-changes="" tabindex="-1" role="main" class="notebook-container" aria-label="Notebook">
        <div class="notebook-scrolling-horizontal-container">
          <div class="notebook-scrolling-horizontal">
            <div class="notebook-content-background">
              <!--?lit$079637519$-->
              <div class="notebook-content ">
                <!--?lit$079637519$--><div class="add-cell">
      <div class="add-cell-buttons">
        <md-outlined-button class="add-code add-button" data-aria-label="Add code cell
Ctrl+M B" title="Add code cell
Ctrl+M B" value="" has-icon=""><template shadowrootmode="open" shadowrootdelegatesfocus><!---->
      <!--?lit$079637519$--><div class="outline"></div>
      <div class="background"></div>
      <md-focus-ring part="focus-ring" for="button" aria-hidden="true"><template shadowrootmode="open"><!----></template></md-focus-ring>
      <md-ripple part="ripple" for="button" aria-hidden="true"><template shadowrootmode="open"><!----><div class="surface"></div></template></md-ripple>
      <!--?lit$079637519$--><button id="button" class="button" aria-label="Add code cell
Ctrl+M B">
      <!--?lit$079637519$-->
      <span class="touch"></span>
      <!--?lit$079637519$--><slot name="icon"></slot>
      <span class="label"><slot></slot></span>
      <!--?lit$079637519$-->
    
    </button>
    </template>
          <md-icon slot="icon" aria-hidden="true"><template shadowrootmode="open"><!----><slot></slot></template>add</md-icon>
          <!--?lit$079637519$-->Code
        </md-outlined-button>
        <md-outlined-button class="add-text add-button" data-aria-label="Add text cell" title="Add text cell" value="" has-icon=""><template shadowrootmode="open" shadowrootdelegatesfocus><!---->
      <!--?lit$079637519$--><div class="outline"></div>
      <div class="background"></div>
      <md-focus-ring part="focus-ring" for="button" aria-hidden="true"><template shadowrootmode="open"><!----></template></md-focus-ring>
      <md-ripple part="ripple" for="button" aria-hidden="true"><template shadowrootmode="open"><!----><div class="surface"></div></template></md-ripple>
      <!--?lit$079637519$--><button id="button" class="button" aria-label="Add text cell">
      <!--?lit$079637519$-->
      <span class="touch"></span>
      <!--?lit$079637519$--><slot name="icon"></slot>
      <span class="label"><slot></slot></span>
      <!--?lit$079637519$-->
    
    </button>
    </template>
          <md-icon slot="icon" aria-hidden="true"><template shadowrootmode="open"><!----><slot></slot></template>add</md-icon>
          <!--?lit$079637519$-->Text
        </md-outlined-button>
        <!--?lit$079637519$-->
      </div><hr>
    </div>
                <div class="notebook-cell-list"><div class="cell code icon-scrolling code-has-output" id="cell-Ao7NiEm-q4u4" tabindex="-1" role="region" aria-label="Cell 0: Code cell: " style=""><div class="agent-focus-label">
      <md-icon aria-hidden="true"><template shadowrootmode="open"><!----><slot></slot></template>spark</md-icon>
      <!--?lit$079637519$-->Gemini
    </div><div class="cell-tag-editor sticky"></div><div class="cell-toolbar sticky"></div><div class="main-content" elevation="0"><div class="cell-contents"><div class="cell-mask"></div><span class="imported-info-area"></span><div class="codecell-input-output">
      <div class="inputarea horizontal layout code">
        <div class="cell-gutter">
          <!-- Bounding range for vertical scrolling of icons -->
          <div class="cell-execution-container">
            <colab-run-button><template shadowrootmode="open"><!----> <div class="cell-execution">
      <button id="run-button" aria-describedby="run-button-tooltip" aria-label="Run cell">
        <!--?lit$079637519$--><span class="execution-count"><!--?lit$079637519$-->[5]</span>
        <span aria-hidden="true" class="cell-execution-indicator"><!--?lit$079637519$-->
<svg xmlns="http://www.w3.org/2000/svg" viewBox="0 0 24 24">
  <!--?lit$079637519$-->
  <mask id="playSymbolMask">
    <rect width="100%" height="100%" fill="white"></rect>
    <polygon points="10,8 17,12 10,16" fill="black"></polygon>
  </mask>
  <circle cx="12" cy="12" r="7.8" mask="url(#playSymbolMask)" id="filledCircle"></circle>
</svg></span>
      </button>
      <!--?lit$079637519$--><colab-tooltip-trigger for="run-button" id="run-button-tooltip" aria-hidden="true" message="Run cell (Ctrl+Enter)
cell executed since last change

executed by CHARITH REDDY PUTTA
6:20 PM (17 minutes ago)
executed in 0.13s"><template shadowrootmode="open"><!----><!--?lit$079637519$--><!----><div><!--?lit$079637519$-->Run cell (Ctrl+Enter)</div><!----><!----><div><!--?lit$079637519$-->cell executed since last change</div><!----><!----><br><!----><!----><div><!--?lit$079637519$-->executed by CHARITH REDDY PUTTA</div><!----><!----><div><!--?lit$079637519$-->6:20 PM (17 minutes ago)</div><!----><!----><div><!--?lit$079637519$-->executed in 0.13s</div><!----><!--?--></template>
    </colab-tooltip-trigger>
      <!--?lit$079637519$--><div id="status" class="last-run">
      <md-icon aria-hidden="true"><template shadowrootmode="open"><!----><slot></slot></template><!--?lit$079637519$--><svg viewBox="0 0 24 24"><!--?lit$079637519$--><path d="M9 16.17L4.83 12l-1.42 1.41L9 19 21 7l-1.41-1.41z"></path></svg></md-icon>
      <div><!--?lit$079637519$-->0s</div>
    </div>
    </div></template></colab-run-button>
          </div>
        </div>
      <div class="editor flex lazy-editor" style=""><pre class="lazy-virtualized" style="font-size: 14px; line-height: 19px;"><pre class="lazy-gutter"></pre><pre class="monaco-colorized colab colab" data-lang="notebook-python"><span><span class="mtk19">import</span><span class="mtk1">&nbsp;tensorflow&nbsp;</span><span class="mtk19">as</span><span class="mtk1">&nbsp;tf</span></span><br><span><span></span></span><br><span><span class="mtk8">#&nbsp;Set&nbsp;random&nbsp;seed&nbsp;for&nbsp;reproducibility</span></span><br><span><span class="mtk1">tf.random.set_seed(</span><span class="mtk12">42</span><span class="mtk1">)</span></span><br><span><span></span></span><br><span><span class="mtk8">#&nbsp;Create&nbsp;a&nbsp;random&nbsp;tensor&nbsp;of&nbsp;shape&nbsp;(4,&nbsp;6)</span></span><br><span><span class="mtk1">tensor&nbsp;=&nbsp;tf.random.uniform(shape=(</span><span class="mtk12">4</span><span class="mtk1">,&nbsp;</span><span class="mtk12">6</span><span class="mtk1">))</span></span><br><span><span class="mtk15">print</span><span class="mtk1">(</span><span class="mtk26">"Original&nbsp;Tensor:\n"</span><span class="mtk1">,&nbsp;tensor.numpy())</span></span><br><span><span class="mtk8">#&nbsp;Get&nbsp;the&nbsp;rank&nbsp;and&nbsp;shape&nbsp;of&nbsp;the&nbsp;tensor</span></span><br><span><span class="mtk1">rank&nbsp;=&nbsp;tf.rank(tensor)</span></span><br><span><span class="mtk1">shape&nbsp;=&nbsp;tf.shape(tensor)</span></span><br><span><span></span></span><br><span><span class="mtk15">print</span><span class="mtk1">(</span><span class="mtk26">"Rank&nbsp;of&nbsp;the&nbsp;tensor:"</span><span class="mtk1">,&nbsp;rank.numpy())</span></span><br><span><span class="mtk15">print</span><span class="mtk1">(</span><span class="mtk26">"Shape&nbsp;of&nbsp;the&nbsp;tensor:"</span><span class="mtk1">,&nbsp;shape.numpy())</span></span><br><span><span class="mtk8">#&nbsp;Reshape&nbsp;the&nbsp;tensor&nbsp;to&nbsp;(2,&nbsp;3,&nbsp;4)</span></span><br><span><span class="mtk1">reshaped_tensor&nbsp;=&nbsp;tf.reshape(tensor,&nbsp;(</span><span class="mtk12">2</span><span class="mtk1">,&nbsp;</span><span class="mtk12">3</span><span class="mtk1">,&nbsp;</span><span class="mtk12">4</span><span class="mtk1">))</span></span><br><span><span class="mtk15">print</span><span class="mtk1">(</span><span class="mtk26">"Reshaped&nbsp;Tensor&nbsp;(2,&nbsp;3,&nbsp;4):\n"</span><span class="mtk1">,&nbsp;reshaped_tensor.numpy())</span></span><br><span><span></span></span><br><span><span class="mtk8">#&nbsp;Transpose&nbsp;the&nbsp;reshaped&nbsp;tensor&nbsp;to&nbsp;(3,&nbsp;2,&nbsp;4)</span></span><br><span><span class="mtk1">transposed_tensor&nbsp;=&nbsp;tf.transpose(reshaped_tensor,&nbsp;</span><span class="mtk1">perm=[</span><span class="mtk12">1</span><span class="mtk1">,&nbsp;</span><span class="mtk12">0</span><span class="mtk1">,&nbsp;</span><span class="mtk12">2</span><span class="mtk1">])</span></span><br><span><span class="mtk15">print</span><span class="mtk1">(</span><span class="mtk26">"Transposed&nbsp;Tensor&nbsp;(3,&nbsp;2,&nbsp;4):\n"</span><span class="mtk1">,&nbsp;transposed_tensor.numpy())</span></span><br><span><span class="mtk8">#&nbsp;Create&nbsp;a&nbsp;smaller&nbsp;tensor&nbsp;of&nbsp;shape&nbsp;(1,&nbsp;4)</span></span><br><span><span class="mtk1">smaller_tensor&nbsp;=&nbsp;tf.constant([[</span><span class="mtk12">1.0</span><span class="mtk1">,&nbsp;</span><span class="mtk12">2.0</span><span class="mtk1">,&nbsp;</span><span class="mtk12">3.0</span><span class="mtk1">,&nbsp;</span><span class="mtk12">4.0</span><span class="mtk1">]])</span></span><br><span><span></span></span><br><span><span class="mtk8">#&nbsp;Broadcast&nbsp;the&nbsp;smaller&nbsp;tensor&nbsp;to&nbsp;match&nbsp;the&nbsp;shape&nbsp;</span><span class="mtk8">of&nbsp;the&nbsp;larger&nbsp;tensor&nbsp;(3,&nbsp;2,&nbsp;4)</span></span><br><span><span class="mtk1">broadcasted_tensor&nbsp;=&nbsp;tf.broadcast_to(smaller_tenso</span><span class="mtk1">r,&nbsp;transposed_tensor.shape)</span></span><br><span><span class="mtk15">print</span><span class="mtk1">(</span><span class="mtk26">"Broadcasted&nbsp;Tensor:\n"</span><span class="mtk1">,&nbsp;broadcasted_tensor.numpy())</span></span><br><span><span></span></span><br><span><span class="mtk8">#&nbsp;Add&nbsp;the&nbsp;broadcasted&nbsp;tensor&nbsp;to&nbsp;the&nbsp;transposed&nbsp;ten</span><span class="mtk8">sor</span></span><br><span><span class="mtk1">result_tensor&nbsp;=&nbsp;transposed_tensor&nbsp;+&nbsp;broadcasted_te</span><span class="mtk1">nsor</span></span><br><span><span class="mtk15">print</span><span class="mtk1">(</span><span class="mtk26">"Result&nbsp;Tensor&nbsp;after&nbsp;Addition:\n"</span><span class="mtk1">,&nbsp;result_tensor.numpy())</span></span><br></pre><colab-read-only-cell-placeholder style="display: none;"><template shadowrootmode="open"><!----><div><!--?lit$079637519$-->Start coding or <span tabindex="0" role="button" class="link">generate</span> with AI.</div></template></colab-read-only-cell-placeholder></pre></div><colab-form class="formview vertical layout flex"><div class="widget-area vertical layout"></div></colab-form></div>
    <div class="output" aria-label="Cell 0 output" role="region"><!----> <div class="output-header"> </div>
        <div class="output-content">
          <div class="output-info"><colab-output-info><template shadowrootmode="open"><!----><md-icon-button data-aria-expanded="false" data-aria-haspopup="menu" aria-describedby="button-output-actions-tooltip" data-aria-label="Code cell output actions" id="button-output-actions" value=""><template shadowrootmode="open" shadowrootdelegatesfocus><!----><button id="button" class="icon-button  standard " aria-label="Code cell output actions" aria-haspopup="menu" aria-expanded="false">
        <!--?lit$079637519$--><md-focus-ring part="focus-ring" for="button" aria-hidden="true"><template shadowrootmode="open"><!----></template></md-focus-ring>
        <!--?lit$079637519$--><md-ripple aria-hidden="true"><template shadowrootmode="open"><!----><div class="surface"></div></template></md-ripple>
        <!--?lit$079637519$--><span class="icon"><slot></slot></span>
        <!--?lit$079637519$-->
        <!--?lit$079637519$--><span class="touch"></span>
  </button></template>
        <md-icon aria-hidden="true"><template shadowrootmode="open"><!----><slot></slot></template><!--?lit$079637519$--><svg viewBox="0 0 24 24"><!--?lit$079637519$--><path d="m15.9 3.07c-4.32 0.0742-8.64-0.0355-13 0.0568-1.37 0.307-1.74 2.1-1.41 3.26 0.469 0.606 1.86 0.384 1.66-0.525 0.0448-0.329-0.183-0.93 0.354-0.766h13.3v1.53h1.71c0.0709-1.13 0.141-2.62-0.968-3.3-0.511-0.264-1.11-0.252-1.67-0.259zm2.94 6.84v4.87c1.62-1.62 3.24-3.24 4.87-4.87h-4.87zm0 0h-1.71v3.43l1.57 1.57c0.32-1.65 0.0556-3.34 0.135-5zm-1.71 3.43v-3.43h-3.43c1.14 1.14 2.29 2.29 3.43 3.43zm1.4 4.27h-1.71v1.48h-13.6v-1.48h-1.71c-0.0473 1.15-0.16 2.72 1.09 3.29 1.47 0.506 3.02 0.0265 4.53 0.192 3.34-0.0051 6.68 0.0336 10-0.0245 1.49-0.366 1.56-2.22 1.42-3.45zm-10.1-1.12c-0.398-0.483-0.796-0.967-1.19-1.45 0.59-0.683 1.18-1.37 1.77-2.05h-8.67v-2h8.67c-0.59-0.683-1.18-1.37-1.77-2.05 0.398-0.483 0.796-0.967 1.19-1.45 1.28 1.5 2.56 3 3.84 4.5-1.28 1.5-2.56 3-3.84 4.5z"></path></svg></md-icon>
      </md-icon-button>
      <!--?lit$079637519$--><colab-tooltip-trigger aria-hidden="true" id="button-output-actions-tooltip" for="button-output-actions" message="Code cell output actions"><template shadowrootmode="open"><!----><!--?lit$079637519$--><!----><div><!--?lit$079637519$-->Code cell output actions</div><!----><!--?--></template></colab-tooltip-trigger><!--?--></template></colab-output-info></div>
          <div class="output-iframe-container">
            <div class="output-iframe-sizer" style="min-height: 0px;"> <div><div><colab-static-output-renderer tabindex="0" role="group"><div><div class="stream output-id-1 output_text"><pre>Original Tensor:
 [[0.6645621  0.44100678 0.3528825  0.46448255 0.03366041 0.68467236]
 [0.74011743 0.8724445  0.22632635 0.22319686 0.3103881  0.7223358 ]
 [0.13318717 0.5480639  0.5746088  0.8996835  0.00946367 0.5212307 ]
 [0.6345445  0.1993283  0.72942245 0.54583454 0.10756552 0.6767061 ]]
Rank of the tensor: 2
Shape of the tensor: [4 6]
Reshaped Tensor (2, 3, 4):
 [[[0.6645621  0.44100678 0.3528825  0.46448255]
  [0.03366041 0.68467236 0.74011743 0.8724445 ]
  [0.22632635 0.22319686 0.3103881  0.7223358 ]]

 [[0.13318717 0.5480639  0.5746088  0.8996835 ]
  [0.00946367 0.5212307  0.6345445  0.1993283 ]
  [0.72942245 0.54583454 0.10756552 0.6767061 ]]]
Transposed Tensor (3, 2, 4):
 [[[0.6645621  0.44100678 0.3528825  0.46448255]
  [0.13318717 0.5480639  0.5746088  0.8996835 ]]

 [[0.03366041 0.68467236 0.74011743 0.8724445 ]
  [0.00946367 0.5212307  0.6345445  0.1993283 ]]

 [[0.22632635 0.22319686 0.3103881  0.7223358 ]
  [0.72942245 0.54583454 0.10756552 0.6767061 ]]]
Broadcasted Tensor:
 [[[1. 2. 3. 4.]
  [1. 2. 3. 4.]]

 [[1. 2. 3. 4.]
  [1. 2. 3. 4.]]

 [[1. 2. 3. 4.]
  [1. 2. 3. 4.]]]
Result Tensor after Addition:
 [[[1.6645621 2.4410067 3.3528824 4.4644823]
  [1.1331872 2.5480638 3.5746088 4.8996835]]

 [[1.0336604 2.6846724 3.7401175 4.8724446]
  [1.0094637 2.5212307 3.6345444 4.1993284]]

 [[1.2263263 2.223197  3.310388  4.722336 ]
  [1.7294225 2.5458345 3.1075654 4.6767063]]]
</pre></div></div><div></div></colab-static-output-renderer></div></div></div>
          </div>
        </div></div></div><colab-cell-next-steps><template shadowrootmode="open"><!----></template></colab-cell-next-steps></div></div><div class="add-cell">
      <div class="add-cell-buttons">
        <md-outlined-button class="add-code add-button" data-aria-label="Add code cell
Ctrl+M B" title="Add code cell
Ctrl+M B" value="" has-icon=""><template shadowrootmode="open" shadowrootdelegatesfocus><!---->
      <!--?lit$079637519$--><div class="outline"></div>
      <div class="background"></div>
      <md-focus-ring part="focus-ring" for="button" aria-hidden="true"><template shadowrootmode="open"><!----></template></md-focus-ring>
      <md-ripple part="ripple" for="button" aria-hidden="true"><template shadowrootmode="open"><!----><div class="surface   "></div></template></md-ripple>
      <!--?lit$079637519$--><button id="button" class="button" aria-label="Add code cell
Ctrl+M B">
      <!--?lit$079637519$-->
      <span class="touch"></span>
      <!--?lit$079637519$--><slot name="icon"></slot>
      <span class="label"><slot></slot></span>
      <!--?lit$079637519$-->
    
    </button>
    </template>
          <md-icon slot="icon" aria-hidden="true"><template shadowrootmode="open"><!----><slot></slot></template>add</md-icon>
          <!--?lit$079637519$-->Code
        </md-outlined-button>
        <md-outlined-button class="add-text add-button" data-aria-label="Add text cell" title="Add text cell" value="" has-icon=""><template shadowrootmode="open" shadowrootdelegatesfocus><!---->
      <!--?lit$079637519$--><div class="outline"></div>
      <div class="background"></div>
      <md-focus-ring part="focus-ring" for="button" aria-hidden="true"><template shadowrootmode="open"><!----></template></md-focus-ring>
      <md-ripple part="ripple" for="button" aria-hidden="true"><template shadowrootmode="open"><!----><div class="surface   "></div></template></md-ripple>
      <!--?lit$079637519$--><button id="button" class="button" aria-label="Add text cell">
      <!--?lit$079637519$-->
      <span class="touch"></span>
      <!--?lit$079637519$--><slot name="icon"></slot>
      <span class="label"><slot></slot></span>
      <!--?lit$079637519$-->
    
    </button>
    </template>
          <md-icon slot="icon" aria-hidden="true"><template shadowrootmode="open"><!----><slot></slot></template>add</md-icon>
          <!--?lit$079637519$-->Text
        </md-outlined-button>
        <!--?lit$079637519$-->
      </div><hr>
    </div></div><div class="cell code icon-scrolling code-has-output" id="cell-t2Q8LrVet-eh" tabindex="-1" role="region" aria-label="Cell 1: Code cell: " style="opacity: 1;"><div class="agent-focus-label">
      <md-icon aria-hidden="true"><template shadowrootmode="open"><!----><slot></slot></template>spark</md-icon>
      <!--?lit$079637519$-->Gemini
    </div><div class="cell-tag-editor sticky"></div><div class="cell-toolbar sticky"></div><div class="main-content" elevation="0"><div class="cell-contents"><div class="cell-mask"></div><span class="imported-info-area"></span><div class="codecell-input-output">
      <div class="inputarea horizontal layout code">
        <div class="cell-gutter">
          <!-- Bounding range for vertical scrolling of icons -->
          <div class="cell-execution-container">
            <colab-run-button><template shadowrootmode="open"><!----> <div class="cell-execution">
      <button id="run-button" aria-describedby="run-button-tooltip" aria-label="Run cell">
        <!--?lit$079637519$--><span class="execution-count"><!--?lit$079637519$-->[6]</span>
        <span aria-hidden="true" class="cell-execution-indicator"><!--?lit$079637519$-->
<svg xmlns="http://www.w3.org/2000/svg" viewBox="0 0 24 24">
  <!--?lit$079637519$-->
  <mask id="playSymbolMask">
    <rect width="100%" height="100%" fill="white"></rect>
    <polygon points="10,8 17,12 10,16" fill="black"></polygon>
  </mask>
  <circle cx="12" cy="12" r="7.8" mask="url(#playSymbolMask)" id="filledCircle"></circle>
</svg></span>
      </button>
      <!--?lit$079637519$--><colab-tooltip-trigger for="run-button" id="run-button-tooltip" aria-hidden="true" message="Run cell (Ctrl+Enter)
cell executed since last change

executed by CHARITH REDDY PUTTA
6:32 PM (5 minutes ago)
executed in 4.378s"><template shadowrootmode="open"><!----><!--?lit$079637519$--><!----><div><!--?lit$079637519$-->Run cell (Ctrl+Enter)</div><!----><!----><div><!--?lit$079637519$-->cell executed since last change</div><!----><!----><br><!----><!----><div><!--?lit$079637519$-->executed by CHARITH REDDY PUTTA</div><!----><!----><div><!--?lit$079637519$-->6:32 PM (5 minutes ago)</div><!----><!----><div><!--?lit$079637519$-->executed in 4.378s</div><!----><!--?--></template>
    </colab-tooltip-trigger>
      <!--?lit$079637519$--><div id="status" class="last-run">
      <md-icon aria-hidden="true"><template shadowrootmode="open"><!----><slot></slot></template><!--?lit$079637519$--><svg viewBox="0 0 24 24"><!--?lit$079637519$--><path d="M9 16.17L4.83 12l-1.42 1.41L9 19 21 7l-1.41-1.41z"></path></svg></md-icon>
      <div><!--?lit$079637519$-->4s</div>
    </div>
    </div></template></colab-run-button>
          </div>
        </div>
      <div class="editor flex lazy-editor" style=""><pre class="lazy-virtualized" style="font-size: 14px; line-height: 19px;"><pre class="lazy-gutter"></pre><pre class="monaco-colorized colab colab colab" data-lang="notebook-python"><span><span class="mtk6">!</span><span class="mtk1">apt-get&nbsp;install&nbsp;git</span></span><br></pre><colab-read-only-cell-placeholder style="display: none;"><template shadowrootmode="open"><!----><div><!--?lit$079637519$-->Start coding or <span tabindex="0" role="button" class="link">generate</span> with AI.</div></template></colab-read-only-cell-placeholder></pre></div><colab-form class="formview vertical layout flex"><div class="widget-area vertical layout"></div></colab-form></div>
    <div class="output" aria-label="Cell 1 output" role="region"><!----> <div class="output-header"> </div>
        <div class="output-content">
          <div class="output-info"><colab-output-info><template shadowrootmode="open"><!----><md-icon-button data-aria-expanded="false" data-aria-haspopup="menu" aria-describedby="button-output-actions-tooltip" data-aria-label="Code cell output actions" id="button-output-actions" value=""><template shadowrootmode="open" shadowrootdelegatesfocus><!----><button id="button" class="icon-button  standard " aria-label="Code cell output actions" aria-haspopup="menu" aria-expanded="false">
        <!--?lit$079637519$--><md-focus-ring part="focus-ring" for="button" aria-hidden="true"><template shadowrootmode="open"><!----></template></md-focus-ring>
        <!--?lit$079637519$--><md-ripple aria-hidden="true"><template shadowrootmode="open"><!----><div class="surface"></div></template></md-ripple>
        <!--?lit$079637519$--><span class="icon"><slot></slot></span>
        <!--?lit$079637519$-->
        <!--?lit$079637519$--><span class="touch"></span>
  </button></template>
        <md-icon aria-hidden="true"><template shadowrootmode="open"><!----><slot></slot></template><!--?lit$079637519$--><svg viewBox="0 0 24 24"><!--?lit$079637519$--><path d="m15.9 3.07c-4.32 0.0742-8.64-0.0355-13 0.0568-1.37 0.307-1.74 2.1-1.41 3.26 0.469 0.606 1.86 0.384 1.66-0.525 0.0448-0.329-0.183-0.93 0.354-0.766h13.3v1.53h1.71c0.0709-1.13 0.141-2.62-0.968-3.3-0.511-0.264-1.11-0.252-1.67-0.259zm2.94 6.84v4.87c1.62-1.62 3.24-3.24 4.87-4.87h-4.87zm0 0h-1.71v3.43l1.57 1.57c0.32-1.65 0.0556-3.34 0.135-5zm-1.71 3.43v-3.43h-3.43c1.14 1.14 2.29 2.29 3.43 3.43zm1.4 4.27h-1.71v1.48h-13.6v-1.48h-1.71c-0.0473 1.15-0.16 2.72 1.09 3.29 1.47 0.506 3.02 0.0265 4.53 0.192 3.34-0.0051 6.68 0.0336 10-0.0245 1.49-0.366 1.56-2.22 1.42-3.45zm-10.1-1.12c-0.398-0.483-0.796-0.967-1.19-1.45 0.59-0.683 1.18-1.37 1.77-2.05h-8.67v-2h8.67c-0.59-0.683-1.18-1.37-1.77-2.05 0.398-0.483 0.796-0.967 1.19-1.45 1.28 1.5 2.56 3 3.84 4.5-1.28 1.5-2.56 3-3.84 4.5z"></path></svg></md-icon>
      </md-icon-button>
      <!--?lit$079637519$--><colab-tooltip-trigger aria-hidden="true" id="button-output-actions-tooltip" for="button-output-actions" message="Code cell output actions"><template shadowrootmode="open"><!----><!--?lit$079637519$--><!----><div><!--?lit$079637519$-->Code cell output actions</div><!----><!--?--></template></colab-tooltip-trigger><!--?--></template></colab-output-info></div>
          <div class="output-iframe-container">
            <div class="output-iframe-sizer" style="min-height: 0px;"> <div><div><colab-static-output-renderer tabindex="0" role="group"><div><div class="stream output-id-10 output_text"><pre>Reading package lists... Done
Building dependency tree... Done
Reading state information... Done
git is already the newest version (1:2.34.1-1ubuntu1.12).
0 upgraded, 0 newly installed, 0 to remove and 20 not upgraded.
</pre></div></div><div></div></colab-static-output-renderer></div></div></div>
          </div>
        </div></div></div><colab-cell-next-steps><template shadowrootmode="open"><!----></template></colab-cell-next-steps></div></div><div class="add-cell">
      <div class="add-cell-buttons">
        <md-outlined-button class="add-code add-button" data-aria-label="Add code cell
Ctrl+M B" title="Add code cell
Ctrl+M B" value="" has-icon=""><template shadowrootmode="open" shadowrootdelegatesfocus><!---->
      <!--?lit$079637519$--><div class="outline"></div>
      <div class="background"></div>
      <md-focus-ring part="focus-ring" for="button" aria-hidden="true"><template shadowrootmode="open"><!----></template></md-focus-ring>
      <md-ripple part="ripple" for="button" aria-hidden="true"><template shadowrootmode="open"><!----><div class="surface   "></div></template></md-ripple>
      <!--?lit$079637519$--><button id="button" class="button" aria-label="Add code cell
Ctrl+M B">
      <!--?lit$079637519$-->
      <span class="touch"></span>
      <!--?lit$079637519$--><slot name="icon"></slot>
      <span class="label"><slot></slot></span>
      <!--?lit$079637519$-->
    
    </button>
    </template>
          <md-icon slot="icon" aria-hidden="true"><template shadowrootmode="open"><!----><slot></slot></template>add</md-icon>
          <!--?lit$079637519$-->Code
        </md-outlined-button>
        <md-outlined-button class="add-text add-button" data-aria-label="Add text cell" title="Add text cell" value="" has-icon=""><template shadowrootmode="open" shadowrootdelegatesfocus><!---->
      <!--?lit$079637519$--><div class="outline"></div>
      <div class="background"></div>
      <md-focus-ring part="focus-ring" for="button" aria-hidden="true"><template shadowrootmode="open"><!----></template></md-focus-ring>
      <md-ripple part="ripple" for="button" aria-hidden="true"><template shadowrootmode="open"><!----><div class="surface   "></div></template></md-ripple>
      <!--?lit$079637519$--><button id="button" class="button" aria-label="Add text cell">
      <!--?lit$079637519$-->
      <span class="touch"></span>
      <!--?lit$079637519$--><slot name="icon"></slot>
      <span class="label"><slot></slot></span>
      <!--?lit$079637519$-->
    
    </button>
    </template>
          <md-icon slot="icon" aria-hidden="true"><template shadowrootmode="open"><!----><slot></slot></template>add</md-icon>
          <!--?lit$079637519$-->Text
        </md-outlined-button>
        <!--?lit$079637519$-->
      </div><hr>
    </div></div><div class="cell code icon-scrolling code-has-output" id="cell-QHN1-E-cuI_s" tabindex="-1" role="region" aria-label="Cell 2: Code cell: " style="opacity: 1;"><div class="agent-focus-label">
      <md-icon aria-hidden="true"><template shadowrootmode="open"><!----><slot></slot></template>spark</md-icon>
      <!--?lit$079637519$-->Gemini
    </div><div class="cell-tag-editor sticky"></div><div class="cell-toolbar sticky"></div><div class="main-content" elevation="0"><div class="cell-contents"><div class="cell-mask"></div><span class="imported-info-area"></span><div class="codecell-input-output">
      <div class="inputarea horizontal layout code">
        <div class="cell-gutter">
          <!-- Bounding range for vertical scrolling of icons -->
          <div class="cell-execution-container">
            <colab-run-button><template shadowrootmode="open"><!----> <div class="cell-execution">
      <button id="run-button" aria-describedby="run-button-tooltip" aria-label="Run cell">
        <!--?lit$079637519$--><span class="execution-count"><!--?lit$079637519$-->[7]</span>
        <span aria-hidden="true" class="cell-execution-indicator"><!--?lit$079637519$-->
<svg xmlns="http://www.w3.org/2000/svg" viewBox="0 0 24 24">
  <!--?lit$079637519$-->
  <mask id="playSymbolMask">
    <rect width="100%" height="100%" fill="white"></rect>
    <polygon points="10,8 17,12 10,16" fill="black"></polygon>
  </mask>
  <circle cx="12" cy="12" r="7.8" mask="url(#playSymbolMask)" id="filledCircle"></circle>
</svg></span>
      </button>
      <!--?lit$079637519$--><colab-tooltip-trigger for="run-button" id="run-button-tooltip" aria-hidden="true" message="Run cell (Ctrl+Enter)
cell executed since last change

executed by CHARITH REDDY PUTTA
6:33 PM (4 minutes ago)
executed in 0.854s"><template shadowrootmode="open"><!----><!--?lit$079637519$--><!----><div><!--?lit$079637519$-->Run cell (Ctrl+Enter)</div><!----><!----><div><!--?lit$079637519$-->cell executed since last change</div><!----><!----><br><!----><!----><div><!--?lit$079637519$-->executed by CHARITH REDDY PUTTA</div><!----><!----><div><!--?lit$079637519$-->6:33 PM (4 minutes ago)</div><!----><!----><div><!--?lit$079637519$-->executed in 0.854s</div><!----><!--?--></template>
    </colab-tooltip-trigger>
      <!--?lit$079637519$--><div id="status" class="last-run">
      <md-icon aria-hidden="true"><template shadowrootmode="open"><!----><slot></slot></template><!--?lit$079637519$--><svg viewBox="0 0 24 24"><!--?lit$079637519$--><path d="M9 16.17L4.83 12l-1.42 1.41L9 19 21 7l-1.41-1.41z"></path></svg></md-icon>
      <div><!--?lit$079637519$-->0s</div>
    </div>
    </div></template></colab-run-button>
          </div>
        </div>
      <div class="editor flex lazy-editor" style=""><div class="editor flex monaco" data-keybinding-context="7" data-mode-id="notebook-python" style="height: 29px; --vscode-editorCodeLens-lineHeight: 16px; --vscode-editorCodeLens-fontSize: 12px; --vscode-editorCodeLens-fontFeatureSettings: &quot;liga&quot; off, &quot;calt&quot; off;"><div class="monaco-editor no-user-select  showUnused showDeprecated vs" role="code" data-uri="inmemory://model/6" style="width: 1411px; height: 29px;"><div data-mprt="3" class="overflow-guard" style="width: 1411px; height: 29px; overflow: clip;"><div class="margin" role="presentation" aria-hidden="true" style="position: absolute; contain: strict; will-change: unset; top: 0px; height: 29px; width: 6px;"><div class="glyph-margin" style="left: 0px; width: 0px; height: 29px;"></div><div class="margin-view-zones" role="presentation" aria-hidden="true" style="position: absolute;"></div><div class="margin-view-overlays" role="presentation" aria-hidden="true" style="position: absolute; font-family: monospace, Consolas, &quot;Courier New&quot;, monospace; font-weight: normal; font-size: 14px; font-feature-settings: &quot;liga&quot; 0, &quot;calt&quot; 0; font-variation-settings: normal; line-height: 19px; letter-spacing: 0px; width: 6px; height: 29px;"><div style="position:absolute;top:0px;width:100%;height:19px;"><div class="current-line current-line-margin-both" style="width:6px; height:19px;"></div></div></div><div class="glyph-margin-widgets" style="position: absolute; top: 0px;"></div></div><div class="monaco-scrollable-element editor-scrollable vs" role="presentation" data-mprt="5" style="position: absolute; overflow: hidden; left: 6px; width: 1405px; height: 29px;"><div class="lines-content monaco-editor-background" style="position: absolute; overflow: hidden; width: 1e+06px; height: 29px; contain: strict; will-change: unset; top: 0px; left: 0px;"><div class="view-overlays" role="presentation" aria-hidden="true" style="position: absolute; font-family: monospace, Consolas, &quot;Courier New&quot;, monospace; font-weight: normal; font-size: 14px; font-feature-settings: &quot;liga&quot; 0, &quot;calt&quot; 0; font-variation-settings: normal; line-height: 19px; letter-spacing: 0px; height: 0px; width: 1405px;"><div style="position:absolute;top:0px;width:100%;height:19px;"><div class="current-line" style="width:1405px; height:19px;"></div></div></div><div role="presentation" aria-hidden="true" class="view-rulers"></div><div class="view-zones" role="presentation" aria-hidden="true" style="position: absolute;"></div><div class="view-lines monaco-mouse-cursor-text" role="presentation" aria-hidden="true" data-mprt="7" style="position: absolute; font-family: monospace, Consolas, &quot;Courier New&quot;, monospace; font-weight: normal; font-size: 14px; font-feature-settings: &quot;liga&quot; 0, &quot;calt&quot; 0; font-variation-settings: normal; line-height: 19px; letter-spacing: 0px; width: 1405px; height: 29px;"><div style="top:0px;height:19px;" class="view-line"><span><span class="mtk6">!</span><span class="mtk1">git&nbsp;clone&nbsp;</span><span class="mtk1 detected-link">https://github.com/Charith3800/Neural-Networks.git</span></span></div></div><div data-mprt="1" class="contentWidgets" style="position: absolute; top: 0px;"></div><div role="presentation" aria-hidden="true" class="cursors-layer cursor-line-style cursor-solid"><div class="cursor monaco-mouse-cursor-text " style="height: 19px; top: 0px; left: 0px; font-family: monospace, Consolas, &quot;Courier New&quot;, monospace; font-weight: normal; font-size: 14px; font-feature-settings: &quot;liga&quot; 0, &quot;calt&quot; 0; font-variation-settings: normal; line-height: 19px; letter-spacing: 0px; display: block; visibility: hidden; padding-left: 0px; width: 1.6px;"></div></div></div><div role="presentation" aria-hidden="true" class="invisible scrollbar horizontal" style="position: absolute; width: 1391px; height: 10px; left: 0px; bottom: 0px;"><div class="slider" style="position: absolute; top: 0px; left: 0px; height: 10px; transform: translate3d(0px, 0px, 0px); contain: strict; will-change: unset; width: 1391px;"></div></div><canvas class="decorationsOverviewRuler" aria-hidden="true" width="17" height="36" style="position: absolute; transform: translate3d(0px, 0px, 0px); contain: strict; top: 0px; right: 0px; width: 14px; height: 29px; will-change: unset; display: block;"></canvas><div role="presentation" aria-hidden="true" class="invisible scrollbar vertical" style="position: absolute; width: 14px; height: 29px; right: 0px; top: 0px;"><div class="slider" style="position: absolute; top: 0px; left: 0px; width: 14px; transform: translate3d(0px, 0px, 0px); contain: strict; will-change: unset; height: 29px;"></div></div></div><div role="presentation" aria-hidden="true" style="width: 1411px;"></div><textarea data-mprt="6" class="inputarea monaco-mouse-cursor-text" wrap="on" autocorrect="off" autocapitalize="off" autocomplete="off" spellcheck="false" aria-label="Editor content;Press Alt+F1 for Accessibility Options." tabindex="0" role="textbox" aria-roledescription="editor" aria-multiline="true" aria-haspopup="false" aria-autocomplete="both" style="tab-size: 15.3984px; font-family: monospace, Consolas, &quot;Courier New&quot;, monospace; font-weight: normal; font-size: 14px; font-feature-settings: &quot;liga&quot; 0, &quot;calt&quot; 0; font-variation-settings: normal; line-height: 19px; letter-spacing: 0px; top: 0px; left: 6px; width: 76992px; height: 1px;"></textarea><div style="position: absolute; top: 0px; left: 0px; width: 0px; height: 0px;" class="monaco-editor-background textAreaCover"></div><div data-mprt="4" class="overlayWidgets" style="width: 1411px;"><div widgetid="editor.contrib.quickInputWidget" style="position: absolute; top: 0px; right: 50%;"></div></div><div data-mprt="8" class="minimap slider-mouseover" role="presentation" aria-hidden="true" style="position: absolute; left: 0px; width: 0px; height: 29px;"><div class="minimap-shadow-hidden" style="height: 29px;"></div><canvas width="0" height="36" style="position: absolute; left: 0px; width: 0px; height: 29px;"></canvas><canvas class="minimap-decorations-layer" width="0" height="36" style="position: absolute; left: 0px; width: 0px; height: 29px;"></canvas><div class="minimap-slider" style="position: absolute; transform: translate3d(0px, 0px, 0px); contain: strict; width: 0px; will-change: unset;"><div class="minimap-slider-horizontal" style="position: absolute; width: 0px; height: 0px;"></div></div></div><div role="presentation" aria-hidden="true" class="blockDecorations-container"></div></div><div data-mprt="2" class="overflowingContentWidgets"><div widgetid="editor.contrib.resizableContentHoverWidget" style="position: fixed; height: 10px; width: 10px; z-index: 50; display: none; visibility: hidden; max-width: 1536px;"><div class="monaco-sash vertical" style="left: 8px;"></div><div class="monaco-sash vertical" style="left: -2px;"></div><div class="monaco-sash orthogonal-edge-north horizontal" style="top: -2px;"><div class="orthogonal-drag-handle start"></div><div class="orthogonal-drag-handle end"></div></div><div class="monaco-sash orthogonal-edge-south horizontal" style="top: 8px;"><div class="orthogonal-drag-handle start"></div><div class="orthogonal-drag-handle end"></div></div><div class="monaco-hover hidden" tabindex="0" role="tooltip"><div class="monaco-scrollable-element " role="presentation" style="position: relative; overflow: hidden;"><div class="monaco-hover-content" style="overflow: hidden; font-size: 14px; line-height: 1.35714; max-width: 931.26px; max-height: 250px;"></div><div role="presentation" aria-hidden="true" class="invisible scrollbar horizontal" style="position: absolute;"><div class="slider" style="position: absolute; top: 0px; left: 0px; height: 10px; transform: translate3d(0px, 0px, 0px); contain: strict;"></div></div><div role="presentation" aria-hidden="true" class="invisible scrollbar vertical" style="position: absolute;"><div class="slider" style="position: absolute; top: 0px; left: 0px; width: 10px; transform: translate3d(0px, 0px, 0px); contain: strict;"></div></div><div class="shadow"></div><div class="shadow"></div><div class="shadow"></div></div></div></div></div><div class=".in-cell-overflowing"></div></div></div></div><colab-form class="formview vertical layout flex"><div class="widget-area vertical layout"></div></colab-form></div>
    <div class="output" aria-label="Cell 2 output" role="region"><!----> <div class="output-header"> </div>
        <div class="output-content">
          <div class="output-info"><colab-output-info><template shadowrootmode="open"><!----><md-icon-button data-aria-expanded="false" data-aria-haspopup="menu" aria-describedby="button-output-actions-tooltip" data-aria-label="Code cell output actions" id="button-output-actions" value=""><template shadowrootmode="open" shadowrootdelegatesfocus><!----><button id="button" class="icon-button  standard " aria-label="Code cell output actions" aria-haspopup="menu" aria-expanded="false">
        <!--?lit$079637519$--><md-focus-ring part="focus-ring" for="button" aria-hidden="true"><template shadowrootmode="open"><!----></template></md-focus-ring>
        <!--?lit$079637519$--><md-ripple aria-hidden="true"><template shadowrootmode="open"><!----><div class="surface   "></div></template></md-ripple>
        <!--?lit$079637519$--><span class="icon"><slot></slot></span>
        <!--?lit$079637519$-->
        <!--?lit$079637519$--><span class="touch"></span>
  </button></template>
        <md-icon aria-hidden="true"><template shadowrootmode="open"><!----><slot></slot></template><!--?lit$079637519$--><svg viewBox="0 0 24 24"><!--?lit$079637519$--><path d="m15.9 3.07c-4.32 0.0742-8.64-0.0355-13 0.0568-1.37 0.307-1.74 2.1-1.41 3.26 0.469 0.606 1.86 0.384 1.66-0.525 0.0448-0.329-0.183-0.93 0.354-0.766h13.3v1.53h1.71c0.0709-1.13 0.141-2.62-0.968-3.3-0.511-0.264-1.11-0.252-1.67-0.259zm2.94 6.84v4.87c1.62-1.62 3.24-3.24 4.87-4.87h-4.87zm0 0h-1.71v3.43l1.57 1.57c0.32-1.65 0.0556-3.34 0.135-5zm-1.71 3.43v-3.43h-3.43c1.14 1.14 2.29 2.29 3.43 3.43zm1.4 4.27h-1.71v1.48h-13.6v-1.48h-1.71c-0.0473 1.15-0.16 2.72 1.09 3.29 1.47 0.506 3.02 0.0265 4.53 0.192 3.34-0.0051 6.68 0.0336 10-0.0245 1.49-0.366 1.56-2.22 1.42-3.45zm-10.1-1.12c-0.398-0.483-0.796-0.967-1.19-1.45 0.59-0.683 1.18-1.37 1.77-2.05h-8.67v-2h8.67c-0.59-0.683-1.18-1.37-1.77-2.05 0.398-0.483 0.796-0.967 1.19-1.45 1.28 1.5 2.56 3 3.84 4.5-1.28 1.5-2.56 3-3.84 4.5z"></path></svg></md-icon>
      </md-icon-button>
      <!--?lit$079637519$--><colab-tooltip-trigger aria-hidden="true" id="button-output-actions-tooltip" for="button-output-actions" message="Code cell output actions"><template shadowrootmode="open"><!----><!--?lit$079637519$--><!----><div><!--?lit$079637519$-->Code cell output actions</div><!----><!--?--></template></colab-tooltip-trigger><!--?--></template></colab-output-info></div>
          <div class="output-iframe-container">
            <div class="output-iframe-sizer" style="min-height: 0px;"> <div><div><colab-static-output-renderer tabindex="0" role="group"><div><div class="stream output-id-2 output_text"><pre>Cloning into 'Neural-Networks'...
warning: You appear to have cloned an empty repository.
</pre></div></div><div></div></colab-static-output-renderer></div></div></div>
          </div>
        </div></div></div><colab-cell-next-steps><template shadowrootmode="open"><!----></template></colab-cell-next-steps></div></div><div class="add-cell">
      <div class="add-cell-buttons">
        <md-outlined-button class="add-code add-button" data-aria-label="Add code cell
Ctrl+M B" title="Add code cell
Ctrl+M B" value="" has-icon=""><template shadowrootmode="open" shadowrootdelegatesfocus><!---->
      <!--?lit$079637519$--><div class="outline"></div>
      <div class="background"></div>
      <md-focus-ring part="focus-ring" for="button" aria-hidden="true"><template shadowrootmode="open"><!----></template></md-focus-ring>
      <md-ripple part="ripple" for="button" aria-hidden="true"><template shadowrootmode="open"><!----><div class="surface   "></div></template></md-ripple>
      <!--?lit$079637519$--><button id="button" class="button" aria-label="Add code cell
Ctrl+M B">
      <!--?lit$079637519$-->
      <span class="touch"></span>
      <!--?lit$079637519$--><slot name="icon"></slot>
      <span class="label"><slot></slot></span>
      <!--?lit$079637519$-->
    
    </button>
    </template>
          <md-icon slot="icon" aria-hidden="true"><template shadowrootmode="open"><!----><slot></slot></template>add</md-icon>
          <!--?lit$079637519$-->Code
        </md-outlined-button>
        <md-outlined-button class="add-text add-button" data-aria-label="Add text cell" title="Add text cell" value="" has-icon=""><template shadowrootmode="open" shadowrootdelegatesfocus><!---->
      <!--?lit$079637519$--><div class="outline"></div>
      <div class="background"></div>
      <md-focus-ring part="focus-ring" for="button" aria-hidden="true"><template shadowrootmode="open"><!----></template></md-focus-ring>
      <md-ripple part="ripple" for="button" aria-hidden="true"><template shadowrootmode="open"><!----><div class="surface   "></div></template></md-ripple>
      <!--?lit$079637519$--><button id="button" class="button" aria-label="Add text cell">
      <!--?lit$079637519$-->
      <span class="touch"></span>
      <!--?lit$079637519$--><slot name="icon"></slot>
      <span class="label"><slot></slot></span>
      <!--?lit$079637519$-->
    
    </button>
    </template>
          <md-icon slot="icon" aria-hidden="true"><template shadowrootmode="open"><!----><slot></slot></template>add</md-icon>
          <!--?lit$079637519$-->Text
        </md-outlined-button>
        <!--?lit$079637519$-->
      </div><hr>
    </div></div><div class="cell code icon-scrolling code-has-output" id="cell-pLfCthiiumHL" tabindex="-1" role="region" aria-label="Cell 3: Code cell: " style="opacity: 1;"><div class="agent-focus-label">
      <md-icon aria-hidden="true"><template shadowrootmode="open"><!----><slot></slot></template>spark</md-icon>
      <!--?lit$079637519$-->Gemini
    </div><div class="cell-tag-editor sticky"></div><div class="cell-toolbar sticky"></div><div class="main-content" elevation="0"><div class="cell-contents"><div class="cell-mask"></div><span class="imported-info-area"></span><div class="codecell-input-output">
      <div class="inputarea horizontal layout code">
        <div class="cell-gutter">
          <!-- Bounding range for vertical scrolling of icons -->
          <div class="cell-execution-container">
            <colab-run-button><template shadowrootmode="open"><!----> <div class="cell-execution">
      <button id="run-button" aria-describedby="run-button-tooltip" aria-label="Run cell">
        <!--?lit$079637519$--><span class="execution-count"><!--?lit$079637519$-->[8]</span>
        <span aria-hidden="true" class="cell-execution-indicator"><!--?lit$079637519$-->
<svg xmlns="http://www.w3.org/2000/svg" viewBox="0 0 24 24">
  <!--?lit$079637519$-->
  <mask id="playSymbolMask">
    <rect width="100%" height="100%" fill="white"></rect>
    <polygon points="10,8 17,12 10,16" fill="black"></polygon>
  </mask>
  <circle cx="12" cy="12" r="7.8" mask="url(#playSymbolMask)" id="filledCircle"></circle>
</svg></span>
      </button>
      <!--?lit$079637519$--><colab-tooltip-trigger for="run-button" id="run-button-tooltip" aria-hidden="true" message="Run cell (Ctrl+Enter)
cell executed since last change

executed by CHARITH REDDY PUTTA
6:34 PM (3 minutes ago)
executed in 0.125s"><template shadowrootmode="open"><!----><!--?lit$079637519$--><!----><div><!--?lit$079637519$-->Run cell (Ctrl+Enter)</div><!----><!----><div><!--?lit$079637519$-->cell executed since last change</div><!----><!----><br><!----><!----><div><!--?lit$079637519$-->executed by CHARITH REDDY PUTTA</div><!----><!----><div><!--?lit$079637519$-->6:34 PM (3 minutes ago)</div><!----><!----><div><!--?lit$079637519$-->executed in 0.125s</div><!----><!--?--></template>
    </colab-tooltip-trigger>
      <!--?lit$079637519$--><div id="status" class="last-run">
      <md-icon aria-hidden="true"><template shadowrootmode="open"><!----><slot></slot></template><!--?lit$079637519$--><svg viewBox="0 0 24 24"><!--?lit$079637519$--><path d="M9 16.17L4.83 12l-1.42 1.41L9 19 21 7l-1.41-1.41z"></path></svg></md-icon>
      <div><!--?lit$079637519$-->0s</div>
    </div>
    </div></template></colab-run-button>
          </div>
        </div>
      <div class="editor flex lazy-editor" style=""><div class="editor flex monaco" data-keybinding-context="5" data-mode-id="notebook-python" style="height: 29px; --vscode-editorCodeLens-lineHeight: 16px; --vscode-editorCodeLens-fontSize: 12px; --vscode-editorCodeLens-fontFeatureSettings: &quot;liga&quot; off, &quot;calt&quot; off;"><div class="monaco-editor no-user-select  showUnused showDeprecated vs" role="code" data-uri="inmemory://model/7" style="width: 1411px; height: 29px;"><div data-mprt="3" class="overflow-guard" style="width: 1411px; height: 29px; overflow: clip;"><div class="margin" role="presentation" aria-hidden="true" style="position: absolute; contain: strict; will-change: unset; top: 0px; height: 29px; width: 6px;"><div class="glyph-margin" style="left: 0px; width: 0px; height: 29px;"></div><div class="margin-view-zones" role="presentation" aria-hidden="true" style="position: absolute;"></div><div class="margin-view-overlays" role="presentation" aria-hidden="true" style="position: absolute; font-family: monospace, Consolas, &quot;Courier New&quot;, monospace; font-weight: normal; font-size: 14px; font-feature-settings: &quot;liga&quot; 0, &quot;calt&quot; 0; font-variation-settings: normal; line-height: 19px; letter-spacing: 0px; width: 6px; height: 29px;"><div style="position:absolute;top:0px;width:100%;height:19px;"><div class="current-line current-line-margin-both" style="width:6px; height:19px;"></div></div></div><div class="glyph-margin-widgets" style="position: absolute; top: 0px;"></div></div><div class="monaco-scrollable-element editor-scrollable vs" role="presentation" data-mprt="5" style="position: absolute; overflow: hidden; left: 6px; width: 1405px; height: 29px;"><div class="lines-content monaco-editor-background" style="position: absolute; overflow: hidden; width: 1e+06px; height: 29px; contain: strict; will-change: unset; top: 0px; left: 0px;"><div class="view-overlays" role="presentation" aria-hidden="true" style="position: absolute; font-family: monospace, Consolas, &quot;Courier New&quot;, monospace; font-weight: normal; font-size: 14px; font-feature-settings: &quot;liga&quot; 0, &quot;calt&quot; 0; font-variation-settings: normal; line-height: 19px; letter-spacing: 0px; height: 0px; width: 1405px;"><div style="position:absolute;top:0px;width:100%;height:19px;"><div class="current-line" style="width:1405px; height:19px;"></div></div></div><div role="presentation" aria-hidden="true" class="view-rulers"></div><div class="view-zones" role="presentation" aria-hidden="true" style="position: absolute;"></div><div class="view-lines monaco-mouse-cursor-text" role="presentation" aria-hidden="true" data-mprt="7" style="position: absolute; font-family: monospace, Consolas, &quot;Courier New&quot;, monospace; font-weight: normal; font-size: 14px; font-feature-settings: &quot;liga&quot; 0, &quot;calt&quot; 0; font-variation-settings: normal; line-height: 19px; letter-spacing: 0px; width: 1405px; height: 29px;"><div style="top:0px;height:19px;" class="view-line"><span><span class="mtk6">%cd&nbsp;</span><span class="mtk1">Neural-Networks</span></span></div></div><div data-mprt="1" class="contentWidgets" style="position: absolute; top: 0px;"><div class="lightBulbWidget codicon codicon-light-bulb" widgetid="LightBulbWidget" title="Show Code Actions (Ctrl+.)" style="position: absolute; display: none; visibility: hidden; max-width: 1405px;"></div></div><div role="presentation" aria-hidden="true" class="cursors-layer cursor-line-style cursor-solid"><div class="cursor monaco-mouse-cursor-text " style="height: 19px; top: 0px; left: 146px; font-family: monospace, Consolas, &quot;Courier New&quot;, monospace; font-weight: normal; font-size: 14px; font-feature-settings: &quot;liga&quot; 0, &quot;calt&quot; 0; font-variation-settings: normal; line-height: 19px; letter-spacing: 0px; display: block; visibility: hidden; padding-left: 0px; width: 1.6px;"></div></div></div><div role="presentation" aria-hidden="true" class="invisible scrollbar horizontal" style="position: absolute; width: 1391px; height: 10px; left: 0px; bottom: 0px;"><div class="slider" style="position: absolute; top: 0px; left: 0px; height: 10px; transform: translate3d(0px, 0px, 0px); contain: strict; will-change: unset; width: 1391px;"></div></div><canvas class="decorationsOverviewRuler" aria-hidden="true" width="17" height="36" style="position: absolute; transform: translate3d(0px, 0px, 0px); contain: strict; top: 0px; right: 0px; width: 14px; height: 29px; will-change: unset; display: block;"></canvas><div role="presentation" aria-hidden="true" class="invisible scrollbar vertical" style="position: absolute; width: 14px; height: 29px; right: 0px; top: 0px;"><div class="slider" style="position: absolute; top: 0px; left: 0px; width: 14px; transform: translate3d(0px, 0px, 0px); contain: strict; will-change: unset; height: 29px;"></div></div></div><div role="presentation" aria-hidden="true" style="width: 1411px;"></div><textarea data-mprt="6" class="inputarea monaco-mouse-cursor-text" wrap="on" autocorrect="off" autocapitalize="off" autocomplete="off" spellcheck="false" aria-label="Editor content;Press Alt+F1 for Accessibility Options." tabindex="0" role="textbox" aria-roledescription="editor" aria-multiline="true" aria-haspopup="false" aria-autocomplete="both" style="tab-size: 15.3984px; font-family: monospace, Consolas, &quot;Courier New&quot;, monospace; font-weight: normal; font-size: 14px; font-feature-settings: &quot;liga&quot; 0, &quot;calt&quot; 0; font-variation-settings: normal; line-height: 19px; letter-spacing: 0px; top: 0px; left: 6px; width: 76992px; height: 1px;"></textarea><div style="position: absolute; top: 0px; left: 0px; width: 0px; height: 0px;" class="monaco-editor-background textAreaCover"></div><div data-mprt="4" class="overlayWidgets" style="width: 1411px;"></div><div data-mprt="8" class="minimap slider-mouseover" role="presentation" aria-hidden="true" style="position: absolute; left: 0px; width: 0px; height: 29px;"><div class="minimap-shadow-hidden" style="height: 29px;"></div><canvas width="0" height="36" style="position: absolute; left: 0px; width: 0px; height: 29px;"></canvas><canvas class="minimap-decorations-layer" width="0" height="36" style="position: absolute; left: 0px; width: 0px; height: 29px;"></canvas><div class="minimap-slider" style="position: absolute; transform: translate3d(0px, 0px, 0px); contain: strict; width: 0px; will-change: unset;"><div class="minimap-slider-horizontal" style="position: absolute; width: 0px; height: 0px;"></div></div></div><div role="presentation" aria-hidden="true" class="blockDecorations-container"></div></div><div data-mprt="2" class="overflowingContentWidgets" style="display: none;"><div widgetid="editor.contrib.resizableContentHoverWidget" style="position: fixed; height: 10px; width: 10px; z-index: 50; display: none; visibility: hidden; max-width: 1536px;"><div class="monaco-sash vertical" style="left: 8px;"></div><div class="monaco-sash vertical" style="left: -2px;"></div><div class="monaco-sash orthogonal-edge-north horizontal" style="top: -2px;"><div class="orthogonal-drag-handle start"></div><div class="orthogonal-drag-handle end"></div></div><div class="monaco-sash orthogonal-edge-south horizontal" style="top: 8px;"><div class="orthogonal-drag-handle start"></div><div class="orthogonal-drag-handle end"></div></div><div class="monaco-hover hidden" tabindex="0" role="tooltip"><div class="monaco-scrollable-element " role="presentation" style="position: relative; overflow: hidden;"><div class="monaco-hover-content" style="overflow: hidden; font-size: 14px; line-height: 1.35714; max-width: 931.26px; max-height: 250px;"></div><div role="presentation" aria-hidden="true" class="invisible scrollbar horizontal" style="position: absolute;"><div class="slider" style="position: absolute; top: 0px; left: 0px; height: 10px; transform: translate3d(0px, 0px, 0px); contain: strict;"></div></div><div role="presentation" aria-hidden="true" class="invisible scrollbar vertical" style="position: absolute;"><div class="slider" style="position: absolute; top: 0px; left: 0px; width: 10px; transform: translate3d(0px, 0px, 0px); contain: strict;"></div></div><div class="shadow"></div><div class="shadow"></div><div class="shadow"></div></div></div></div></div><div class=".in-cell-overflowing"><div widgetid="editor.contrib.quickInputWidget" style="position: absolute; top: 0px; right: 50%;"></div></div></div></div></div><colab-form class="formview vertical layout flex"><div class="widget-area vertical layout"></div></colab-form></div>
    <div class="output" aria-label="Cell 3 output" role="region"><!----> <div class="output-header"> </div>
        <div class="output-content">
          <div class="output-info"><colab-output-info><template shadowrootmode="open"><!----><md-icon-button data-aria-expanded="false" data-aria-haspopup="menu" aria-describedby="button-output-actions-tooltip" data-aria-label="Code cell output actions" id="button-output-actions" value=""><template shadowrootmode="open" shadowrootdelegatesfocus><!----><button id="button" class="icon-button  standard " aria-label="Code cell output actions" aria-haspopup="menu" aria-expanded="false">
        <!--?lit$079637519$--><md-focus-ring part="focus-ring" for="button" aria-hidden="true"><template shadowrootmode="open"><!----></template></md-focus-ring>
        <!--?lit$079637519$--><md-ripple aria-hidden="true"><template shadowrootmode="open"><!----><div class="surface   "></div></template></md-ripple>
        <!--?lit$079637519$--><span class="icon"><slot></slot></span>
        <!--?lit$079637519$-->
        <!--?lit$079637519$--><span class="touch"></span>
  </button></template>
        <md-icon aria-hidden="true"><template shadowrootmode="open"><!----><slot></slot></template><!--?lit$079637519$--><svg viewBox="0 0 24 24"><!--?lit$079637519$--><path d="m15.9 3.07c-4.32 0.0742-8.64-0.0355-13 0.0568-1.37 0.307-1.74 2.1-1.41 3.26 0.469 0.606 1.86 0.384 1.66-0.525 0.0448-0.329-0.183-0.93 0.354-0.766h13.3v1.53h1.71c0.0709-1.13 0.141-2.62-0.968-3.3-0.511-0.264-1.11-0.252-1.67-0.259zm2.94 6.84v4.87c1.62-1.62 3.24-3.24 4.87-4.87h-4.87zm0 0h-1.71v3.43l1.57 1.57c0.32-1.65 0.0556-3.34 0.135-5zm-1.71 3.43v-3.43h-3.43c1.14 1.14 2.29 2.29 3.43 3.43zm1.4 4.27h-1.71v1.48h-13.6v-1.48h-1.71c-0.0473 1.15-0.16 2.72 1.09 3.29 1.47 0.506 3.02 0.0265 4.53 0.192 3.34-0.0051 6.68 0.0336 10-0.0245 1.49-0.366 1.56-2.22 1.42-3.45zm-10.1-1.12c-0.398-0.483-0.796-0.967-1.19-1.45 0.59-0.683 1.18-1.37 1.77-2.05h-8.67v-2h8.67c-0.59-0.683-1.18-1.37-1.77-2.05 0.398-0.483 0.796-0.967 1.19-1.45 1.28 1.5 2.56 3 3.84 4.5-1.28 1.5-2.56 3-3.84 4.5z"></path></svg></md-icon>
      </md-icon-button>
      <!--?lit$079637519$--><colab-tooltip-trigger aria-hidden="true" id="button-output-actions-tooltip" for="button-output-actions" message="Code cell output actions"><template shadowrootmode="open"><!----><!--?lit$079637519$--><!----><div><!--?lit$079637519$-->Code cell output actions</div><!----><!--?--></template></colab-tooltip-trigger><!--?--></template></colab-output-info></div>
          <div class="output-iframe-container">
            <div class="output-iframe-sizer" style="min-height: 0px;"> <div><div><colab-static-output-renderer tabindex="0" role="group"><div><div class="stream output-id-1 output_text"><pre>/content/Neural-Networks
</pre></div></div><div></div></colab-static-output-renderer></div></div></div>
          </div>
        </div></div></div><colab-cell-next-steps><template shadowrootmode="open"><!----></template></colab-cell-next-steps></div></div><div class="add-cell">
      <div class="add-cell-buttons">
        <md-outlined-button class="add-code add-button" data-aria-label="Add code cell
Ctrl+M B" title="Add code cell
Ctrl+M B" value="" has-icon=""><template shadowrootmode="open" shadowrootdelegatesfocus><!---->
      <!--?lit$079637519$--><div class="outline"></div>
      <div class="background"></div>
      <md-focus-ring part="focus-ring" for="button" aria-hidden="true"><template shadowrootmode="open"><!----></template></md-focus-ring>
      <md-ripple part="ripple" for="button" aria-hidden="true"><template shadowrootmode="open"><!----><div class="surface   "></div></template></md-ripple>
      <!--?lit$079637519$--><button id="button" class="button" aria-label="Add code cell
Ctrl+M B">
      <!--?lit$079637519$-->
      <span class="touch"></span>
      <!--?lit$079637519$--><slot name="icon"></slot>
      <span class="label"><slot></slot></span>
      <!--?lit$079637519$-->
    
    </button>
    </template>
          <md-icon slot="icon" aria-hidden="true"><template shadowrootmode="open"><!----><slot></slot></template>add</md-icon>
          <!--?lit$079637519$-->Code
        </md-outlined-button>
        <md-outlined-button class="add-text add-button" data-aria-label="Add text cell" title="Add text cell" value="" has-icon=""><template shadowrootmode="open" shadowrootdelegatesfocus><!---->
      <!--?lit$079637519$--><div class="outline"></div>
      <div class="background"></div>
      <md-focus-ring part="focus-ring" for="button" aria-hidden="true"><template shadowrootmode="open"><!----></template></md-focus-ring>
      <md-ripple part="ripple" for="button" aria-hidden="true"><template shadowrootmode="open"><!----><div class="surface   "></div></template></md-ripple>
      <!--?lit$079637519$--><button id="button" class="button" aria-label="Add text cell">
      <!--?lit$079637519$-->
      <span class="touch"></span>
      <!--?lit$079637519$--><slot name="icon"></slot>
      <span class="label"><slot></slot></span>
      <!--?lit$079637519$-->
    
    </button>
    </template>
          <md-icon slot="icon" aria-hidden="true"><template shadowrootmode="open"><!----><slot></slot></template>add</md-icon>
          <!--?lit$079637519$-->Text
        </md-outlined-button>
        <!--?lit$079637519$-->
      </div><hr>
    </div></div><div class="cell code icon-scrolling focused code-has-output" id="cell-O6xqCTm6vB5m" tabindex="-1" role="region" aria-label="Cell 4: Code cell: " style="opacity: 1;"><div class="agent-focus-label">
      <md-icon aria-hidden="true"><template shadowrootmode="open"><!----><slot></slot></template>spark</md-icon>
      <!--?lit$079637519$-->Gemini
    </div><div class="cell-tag-editor sticky"></div><div class="cell-toolbar sticky"><colab-cell-toolbar><template shadowrootmode="open"><!----><!--?lit$079637519$--><!----> <md-icon-button class="colab-icon" aria-describedby="button-move-cell-up-tooltip" data-aria-label="Move cell up
Ctrl+M K" command="move-cell-up" id="button-move-cell-up" value=""><template shadowrootmode="open" shadowrootdelegatesfocus><!----><button id="button" class="icon-button  standard " aria-label="Move cell up
Ctrl+M K">
        <!--?lit$079637519$--><md-focus-ring part="focus-ring" for="button" aria-hidden="true"><template shadowrootmode="open"><!----></template></md-focus-ring>
        <!--?lit$079637519$--><md-ripple aria-hidden="true"><template shadowrootmode="open"><!----><div class="surface   "></div></template></md-ripple>
        <!--?lit$079637519$--><span class="icon"><slot></slot></span>
        <!--?lit$079637519$-->
        <!--?lit$079637519$--><span class="touch"></span>
  </button></template>
        <md-icon aria-hidden="true"><template shadowrootmode="open"><!----><slot></slot></template><!--?lit$079637519$-->arrow_upward</md-icon>
        <!--?lit$079637519$-->
      </md-icon-button>
      <!--?lit$079637519$--><colab-tooltip-trigger aria-hidden="true" for="button-move-cell-up" id="button-move-cell-up-tooltip" message="Move cell up
Ctrl+M K"><template shadowrootmode="open"><!----><!--?lit$079637519$--><!----><div><!--?lit$079637519$-->Move cell up</div><!----><!----><div><!--?lit$079637519$-->Ctrl+M K</div><!----><!--?--></template>
          </colab-tooltip-trigger><!--?--><!----><!----> <md-icon-button class="colab-icon" aria-describedby="button-move-cell-down-tooltip" data-aria-label="Move cell down
Ctrl+M J" command="move-cell-down" id="button-move-cell-down" soft-disabled="" value=""><template shadowrootmode="open" shadowrootdelegatesfocus><!----><button id="button" class="icon-button  standard " aria-label="Move cell down
Ctrl+M J" aria-disabled="true">
        <!--?lit$079637519$--><md-focus-ring part="focus-ring" for="button" aria-hidden="true"><template shadowrootmode="open"><!----></template></md-focus-ring>
        <!--?lit$079637519$--><md-ripple disabled="" aria-hidden="true"><template shadowrootmode="open"><!----><div class="surface   "></div></template></md-ripple>
        <!--?lit$079637519$--><span class="icon"><slot></slot></span>
        <!--?lit$079637519$-->
        <!--?lit$079637519$--><span class="touch"></span>
  </button></template>
        <md-icon aria-hidden="true"><template shadowrootmode="open"><!----><slot></slot></template><!--?lit$079637519$-->arrow_downward</md-icon>
        <!--?lit$079637519$-->
      </md-icon-button>
      <!--?lit$079637519$--><colab-tooltip-trigger aria-hidden="true" for="button-move-cell-down" id="button-move-cell-down-tooltip" message="Move cell down
Ctrl+M J"><template shadowrootmode="open"><!----><!--?lit$079637519$--><!----><div><!--?lit$079637519$-->Move cell down</div><!----><!----><div><!--?lit$079637519$-->Ctrl+M J</div><!----><!--?--></template>
          </colab-tooltip-trigger><!--?--><!----><!----><!--?lit$079637519$--><md-menu positioning="popover" quick="" aria-labelledby="ai-menu-anchor-O6xqCTm6vB5m" anchor="ai-menu-anchor-O6xqCTm6vB5m" aria-hidden="true"><template shadowrootmode="open"><!---->
      <div class="menu   " popover="manual" style="display: none;">
        <!--?lit$079637519$--><md-elevation part="elevation" aria-hidden="true"><template shadowrootmode="open"><!----><span class="shadow"></span></template></md-elevation>
        <div class="items">
          <div class="item-padding"> <!--?lit$079637519$--><slot></slot> </div>
        </div>
      </div>
    </template>
    <!--?lit$079637519$--><!----><md-menu-item command="generate-code" md-menu-item="" tabindex="0"><template shadowrootmode="open" shadowrootdelegatesfocus><!---->
      <li id="item" tabindex="0" role="menuitem" class="list-item   "><!--?lit$079637519$-->
      <md-item><template shadowrootmode="open"><!---->
      <slot name="container"></slot>
      <slot class="non-text" name="start"></slot>
      <div class="text">
        <slot name="overline"></slot>
        <slot class="default-slot"></slot>
        <slot name="headline"></slot>
        <slot name="supporting-text"></slot>
      </div>
      <slot class="non-text" name="trailing-supporting-text"></slot>
      <slot class="non-text" name="end"></slot>
    </template>
        <div slot="container">
          <!--?lit$079637519$--> <md-ripple part="ripple" for="item" aria-hidden="true"><template shadowrootmode="open"><!----><div class="surface   "></div></template></md-ripple> <!--?lit$079637519$--> <md-focus-ring part="focus-ring" for="item" inward="" aria-hidden="true"><template shadowrootmode="open"><!----></template></md-focus-ring>
        </div>
        <slot name="start" slot="start"></slot>
        <slot name="end" slot="end"></slot>
        <!--?lit$079637519$-->
      <slot></slot>
      <slot name="overline" slot="overline"></slot>
      <slot name="headline" slot="headline"></slot>
      <slot name="supporting-text" slot="supporting-text"></slot>
      <slot name="trailing-supporting-text" slot="trailing-supporting-text"></slot>
    
      </md-item>
    </li>
    </template>
    <span slot="headline"><!--?lit$079637519$-->Generate code</span>
  </md-menu-item><!----><!----><md-menu-item command="explain-cell" md-menu-item="" tabindex="-1"><template shadowrootmode="open" shadowrootdelegatesfocus><!---->
      <li id="item" tabindex="0" role="menuitem" class="list-item   "><!--?lit$079637519$-->
      <md-item><template shadowrootmode="open"><!---->
      <slot name="container"></slot>
      <slot class="non-text" name="start"></slot>
      <div class="text">
        <slot name="overline"></slot>
        <slot class="default-slot"></slot>
        <slot name="headline"></slot>
        <slot name="supporting-text"></slot>
      </div>
      <slot class="non-text" name="trailing-supporting-text"></slot>
      <slot class="non-text" name="end"></slot>
    </template>
        <div slot="container">
          <!--?lit$079637519$--> <md-ripple part="ripple" for="item" aria-hidden="true"><template shadowrootmode="open"><!----><div class="surface   "></div></template></md-ripple> <!--?lit$079637519$--> <md-focus-ring part="focus-ring" for="item" inward="" aria-hidden="true"><template shadowrootmode="open"><!----></template></md-focus-ring>
        </div>
        <slot name="start" slot="start"></slot>
        <slot name="end" slot="end"></slot>
        <!--?lit$079637519$-->
      <slot></slot>
      <slot name="overline" slot="overline"></slot>
      <slot name="headline" slot="headline"></slot>
      <slot name="supporting-text" slot="supporting-text"></slot>
      <slot name="trailing-supporting-text" slot="trailing-supporting-text"></slot>
    
      </md-item>
    </li>
    </template>
    <span slot="headline"><!--?lit$079637519$-->Explain code</span>
  </md-menu-item><!---->
  </md-menu>
          <md-icon-button class="colab-icon" data-aria-haspopup="menu" data-aria-expanded="false" aria-describedby="ai-menu-anchor-O6xqCTm6vB5m-tooltip" data-aria-label="Available AI features" id="ai-menu-anchor-O6xqCTm6vB5m" value=""><template shadowrootmode="open" shadowrootdelegatesfocus><!----><button id="button" class="icon-button  standard " aria-label="Available AI features" aria-haspopup="menu" aria-expanded="false">
        <!--?lit$079637519$--><md-focus-ring part="focus-ring" for="button" aria-hidden="true"><template shadowrootmode="open"><!----></template></md-focus-ring>
        <!--?lit$079637519$--><md-ripple aria-hidden="true"><template shadowrootmode="open"><!----><div class="surface   "></div></template></md-ripple>
        <!--?lit$079637519$--><span class="icon"><slot></slot></span>
        <!--?lit$079637519$-->
        <!--?lit$079637519$--><span class="touch"></span>
  </button></template><md-icon aria-hidden="true"><template shadowrootmode="open"><!----><slot></slot></template>spark</md-icon>
          </md-icon-button>
          <!--?lit$079637519$--><colab-tooltip-trigger aria-hidden="true" for="ai-menu-anchor-O6xqCTm6vB5m" id="ai-menu-anchor-O6xqCTm6vB5m-tooltip" message="Available AI features"><template shadowrootmode="open"><!----><!--?lit$079637519$--><!----><div><!--?lit$079637519$-->Available AI features</div><!----><!--?--></template>
              </colab-tooltip-trigger> <!----><!----> <md-icon-button class="colab-icon" aria-describedby="button-copy-link-to-cell-tooltip" data-aria-label="Copy link to cell" command="copy-link-to-cell" id="button-copy-link-to-cell" value=""><template shadowrootmode="open" shadowrootdelegatesfocus><!----><button id="button" class="icon-button  standard " aria-label="Copy link to cell">
        <!--?lit$079637519$--><md-focus-ring part="focus-ring" for="button" aria-hidden="true"><template shadowrootmode="open"><!----></template></md-focus-ring>
        <!--?lit$079637519$--><md-ripple aria-hidden="true"><template shadowrootmode="open"><!----><div class="surface   "></div></template></md-ripple>
        <!--?lit$079637519$--><span class="icon"><slot></slot></span>
        <!--?lit$079637519$-->
        <!--?lit$079637519$--><span class="touch"></span>
  </button></template>
        <md-icon aria-hidden="true"><template shadowrootmode="open"><!----><slot></slot></template><!--?lit$079637519$-->link</md-icon>
        <!--?lit$079637519$-->
      </md-icon-button>
      <!--?lit$079637519$--><colab-tooltip-trigger aria-hidden="true" for="button-copy-link-to-cell" id="button-copy-link-to-cell-tooltip" message="Copy link to cell"><template shadowrootmode="open"><!----><!--?lit$079637519$--><!----><div><!--?lit$079637519$-->Copy link to cell</div><!----><!--?--></template>
          </colab-tooltip-trigger><!--?--><!----><!----> <md-icon-button class="colab-icon" aria-describedby="button-add-comment-tooltip" data-aria-label="Add a comment
Ctrl+Alt+M" command="add-comment" id="button-add-comment" value=""><template shadowrootmode="open" shadowrootdelegatesfocus><!----><button id="button" class="icon-button  standard " aria-label="Add a comment
Ctrl+Alt+M">
        <!--?lit$079637519$--><md-focus-ring part="focus-ring" for="button" aria-hidden="true"><template shadowrootmode="open"><!----></template></md-focus-ring>
        <!--?lit$079637519$--><md-ripple aria-hidden="true"><template shadowrootmode="open"><!----><div class="surface   "></div></template></md-ripple>
        <!--?lit$079637519$--><span class="icon"><slot></slot></span>
        <!--?lit$079637519$-->
        <!--?lit$079637519$--><span class="touch"></span>
  </button></template>
        <md-icon aria-hidden="true"><template shadowrootmode="open"><!----><slot></slot></template><!--?lit$079637519$-->comment</md-icon>
        <!--?lit$079637519$-->
      </md-icon-button>
      <!--?lit$079637519$--><colab-tooltip-trigger aria-hidden="true" for="button-add-comment" id="button-add-comment-tooltip" message="Add a comment
Ctrl+Alt+M"><template shadowrootmode="open"><!----><!--?lit$079637519$--><!----><div><!--?lit$079637519$-->Add a comment</div><!----><!----><div><!--?lit$079637519$-->Ctrl+Alt+M</div><!----><!--?--></template>
          </colab-tooltip-trigger><!--?--><!----><!----> <md-icon-button class="colab-icon" aria-describedby="button-editor-preferences-tooltip" data-aria-label="Open editor settings" command="editor-preferences" id="button-editor-preferences" value=""><template shadowrootmode="open" shadowrootdelegatesfocus><!----><button id="button" class="icon-button  standard " aria-label="Open editor settings">
        <!--?lit$079637519$--><md-focus-ring part="focus-ring" for="button" aria-hidden="true"><template shadowrootmode="open"><!----></template></md-focus-ring>
        <!--?lit$079637519$--><md-ripple aria-hidden="true"><template shadowrootmode="open"><!----><div class="surface   "></div></template></md-ripple>
        <!--?lit$079637519$--><span class="icon"><slot></slot></span>
        <!--?lit$079637519$-->
        <!--?lit$079637519$--><span class="touch"></span>
  </button></template>
        <md-icon filled="" aria-hidden="true"><template shadowrootmode="open"><!----><slot></slot></template><!--?lit$079637519$-->settings</md-icon>
        <!--?lit$079637519$-->
      </md-icon-button>
      <!--?lit$079637519$--><colab-tooltip-trigger aria-hidden="true" for="button-editor-preferences" id="button-editor-preferences-tooltip" message="Open editor settings"><template shadowrootmode="open"><!----><!--?lit$079637519$--><!----><div><!--?lit$079637519$-->Open editor settings</div><!----><!--?--></template>
          </colab-tooltip-trigger><!--?--><!----><!----> <md-icon-button class="colab-icon" aria-describedby="button-toggle-edit-markdown-tooltip" data-aria-label="Edit" command="toggle-edit-markdown" id="button-toggle-edit-markdown" toggle="" style="display: none;" value=""><template shadowrootmode="open" shadowrootdelegatesfocus><!----><button id="button" class="icon-button  standard " aria-label="Edit" aria-pressed="false">
        <!--?lit$079637519$--><md-focus-ring part="focus-ring" for="button" aria-hidden="true"><template shadowrootmode="open"><!----></template></md-focus-ring>
        <!--?lit$079637519$--><md-ripple aria-hidden="true"><template shadowrootmode="open"><!----><div class="surface   "></div></template></md-ripple>
        <!--?lit$079637519$--><span class="icon"><slot></slot></span>
        <!--?lit$079637519$-->
        <!--?lit$079637519$--><span class="touch"></span>
  </button></template>
        <md-icon aria-hidden="true"><template shadowrootmode="open"><!----><slot></slot></template><!--?lit$079637519$-->edit</md-icon>
        <!--?lit$079637519$--><md-icon slot="selected" aria-hidden="true"><template shadowrootmode="open"><!----><slot></slot></template><!--?lit$079637519$-->edit_off</md-icon>
      </md-icon-button>
      <!--?lit$079637519$--><colab-tooltip-trigger aria-hidden="true" for="button-toggle-edit-markdown" id="button-toggle-edit-markdown-tooltip" message="Edit"><template shadowrootmode="open"><!----><!--?lit$079637519$--><!----><div><!--?lit$079637519$-->Edit</div><!----><!--?--></template>
          </colab-tooltip-trigger><!--?--><!----><!----> <md-icon-button class="colab-icon" aria-describedby="button-mirror-cell-in-tab-tooltip" data-aria-label="Mirror cell in tab" command="mirror-cell-in-tab" id="button-mirror-cell-in-tab" value=""><template shadowrootmode="open" shadowrootdelegatesfocus><!----><button id="button" class="icon-button  standard " aria-label="Mirror cell in tab">
        <!--?lit$079637519$--><md-focus-ring part="focus-ring" for="button" aria-hidden="true"><template shadowrootmode="open"><!----></template></md-focus-ring>
        <!--?lit$079637519$--><md-ripple aria-hidden="true"><template shadowrootmode="open"><!----><div class="surface   "></div></template></md-ripple>
        <!--?lit$079637519$--><span class="icon"><slot></slot></span>
        <!--?lit$079637519$-->
        <!--?lit$079637519$--><span class="touch"></span>
  </button></template>
        <md-icon aria-hidden="true"><template shadowrootmode="open"><!----><slot></slot></template><!--?lit$079637519$--><svg viewBox="0 0 24 24"><!--?lit$079637519$-->
      <g id="mirror-cell">
        <path d="M4,21V7H2V21a2,2,0,0,0,2,2H18V21Z"></path>
        <path d="M6,13v2H8.6L5,18.6,6.4,20,10,16.4V19h2V13Z"></path>
        <path d="M19,1H8A2,2,0,0,0,6,3v8H8V3H19V17H14v2h5a2,2,0,0,0,2-2V3A2,2,0,0,0,19,1Z"></path>
      </g></svg></md-icon>
        <!--?lit$079637519$-->
      </md-icon-button>
      <!--?lit$079637519$--><colab-tooltip-trigger aria-hidden="true" for="button-mirror-cell-in-tab" id="button-mirror-cell-in-tab-tooltip" message="Mirror cell in tab"><template shadowrootmode="open"><!----><!--?lit$079637519$--><!----><div><!--?lit$079637519$-->Mirror cell in tab</div><!----><!--?--></template>
          </colab-tooltip-trigger><!--?--><!----><!----> <md-icon-button class="colab-icon" aria-describedby="button-delete-cell-or-selection-tooltip" data-aria-label="Delete cell
Ctrl+M D" command="delete-cell-or-selection" id="button-delete-cell-or-selection" value=""><template shadowrootmode="open" shadowrootdelegatesfocus><!----><button id="button" class="icon-button  standard " aria-label="Delete cell
Ctrl+M D">
        <!--?lit$079637519$--><md-focus-ring part="focus-ring" for="button" aria-hidden="true"><template shadowrootmode="open"><!----></template></md-focus-ring>
        <!--?lit$079637519$--><md-ripple aria-hidden="true"><template shadowrootmode="open"><!----><div class="surface   "></div></template></md-ripple>
        <!--?lit$079637519$--><span class="icon"><slot></slot></span>
        <!--?lit$079637519$-->
        <!--?lit$079637519$--><span class="touch"></span>
  </button></template>
        <md-icon aria-hidden="true"><template shadowrootmode="open"><!----><slot></slot></template><!--?lit$079637519$-->delete</md-icon>
        <!--?lit$079637519$-->
      </md-icon-button>
      <!--?lit$079637519$--><colab-tooltip-trigger aria-hidden="true" for="button-delete-cell-or-selection" id="button-delete-cell-or-selection-tooltip" message="Delete cell
Ctrl+M D"><template shadowrootmode="open"><!----><!--?lit$079637519$--><!----><div><!--?lit$079637519$-->Delete cell</div><!----><!----><div><!--?lit$079637519$-->Ctrl+M D</div><!----><!--?--></template>
          </colab-tooltip-trigger><!--?--><!----><!--?lit$079637519$--><md-icon-button data-aria-expanded="false" data-aria-haspopup="menu" aria-describedby="button-more-actions-tooltip" data-aria-label="More cell actions" class="colab-icon cell-toolbar-more" id="button-more-actions" value=""><template shadowrootmode="open" shadowrootdelegatesfocus><!----><button id="button" class="icon-button  standard " aria-label="More cell actions" aria-haspopup="menu" aria-expanded="false">
        <!--?lit$079637519$--><md-focus-ring part="focus-ring" for="button" aria-hidden="true"><template shadowrootmode="open"><!----></template></md-focus-ring>
        <!--?lit$079637519$--><md-ripple aria-hidden="true"><template shadowrootmode="open"><!----><div class="surface   "></div></template></md-ripple>
        <!--?lit$079637519$--><span class="icon"><slot></slot></span>
        <!--?lit$079637519$-->
        <!--?lit$079637519$--><span class="touch"></span>
  </button></template><md-icon aria-hidden="true"><template shadowrootmode="open"><!----><slot></slot></template>more_vert</md-icon>
      </md-icon-button>
      <!--?lit$079637519$--><colab-tooltip-trigger aria-hidden="true" for="button-more-actions" id="button-more-actions-tooltip" message="More cell actions"><template shadowrootmode="open"><!----><!--?lit$079637519$--><!----><div><!--?lit$079637519$-->More cell actions</div><!----><!--?--></template>
          </colab-tooltip-trigger><!--?--><!--?--></template></colab-cell-toolbar></div><div class="main-content" elevation="2"><div class="cell-contents"><div class="cell-mask"></div><span class="imported-info-area"></span><div class="codecell-input-output">
      <div class="inputarea horizontal layout code">
        <div class="cell-gutter">
          <!-- Bounding range for vertical scrolling of icons -->
          <div class="cell-execution-container">
            <colab-run-button><template shadowrootmode="open"><!----> <div class="cell-execution focused">
      <button id="run-button" aria-describedby="run-button-tooltip" aria-label="Run cell">
        <!--?lit$079637519$--><span class="execution-count"><!--?lit$079637519$-->[9]</span>
        <span aria-hidden="true" class="cell-execution-indicator"><!--?lit$079637519$-->
<svg xmlns="http://www.w3.org/2000/svg" viewBox="0 0 24 24">
  <!--?lit$079637519$-->
  <mask id="playSymbolMask">
    <rect width="100%" height="100%" fill="white"></rect>
    <polygon points="10,8 17,12 10,16" fill="black"></polygon>
  </mask>
  <circle cx="12" cy="12" r="7.8" mask="url(#playSymbolMask)" id="filledCircle"></circle>
</svg></span>
      </button>
      <!--?lit$079637519$--><colab-tooltip-trigger for="run-button" id="run-button-tooltip" aria-hidden="true" message="Run cell (Ctrl+Enter)
cell executed since last change

executed by CHARITH REDDY PUTTA
6:37 PM (0 minutes ago)
executed in 0.239s"><template shadowrootmode="open"><!----><!--?lit$079637519$--><!----><div><!--?lit$079637519$-->Run cell (Ctrl+Enter)</div><!----><!----><div><!--?lit$079637519$-->cell executed since last change</div><!----><!----><br><!----><!----><div><!--?lit$079637519$-->executed by CHARITH REDDY PUTTA</div><!----><!----><div><!--?lit$079637519$-->6:37 PM (0 minutes ago)</div><!----><!----><div><!--?lit$079637519$-->executed in 0.239s</div><!----><!--?--></template>
    </colab-tooltip-trigger>
      <!--?lit$079637519$--><div id="status" class="last-run">
      <md-icon aria-hidden="true"><template shadowrootmode="open"><!----><slot></slot></template><!--?lit$079637519$--><svg viewBox="0 0 24 24"><!--?lit$079637519$--><path d="M9 16.17L4.83 12l-1.42 1.41L9 19 21 7l-1.41-1.41z"></path></svg></md-icon>
      <div><!--?lit$079637519$-->0s</div>
    </div>
    </div></template></colab-run-button>
          </div>
        </div>
      <div class="editor flex lazy-editor" style=""><div class="editor flex monaco" data-keybinding-context="8" data-mode-id="notebook-python" style="height: 29px; --vscode-editorCodeLens-lineHeight: 16px; --vscode-editorCodeLens-fontSize: 12px; --vscode-editorCodeLens-fontFeatureSettings: &quot;liga&quot; off, &quot;calt&quot; off;"><div class="monaco-editor no-user-select  showUnused showDeprecated vs" role="code" data-uri="inmemory://model/8" style="width: 1411px; height: 29px;"><div data-mprt="3" class="overflow-guard" style="width: 1411px; height: 29px; overflow: clip;"><div class="margin" role="presentation" aria-hidden="true" style="position: absolute; contain: strict; will-change: unset; top: 0px; height: 29px; width: 6px;"><div class="glyph-margin" style="left: 0px; width: 0px; height: 29px;"></div><div class="margin-view-zones" role="presentation" aria-hidden="true" style="position: absolute;"></div><div class="margin-view-overlays" role="presentation" aria-hidden="true" style="position: absolute; font-family: monospace, Consolas, &quot;Courier New&quot;, monospace; font-weight: normal; font-size: 14px; font-feature-settings: &quot;liga&quot; 0, &quot;calt&quot; 0; font-variation-settings: normal; line-height: 19px; letter-spacing: 0px; width: 6px; height: 29px;"><div style="position:absolute;top:0px;width:100%;height:19px;"><div class="current-line current-line-margin-both" style="width:6px; height:19px;"></div></div></div><div class="glyph-margin-widgets" style="position: absolute; top: 0px;"></div></div><div class="monaco-scrollable-element editor-scrollable vs" role="presentation" data-mprt="5" style="position: absolute; overflow: hidden; left: 6px; width: 1405px; height: 29px;"><div class="lines-content monaco-editor-background" style="position: absolute; overflow: hidden; width: 1e+06px; height: 29px; contain: strict; will-change: unset; top: 0px; left: 0px;"><div class="view-overlays" role="presentation" aria-hidden="true" style="position: absolute; font-family: monospace, Consolas, &quot;Courier New&quot;, monospace; font-weight: normal; font-size: 14px; font-feature-settings: &quot;liga&quot; 0, &quot;calt&quot; 0; font-variation-settings: normal; line-height: 19px; letter-spacing: 0px; height: 0px; width: 1405px;"><div style="position:absolute;top:0px;width:100%;height:19px;"><div class="current-line" style="width:1405px; height:19px;"></div></div></div><div role="presentation" aria-hidden="true" class="view-rulers"></div><div class="view-zones" role="presentation" aria-hidden="true" style="position: absolute;"></div><div class="view-lines monaco-mouse-cursor-text" role="presentation" aria-hidden="true" data-mprt="7" style="position: absolute; font-family: monospace, Consolas, &quot;Courier New&quot;, monospace; font-weight: normal; font-size: 14px; font-feature-settings: &quot;liga&quot; 0, &quot;calt&quot; 0; font-variation-settings: normal; line-height: 19px; letter-spacing: 0px; width: 1405px; height: 29px;"><div style="top:0px;height:19px;" class="view-line"><span><span class="mtk6">!</span><span class="mtk1">cp&nbsp;</span><span class="mtk1 detected-link">/content/Home_Assignment1.ipynb</span><span class="mtk1">&nbsp;</span><span class="mtk1 detected-link">/content/Neural-Networks</span><span class="mtk1">/</span></span></div></div><div data-mprt="1" class="contentWidgets" style="position: absolute; top: 0px;"><div class="lightBulbWidget codicon codicon-light-bulb" widgetid="LightBulbWidget" title="Show Code Actions (Ctrl+.)" style="position: absolute; display: none; visibility: hidden; max-width: 1405px;"></div></div><div role="presentation" aria-hidden="true" class="cursors-layer cursor-line-style cursor-solid"><div class="cursor monaco-mouse-cursor-text " style="height: 19px; top: 0px; left: 470px; font-family: monospace, Consolas, &quot;Courier New&quot;, monospace; font-weight: normal; font-size: 14px; font-feature-settings: &quot;liga&quot; 0, &quot;calt&quot; 0; font-variation-settings: normal; line-height: 19px; letter-spacing: 0px; display: block; visibility: hidden; padding-left: 0px; width: 1.6px;"></div></div></div><div role="presentation" aria-hidden="true" class="invisible scrollbar horizontal" style="position: absolute; width: 1391px; height: 10px; left: 0px; bottom: 0px;"><div class="slider" style="position: absolute; top: 0px; left: 0px; height: 10px; transform: translate3d(0px, 0px, 0px); contain: strict; will-change: unset; width: 1391px;"></div></div><canvas class="decorationsOverviewRuler" aria-hidden="true" width="17" height="36" style="position: absolute; transform: translate3d(0px, 0px, 0px); contain: strict; top: 0px; right: 0px; width: 14px; height: 29px; will-change: unset; display: block;"></canvas><div role="presentation" aria-hidden="true" class="invisible scrollbar vertical" style="position: absolute; width: 14px; height: 29px; right: 0px; top: 0px;"><div class="slider" style="position: absolute; top: 0px; left: 0px; width: 14px; transform: translate3d(0px, 0px, 0px); contain: strict; will-change: unset; height: 29px;"></div></div></div><div role="presentation" aria-hidden="true" style="width: 1411px;"></div><textarea data-mprt="6" class="inputarea monaco-mouse-cursor-text" wrap="on" autocorrect="off" autocapitalize="off" autocomplete="off" spellcheck="false" aria-label="Editor content;Press Alt+F1 for Accessibility Options." tabindex="0" role="textbox" aria-roledescription="editor" aria-multiline="true" aria-haspopup="false" aria-autocomplete="both" style="tab-size: 15.3984px; font-family: monospace, Consolas, &quot;Courier New&quot;, monospace; font-weight: normal; font-size: 14px; font-feature-settings: &quot;liga&quot; 0, &quot;calt&quot; 0; font-variation-settings: normal; line-height: 19px; letter-spacing: 0px; top: 0px; left: 6px; width: 76992px; height: 1px;"></textarea><div style="position: absolute; top: 0px; left: 0px; width: 0px; height: 0px;" class="monaco-editor-background textAreaCover"></div><div data-mprt="4" class="overlayWidgets" style="width: 1411px;"></div><div data-mprt="8" class="minimap slider-mouseover" role="presentation" aria-hidden="true" style="position: absolute; left: 0px; width: 0px; height: 29px;"><div class="minimap-shadow-hidden" style="height: 29px;"></div><canvas width="0" height="36" style="position: absolute; left: 0px; width: 0px; height: 29px;"></canvas><canvas class="minimap-decorations-layer" width="0" height="36" style="position: absolute; left: 0px; width: 0px; height: 29px;"></canvas><div class="minimap-slider" style="position: absolute; transform: translate3d(0px, 0px, 0px); contain: strict; width: 0px; will-change: unset;"><div class="minimap-slider-horizontal" style="position: absolute; width: 0px; height: 0px;"></div></div></div><div role="presentation" aria-hidden="true" class="blockDecorations-container"></div></div><div data-mprt="2" class="overflowingContentWidgets" style="display: none;"><div widgetid="editor.contrib.resizableContentHoverWidget" style="position: fixed; height: 29px; width: 254px; z-index: 50; display: none; visibility: hidden; max-width: 1536px; top: 297.1px; left: 384.4px;"><div class="monaco-sash vertical" style="left: 252px;"></div><div class="monaco-sash vertical disabled" style="left: -2px;"></div><div class="monaco-sash orthogonal-edge-north horizontal" style="top: -2px;"><div class="orthogonal-drag-handle end"></div></div><div class="monaco-sash orthogonal-edge-south horizontal disabled" style="top: 27px;"><div class="orthogonal-drag-handle end"></div></div><div class="monaco-hover hidden" tabindex="0" role="tooltip" style="width: 254px; height: 29px;"><div class="monaco-scrollable-element " role="presentation" style="position: relative; overflow: hidden;"><div class="monaco-hover-content" style="overflow: hidden; font-size: 14px; line-height: 1.35714; max-width: 931.26px; max-height: 250px; width: 254px; height: 29px;"><div class="hover-row markdown-hover"><div class="hover-contents"><div class="rendered-markdown"><p><a data-href="command:viewSource?%5B%22file%3A%2F%2F%2Fcontent%2Fyour-repo-name%22%2Cnull%5D" href="https://colab.research.google.com/drive/111z-p0sZpSWYLqDIykTzErW3_j18hH7Q" title="Execute command viewSource">/content/your-repo-name</a> (ctrl + click)</p></div></div></div></div><div role="presentation" aria-hidden="true" class="invisible scrollbar horizontal" style="position: absolute; width: 244px; height: 10px; left: 0px; bottom: 0px;"><div class="slider" style="position: absolute; top: 0px; left: 0px; height: 10px; transform: translate3d(0px, 0px, 0px); contain: strict; width: 244px;"></div></div><div role="presentation" aria-hidden="true" class="invisible scrollbar vertical" style="position: absolute; width: 10px; height: 29px; right: 0px; top: 0px;"><div class="slider" style="position: absolute; top: 0px; left: 0px; width: 10px; transform: translate3d(0px, 0px, 0px); contain: strict; height: 29px;"></div></div><div class="shadow"></div><div class="shadow"></div><div class="shadow"></div></div></div></div><div class="editor-widget suggest-widget" widgetid="editor.widget.suggestWidget" style="position: fixed; display: none; visibility: hidden; max-width: 1536px; height: 21px; width: 430px; top: 345.1px; left: 461.4px;"><div class="monaco-sash vertical" style="left: 428px;"></div><div class="monaco-sash vertical disabled" style="left: -2px;"></div><div class="monaco-sash orthogonal-edge-north horizontal disabled" style="top: -2px;"><div class="orthogonal-drag-handle end"></div></div><div class="monaco-sash orthogonal-edge-south horizontal" style="top: 19px;"><div class="orthogonal-drag-handle end"></div></div><div class="message" aria-hidden="true" style="display: none;"></div><div class="tree" style="height: 21px; display: none;" aria-hidden="true"><div class="monaco-list list_id_8 selection-none" tabindex="0" role="listbox" aria-label="Suggest"><div class="monaco-scrollable-element " role="presentation" style="position: relative; overflow: hidden;"><div class="monaco-list-rows" style="transform: translate3d(0px, 0px, 0px); overflow: hidden; contain: strict; height: 0px; left: 0px; top: 0px;"></div><div role="presentation" aria-hidden="true" class="invisible scrollbar horizontal" style="position: absolute; width: 0px; height: 10px; left: 0px; bottom: 0px;"><div class="slider" style="position: absolute; top: 0px; left: 0px; height: 10px; transform: translate3d(0px, 0px, 0px); contain: strict; width: 0px;"></div></div><div role="presentation" aria-hidden="true" class="invisible scrollbar vertical" style="position: absolute; width: 10px; height: 21px; right: 0px; top: 0px;"><div class="slider" style="position: absolute; top: 0px; left: 0px; width: 10px; transform: translate3d(0px, 0px, 0px); contain: strict; height: 21px;"></div></div></div><style type="text/css" media="screen">.monaco-list.list_id_8:focus .monaco-list-row.focused { background-color: var(--vscode-list-focusBackground); }
.monaco-list.list_id_8:focus .monaco-list-row.focused:hover { background-color: var(--vscode-list-focusBackground); }
.monaco-list.list_id_8:focus .monaco-list-row.focused { color: var(--vscode-list-focusForeground); }
.monaco-list.list_id_8:focus .monaco-list-row.selected { background-color: var(--vscode-list-activeSelectionBackground); }
.monaco-list.list_id_8:focus .monaco-list-row.selected:hover { background-color: var(--vscode-list-activeSelectionBackground); }
.monaco-list.list_id_8:focus .monaco-list-row.selected { color: var(--vscode-list-activeSelectionForeground); }
.monaco-list.list_id_8:focus .monaco-list-row.selected .codicon { color: var(--vscode-list-activeSelectionIconForeground); }

				.monaco-drag-image,
				.monaco-list.list_id_8:focus .monaco-list-row.selected.focused { background-color: var(--vscode-list-activeSelectionBackground); }
			

				.monaco-drag-image,
				.monaco-list.list_id_8:focus .monaco-list-row.selected.focused { color: var(--vscode-list-activeSelectionForeground); }
			
.monaco-list.list_id_8 .monaco-list-row.focused .codicon { color:  var(--vscode-list-inactiveSelectionIconForeground); }
.monaco-list.list_id_8 .monaco-list-row.focused { background-color:  var(--vscode-editorSuggestWidget-selectedBackground); }
.monaco-list.list_id_8 .monaco-list-row.focused:hover { background-color:  var(--vscode-editorSuggestWidget-selectedBackground); }
.monaco-list.list_id_8 .monaco-list-row.selected { background-color:  var(--vscode-list-inactiveSelectionBackground); }
.monaco-list.list_id_8 .monaco-list-row.selected:hover { background-color:  var(--vscode-list-inactiveSelectionBackground); }
.monaco-list.list_id_8 .monaco-list-row.selected { color: var(--vscode-list-inactiveSelectionForeground); }
.monaco-list.list_id_8:not(.drop-target):not(.dragging) .monaco-list-row:hover:not(.selected):not(.focused) { background-color: var(--vscode-list-hoverBackground); }
.monaco-list.list_id_8:not(.drop-target):not(.dragging) .monaco-list-row:hover:not(.selected):not(.focused) { color:  var(--vscode-list-hoverForeground); }
.monaco-list.list_id_8:focus .monaco-list-row.focused.selected { outline: 1px solid var(--vscode-list-focusAndSelectionOutline, var(--vscode-contrastActiveBorder, var(--vscode-list-focusOutline))); outline-offset: -1px;}

				.monaco-drag-image,
				.monaco-list.list_id_8:focus .monaco-list-row.focused { outline: 1px solid var(--vscode-list-focusOutline); outline-offset: -1px; }
				.monaco-workbench.context-menu-visible .monaco-list.list_id_8.last-focused .monaco-list-row.focused { outline: 1px solid var(--vscode-list-focusOutline); outline-offset: -1px; }
			
.monaco-list.list_id_8 .monaco-list-row.focused.selected { outline: 1px dotted var(--vscode-contrastActiveBorder, var(--vscode-contrastActiveBorder)); outline-offset: -1px; }
.monaco-list.list_id_8 .monaco-list-row.selected { outline: 1px dotted var(--vscode-contrastActiveBorder); outline-offset: -1px; }
.monaco-list.list_id_8 .monaco-list-row.focused { outline: 1px dotted var(--vscode-contrastActiveBorder); outline-offset: -1px; }
.monaco-list.list_id_8 .monaco-list-row:hover { outline: 1px dashed var(--vscode-contrastActiveBorder); outline-offset: -1px; }

				.monaco-list.list_id_8.drop-target,
				.monaco-list.list_id_8 .monaco-list-rows.drop-target,
				.monaco-list.list_id_8 .monaco-list-row.drop-target { background-color: var(--vscode-list-dropBackground) !important; color: inherit !important; }
			

				.monaco-table > .monaco-split-view2,
				.monaco-table > .monaco-split-view2 .monaco-sash.vertical::before,
				.monaco-workbench:not(.reduce-motion) .monaco-table:hover > .monaco-split-view2,
				.monaco-workbench:not(.reduce-motion) .monaco-table:hover > .monaco-split-view2 .monaco-sash.vertical::before {
					border-color: var(--vscode-tree-tableColumnsBorder);
				}

				.monaco-workbench:not(.reduce-motion) .monaco-table > .monaco-split-view2,
				.monaco-workbench:not(.reduce-motion) .monaco-table > .monaco-split-view2 .monaco-sash.vertical::before {
					border-color: transparent;
				}
			

				.monaco-table .monaco-list-row[data-parity=odd]:not(.focused):not(.selected):not(:hover) .monaco-table-tr,
				.monaco-table .monaco-list:not(:focus) .monaco-list-row[data-parity=odd].focused:not(.selected):not(:hover) .monaco-table-tr,
				.monaco-table .monaco-list:not(.focused) .monaco-list-row[data-parity=odd].focused:not(.selected):not(:hover) .monaco-table-tr {
					background-color: var(--vscode-tree-tableOddRowsBackground);
				}
			</style></div></div><div class="suggest-status-bar" style="height: 19px; display: none;" aria-hidden="true"><div class="monaco-action-bar animated left"><ul class="actions-container" role="presentation"><li class="action-item menu-entry" role="presentation" title="Insert (Enter)"><a class="action-label" role="button" aria-label="Insert (Enter)" aria-checked="" tabindex="0">Insert (⏎)</a></li></ul></div><div class="monaco-action-bar animated right"><ul class="actions-container" role="presentation"><li class="action-item menu-entry" role="presentation" title="show more (Ctrl+Space)"><a class="action-label" role="button" aria-label="show more (Ctrl+Space)" aria-checked="" tabindex="0">show more (Ctrl+Space)</a></li></ul></div></div></div></div><div class=".in-cell-overflowing"><div widgetid="editor.contrib.quickInputWidget" style="position: absolute; top: 0px; right: 50%;"></div></div></div></div></div><colab-form class="formview vertical layout flex"><div class="widget-area vertical layout"></div></colab-form></div>
    <div class="output" aria-label="Cell 4 output" role="region"><!----> <div class="output-header"> </div>
        <div class="output-content">
          <div class="output-info"><colab-output-info><template shadowrootmode="open"><!----><md-icon-button data-aria-expanded="false" data-aria-haspopup="menu" aria-describedby="button-output-actions-tooltip" data-aria-label="Code cell output actions" id="button-output-actions" value=""><template shadowrootmode="open" shadowrootdelegatesfocus><!----><button id="button" class="icon-button  standard " aria-label="Code cell output actions" aria-haspopup="menu" aria-expanded="false">
        <!--?lit$079637519$--><md-focus-ring part="focus-ring" for="button" aria-hidden="true"><template shadowrootmode="open"><!----></template></md-focus-ring>
        <!--?lit$079637519$--><md-ripple aria-hidden="true"><template shadowrootmode="open"><!----><div class="surface   "></div></template></md-ripple>
        <!--?lit$079637519$--><span class="icon"><slot></slot></span>
        <!--?lit$079637519$-->
        <!--?lit$079637519$--><span class="touch"></span>
  </button></template>
        <md-icon aria-hidden="true"><template shadowrootmode="open"><!----><slot></slot></template><!--?lit$079637519$--><svg viewBox="0 0 24 24"><!--?lit$079637519$--><path d="m15.9 3.07c-4.32 0.0742-8.64-0.0355-13 0.0568-1.37 0.307-1.74 2.1-1.41 3.26 0.469 0.606 1.86 0.384 1.66-0.525 0.0448-0.329-0.183-0.93 0.354-0.766h13.3v1.53h1.71c0.0709-1.13 0.141-2.62-0.968-3.3-0.511-0.264-1.11-0.252-1.67-0.259zm2.94 6.84v4.87c1.62-1.62 3.24-3.24 4.87-4.87h-4.87zm0 0h-1.71v3.43l1.57 1.57c0.32-1.65 0.0556-3.34 0.135-5zm-1.71 3.43v-3.43h-3.43c1.14 1.14 2.29 2.29 3.43 3.43zm1.4 4.27h-1.71v1.48h-13.6v-1.48h-1.71c-0.0473 1.15-0.16 2.72 1.09 3.29 1.47 0.506 3.02 0.0265 4.53 0.192 3.34-0.0051 6.68 0.0336 10-0.0245 1.49-0.366 1.56-2.22 1.42-3.45zm-10.1-1.12c-0.398-0.483-0.796-0.967-1.19-1.45 0.59-0.683 1.18-1.37 1.77-2.05h-8.67v-2h8.67c-0.59-0.683-1.18-1.37-1.77-2.05 0.398-0.483 0.796-0.967 1.19-1.45 1.28 1.5 2.56 3 3.84 4.5-1.28 1.5-2.56 3-3.84 4.5z"></path></svg></md-icon>
      </md-icon-button>
      <!--?lit$079637519$--><colab-tooltip-trigger aria-hidden="true" id="button-output-actions-tooltip" for="button-output-actions" message="Code cell output actions"><template shadowrootmode="open"><!----><!--?lit$079637519$--><!----><div><!--?lit$079637519$-->Code cell output actions</div><!----><!--?--></template></colab-tooltip-trigger><!--?--></template></colab-output-info></div>
          <div class="output-iframe-container">
            <div class="output-iframe-sizer" style="min-height: 0px;"> <div><div><colab-static-output-renderer tabindex="0" role="group"><div><div class="stream output-id-1 output_text"><pre>cp: cannot stat '/content/Home_Assignment1.ipynb': No such file or directory
</pre></div></div><div></div></colab-static-output-renderer></div></div></div>
          </div>
        </div></div></div><colab-cell-next-steps><template shadowrootmode="open"><!----></template></colab-cell-next-steps></div></div><div class="add-cell">
      <div class="add-cell-buttons">
        <md-outlined-button class="add-code add-button" data-aria-label="Add code cell
Ctrl+M B" title="Add code cell
Ctrl+M B" value="" has-icon=""><template shadowrootmode="open" shadowrootdelegatesfocus><!---->
      <!--?lit$079637519$--><div class="outline"></div>
      <div class="background"></div>
      <md-focus-ring part="focus-ring" for="button" aria-hidden="true"><template shadowrootmode="open"><!----></template></md-focus-ring>
      <md-ripple part="ripple" for="button" aria-hidden="true"><template shadowrootmode="open"><!----><div class="surface   "></div></template></md-ripple>
      <!--?lit$079637519$--><button id="button" class="button" aria-label="Add code cell
Ctrl+M B">
      <!--?lit$079637519$-->
      <span class="touch"></span>
      <!--?lit$079637519$--><slot name="icon"></slot>
      <span class="label"><slot></slot></span>
      <!--?lit$079637519$-->
    
    </button>
    </template>
          <md-icon slot="icon" aria-hidden="true"><template shadowrootmode="open"><!----><slot></slot></template>add</md-icon>
          <!--?lit$079637519$-->Code
        </md-outlined-button>
        <md-outlined-button class="add-text add-button" data-aria-label="Add text cell" title="Add text cell" value="" has-icon=""><template shadowrootmode="open" shadowrootdelegatesfocus><!---->
      <!--?lit$079637519$--><div class="outline"></div>
      <div class="background"></div>
      <md-focus-ring part="focus-ring" for="button" aria-hidden="true"><template shadowrootmode="open"><!----></template></md-focus-ring>
      <md-ripple part="ripple" for="button" aria-hidden="true"><template shadowrootmode="open"><!----><div class="surface   "></div></template></md-ripple>
      <!--?lit$079637519$--><button id="button" class="button" aria-label="Add text cell">
      <!--?lit$079637519$-->
      <span class="touch"></span>
      <!--?lit$079637519$--><slot name="icon"></slot>
      <span class="label"><slot></slot></span>
      <!--?lit$079637519$-->
    
    </button>
    </template>
          <md-icon slot="icon" aria-hidden="true"><template shadowrootmode="open"><!----><slot></slot></template>add</md-icon>
          <!--?lit$079637519$-->Text
        </md-outlined-button>
        <!--?lit$079637519$-->
      </div><hr>
    </div></div></div>
              </div>
            </div>
          <section class="sidebar" aria-label="Comments" style="display: none;"></section></div>
          <!--?lit$079637519$--> <div class="footer-links">
      <a target="_blank" href="https://colab.research.google.com/signup?utm_source=footer&amp;utm_medium=link&amp;utm_campaign=footer_links">
        <!--?lit$079637519$-->Colab paid products
      </a>
      -
      <a href="https://colab.research.google.com/cancel-subscription" target="_blank">
        <!--?lit$079637519$-->Cancel contracts here
      </a>
    </div>
        </div>
      </colab-shaded-scroller>
      <div class="notebook-scroll-shadow" style="box-shadow: rgba(0, 0, 0, 0.15) 0px 4px 4px -2px inset;"></div>
    </div></colab-tab></div>
  </div></colab-tab-pane>
      <colab-resizer style="height: 33.3%" class="sn-resize no-tabs"><div class="resizer-thumb"></div>
        <!--?lit$079637519$--><colab-tab-pane class="layout vertical grow no-tabs" align="horizontal"><!----> <div class="layout vertical grow">
    <div class="tab-pane-header layout horizontal noshrink">
      <md-tabs><template shadowrootmode="open"><!---->
      <div class="tabs">
        <slot></slot>
      </div>
      <md-divider part="divider"><template shadowrootmode="open"><!----></template></md-divider>
    </template></md-tabs>
      <div class="layout grow"></div>
      <!--?lit$079637519$--> <md-icon-button data-aria-expanded="false" data-aria-haspopup="menu" title="More tab actions" data-aria-label="More tab actions" value=""><template shadowrootmode="open" shadowrootdelegatesfocus><!----><button id="button" class="icon-button  standard " aria-label="More tab actions" aria-haspopup="menu" aria-expanded="false">
        <!--?lit$079637519$--><md-focus-ring part="focus-ring" for="button" aria-hidden="true"><template shadowrootmode="open"><!----></template></md-focus-ring>
        <!--?lit$079637519$--><md-ripple aria-hidden="true"><template shadowrootmode="open"><!----><div class="surface   "></div></template></md-ripple>
        <!--?lit$079637519$--><span class="icon"><slot></slot></span>
        <!--?lit$079637519$-->
        <!--?lit$079637519$--><span class="touch"></span>
  </button></template>
    <md-icon aria-hidden="true"><template shadowrootmode="open"><!----><slot></slot></template>more_horiz</md-icon>
  </md-icon-button>
    </div>
    <div class="layout vertical grow tab-pane-container"> </div>
  </div></colab-tab-pane>
      </colab-resizer>
    </div>
      <colab-resizer style="width: 37%" class="we-resize no-tabs"><div class="resizer-thumb"></div>
        <!--?lit$079637519$--> <div class="layout vertical tab-pane-parent">
      <!--?lit$079637519$--><colab-tab-pane class="layout vertical grow no-tabs" align="horizontal"><!----> <div class="layout vertical grow">
    <div class="tab-pane-header layout horizontal noshrink">
      <md-tabs><template shadowrootmode="open"><!---->
      <div class="tabs">
        <slot></slot>
      </div>
      <md-divider part="divider"><template shadowrootmode="open"><!----></template></md-divider>
    </template></md-tabs>
      <div class="layout grow"></div>
      <!--?lit$079637519$--> <md-icon-button data-aria-expanded="false" data-aria-haspopup="menu" title="More tab actions" data-aria-label="More tab actions" value=""><template shadowrootmode="open" shadowrootdelegatesfocus><!----><button id="button" class="icon-button  standard " aria-label="More tab actions" aria-haspopup="menu" aria-expanded="false">
        <!--?lit$079637519$--><md-focus-ring part="focus-ring" for="button" aria-hidden="true"><template shadowrootmode="open"><!----></template></md-focus-ring>
        <!--?lit$079637519$--><md-ripple aria-hidden="true"><template shadowrootmode="open"><!----><div class="surface   "></div></template></md-ripple>
        <!--?lit$079637519$--><span class="icon"><slot></slot></span>
        <!--?lit$079637519$-->
        <!--?lit$079637519$--><span class="touch"></span>
  </button></template>
    <md-icon aria-hidden="true"><template shadowrootmode="open"><!----><slot></slot></template>more_horiz</md-icon>
  </md-icon-button>
    </div>
    <div class="layout vertical grow tab-pane-container"> </div>
  </div></colab-tab-pane>
      <colab-resizer style="height: 33.3%" class="sn-resize no-tabs"><div class="resizer-thumb"></div>
        <!--?lit$079637519$--><colab-tab-pane class="layout vertical grow no-tabs" align="horizontal"><!----> <div class="layout vertical grow">
    <div class="tab-pane-header layout horizontal noshrink">
      <md-tabs><template shadowrootmode="open"><!---->
      <div class="tabs">
        <slot></slot>
      </div>
      <md-divider part="divider"><template shadowrootmode="open"><!----></template></md-divider>
    </template></md-tabs>
      <div class="layout grow"></div>
      <!--?lit$079637519$--> <md-icon-button data-aria-expanded="false" data-aria-haspopup="menu" title="More tab actions" data-aria-label="More tab actions" value=""><template shadowrootmode="open" shadowrootdelegatesfocus><!----><button id="button" class="icon-button  standard " aria-label="More tab actions" aria-haspopup="menu" aria-expanded="false">
        <!--?lit$079637519$--><md-focus-ring part="focus-ring" for="button" aria-hidden="true"><template shadowrootmode="open"><!----></template></md-focus-ring>
        <!--?lit$079637519$--><md-ripple aria-hidden="true"><template shadowrootmode="open"><!----><div class="surface   "></div></template></md-ripple>
        <!--?lit$079637519$--><span class="icon"><slot></slot></span>
        <!--?lit$079637519$-->
        <!--?lit$079637519$--><span class="touch"></span>
  </button></template>
    <md-icon aria-hidden="true"><template shadowrootmode="open"><!----><slot></slot></template>more_horiz</md-icon>
  </md-icon-button>
    </div>
    <div class="layout vertical grow tab-pane-container"> </div>
  </div></colab-tab-pane>
      </colab-resizer>
    </div>
      </colab-resizer>
    </div></colab-tab-layout-container>
        </div>
        <div class="proxies"><div><colab-dom-lifecycle-events style="display: none;"></colab-dom-lifecycle-events><iframe allow="" sandbox="allow-downloads allow-forms allow-pointer-lock allow-popups allow-popups-to-escape-sandbox allow-same-origin allow-scripts allow-storage-access-by-user-activation" src="./Home_Assignment1_files/outputframe.html" style="width: 1px; height: 1px; position: absolute; top: -100px;"></iframe></div><div><colab-dom-lifecycle-events style="display: none;"></colab-dom-lifecycle-events><iframe allow="accelerometer; autoplay; gyroscope; magnetometer; xr-spatial-tracking; clipboard-write" sandbox="allow-downloads allow-forms allow-pointer-lock allow-popups allow-popups-to-escape-sandbox allow-same-origin allow-scripts allow-storage-access-by-user-activation allow-modals" src="./Home_Assignment1_files/outputframe(1).html" style="width: 1px; height: 1px; position: absolute; top: -100px;"></iframe></div></div>
      <colab-file-viewer-manager></colab-file-viewer-manager></div>
    <colab-status-bar role="region" aria-label="Runtime status bar" style="min-height: inherit;"><template shadowrootmode="open"><!----><!--?lit$079637519$--> <!--?lit$079637519$--> <div class="connect-status">
        <md-icon status="icon-okay" aria-hidden="true"><template shadowrootmode="open"><!----><slot></slot></template><!--?lit$079637519$--><svg viewBox="0 0 24 24"><!--?lit$079637519$--><path d="M9 16.17L4.83 12l-1.42 1.41L9 19 21 7l-1.41-1.41z"></path></svg></md-icon>
        <div aria-atomic="true" aria-live="polite"><!--?lit$079637519$-->Connected to Python 3 Google Compute Engine backend</div>
      </div>
      <md-icon-button class="visible-on-closed" title="Connected" disabled="" value="" data-aria-label="Connected"><template shadowrootmode="open" shadowrootdelegatesfocus><!----><button id="button" class="icon-button  standard " aria-label="Connected" disabled="">
        <!--?lit$079637519$--><md-focus-ring part="focus-ring" for="button" aria-hidden="true"><template shadowrootmode="open"><!----></template></md-focus-ring>
        <!--?lit$079637519$--><md-ripple disabled="" aria-hidden="true"><template shadowrootmode="open"><!----><div class="surface   "></div></template></md-ripple>
        <!--?lit$079637519$--><span class="icon"><slot></slot></span>
        <!--?lit$079637519$-->
        <!--?lit$079637519$--><span class="touch"></span>
  </button></template>
        <md-icon filled="" class="visible-on-closed" status="icon-okay" aria-hidden="true"><template shadowrootmode="open"><!----><slot></slot></template><!--?lit$079637519$-->fiber_manual_record</md-icon>
      </md-icon-button>
      <!--?lit$079637519$-->
      <md-icon-button title="Close" data-aria-label="Close" value=""><template shadowrootmode="open" shadowrootdelegatesfocus><!----><button id="button" class="icon-button  standard " aria-label="Close">
        <!--?lit$079637519$--><md-focus-ring part="focus-ring" for="button" aria-hidden="true"><template shadowrootmode="open"><!----></template></md-focus-ring>
        <!--?lit$079637519$--><md-ripple aria-hidden="true"><template shadowrootmode="open"><!----><div class="surface   "></div></template></md-ripple>
        <!--?lit$079637519$--><span class="icon"><slot></slot></span>
        <!--?lit$079637519$-->
        <!--?lit$079637519$--><span class="touch"></span>
  </button></template>
        <md-icon aria-hidden="true"><template shadowrootmode="open"><!----><slot></slot></template>close</md-icon>
      </md-icon-button></template></colab-status-bar></div><div class="goog-menu colab-styled-scroller" id="file-menu" role="menu" aria-haspopup="true" style="user-select: none; max-height: 724px; visibility: visible; left: 68px; top: 62px; display: none;"><!--?lit$079637519$--><div command="locate-in-drive" class="goog-menuitem" role="menuitem" id=":2" style="user-select: none;"><div class="goog-menuitem-content" style="user-select: none;"><!--?lit$079637519$-->Locate in Drive<!--?lit$079637519$--></div></div><div command="open-in-playground" class="goog-menuitem" role="menuitem" id=":3" style="user-select: none;"><div class="goog-menuitem-content" style="user-select: none;"><!--?lit$079637519$-->Open in playground mode<!--?lit$079637519$--></div></div><div class="goog-menuseparator goog-menuitem-disabled" aria-disabled="true" role="separator" id=":4" style="user-select: none;"></div><div command="new" class="goog-menuitem" role="menuitem" id=":5" style="user-select: none;"><div class="goog-menuitem-content" style="user-select: none;"><!--?lit$079637519$-->New notebook in Drive<!--?lit$079637519$--></div></div><div command="open" class="goog-menuitem" role="menuitem" id=":6" style="user-select: none;"><div class="goog-menuitem-content" style="user-select: none;"><!--?lit$079637519$-->Open notebook<!--?lit$079637519$--><span class="goog-menuitem-accel">Ctrl+O</span></div></div><div command="import-notebook" class="goog-menuitem" role="menuitem" id=":7" style="user-select: none;"><div class="goog-menuitem-content" style="user-select: none;"><!--?lit$079637519$-->Upload notebook<!--?lit$079637519$--></div></div><div class="goog-menuseparator goog-menuitem-disabled" aria-disabled="true" role="separator" id=":8" style="user-select: none;"></div><div command="rename" class="goog-menuitem" role="menuitem" id=":9" style="user-select: none;"><div class="goog-menuitem-content" style="user-select: none;"><!--?lit$079637519$-->Rename<!--?lit$079637519$--></div></div><div command="move-notebook" class="goog-menuitem" role="menuitem" id=":a" style="user-select: none;"><div class="goog-menuitem-content" style="user-select: none;"><!--?lit$079637519$-->Move<!--?lit$079637519$--></div></div><div command="trash" class="goog-menuitem" role="menuitem" id=":b" style="user-select: none;"><div class="goog-menuitem-content" style="user-select: none;"><!--?lit$079637519$-->Move to trash<!--?lit$079637519$--></div></div><div class="goog-menuseparator goog-menuitem-disabled" aria-disabled="true" role="separator" id=":c" style="user-select: none;"></div><div command="clone" class="goog-menuitem" role="menuitem" id=":d" style="user-select: none;"><div class="goog-menuitem-content" style="user-select: none;"><!--?lit$079637519$-->Save a copy in Drive<!--?lit$079637519$--></div></div><div command="copy-to-gist" class="goog-menuitem" role="menuitem" id=":e" style="user-select: none;"><div class="goog-menuitem-content" style="user-select: none;"><!--?lit$079637519$-->Save a copy as a GitHub Gist<!--?lit$079637519$--></div></div><div command="copy-to-github" class="goog-menuitem" role="menuitem" id=":f" style="user-select: none;"><div class="goog-menuitem-content" style="user-select: none;"><!--?lit$079637519$-->Save a copy in GitHub<!--?lit$079637519$--></div></div><div class="goog-menuseparator goog-menuitem-disabled" aria-disabled="true" role="separator" id=":g" style="user-select: none;"></div><div command="save" class="goog-menuitem" role="menuitem" id=":h" style="user-select: none;"><div class="goog-menuitem-content" style="user-select: none;"><!--?lit$079637519$-->Save<!--?lit$079637519$--><span class="goog-menuitem-accel">Ctrl+S</span></div></div><div command="save-and-checkpoint" class=" goog-menuitem " role="menuitem" id=":i" style="user-select: none;"><div class="goog-menuitem-content" style="user-select: none;"><!--?lit$079637519$-->Save and pin revision<!--?lit$079637519$--><span class="goog-menuitem-accel">Ctrl+M S</span></div></div><div command="show-history" class=" goog-menuitem " role="menuitem" id=":j" style="user-select: none;"><div class="goog-menuitem-content" style="user-select: none;"><!--?lit$079637519$-->Revision history<!--?lit$079637519$--></div></div><div class="goog-menuseparator goog-menuitem-disabled" aria-disabled="true" role="separator" id=":k" style="user-select: none;"></div><div class="goog-submenu goog-menuitem" id="download-submenu-menu-button" role="menuitem" aria-haspopup="true" style="user-select: none;"><div class="goog-menuitem-content" style="user-select: none;">
      <!--?lit$079637519$-->Download
    <span class="goog-submenu-arrow" style="user-select: none;">►</span></div></div><div command="print" class=" goog-menuitem " role="menuitem" id=":o" style="user-select: none;"><div class="goog-menuitem-content" style="user-select: none;"><!--?lit$079637519$-->Print<!--?lit$079637519$--><span class="goog-menuitem-accel">Ctrl+P</span></div></div></div><div class="goog-menu" id="download-submenu-menu" role="menu" aria-haspopup="true" style="display: none; user-select: none;"><!--?lit$079637519$--><div command="download-ipynb" class=" goog-menuitem " role="menuitem" id=":m" style="user-select: none;"><div class="goog-menuitem-content" style="user-select: none;"><!--?lit$079637519$-->Download .ipynb<!--?lit$079637519$--></div></div><div command="download-python" class=" goog-menuitem " role="menuitem" id=":n" style="user-select: none;"><div class="goog-menuitem-content" style="user-select: none;"><!--?lit$079637519$-->Download .py<!--?lit$079637519$--></div></div></div><div class="goog-menu" id="edit-menu" role="menu" aria-haspopup="true" style="display: none; user-select: none;"><!--?lit$079637519$--><div command="undo" class=" goog-menuitem " role="menuitem" id=":q" style="user-select: none;"><div class="goog-menuitem-content" style="user-select: none;"><!--?lit$079637519$-->Undo<!--?lit$079637519$--></div></div><div command="redo" class=" goog-menuitem " role="menuitem" id=":r" style="user-select: none;"><div class="goog-menuitem-content" style="user-select: none;"><!--?lit$079637519$-->Redo<!--?lit$079637519$--></div></div><div class="goog-menuseparator goog-menuitem-disabled" aria-disabled="true" role="separator" id=":s" style="user-select: none;"></div><div command="select-all" class=" goog-menuitem " role="menuitem" id=":t" style="user-select: none;"><div class="goog-menuitem-content" style="user-select: none;"><!--?lit$079637519$-->Select all cells<!--?lit$079637519$--></div></div><div command="cut" class=" goog-menuitem " role="menuitem" id=":u" style="user-select: none;"><div class="goog-menuitem-content" style="user-select: none;"><!--?lit$079637519$-->Cut cell or selection<!--?lit$079637519$--></div></div><div command="copy" class=" goog-menuitem " role="menuitem" id=":v" style="user-select: none;"><div class="goog-menuitem-content" style="user-select: none;"><!--?lit$079637519$-->Copy cell or selection<!--?lit$079637519$--></div></div><div command="paste" class=" goog-menuitem " role="menuitem" id=":w" style="user-select: none;"><div class="goog-menuitem-content" style="user-select: none;"><!--?lit$079637519$-->Paste<!--?lit$079637519$--></div></div><div command="delete-cell-or-selection" class=" goog-menuitem " role="menuitem" id=":x" style="user-select: none;"><div class="goog-menuitem-content" style="user-select: none;"><!--?lit$079637519$-->Delete selected cells<!--?lit$079637519$--></div></div><div class="goog-menuseparator goog-menuitem-disabled" aria-disabled="true" role="separator" id=":y" style="user-select: none;"></div><div command="find" class=" goog-menuitem " role="menuitem" id=":z" style="user-select: none;"><div class="goog-menuitem-content" style="user-select: none;"><!--?lit$079637519$-->Find and replace<!--?lit$079637519$--></div></div><div command="find-next" class=" goog-menuitem " role="menuitem" id=":10" style="user-select: none;"><div class="goog-menuitem-content" style="user-select: none;"><!--?lit$079637519$-->Find next<!--?lit$079637519$--></div></div><div command="find-previous" class=" goog-menuitem " role="menuitem" id=":11" style="user-select: none;"><div class="goog-menuitem-content" style="user-select: none;"><!--?lit$079637519$-->Find previous<!--?lit$079637519$--></div></div><div class="goog-menuseparator goog-menuitem-disabled" aria-disabled="true" role="separator" id=":12" style="user-select: none;"></div><div command="notebook-settings" class=" goog-menuitem " role="menuitem" id=":13" style="user-select: none;"><div class="goog-menuitem-content" style="user-select: none;"><!--?lit$079637519$-->Notebook settings<!--?lit$079637519$--></div></div><div class="goog-menuseparator goog-menuitem-disabled" aria-disabled="true" role="separator" id=":14" style="user-select: none;"></div><div command="clear-outputs" class=" goog-menuitem " role="menuitem" id=":15" style="user-select: none;"><div class="goog-menuitem-content" style="user-select: none;"><!--?lit$079637519$-->Clear all outputs<!--?lit$079637519$--></div></div></div><div class="goog-menu" id="view-menu" role="menu" aria-haspopup="true" style="display: none; user-select: none;"><!--?lit$079637519$--><div command="show-toc-pane" class="goog-menuitem goog-option" role="menuitemcheckbox" aria-checked="false" id=":17" style="user-select: none;"><div class="goog-menuitem-content" style="user-select: none;"><div class="goog-menuitem-checkbox" style="user-select: none;"><!----><md-icon aria-hidden="true"><template shadowrootmode="open"><!----><slot></slot></template>check</md-icon> </div><!--?lit$079637519$-->Table of contents<!--?lit$079637519$--></div></div><div command="show-fileinfo" class=" goog-menuitem " role="menuitem" id=":18" style="user-select: none;"><div class="goog-menuitem-content" style="user-select: none;"><!--?lit$079637519$-->Notebook info<!--?lit$079637519$--></div></div><div command="show-executedcode" class=" goog-menuitem " role="menuitem" id=":19" style="user-select: none;"><div class="goog-menuitem-content" style="user-select: none;"><!--?lit$079637519$-->Executed code history<!--?lit$079637519$--></div></div><div class="goog-submenu goog-menuitem" id="comments-submenu-menu-button" role="menuitem" aria-haspopup="true" style="user-select: none;"><div class="goog-menuitem-content" style="user-select: none;">
      <!--?lit$079637519$-->Comments
    <span class="goog-submenu-arrow" style="user-select: none;">►</span></div></div><div class="goog-menuseparator goog-menuitem-disabled" aria-disabled="true" role="separator" id=":1e" style="user-select: none;"></div><div command="collapse-sections" class=" goog-menuitem " role="menuitem" id=":1f" style="user-select: none;"><div class="goog-menuitem-content" style="user-select: none;"><!--?lit$079637519$-->Collapse sections<!--?lit$079637519$--></div></div><div command="expand-sections" class=" goog-menuitem " role="menuitem" id=":1g" style="user-select: none;"><div class="goog-menuitem-content" style="user-select: none;"><!--?lit$079637519$-->Expand sections<!--?lit$079637519$--></div></div><div command="save-section-layout" class=" goog-menuitem " role="menuitem" id=":1h" style="user-select: none;"><div class="goog-menuitem-content" style="user-select: none;"><!--?lit$079637519$-->Save collapsed section layout<!--?lit$079637519$--></div></div><div class="goog-menuseparator goog-menuitem-disabled" aria-disabled="true" role="separator" id=":1i" style="user-select: none;"></div><div command="hide-code" class=" goog-menuitem " role="menuitem" id=":1j" style="user-select: none;"><div class="goog-menuitem-content" style="user-select: none;"><!--?lit$079637519$-->Show/hide code<!--?lit$079637519$--></div></div><div command="toggle-output" class=" goog-menuitem " role="menuitem" id=":1k" style="user-select: none;"><div class="goog-menuitem-content" style="user-select: none;"><!--?lit$079637519$-->Show/hide output<!--?lit$079637519$--></div></div><div class="goog-menuseparator goog-menuitem-disabled" aria-disabled="true" role="separator" id=":1l" style="user-select: none;"></div><div command="focus-next-tab" class=" goog-menuitem " role="menuitem" id=":1m" style="user-select: none;"><div class="goog-menuitem-content" style="user-select: none;"><!--?lit$079637519$-->Focus next tab<!--?lit$079637519$--></div></div><div command="focus-previous-tab" class=" goog-menuitem " role="menuitem" id=":1n" style="user-select: none;"><div class="goog-menuitem-content" style="user-select: none;"><!--?lit$079637519$-->Focus previous tab<!--?lit$079637519$--></div></div><div command="move-tab-to-next" class=" goog-menuitem " role="menuitem" id=":1o" style="user-select: none;"><div class="goog-menuitem-content" style="user-select: none;"><!--?lit$079637519$-->Move tab to next pane<!--?lit$079637519$--></div></div><div command="move-tab-to-prev" class=" goog-menuitem " role="menuitem" id=":1p" style="user-select: none;"><div class="goog-menuitem-content" style="user-select: none;"><!--?lit$079637519$-->Move tab to previous pane<!--?lit$079637519$--></div></div></div><div class="goog-menu" id="comments-submenu-menu" role="menu" aria-haspopup="true" style="display: none; user-select: none;"><!--?lit$079637519$--><div command="hide-sidebar-comments" class=" goog-menuitem goog-option-selectable " role="menuitem" id=":1b" style="user-select: none;"><div class="goog-menuitem-content" style="user-select: none;"><!--?lit$079637519$-->Hide comments<!--?lit$079637519$--></div></div><div command="show-minimized-sidebar-comments" class=" goog-menuitem goog-option-selectable " role="menuitem" id=":1c" style="user-select: none;"><div class="goog-menuitem-content" style="user-select: none;"><!--?lit$079637519$-->Minimize comments<!--?lit$079637519$--></div></div><div command="show-expanded-sidebar-comments" class=" goog-menuitem goog-option-selectable " role="menuitem" id=":1d" style="user-select: none;"><div class="goog-menuitem-content" style="user-select: none;"><!--?lit$079637519$-->Expand comments<!--?lit$079637519$--></div></div></div><div class="goog-menu" id="insert-menu" role="menu" aria-haspopup="true" style="display: none; user-select: none;"><!--?lit$079637519$--><div command="insert-cell-below" class=" goog-menuitem " role="menuitem" id=":1r" style="user-select: none;"><div class="goog-menuitem-content" style="user-select: none;"><!--?lit$079637519$-->Code cell<!--?lit$079637519$--></div></div><div command="add-text" class=" goog-menuitem " role="menuitem" id=":1s" style="user-select: none;"><div class="goog-menuitem-content" style="user-select: none;"><!--?lit$079637519$-->Text cell<!--?lit$079637519$--></div></div><div command="add-section-header" class=" goog-menuitem " role="menuitem" id=":1t" style="user-select: none;"><div class="goog-menuitem-content" style="user-select: none;"><!--?lit$079637519$-->Section header cell<!--?lit$079637519$--></div></div><div class="goog-menuseparator goog-menuitem-disabled" aria-disabled="true" role="separator" id=":1u" style="user-select: none;"></div><div command="open-scratch-code-cell" class=" goog-menuitem " role="menuitem" id=":1v" style="user-select: none;"><div class="goog-menuitem-content" style="user-select: none;"><!--?lit$079637519$-->Scratch code cell<!--?lit$079637519$--></div></div><div command="snippets" class=" goog-menuitem " role="menuitem" id=":1w" style="user-select: none;"><div class="goog-menuitem-content" style="user-select: none;"><!--?lit$079637519$-->Code snippets<!--?lit$079637519$--></div></div><div class="goog-menuseparator goog-menuitem-disabled" aria-disabled="true" role="separator" id=":1x" style="user-select: none;"></div><div command="add-form-field" class=" goog-menuitem " role="menuitem" id=":1y" style="user-select: none;"><div class="goog-menuitem-content" style="user-select: none;"><!--?lit$079637519$-->Add a form field<!--?lit$079637519$--></div></div></div><div class="goog-menu" id="runtime-menu" role="menu" aria-haspopup="true" style="display: none; user-select: none;"><!--?lit$079637519$--><div command="runall" class=" goog-menuitem " role="menuitem" id=":20" style="user-select: none;"><div class="goog-menuitem-content" style="user-select: none;"><!--?lit$079637519$-->Run all<!--?lit$079637519$--></div></div><div command="runbefore" class=" goog-menuitem " role="menuitem" id=":21" style="user-select: none;"><div class="goog-menuitem-content" style="user-select: none;"><!--?lit$079637519$-->Run before<!--?lit$079637519$--></div></div><div command="runfocused" class=" goog-menuitem " role="menuitem" id=":22" style="user-select: none;"><div class="goog-menuitem-content" style="user-select: none;"><!--?lit$079637519$-->Run the focused cell<!--?lit$079637519$--></div></div><div command="runselected" class=" goog-menuitem " role="menuitem" id=":23" style="user-select: none;"><div class="goog-menuitem-content" style="user-select: none;"><!--?lit$079637519$-->Run selection<!--?lit$079637519$--></div></div><div command="runafter" class=" goog-menuitem " role="menuitem" id=":24" style="user-select: none;"><div class="goog-menuitem-content" style="user-select: none;"><!--?lit$079637519$-->Run cell and below<!--?lit$079637519$--></div></div><div class="goog-menuseparator goog-menuitem-disabled" aria-disabled="true" role="separator" id=":25" style="user-select: none;"></div><div command="interrupt" class=" goog-menuitem " role="menuitem" id=":26" style="user-select: none;"><div class="goog-menuitem-content" style="user-select: none;"><!--?lit$079637519$-->Interrupt execution<!--?lit$079637519$--></div></div><div command="restart" class=" goog-menuitem " role="menuitem" id=":27" style="user-select: none;"><div class="goog-menuitem-content" style="user-select: none;"><!--?lit$079637519$-->Restart session<!--?lit$079637519$--></div></div><div command="restart-and-run-all" class=" goog-menuitem " role="menuitem" id=":28" style="user-select: none;"><div class="goog-menuitem-content" style="user-select: none;"><!--?lit$079637519$-->Restart session and run all<!--?lit$079637519$--></div></div><div command="powerwash-current-vm" class=" goog-menuitem " role="menuitem" id=":29" style="user-select: none;"><div class="goog-menuitem-content" style="user-select: none;"><!--?lit$079637519$-->Disconnect and delete runtime<!--?lit$079637519$--></div></div><div class="goog-menuseparator goog-menuitem-disabled" aria-disabled="true" role="separator" id=":2a" style="user-select: none;"></div><div command="change-runtime-type" class=" goog-menuitem " role="menuitem" id=":2b" style="user-select: none;"><div class="goog-menuitem-content" style="user-select: none;"><!--?lit$079637519$-->Change runtime type<!--?lit$079637519$--></div></div><div class="goog-menuseparator goog-menuitem-disabled" aria-disabled="true" role="separator" id=":2c" style="user-select: none;"></div><div command="manage-sessions" class=" goog-menuitem " role="menuitem" id=":2d" style="user-select: none;"><div class="goog-menuitem-content" style="user-select: none;"><!--?lit$079637519$-->Manage sessions<!--?lit$079637519$--></div></div><div command="open-resource-viewer" class=" goog-menuitem " role="menuitem" id=":2e" style="user-select: none;"><div class="goog-menuitem-content" style="user-select: none;"><!--?lit$079637519$-->View resources<!--?lit$079637519$--></div></div><div command="view-runtime-logs" class=" goog-menuitem " role="menuitem" id=":2f" style="user-select: none;"><div class="goog-menuitem-content" style="user-select: none;"><!--?lit$079637519$-->View runtime logs<!--?lit$079637519$--></div></div></div><div class="goog-menu" id="tools-menu" role="menu" aria-haspopup="true" style="display: none; user-select: none;"><!--?lit$079637519$--><div command="show-command-palette" class=" goog-menuitem " role="menuitem" id=":2h" style="user-select: none;"><div class="goog-menuitem-content" style="user-select: none;"><!--?lit$079637519$-->Command palette<!--?lit$079637519$--></div></div><div class="goog-menuseparator goog-menuitem-disabled" aria-disabled="true" role="separator" id=":2i" style="user-select: none;"></div><div command="preferences" class=" goog-menuitem " role="menuitem" id=":2j" style="user-select: none;"><div class="goog-menuitem-content" style="user-select: none;"><!--?lit$079637519$-->Settings<!--?lit$079637519$--></div></div><div command="shortcuts" class=" goog-menuitem " role="menuitem" id=":2k" style="user-select: none;"><div class="goog-menuitem-content" style="user-select: none;"><!--?lit$079637519$-->Keyboard shortcuts<!--?lit$079637519$--></div></div><div class="goog-menuseparator goog-menuitem-disabled" aria-disabled="true" role="separator" id=":2l" style="user-select: none;"></div><div command="open-differ" class=" goog-menuitem " role="menuitem" id=":2m" style="user-select: none;"><div class="goog-menuitem-content" style="user-select: none;"><!--?lit$079637519$-->Diff notebooks<!--?lit$079637519$--> <span class="screenreader-only" style="user-select: none;"><!--?lit$079637519$-->(opens in a new tab)</span></div></div></div><div class="goog-menu" id="help-menu" role="menu" aria-haspopup="true" style="display: none; user-select: none;"><!--?lit$079637519$--><div command="faq" class=" goog-menuitem " role="menuitem" id=":2o" style="user-select: none;"><div class="goog-menuitem-content" style="user-select: none;"><!--?lit$079637519$-->Frequently asked questions<!--?lit$079637519$--></div></div><div command="view-relnotes" class=" goog-menuitem " role="menuitem" id=":2p" style="user-select: none;"><div class="goog-menuitem-content" style="user-select: none;"><!--?lit$079637519$-->View release notes<!--?lit$079637519$--></div></div><div command="snippets" class=" goog-menuitem " role="menuitem" id=":2q" style="user-select: none;"><div class="goog-menuitem-content" style="user-select: none;"><!--?lit$079637519$-->Search code snippets<!--?lit$079637519$--></div></div><div class="goog-menuseparator goog-menuitem-disabled" aria-disabled="true" role="separator" id=":2r" style="user-select: none;"></div><div command="report-bug" class=" goog-menuitem " role="menuitem" id=":2s" style="user-select: none;"><div class="goog-menuitem-content" style="user-select: none;"><!--?lit$079637519$-->Report a bug<!--?lit$079637519$--></div></div><div command="report-abuse" class=" goog-menuitem " role="menuitem" id=":2t" style="user-select: none;"><div class="goog-menuitem-content" style="user-select: none;"><!--?lit$079637519$-->Report Drive abuse<!--?lit$079637519$--></div></div><div command="send-feedback" class=" goog-menuitem " role="menuitem" id=":2u" style="user-select: none;"><div class="goog-menuitem-content" style="user-select: none;"><!--?lit$079637519$-->Send feedback<!--?lit$079637519$--></div></div><div command="view-tos" class=" goog-menuitem " role="menuitem" id=":2v" style="user-select: none;"><div class="goog-menuitem-content" style="user-select: none;"><!--?lit$079637519$-->View terms of service<!--?lit$079637519$--></div></div></div><dialog class="doc-comments-area" aria-label="Comments"><!----><div class="doc-comments-buttons">
        <md-text-button command="add-comment" value="" has-icon=""><template shadowrootmode="open" shadowrootdelegatesfocus><!---->
      <!--?lit$079637519$-->
      <div class="background"></div>
      <md-focus-ring part="focus-ring" for="button" aria-hidden="true"><template shadowrootmode="open"><!----></template></md-focus-ring>
      <md-ripple part="ripple" for="button" aria-hidden="true"><template shadowrootmode="open"><!----><div class="surface   "></div></template></md-ripple>
      <!--?lit$079637519$--><button id="button" class="button">
      <!--?lit$079637519$-->
      <span class="touch"></span>
      <!--?lit$079637519$--><slot name="icon"></slot>
      <span class="label"><slot></slot></span>
      <!--?lit$079637519$-->
    
    </button>
    </template>
          <md-icon slot="icon" filled="" aria-hidden="true"><template shadowrootmode="open"><!----><slot></slot></template>comment</md-icon>
          <!--?lit$079637519$-->Add a comment
        </md-text-button>
      </div></dialog><div class="thumbnail"></div><div class="monaco-aria-container"><div class="monaco-alert" role="alert" aria-atomic="true" style="visibility: visible;">Neural-Networks</div><div class="monaco-alert" role="alert" aria-atomic="true"></div><div class="monaco-status" role="complementary" aria-live="polite" aria-atomic="true"></div><div class="monaco-status" role="complementary" aria-live="polite" aria-atomic="true"></div></div><iframe id="apiproxyff83ba9b5f21f1d4a0a48b72b5ee04d775c03eaf0.1220208893" name="apiproxyff83ba9b5f21f1d4a0a48b72b5ee04d775c03eaf0.1220208893" src="./Home_Assignment1_files/proxy.html" tabindex="-1" aria-hidden="true" style="width: 1px; height: 1px; position: absolute; top: -100px; display: none;"></iframe><iframe src="./Home_Assignment1_files/bscframe.html" style="display: none;"></iframe><div><div class="grecaptcha-badge" data-style="bottomright" style="width: 256px; height: 60px; position: fixed; visibility: hidden; display: block; transition: right 0.3s; bottom: 14px; right: -186px; box-shadow: gray 0px 0px 5px; border-radius: 2px; overflow: hidden;"><div class="grecaptcha-logo"><iframe title="reCAPTCHA" width="256" height="60" role="presentation" name="a-i3e27zz3l9tj" frameborder="0" scrolling="no" sandbox="allow-forms allow-popups allow-same-origin allow-scripts allow-top-navigation allow-modals allow-popups-to-escape-sandbox allow-storage-access-by-user-activation" src="./Home_Assignment1_files/anchor.html"></iframe></div><div class="grecaptcha-error"></div><textarea id="g-recaptcha-response-100000" name="g-recaptcha-response" class="g-recaptcha-response" style="width: 250px; height: 40px; border: 1px solid rgb(193, 193, 193); margin: 10px 25px; padding: 0px; resize: none; display: none;"></textarea></div><iframe style="display: none;" src="./Home_Assignment1_files/saved_resource.html"></iframe></div><span id="PING_IFRAME_FORM_DETECTION" style="display: none;"></span><colab-callout dismisstext="" tooltipstyling="" aria-label="Rename notebook" style="visibility: visible; top: 38px; left: 92px;" opened="" role="tooltip" verticaldirection="below" horizontaldirection="right"><template shadowrootmode="open"><!----> <div id="content"><slot name="content"></slot></div>
      <!--?lit$079637519$--><!--?--></template>
      <!--?lit$079637519$--><div slot="content"><!----><!--?lit$079637519$--><!----><div><!--?lit$079637519$-->Rename notebook</div><!----><!--?--></div>
    </colab-callout></body></html>